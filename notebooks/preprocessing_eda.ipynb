{
 "cells": [
  {
   "cell_type": "code",
   "execution_count": 1,
   "id": "13954ee0",
   "metadata": {},
   "outputs": [
    {
     "data": {
      "text/html": [
       "<pre style=\"white-space:pre;overflow-x:auto;line-height:normal;font-family:Menlo,'DejaVu Sans Mono',consolas,'Courier New',monospace\"><span style=\"color: #7fbfbf; text-decoration-color: #7fbfbf\">[06/19/25 12:05:55] </span><span style=\"color: #000080; text-decoration-color: #000080\">INFO    </span> Using <span style=\"color: #008000; text-decoration-color: #008000\">'conf/logging.yml'</span> as logging configuration. You can change this <a href=\"file:///Users/svengoerdes/Projects/Master/MLOps_Project/project/.venv/lib/python3.10/site-packages/kedro/framework/project/__init__.py\" target=\"_blank\"><span style=\"color: #7f7f7f; text-decoration-color: #7f7f7f\">__init__.py</span></a><span style=\"color: #7f7f7f; text-decoration-color: #7f7f7f\">:</span><a href=\"file:///Users/svengoerdes/Projects/Master/MLOps_Project/project/.venv/lib/python3.10/site-packages/kedro/framework/project/__init__.py#272\" target=\"_blank\"><span style=\"color: #7f7f7f; text-decoration-color: #7f7f7f\">272</span></a>\n",
       "<span style=\"color: #7fbfbf; text-decoration-color: #7fbfbf\">                    </span>         by setting the KEDRO_LOGGING_CONFIG environment variable accordingly.  <span style=\"color: #7f7f7f; text-decoration-color: #7f7f7f\">               </span>\n",
       "</pre>\n"
      ],
      "text/plain": [
       "\u001b[2;36m[06/19/25 12:05:55]\u001b[0m\u001b[2;36m \u001b[0m\u001b[34mINFO    \u001b[0m Using \u001b[32m'conf/logging.yml'\u001b[0m as logging configuration. You can change this \u001b]8;id=842425;file:///Users/svengoerdes/Projects/Master/MLOps_Project/project/.venv/lib/python3.10/site-packages/kedro/framework/project/__init__.py\u001b\\\u001b[2m__init__.py\u001b[0m\u001b]8;;\u001b\\\u001b[2m:\u001b[0m\u001b]8;id=469010;file:///Users/svengoerdes/Projects/Master/MLOps_Project/project/.venv/lib/python3.10/site-packages/kedro/framework/project/__init__.py#272\u001b\\\u001b[2m272\u001b[0m\u001b]8;;\u001b\\\n",
       "\u001b[2;36m                    \u001b[0m         by setting the KEDRO_LOGGING_CONFIG environment variable accordingly.  \u001b[2m               \u001b[0m\n"
      ]
     },
     "metadata": {},
     "output_type": "display_data"
    },
    {
     "data": {
      "text/html": [
       "<pre style=\"white-space:pre;overflow-x:auto;line-height:normal;font-family:Menlo,'DejaVu Sans Mono',consolas,'Courier New',monospace\"><span style=\"color: #7fbfbf; text-decoration-color: #7fbfbf\">                    </span><span style=\"color: #000080; text-decoration-color: #000080\">INFO    </span> Registered line magic <span style=\"color: #008000; text-decoration-color: #008000\">'%reload_kedro'</span>                                   <a href=\"file:///Users/svengoerdes/Projects/Master/MLOps_Project/project/.venv/lib/python3.10/site-packages/kedro/ipython/__init__.py\" target=\"_blank\"><span style=\"color: #7f7f7f; text-decoration-color: #7f7f7f\">__init__.py</span></a><span style=\"color: #7f7f7f; text-decoration-color: #7f7f7f\">:</span><a href=\"file:///Users/svengoerdes/Projects/Master/MLOps_Project/project/.venv/lib/python3.10/site-packages/kedro/ipython/__init__.py#63\" target=\"_blank\"><span style=\"color: #7f7f7f; text-decoration-color: #7f7f7f\">63</span></a>\n",
       "</pre>\n"
      ],
      "text/plain": [
       "\u001b[2;36m                   \u001b[0m\u001b[2;36m \u001b[0m\u001b[34mINFO    \u001b[0m Registered line magic \u001b[32m'%reload_kedro'\u001b[0m                                   \u001b]8;id=651356;file:///Users/svengoerdes/Projects/Master/MLOps_Project/project/.venv/lib/python3.10/site-packages/kedro/ipython/__init__.py\u001b\\\u001b[2m__init__.py\u001b[0m\u001b]8;;\u001b\\\u001b[2m:\u001b[0m\u001b]8;id=16571;file:///Users/svengoerdes/Projects/Master/MLOps_Project/project/.venv/lib/python3.10/site-packages/kedro/ipython/__init__.py#63\u001b\\\u001b[2m63\u001b[0m\u001b]8;;\u001b\\\n"
      ]
     },
     "metadata": {},
     "output_type": "display_data"
    },
    {
     "data": {
      "text/html": [
       "<pre style=\"white-space:pre;overflow-x:auto;line-height:normal;font-family:Menlo,'DejaVu Sans Mono',consolas,'Courier New',monospace\"><span style=\"color: #7fbfbf; text-decoration-color: #7fbfbf\">                    </span><span style=\"color: #000080; text-decoration-color: #000080\">INFO    </span> Registered line magic <span style=\"color: #008000; text-decoration-color: #008000\">'%load_node'</span>                                      <a href=\"file:///Users/svengoerdes/Projects/Master/MLOps_Project/project/.venv/lib/python3.10/site-packages/kedro/ipython/__init__.py\" target=\"_blank\"><span style=\"color: #7f7f7f; text-decoration-color: #7f7f7f\">__init__.py</span></a><span style=\"color: #7f7f7f; text-decoration-color: #7f7f7f\">:</span><a href=\"file:///Users/svengoerdes/Projects/Master/MLOps_Project/project/.venv/lib/python3.10/site-packages/kedro/ipython/__init__.py#65\" target=\"_blank\"><span style=\"color: #7f7f7f; text-decoration-color: #7f7f7f\">65</span></a>\n",
       "</pre>\n"
      ],
      "text/plain": [
       "\u001b[2;36m                   \u001b[0m\u001b[2;36m \u001b[0m\u001b[34mINFO    \u001b[0m Registered line magic \u001b[32m'%load_node'\u001b[0m                                      \u001b]8;id=643802;file:///Users/svengoerdes/Projects/Master/MLOps_Project/project/.venv/lib/python3.10/site-packages/kedro/ipython/__init__.py\u001b\\\u001b[2m__init__.py\u001b[0m\u001b]8;;\u001b\\\u001b[2m:\u001b[0m\u001b]8;id=564010;file:///Users/svengoerdes/Projects/Master/MLOps_Project/project/.venv/lib/python3.10/site-packages/kedro/ipython/__init__.py#65\u001b\\\u001b[2m65\u001b[0m\u001b]8;;\u001b\\\n"
      ]
     },
     "metadata": {},
     "output_type": "display_data"
    },
    {
     "data": {
      "text/html": [
       "<pre style=\"white-space:pre;overflow-x:auto;line-height:normal;font-family:Menlo,'DejaVu Sans Mono',consolas,'Courier New',monospace\"><span style=\"color: #7fbfbf; text-decoration-color: #7fbfbf\">                    </span><span style=\"color: #000080; text-decoration-color: #000080\">INFO    </span> Resolved project path as:                                              <a href=\"file:///Users/svengoerdes/Projects/Master/MLOps_Project/project/.venv/lib/python3.10/site-packages/kedro/ipython/__init__.py\" target=\"_blank\"><span style=\"color: #7f7f7f; text-decoration-color: #7f7f7f\">__init__.py</span></a><span style=\"color: #7f7f7f; text-decoration-color: #7f7f7f\">:</span><a href=\"file:///Users/svengoerdes/Projects/Master/MLOps_Project/project/.venv/lib/python3.10/site-packages/kedro/ipython/__init__.py#180\" target=\"_blank\"><span style=\"color: #7f7f7f; text-decoration-color: #7f7f7f\">180</span></a>\n",
       "<span style=\"color: #7fbfbf; text-decoration-color: #7fbfbf\">                    </span>         <span style=\"color: #800080; text-decoration-color: #800080\">/Users/svengoerdes/Projects/Master/MLOps_Project/</span><span style=\"color: #ff00ff; text-decoration-color: #ff00ff\">project.</span>              <span style=\"color: #7f7f7f; text-decoration-color: #7f7f7f\">               </span>\n",
       "<span style=\"color: #7fbfbf; text-decoration-color: #7fbfbf\">                    </span>         To set a different path, run <span style=\"color: #008000; text-decoration-color: #008000\">'%reload_kedro &lt;project_root&gt;'</span>            <span style=\"color: #7f7f7f; text-decoration-color: #7f7f7f\">               </span>\n",
       "</pre>\n"
      ],
      "text/plain": [
       "\u001b[2;36m                   \u001b[0m\u001b[2;36m \u001b[0m\u001b[34mINFO    \u001b[0m Resolved project path as:                                              \u001b]8;id=420672;file:///Users/svengoerdes/Projects/Master/MLOps_Project/project/.venv/lib/python3.10/site-packages/kedro/ipython/__init__.py\u001b\\\u001b[2m__init__.py\u001b[0m\u001b]8;;\u001b\\\u001b[2m:\u001b[0m\u001b]8;id=935463;file:///Users/svengoerdes/Projects/Master/MLOps_Project/project/.venv/lib/python3.10/site-packages/kedro/ipython/__init__.py#180\u001b\\\u001b[2m180\u001b[0m\u001b]8;;\u001b\\\n",
       "\u001b[2;36m                    \u001b[0m         \u001b[35m/Users/svengoerdes/Projects/Master/MLOps_Project/\u001b[0m\u001b[95mproject.\u001b[0m              \u001b[2m               \u001b[0m\n",
       "\u001b[2;36m                    \u001b[0m         To set a different path, run \u001b[32m'%reload_kedro \u001b[0m\u001b[32m<\u001b[0m\u001b[32mproject_root\u001b[0m\u001b[32m>\u001b[0m\u001b[32m'\u001b[0m            \u001b[2m               \u001b[0m\n"
      ]
     },
     "metadata": {},
     "output_type": "display_data"
    },
    {
     "data": {
      "text/html": [
       "<pre style=\"white-space:pre;overflow-x:auto;line-height:normal;font-family:Menlo,'DejaVu Sans Mono',consolas,'Courier New',monospace\"><span style=\"color: #7fbfbf; text-decoration-color: #7fbfbf\">[06/19/25 12:05:57] </span><span style=\"color: #808000; text-decoration-color: #808000\">WARNING </span> <span style=\"color: #800080; text-decoration-color: #800080\">/Users/svengoerdes/Projects/Master/MLOps_Project/project/.venv/lib/pyt</span> <a href=\"file:///Users/svengoerdes/.local/share/uv/python/cpython-3.10.5-macos-aarch64-none/lib/python3.10/warnings.py\" target=\"_blank\"><span style=\"color: #7f7f7f; text-decoration-color: #7f7f7f\">warnings.py</span></a><span style=\"color: #7f7f7f; text-decoration-color: #7f7f7f\">:</span><a href=\"file:///Users/svengoerdes/.local/share/uv/python/cpython-3.10.5-macos-aarch64-none/lib/python3.10/warnings.py#109\" target=\"_blank\"><span style=\"color: #7f7f7f; text-decoration-color: #7f7f7f\">109</span></a>\n",
       "<span style=\"color: #7fbfbf; text-decoration-color: #7fbfbf\">                    </span>         <span style=\"color: #800080; text-decoration-color: #800080\">hon3.10/site-packages/mlflow/pyfunc/utils/</span><span style=\"color: #ff00ff; text-decoration-color: #ff00ff\">data_validation.py</span>:<span style=\"color: #008080; text-decoration-color: #008080; font-weight: bold\">186</span>:      <span style=\"color: #7f7f7f; text-decoration-color: #7f7f7f\">               </span>\n",
       "<span style=\"color: #7fbfbf; text-decoration-color: #7fbfbf\">                    </span>         UserWarning: \u001b<span style=\"font-weight: bold\">[</span>33mAdd type hints to the `predict` method to enable data <span style=\"color: #7f7f7f; text-decoration-color: #7f7f7f\">               </span>\n",
       "<span style=\"color: #7fbfbf; text-decoration-color: #7fbfbf\">                    </span>         validation and automatic signature inference during model logging.     <span style=\"color: #7f7f7f; text-decoration-color: #7f7f7f\">               </span>\n",
       "<span style=\"color: #7fbfbf; text-decoration-color: #7fbfbf\">                    </span>         Check                                                                  <span style=\"color: #7f7f7f; text-decoration-color: #7f7f7f\">               </span>\n",
       "<span style=\"color: #7fbfbf; text-decoration-color: #7fbfbf\">                    </span>         <span style=\"color: #0000ff; text-decoration-color: #0000ff; text-decoration: underline\">https://mlflow.org/docs/latest/model/python_model.html#type-hint-usage</span> <span style=\"color: #7f7f7f; text-decoration-color: #7f7f7f\">               </span>\n",
       "<span style=\"color: #7fbfbf; text-decoration-color: #7fbfbf\">                    </span>         <span style=\"color: #0000ff; text-decoration-color: #0000ff; text-decoration: underline\">-in-pythonmodel</span> for more details.\u001b<span style=\"font-weight: bold\">[</span>0m                                   <span style=\"color: #7f7f7f; text-decoration-color: #7f7f7f\">               </span>\n",
       "<span style=\"color: #7fbfbf; text-decoration-color: #7fbfbf\">                    </span>           <span style=\"color: #800080; text-decoration-color: #800080; font-weight: bold\">color_warning</span><span style=\"font-weight: bold\">(</span>                                                       <span style=\"color: #7f7f7f; text-decoration-color: #7f7f7f\">               </span>\n",
       "<span style=\"color: #7fbfbf; text-decoration-color: #7fbfbf\">                    </span>                                                                                <span style=\"color: #7f7f7f; text-decoration-color: #7f7f7f\">               </span>\n",
       "</pre>\n"
      ],
      "text/plain": [
       "\u001b[2;36m[06/19/25 12:05:57]\u001b[0m\u001b[2;36m \u001b[0m\u001b[33mWARNING \u001b[0m \u001b[35m/Users/svengoerdes/Projects/Master/MLOps_Project/project/.venv/lib/pyt\u001b[0m \u001b]8;id=659707;file:///Users/svengoerdes/.local/share/uv/python/cpython-3.10.5-macos-aarch64-none/lib/python3.10/warnings.py\u001b\\\u001b[2mwarnings.py\u001b[0m\u001b]8;;\u001b\\\u001b[2m:\u001b[0m\u001b]8;id=460993;file:///Users/svengoerdes/.local/share/uv/python/cpython-3.10.5-macos-aarch64-none/lib/python3.10/warnings.py#109\u001b\\\u001b[2m109\u001b[0m\u001b]8;;\u001b\\\n",
       "\u001b[2;36m                    \u001b[0m         \u001b[35mhon3.10/site-packages/mlflow/pyfunc/utils/\u001b[0m\u001b[95mdata_validation.py\u001b[0m:\u001b[1;36m186\u001b[0m:      \u001b[2m               \u001b[0m\n",
       "\u001b[2;36m                    \u001b[0m         UserWarning: \u001b\u001b[1m[\u001b[0m33mAdd type hints to the `predict` method to enable data \u001b[2m               \u001b[0m\n",
       "\u001b[2;36m                    \u001b[0m         validation and automatic signature inference during model logging.     \u001b[2m               \u001b[0m\n",
       "\u001b[2;36m                    \u001b[0m         Check                                                                  \u001b[2m               \u001b[0m\n",
       "\u001b[2;36m                    \u001b[0m         \u001b[4;94mhttps://mlflow.org/docs/latest/model/python_model.html#type-hint-usage\u001b[0m \u001b[2m               \u001b[0m\n",
       "\u001b[2;36m                    \u001b[0m         \u001b[4;94m-in-pythonmodel\u001b[0m for more details.\u001b\u001b[1m[\u001b[0m0m                                   \u001b[2m               \u001b[0m\n",
       "\u001b[2;36m                    \u001b[0m           \u001b[1;35mcolor_warning\u001b[0m\u001b[1m(\u001b[0m                                                       \u001b[2m               \u001b[0m\n",
       "\u001b[2;36m                    \u001b[0m                                                                                \u001b[2m               \u001b[0m\n"
      ]
     },
     "metadata": {},
     "output_type": "display_data"
    },
    {
     "data": {
      "text/html": [
       "<pre style=\"white-space:pre;overflow-x:auto;line-height:normal;font-family:Menlo,'DejaVu Sans Mono',consolas,'Courier New',monospace\"><span style=\"color: #7fbfbf; text-decoration-color: #7fbfbf\">                    </span><span style=\"color: #000080; text-decoration-color: #000080\">INFO    </span> Registering new custom resolver: <span style=\"color: #008000; text-decoration-color: #008000\">'km.random_name'</span>                    <a href=\"file:///Users/svengoerdes/Projects/Master/MLOps_Project/project/.venv/lib/python3.10/site-packages/kedro_mlflow/framework/hooks/mlflow_hook.py\" target=\"_blank\"><span style=\"color: #7f7f7f; text-decoration-color: #7f7f7f\">mlflow_hook.py</span></a><span style=\"color: #7f7f7f; text-decoration-color: #7f7f7f\">:</span><a href=\"file:///Users/svengoerdes/Projects/Master/MLOps_Project/project/.venv/lib/python3.10/site-packages/kedro_mlflow/framework/hooks/mlflow_hook.py#65\" target=\"_blank\"><span style=\"color: #7f7f7f; text-decoration-color: #7f7f7f\">65</span></a>\n",
       "</pre>\n"
      ],
      "text/plain": [
       "\u001b[2;36m                   \u001b[0m\u001b[2;36m \u001b[0m\u001b[34mINFO    \u001b[0m Registering new custom resolver: \u001b[32m'km.random_name'\u001b[0m                    \u001b]8;id=186338;file:///Users/svengoerdes/Projects/Master/MLOps_Project/project/.venv/lib/python3.10/site-packages/kedro_mlflow/framework/hooks/mlflow_hook.py\u001b\\\u001b[2mmlflow_hook.py\u001b[0m\u001b]8;;\u001b\\\u001b[2m:\u001b[0m\u001b]8;id=695113;file:///Users/svengoerdes/Projects/Master/MLOps_Project/project/.venv/lib/python3.10/site-packages/kedro_mlflow/framework/hooks/mlflow_hook.py#65\u001b\\\u001b[2m65\u001b[0m\u001b]8;;\u001b\\\n"
      ]
     },
     "metadata": {},
     "output_type": "display_data"
    },
    {
     "data": {
      "text/html": [
       "<pre style=\"white-space:pre;overflow-x:auto;line-height:normal;font-family:Menlo,'DejaVu Sans Mono',consolas,'Courier New',monospace\"><span style=\"color: #7fbfbf; text-decoration-color: #7fbfbf\">                    </span><span style=\"color: #808000; text-decoration-color: #808000\">WARNING </span> No <span style=\"color: #008000; text-decoration-color: #008000\">'mlflow.yml'</span> config file found in environment. Default            <a href=\"file:///Users/svengoerdes/Projects/Master/MLOps_Project/project/.venv/lib/python3.10/site-packages/kedro_mlflow/framework/hooks/mlflow_hook.py\" target=\"_blank\"><span style=\"color: #7f7f7f; text-decoration-color: #7f7f7f\">mlflow_hook.py</span></a><span style=\"color: #7f7f7f; text-decoration-color: #7f7f7f\">:</span><a href=\"file:///Users/svengoerdes/Projects/Master/MLOps_Project/project/.venv/lib/python3.10/site-packages/kedro_mlflow/framework/hooks/mlflow_hook.py#78\" target=\"_blank\"><span style=\"color: #7f7f7f; text-decoration-color: #7f7f7f\">78</span></a>\n",
       "<span style=\"color: #7fbfbf; text-decoration-color: #7fbfbf\">                    </span>         configuration will be used. Use ``kedro mlflow init`` command in CLI <span style=\"color: #7f7f7f; text-decoration-color: #7f7f7f\">                 </span>\n",
       "<span style=\"color: #7fbfbf; text-decoration-color: #7fbfbf\">                    </span>         to customize the configuration.                                      <span style=\"color: #7f7f7f; text-decoration-color: #7f7f7f\">                 </span>\n",
       "</pre>\n"
      ],
      "text/plain": [
       "\u001b[2;36m                   \u001b[0m\u001b[2;36m \u001b[0m\u001b[33mWARNING \u001b[0m No \u001b[32m'mlflow.yml'\u001b[0m config file found in environment. Default            \u001b]8;id=57960;file:///Users/svengoerdes/Projects/Master/MLOps_Project/project/.venv/lib/python3.10/site-packages/kedro_mlflow/framework/hooks/mlflow_hook.py\u001b\\\u001b[2mmlflow_hook.py\u001b[0m\u001b]8;;\u001b\\\u001b[2m:\u001b[0m\u001b]8;id=290341;file:///Users/svengoerdes/Projects/Master/MLOps_Project/project/.venv/lib/python3.10/site-packages/kedro_mlflow/framework/hooks/mlflow_hook.py#78\u001b\\\u001b[2m78\u001b[0m\u001b]8;;\u001b\\\n",
       "\u001b[2;36m                    \u001b[0m         configuration will be used. Use ``kedro mlflow init`` command in CLI \u001b[2m                 \u001b[0m\n",
       "\u001b[2;36m                    \u001b[0m         to customize the configuration.                                      \u001b[2m                 \u001b[0m\n"
      ]
     },
     "metadata": {},
     "output_type": "display_data"
    },
    {
     "data": {
      "text/html": [
       "<pre style=\"white-space:pre;overflow-x:auto;line-height:normal;font-family:Menlo,'DejaVu Sans Mono',consolas,'Courier New',monospace\"><span style=\"color: #7fbfbf; text-decoration-color: #7fbfbf\">                    </span><span style=\"color: #000080; text-decoration-color: #000080\">INFO    </span> The <span style=\"color: #008000; text-decoration-color: #008000\">'tracking_uri'</span> key in mlflow.yml is relative            <a href=\"file:///Users/svengoerdes/Projects/Master/MLOps_Project/project/.venv/lib/python3.10/site-packages/kedro_mlflow/config/kedro_mlflow_config.py\" target=\"_blank\"><span style=\"color: #7f7f7f; text-decoration-color: #7f7f7f\">kedro_mlflow_config.py</span></a><span style=\"color: #7f7f7f; text-decoration-color: #7f7f7f\">:</span><a href=\"file:///Users/svengoerdes/Projects/Master/MLOps_Project/project/.venv/lib/python3.10/site-packages/kedro_mlflow/config/kedro_mlflow_config.py#293\" target=\"_blank\"><span style=\"color: #7f7f7f; text-decoration-color: #7f7f7f\">293</span></a>\n",
       "<span style=\"color: #7fbfbf; text-decoration-color: #7fbfbf\">                    </span>         <span style=\"font-weight: bold\">(</span><span style=\"color: #008000; text-decoration-color: #008000\">'server.mlflow_(tracking|registry)_uri = mlruns'</span><span style=\"font-weight: bold\">)</span>. It is   <span style=\"color: #7f7f7f; text-decoration-color: #7f7f7f\">                          </span>\n",
       "<span style=\"color: #7fbfbf; text-decoration-color: #7fbfbf\">                    </span>         converted to a valid uri:                                   <span style=\"color: #7f7f7f; text-decoration-color: #7f7f7f\">                          </span>\n",
       "<span style=\"color: #7fbfbf; text-decoration-color: #7fbfbf\">                    </span>         <span style=\"color: #008000; text-decoration-color: #008000\">'file:///Users/svengoerdes/Projects/Master/MLOps_Project/pr</span> <span style=\"color: #7f7f7f; text-decoration-color: #7f7f7f\">                          </span>\n",
       "<span style=\"color: #7fbfbf; text-decoration-color: #7fbfbf\">                    </span>         <span style=\"color: #008000; text-decoration-color: #008000\">oject/mlruns'</span>                                               <span style=\"color: #7f7f7f; text-decoration-color: #7f7f7f\">                          </span>\n",
       "</pre>\n"
      ],
      "text/plain": [
       "\u001b[2;36m                   \u001b[0m\u001b[2;36m \u001b[0m\u001b[34mINFO    \u001b[0m The \u001b[32m'tracking_uri'\u001b[0m key in mlflow.yml is relative            \u001b]8;id=325881;file:///Users/svengoerdes/Projects/Master/MLOps_Project/project/.venv/lib/python3.10/site-packages/kedro_mlflow/config/kedro_mlflow_config.py\u001b\\\u001b[2mkedro_mlflow_config.py\u001b[0m\u001b]8;;\u001b\\\u001b[2m:\u001b[0m\u001b]8;id=336094;file:///Users/svengoerdes/Projects/Master/MLOps_Project/project/.venv/lib/python3.10/site-packages/kedro_mlflow/config/kedro_mlflow_config.py#293\u001b\\\u001b[2m293\u001b[0m\u001b]8;;\u001b\\\n",
       "\u001b[2;36m                    \u001b[0m         \u001b[1m(\u001b[0m\u001b[32m'server.mlflow_\u001b[0m\u001b[32m(\u001b[0m\u001b[32mtracking|registry\u001b[0m\u001b[32m)\u001b[0m\u001b[32m_uri = mlruns'\u001b[0m\u001b[1m)\u001b[0m. It is   \u001b[2m                          \u001b[0m\n",
       "\u001b[2;36m                    \u001b[0m         converted to a valid uri:                                   \u001b[2m                          \u001b[0m\n",
       "\u001b[2;36m                    \u001b[0m         \u001b[32m'file:///Users/svengoerdes/Projects/Master/MLOps_Project/pr\u001b[0m \u001b[2m                          \u001b[0m\n",
       "\u001b[2;36m                    \u001b[0m         \u001b[32moject/mlruns'\u001b[0m                                               \u001b[2m                          \u001b[0m\n"
      ]
     },
     "metadata": {},
     "output_type": "display_data"
    },
    {
     "data": {
      "text/html": [
       "<pre style=\"white-space:pre;overflow-x:auto;line-height:normal;font-family:Menlo,'DejaVu Sans Mono',consolas,'Courier New',monospace\"><span style=\"color: #7fbfbf; text-decoration-color: #7fbfbf\">[06/19/25 12:05:59] </span><span style=\"color: #808000; text-decoration-color: #808000\">WARNING </span> DeprecationWarning: the <span style=\"color: #800080; text-decoration-color: #800080; font-weight: bold\">load_module</span><span style=\"font-weight: bold\">()</span> method is deprecated and slated  <a href=\"file:///Users/svengoerdes/.local/share/uv/python/cpython-3.10.5-macos-aarch64-none/lib/python3.10/warnings.py\" target=\"_blank\"><span style=\"color: #7f7f7f; text-decoration-color: #7f7f7f\">warnings.py</span></a><span style=\"color: #7f7f7f; text-decoration-color: #7f7f7f\">:</span><a href=\"file:///Users/svengoerdes/.local/share/uv/python/cpython-3.10.5-macos-aarch64-none/lib/python3.10/warnings.py#109\" target=\"_blank\"><span style=\"color: #7f7f7f; text-decoration-color: #7f7f7f\">109</span></a>\n",
       "<span style=\"color: #7fbfbf; text-decoration-color: #7fbfbf\">                    </span>         for removal in Python <span style=\"color: #008080; text-decoration-color: #008080; font-weight: bold\">3.12</span>; use <span style=\"color: #800080; text-decoration-color: #800080; font-weight: bold\">exec_module</span><span style=\"font-weight: bold\">()</span> instead                  <span style=\"color: #7f7f7f; text-decoration-color: #7f7f7f\">               </span>\n",
       "<span style=\"color: #7fbfbf; text-decoration-color: #7fbfbf\">                    </span>                                                                                <span style=\"color: #7f7f7f; text-decoration-color: #7f7f7f\">               </span>\n",
       "</pre>\n"
      ],
      "text/plain": [
       "\u001b[2;36m[06/19/25 12:05:59]\u001b[0m\u001b[2;36m \u001b[0m\u001b[33mWARNING \u001b[0m DeprecationWarning: the \u001b[1;35mload_module\u001b[0m\u001b[1m(\u001b[0m\u001b[1m)\u001b[0m method is deprecated and slated  \u001b]8;id=288389;file:///Users/svengoerdes/.local/share/uv/python/cpython-3.10.5-macos-aarch64-none/lib/python3.10/warnings.py\u001b\\\u001b[2mwarnings.py\u001b[0m\u001b]8;;\u001b\\\u001b[2m:\u001b[0m\u001b]8;id=256787;file:///Users/svengoerdes/.local/share/uv/python/cpython-3.10.5-macos-aarch64-none/lib/python3.10/warnings.py#109\u001b\\\u001b[2m109\u001b[0m\u001b]8;;\u001b\\\n",
       "\u001b[2;36m                    \u001b[0m         for removal in Python \u001b[1;36m3.12\u001b[0m; use \u001b[1;35mexec_module\u001b[0m\u001b[1m(\u001b[0m\u001b[1m)\u001b[0m instead                  \u001b[2m               \u001b[0m\n",
       "\u001b[2;36m                    \u001b[0m                                                                                \u001b[2m               \u001b[0m\n"
      ]
     },
     "metadata": {},
     "output_type": "display_data"
    },
    {
     "data": {
      "text/html": [
       "<pre style=\"white-space:pre;overflow-x:auto;line-height:normal;font-family:Menlo,'DejaVu Sans Mono',consolas,'Courier New',monospace\"><span style=\"color: #7fbfbf; text-decoration-color: #7fbfbf\">[06/19/25 12:06:00] </span><span style=\"color: #000080; text-decoration-color: #000080\">INFO    </span> Kedro is sending anonymous usage data with the sole purpose of improving <a href=\"file:///Users/svengoerdes/Projects/Master/MLOps_Project/project/.venv/lib/python3.10/site-packages/kedro_telemetry/plugin.py\" target=\"_blank\"><span style=\"color: #7f7f7f; text-decoration-color: #7f7f7f\">plugin.py</span></a><span style=\"color: #7f7f7f; text-decoration-color: #7f7f7f\">:</span><a href=\"file:///Users/svengoerdes/Projects/Master/MLOps_Project/project/.venv/lib/python3.10/site-packages/kedro_telemetry/plugin.py#233\" target=\"_blank\"><span style=\"color: #7f7f7f; text-decoration-color: #7f7f7f\">233</span></a>\n",
       "<span style=\"color: #7fbfbf; text-decoration-color: #7fbfbf\">                    </span>         the product. No personal data or IP addresses are stored on our side. If <span style=\"color: #7f7f7f; text-decoration-color: #7f7f7f\">             </span>\n",
       "<span style=\"color: #7fbfbf; text-decoration-color: #7fbfbf\">                    </span>         you want to opt out, set the `KEDRO_DISABLE_TELEMETRY` or `DO_NOT_TRACK` <span style=\"color: #7f7f7f; text-decoration-color: #7f7f7f\">             </span>\n",
       "<span style=\"color: #7fbfbf; text-decoration-color: #7fbfbf\">                    </span>         environment variables, or create a `.telemetry` file in the current      <span style=\"color: #7f7f7f; text-decoration-color: #7f7f7f\">             </span>\n",
       "<span style=\"color: #7fbfbf; text-decoration-color: #7fbfbf\">                    </span>         working directory with the contents `consent: false`. Read more at       <span style=\"color: #7f7f7f; text-decoration-color: #7f7f7f\">             </span>\n",
       "<span style=\"color: #7fbfbf; text-decoration-color: #7fbfbf\">                    </span>         <span style=\"color: #0000ff; text-decoration-color: #0000ff; text-decoration: underline\">https://docs.kedro.org/en/stable/configuration/telemetry.html</span>            <span style=\"color: #7f7f7f; text-decoration-color: #7f7f7f\">             </span>\n",
       "</pre>\n"
      ],
      "text/plain": [
       "\u001b[2;36m[06/19/25 12:06:00]\u001b[0m\u001b[2;36m \u001b[0m\u001b[34mINFO    \u001b[0m Kedro is sending anonymous usage data with the sole purpose of improving \u001b]8;id=935518;file:///Users/svengoerdes/Projects/Master/MLOps_Project/project/.venv/lib/python3.10/site-packages/kedro_telemetry/plugin.py\u001b\\\u001b[2mplugin.py\u001b[0m\u001b]8;;\u001b\\\u001b[2m:\u001b[0m\u001b]8;id=571858;file:///Users/svengoerdes/Projects/Master/MLOps_Project/project/.venv/lib/python3.10/site-packages/kedro_telemetry/plugin.py#233\u001b\\\u001b[2m233\u001b[0m\u001b]8;;\u001b\\\n",
       "\u001b[2;36m                    \u001b[0m         the product. No personal data or IP addresses are stored on our side. If \u001b[2m             \u001b[0m\n",
       "\u001b[2;36m                    \u001b[0m         you want to opt out, set the `KEDRO_DISABLE_TELEMETRY` or `DO_NOT_TRACK` \u001b[2m             \u001b[0m\n",
       "\u001b[2;36m                    \u001b[0m         environment variables, or create a `.telemetry` file in the current      \u001b[2m             \u001b[0m\n",
       "\u001b[2;36m                    \u001b[0m         working directory with the contents `consent: false`. Read more at       \u001b[2m             \u001b[0m\n",
       "\u001b[2;36m                    \u001b[0m         \u001b[4;94mhttps://docs.kedro.org/en/stable/configuration/telemetry.html\u001b[0m            \u001b[2m             \u001b[0m\n"
      ]
     },
     "metadata": {},
     "output_type": "display_data"
    },
    {
     "data": {
      "text/html": [
       "<pre style=\"white-space:pre;overflow-x:auto;line-height:normal;font-family:Menlo,'DejaVu Sans Mono',consolas,'Courier New',monospace\"><span style=\"color: #7fbfbf; text-decoration-color: #7fbfbf\">                    </span><span style=\"color: #000080; text-decoration-color: #000080\">INFO    </span> Kedro project wine_project                                             <a href=\"file:///Users/svengoerdes/Projects/Master/MLOps_Project/project/.venv/lib/python3.10/site-packages/kedro/ipython/__init__.py\" target=\"_blank\"><span style=\"color: #7f7f7f; text-decoration-color: #7f7f7f\">__init__.py</span></a><span style=\"color: #7f7f7f; text-decoration-color: #7f7f7f\">:</span><a href=\"file:///Users/svengoerdes/Projects/Master/MLOps_Project/project/.venv/lib/python3.10/site-packages/kedro/ipython/__init__.py#146\" target=\"_blank\"><span style=\"color: #7f7f7f; text-decoration-color: #7f7f7f\">146</span></a>\n",
       "</pre>\n"
      ],
      "text/plain": [
       "\u001b[2;36m                   \u001b[0m\u001b[2;36m \u001b[0m\u001b[34mINFO    \u001b[0m Kedro project wine_project                                             \u001b]8;id=98246;file:///Users/svengoerdes/Projects/Master/MLOps_Project/project/.venv/lib/python3.10/site-packages/kedro/ipython/__init__.py\u001b\\\u001b[2m__init__.py\u001b[0m\u001b]8;;\u001b\\\u001b[2m:\u001b[0m\u001b]8;id=229258;file:///Users/svengoerdes/Projects/Master/MLOps_Project/project/.venv/lib/python3.10/site-packages/kedro/ipython/__init__.py#146\u001b\\\u001b[2m146\u001b[0m\u001b]8;;\u001b\\\n"
      ]
     },
     "metadata": {},
     "output_type": "display_data"
    },
    {
     "data": {
      "text/html": [
       "<pre style=\"white-space:pre;overflow-x:auto;line-height:normal;font-family:Menlo,'DejaVu Sans Mono',consolas,'Courier New',monospace\"><span style=\"color: #7fbfbf; text-decoration-color: #7fbfbf\">                    </span><span style=\"color: #000080; text-decoration-color: #000080\">INFO    </span> Defined global variable <span style=\"color: #008000; text-decoration-color: #008000\">'context'</span>, <span style=\"color: #008000; text-decoration-color: #008000\">'session'</span>, <span style=\"color: #008000; text-decoration-color: #008000\">'catalog'</span> and            <a href=\"file:///Users/svengoerdes/Projects/Master/MLOps_Project/project/.venv/lib/python3.10/site-packages/kedro/ipython/__init__.py\" target=\"_blank\"><span style=\"color: #7f7f7f; text-decoration-color: #7f7f7f\">__init__.py</span></a><span style=\"color: #7f7f7f; text-decoration-color: #7f7f7f\">:</span><a href=\"file:///Users/svengoerdes/Projects/Master/MLOps_Project/project/.venv/lib/python3.10/site-packages/kedro/ipython/__init__.py#147\" target=\"_blank\"><span style=\"color: #7f7f7f; text-decoration-color: #7f7f7f\">147</span></a>\n",
       "<span style=\"color: #7fbfbf; text-decoration-color: #7fbfbf\">                    </span>         <span style=\"color: #008000; text-decoration-color: #008000\">'pipelines'</span>                                                            <span style=\"color: #7f7f7f; text-decoration-color: #7f7f7f\">               </span>\n",
       "</pre>\n"
      ],
      "text/plain": [
       "\u001b[2;36m                   \u001b[0m\u001b[2;36m \u001b[0m\u001b[34mINFO    \u001b[0m Defined global variable \u001b[32m'context'\u001b[0m, \u001b[32m'session'\u001b[0m, \u001b[32m'catalog'\u001b[0m and            \u001b]8;id=208496;file:///Users/svengoerdes/Projects/Master/MLOps_Project/project/.venv/lib/python3.10/site-packages/kedro/ipython/__init__.py\u001b\\\u001b[2m__init__.py\u001b[0m\u001b]8;;\u001b\\\u001b[2m:\u001b[0m\u001b]8;id=750800;file:///Users/svengoerdes/Projects/Master/MLOps_Project/project/.venv/lib/python3.10/site-packages/kedro/ipython/__init__.py#147\u001b\\\u001b[2m147\u001b[0m\u001b]8;;\u001b\\\n",
       "\u001b[2;36m                    \u001b[0m         \u001b[32m'pipelines'\u001b[0m                                                            \u001b[2m               \u001b[0m\n"
      ]
     },
     "metadata": {},
     "output_type": "display_data"
    }
   ],
   "source": [
    "import os\n",
    "# Adjust the path to be the root of your Kedro project\n",
    "os.chdir('/Users/svengoerdes/Projects/Master/MLOps_Project/project/')\n",
    "\n",
    "# Now, load the Kedro extension\n",
    "%load_ext kedro.ipython"
   ]
  },
  {
   "cell_type": "code",
   "execution_count": 2,
   "id": "da18b54c",
   "metadata": {},
   "outputs": [
    {
     "data": {
      "text/html": [
       "<pre style=\"white-space:pre;overflow-x:auto;line-height:normal;font-family:Menlo,'DejaVu Sans Mono',consolas,'Courier New',monospace\"><span style=\"color: #7fbfbf; text-decoration-color: #7fbfbf\">                    </span><span style=\"color: #000080; text-decoration-color: #000080\">INFO    </span> Loading data from <span style=\"color: #ff8700; text-decoration-color: #ff8700\">wine_raw_data</span> <span style=\"font-weight: bold\">(</span>CSVDataset<span style=\"font-weight: bold\">)</span><span style=\"color: #808000; text-decoration-color: #808000\">...</span>                    <a href=\"file:///Users/svengoerdes/Projects/Master/MLOps_Project/project/.venv/lib/python3.10/site-packages/kedro/io/data_catalog.py\" target=\"_blank\"><span style=\"color: #7f7f7f; text-decoration-color: #7f7f7f\">data_catalog.py</span></a><span style=\"color: #7f7f7f; text-decoration-color: #7f7f7f\">:</span><a href=\"file:///Users/svengoerdes/Projects/Master/MLOps_Project/project/.venv/lib/python3.10/site-packages/kedro/io/data_catalog.py#403\" target=\"_blank\"><span style=\"color: #7f7f7f; text-decoration-color: #7f7f7f\">403</span></a>\n",
       "</pre>\n"
      ],
      "text/plain": [
       "\u001b[2;36m                   \u001b[0m\u001b[2;36m \u001b[0m\u001b[34mINFO    \u001b[0m Loading data from \u001b[38;5;208mwine_raw_data\u001b[0m \u001b[1m(\u001b[0mCSVDataset\u001b[1m)\u001b[0m\u001b[33m...\u001b[0m                    \u001b]8;id=617889;file:///Users/svengoerdes/Projects/Master/MLOps_Project/project/.venv/lib/python3.10/site-packages/kedro/io/data_catalog.py\u001b\\\u001b[2mdata_catalog.py\u001b[0m\u001b]8;;\u001b\\\u001b[2m:\u001b[0m\u001b]8;id=291704;file:///Users/svengoerdes/Projects/Master/MLOps_Project/project/.venv/lib/python3.10/site-packages/kedro/io/data_catalog.py#403\u001b\\\u001b[2m403\u001b[0m\u001b]8;;\u001b\\\n"
      ]
     },
     "metadata": {},
     "output_type": "display_data"
    }
   ],
   "source": [
    "wine_raw_df = catalog.load('wine_raw_data')"
   ]
  },
  {
   "cell_type": "code",
   "execution_count": 3,
   "id": "967e1229",
   "metadata": {},
   "outputs": [
    {
     "name": "stdout",
     "output_type": "stream",
     "text": [
      "<class 'pandas.core.frame.DataFrame'>\n",
      "Index: 129971 entries, 0 to 129970\n",
      "Data columns (total 13 columns):\n",
      " #   Column                 Non-Null Count   Dtype  \n",
      "---  ------                 --------------   -----  \n",
      " 0   country                129908 non-null  object \n",
      " 1   description            129971 non-null  object \n",
      " 2   designation            92506 non-null   object \n",
      " 3   points                 129971 non-null  int64  \n",
      " 4   price                  120975 non-null  float64\n",
      " 5   province               129908 non-null  object \n",
      " 6   region_1               108724 non-null  object \n",
      " 7   region_2               50511 non-null   object \n",
      " 8   taster_name            103727 non-null  object \n",
      " 9   taster_twitter_handle  98758 non-null   object \n",
      " 10  title                  129971 non-null  object \n",
      " 11  variety                129970 non-null  object \n",
      " 12  winery                 129971 non-null  object \n",
      "dtypes: float64(1), int64(1), object(11)\n",
      "memory usage: 13.9+ MB\n"
     ]
    }
   ],
   "source": [
    "wine_raw_df.info()"
   ]
  },
  {
   "cell_type": "code",
   "execution_count": 4,
   "id": "e7304d09",
   "metadata": {},
   "outputs": [
    {
     "name": "stdout",
     "output_type": "stream",
     "text": [
      "country: 43 unique values\n",
      "description: 119955 unique values\n",
      "designation: 37979 unique values\n",
      "points: 21 unique values\n",
      "price: 390 unique values\n",
      "province: 425 unique values\n",
      "region_1: 1229 unique values\n",
      "region_2: 17 unique values\n",
      "taster_name: 19 unique values\n",
      "taster_twitter_handle: 15 unique values\n",
      "title: 118840 unique values\n",
      "variety: 707 unique values\n",
      "winery: 16757 unique values\n"
     ]
    }
   ],
   "source": [
    "# unique values for every column\n",
    "\n",
    "for col in wine_raw_df.columns:\n",
    "    print(f\"{col}: {wine_raw_df[col].nunique()} unique values\")"
   ]
  },
  {
   "cell_type": "code",
   "execution_count": 5,
   "id": "62856a28",
   "metadata": {},
   "outputs": [
    {
     "name": "stdout",
     "output_type": "stream",
     "text": [
      "Index(['country', 'description', 'designation', 'points', 'price', 'province',\n",
      "       'region_1', 'region_2', 'taster_name', 'taster_twitter_handle', 'title',\n",
      "       'variety', 'winery'],\n",
      "      dtype='object')\n"
     ]
    },
    {
     "data": {
      "text/html": [
       "<pre style=\"white-space:pre;overflow-x:auto;line-height:normal;font-family:Menlo,'DejaVu Sans Mono',consolas,'Courier New',monospace\"></pre>\n"
      ],
      "text/plain": []
     },
     "metadata": {},
     "output_type": "display_data"
    },
    {
     "data": {
      "application/vnd.microsoft.datawrangler.viewer.v0+json": {
       "columns": [
        {
         "name": "index",
         "rawType": "int64",
         "type": "integer"
        },
        {
         "name": "country",
         "rawType": "object",
         "type": "string"
        },
        {
         "name": "description",
         "rawType": "object",
         "type": "string"
        },
        {
         "name": "designation",
         "rawType": "object",
         "type": "unknown"
        },
        {
         "name": "points",
         "rawType": "int64",
         "type": "integer"
        },
        {
         "name": "price",
         "rawType": "float64",
         "type": "float"
        },
        {
         "name": "province",
         "rawType": "object",
         "type": "string"
        },
        {
         "name": "region_1",
         "rawType": "object",
         "type": "unknown"
        },
        {
         "name": "region_2",
         "rawType": "object",
         "type": "unknown"
        },
        {
         "name": "taster_name",
         "rawType": "object",
         "type": "string"
        },
        {
         "name": "taster_twitter_handle",
         "rawType": "object",
         "type": "unknown"
        },
        {
         "name": "title",
         "rawType": "object",
         "type": "string"
        },
        {
         "name": "variety",
         "rawType": "object",
         "type": "string"
        },
        {
         "name": "winery",
         "rawType": "object",
         "type": "string"
        }
       ],
       "ref": "caf6cd34-dd23-46f4-8963-eef06c310157",
       "rows": [
        [
         "0",
         "Italy",
         "Aromas include tropical fruit, broom, brimstone and dried herb. The palate isn't overly expressive, offering unripened apple, citrus and dried sage alongside brisk acidity.",
         "Vulkà Bianco",
         "87",
         null,
         "Sicily & Sardinia",
         "Etna",
         null,
         "Kerin O’Keefe",
         "@kerinokeefe",
         "Nicosia 2013 Vulkà Bianco  (Etna)",
         "White Blend",
         "Nicosia"
        ],
        [
         "1",
         "Portugal",
         "This is ripe and fruity, a wine that is smooth while still structured. Firm tannins are filled out with juicy red berry fruits and freshened with acidity. It's  already drinkable, although it will certainly be better from 2016.",
         "Avidagos",
         "87",
         "15.0",
         "Douro",
         null,
         null,
         "Roger Voss",
         "@vossroger",
         "Quinta dos Avidagos 2011 Avidagos Red (Douro)",
         "Portuguese Red",
         "Quinta dos Avidagos"
        ],
        [
         "2",
         "US",
         "Tart and snappy, the flavors of lime flesh and rind dominate. Some green pineapple pokes through, with crisp acidity underscoring the flavors. The wine was all stainless-steel fermented.",
         null,
         "87",
         "14.0",
         "Oregon",
         "Willamette Valley",
         "Willamette Valley",
         "Paul Gregutt",
         "@paulgwine ",
         "Rainstorm 2013 Pinot Gris (Willamette Valley)",
         "Pinot Gris",
         "Rainstorm"
        ],
        [
         "3",
         "US",
         "Pineapple rind, lemon pith and orange blossom start off the aromas. The palate is a bit more opulent, with notes of honey-drizzled guava and mango giving way to a slightly astringent, semidry finish.",
         "Reserve Late Harvest",
         "87",
         "13.0",
         "Michigan",
         "Lake Michigan Shore",
         null,
         "Alexander Peartree",
         null,
         "St. Julian 2013 Reserve Late Harvest Riesling (Lake Michigan Shore)",
         "Riesling",
         "St. Julian"
        ],
        [
         "4",
         "US",
         "Much like the regular bottling from 2012, this comes across as rather rough and tannic, with rustic, earthy, herbal characteristics. Nonetheless, if you think of it as a pleasantly unfussy country wine, it's a good companion to a hearty winter stew.",
         "Vintner's Reserve Wild Child Block",
         "87",
         "65.0",
         "Oregon",
         "Willamette Valley",
         "Willamette Valley",
         "Paul Gregutt",
         "@paulgwine ",
         "Sweet Cheeks 2012 Vintner's Reserve Wild Child Block Pinot Noir (Willamette Valley)",
         "Pinot Noir",
         "Sweet Cheeks"
        ]
       ],
       "shape": {
        "columns": 13,
        "rows": 5
       }
      },
      "text/html": [
       "<div>\n",
       "<style scoped>\n",
       "    .dataframe tbody tr th:only-of-type {\n",
       "        vertical-align: middle;\n",
       "    }\n",
       "\n",
       "    .dataframe tbody tr th {\n",
       "        vertical-align: top;\n",
       "    }\n",
       "\n",
       "    .dataframe thead th {\n",
       "        text-align: right;\n",
       "    }\n",
       "</style>\n",
       "<table border=\"1\" class=\"dataframe\">\n",
       "  <thead>\n",
       "    <tr style=\"text-align: right;\">\n",
       "      <th></th>\n",
       "      <th>country</th>\n",
       "      <th>description</th>\n",
       "      <th>designation</th>\n",
       "      <th>points</th>\n",
       "      <th>price</th>\n",
       "      <th>province</th>\n",
       "      <th>region_1</th>\n",
       "      <th>region_2</th>\n",
       "      <th>taster_name</th>\n",
       "      <th>taster_twitter_handle</th>\n",
       "      <th>title</th>\n",
       "      <th>variety</th>\n",
       "      <th>winery</th>\n",
       "    </tr>\n",
       "  </thead>\n",
       "  <tbody>\n",
       "    <tr>\n",
       "      <th>0</th>\n",
       "      <td>Italy</td>\n",
       "      <td>Aromas include tropical fruit, broom, brimston...</td>\n",
       "      <td>Vulkà Bianco</td>\n",
       "      <td>87</td>\n",
       "      <td>NaN</td>\n",
       "      <td>Sicily &amp; Sardinia</td>\n",
       "      <td>Etna</td>\n",
       "      <td>NaN</td>\n",
       "      <td>Kerin O’Keefe</td>\n",
       "      <td>@kerinokeefe</td>\n",
       "      <td>Nicosia 2013 Vulkà Bianco  (Etna)</td>\n",
       "      <td>White Blend</td>\n",
       "      <td>Nicosia</td>\n",
       "    </tr>\n",
       "    <tr>\n",
       "      <th>1</th>\n",
       "      <td>Portugal</td>\n",
       "      <td>This is ripe and fruity, a wine that is smooth...</td>\n",
       "      <td>Avidagos</td>\n",
       "      <td>87</td>\n",
       "      <td>15.0</td>\n",
       "      <td>Douro</td>\n",
       "      <td>NaN</td>\n",
       "      <td>NaN</td>\n",
       "      <td>Roger Voss</td>\n",
       "      <td>@vossroger</td>\n",
       "      <td>Quinta dos Avidagos 2011 Avidagos Red (Douro)</td>\n",
       "      <td>Portuguese Red</td>\n",
       "      <td>Quinta dos Avidagos</td>\n",
       "    </tr>\n",
       "    <tr>\n",
       "      <th>2</th>\n",
       "      <td>US</td>\n",
       "      <td>Tart and snappy, the flavors of lime flesh and...</td>\n",
       "      <td>NaN</td>\n",
       "      <td>87</td>\n",
       "      <td>14.0</td>\n",
       "      <td>Oregon</td>\n",
       "      <td>Willamette Valley</td>\n",
       "      <td>Willamette Valley</td>\n",
       "      <td>Paul Gregutt</td>\n",
       "      <td>@paulgwine</td>\n",
       "      <td>Rainstorm 2013 Pinot Gris (Willamette Valley)</td>\n",
       "      <td>Pinot Gris</td>\n",
       "      <td>Rainstorm</td>\n",
       "    </tr>\n",
       "    <tr>\n",
       "      <th>3</th>\n",
       "      <td>US</td>\n",
       "      <td>Pineapple rind, lemon pith and orange blossom ...</td>\n",
       "      <td>Reserve Late Harvest</td>\n",
       "      <td>87</td>\n",
       "      <td>13.0</td>\n",
       "      <td>Michigan</td>\n",
       "      <td>Lake Michigan Shore</td>\n",
       "      <td>NaN</td>\n",
       "      <td>Alexander Peartree</td>\n",
       "      <td>NaN</td>\n",
       "      <td>St. Julian 2013 Reserve Late Harvest Riesling ...</td>\n",
       "      <td>Riesling</td>\n",
       "      <td>St. Julian</td>\n",
       "    </tr>\n",
       "    <tr>\n",
       "      <th>4</th>\n",
       "      <td>US</td>\n",
       "      <td>Much like the regular bottling from 2012, this...</td>\n",
       "      <td>Vintner's Reserve Wild Child Block</td>\n",
       "      <td>87</td>\n",
       "      <td>65.0</td>\n",
       "      <td>Oregon</td>\n",
       "      <td>Willamette Valley</td>\n",
       "      <td>Willamette Valley</td>\n",
       "      <td>Paul Gregutt</td>\n",
       "      <td>@paulgwine</td>\n",
       "      <td>Sweet Cheeks 2012 Vintner's Reserve Wild Child...</td>\n",
       "      <td>Pinot Noir</td>\n",
       "      <td>Sweet Cheeks</td>\n",
       "    </tr>\n",
       "  </tbody>\n",
       "</table>\n",
       "</div>"
      ],
      "text/plain": [
       "\n",
       "    country                                        description  \\\n",
       "\u001b[1;36m0\u001b[0m     Italy  Aromas include tropical fruit, broom, brimston\u001b[33m...\u001b[0m   \n",
       "\u001b[1;36m1\u001b[0m  Portugal  This is ripe and fruity, a wine that is smooth\u001b[33m...\u001b[0m   \n",
       "\u001b[1;36m2\u001b[0m        US  Tart and snappy, the flavors of lime flesh and\u001b[33m...\u001b[0m   \n",
       "\u001b[1;36m3\u001b[0m        US  Pineapple rind, lemon pith and orange blossom \u001b[33m...\u001b[0m   \n",
       "\u001b[1;36m4\u001b[0m        US  Much like the regular bottling from \u001b[1;36m2012\u001b[0m, this\u001b[33m...\u001b[0m   \n",
       "\n",
       "                          designation  points  price           province  \\\n",
       "\u001b[1;36m0\u001b[0m                        Vulkà Bianco      \u001b[1;36m87\u001b[0m    NaN  Sicily & Sardinia   \n",
       "\u001b[1;36m1\u001b[0m                            Avidagos      \u001b[1;36m87\u001b[0m   \u001b[1;36m15.0\u001b[0m              Douro   \n",
       "\u001b[1;36m2\u001b[0m                                 NaN      \u001b[1;36m87\u001b[0m   \u001b[1;36m14.0\u001b[0m             Oregon   \n",
       "\u001b[1;36m3\u001b[0m                Reserve Late Harvest      \u001b[1;36m87\u001b[0m   \u001b[1;36m13.0\u001b[0m           Michigan   \n",
       "\u001b[1;36m4\u001b[0m  Vintner's Reserve Wild Child Block      \u001b[1;36m87\u001b[0m   \u001b[1;36m65.0\u001b[0m             Oregon   \n",
       "\n",
       "              region_1           region_2         taster_name  \\\n",
       "\u001b[1;36m0\u001b[0m                 Etna                NaN       Kerin O’Keefe   \n",
       "\u001b[1;36m1\u001b[0m                  NaN                NaN          Roger Voss   \n",
       "\u001b[1;36m2\u001b[0m    Willamette Valley  Willamette Valley        Paul Gregutt   \n",
       "\u001b[1;36m3\u001b[0m  Lake Michigan Shore                NaN  Alexander Peartree   \n",
       "\u001b[1;36m4\u001b[0m    Willamette Valley  Willamette Valley        Paul Gregutt   \n",
       "\n",
       "  taster_twitter_handle                                              title  \\\n",
       "\u001b[1;36m0\u001b[0m          @kerinokeefe                  Nicosia \u001b[1;36m2013\u001b[0m Vulkà Bianco  \u001b[1m(\u001b[0mEtna\u001b[1m)\u001b[0m   \n",
       "\u001b[1;36m1\u001b[0m            @vossroger      Quinta dos Avidagos \u001b[1;36m2011\u001b[0m Avidagos Red \u001b[1m(\u001b[0mDouro\u001b[1m)\u001b[0m   \n",
       "\u001b[1;36m2\u001b[0m           @paulgwine       Rainstorm \u001b[1;36m2013\u001b[0m Pinot Gris \u001b[1m(\u001b[0mWillamette Valley\u001b[1m)\u001b[0m   \n",
       "\u001b[1;36m3\u001b[0m                   NaN  St. Julian \u001b[1;36m2013\u001b[0m Reserve Late Harvest Riesling \u001b[33m...\u001b[0m   \n",
       "\u001b[1;36m4\u001b[0m           @paulgwine   Sweet Cheeks \u001b[1;36m2012\u001b[0m Vintner's Reserve Wild Child\u001b[33m...\u001b[0m   \n",
       "\n",
       "          variety               winery  \n",
       "\u001b[1;36m0\u001b[0m     White Blend              Nicosia  \n",
       "\u001b[1;36m1\u001b[0m  Portuguese Red  Quinta dos Avidagos  \n",
       "\u001b[1;36m2\u001b[0m      Pinot Gris            Rainstorm  \n",
       "\u001b[1;36m3\u001b[0m        Riesling           St. Julian  \n",
       "\u001b[1;36m4\u001b[0m      Pinot Noir         Sweet Cheeks  "
      ]
     },
     "execution_count": 5,
     "metadata": {},
     "output_type": "execute_result"
    }
   ],
   "source": [
    "print(wine_raw_df.columns)\n",
    "wine_raw_df.head()\n",
    "# lets drop some of the columns that we will never fucking use\n",
    "\n"
   ]
  },
  {
   "cell_type": "code",
   "execution_count": 9,
   "id": "a115a2a1",
   "metadata": {},
   "outputs": [
    {
     "data": {
      "text/html": [
       "<pre style=\"white-space:pre;overflow-x:auto;line-height:normal;font-family:Menlo,'DejaVu Sans Mono',consolas,'Courier New',monospace\"></pre>\n"
      ],
      "text/plain": []
     },
     "metadata": {},
     "output_type": "display_data"
    },
    {
     "data": {
      "application/vnd.microsoft.datawrangler.viewer.v0+json": {
       "columns": [
        {
         "name": "index",
         "rawType": "object",
         "type": "string"
        },
        {
         "name": "0",
         "rawType": "int64",
         "type": "integer"
        }
       ],
       "ref": "548a98c7-7fab-42c4-b6e7-30a8397506d0",
       "rows": [
        [
         "province",
         "0"
        ]
       ],
       "shape": {
        "columns": 1,
        "rows": 1
       }
      },
      "text/plain": [
       "\n",
       "province    \u001b[1;36m0\u001b[0m\n",
       "dtype: int64"
      ]
     },
     "execution_count": 9,
     "metadata": {},
     "output_type": "execute_result"
    }
   ],
   "source": [
    "wine_raw_df[['province']].isna().sum()"
   ]
  },
  {
   "cell_type": "code",
   "execution_count": 13,
   "id": "95d07b88",
   "metadata": {},
   "outputs": [
    {
     "name": "stdout",
     "output_type": "stream",
     "text": [
      "Columns containing 'province': ['province', 'province_codes']\n",
      "Columns containing 'region': ['region_1', 'region_2']\n"
     ]
    }
   ],
   "source": [
    "# Check for columns containing 'province'\n",
    "province_cols = [col for col in wine_raw_df.columns if 'province' in col.lower()]\n",
    "print(\"Columns containing 'province':\", province_cols)\n",
    "\n",
    "# Check for columns containing 'region'\n",
    "region_cols = [col for col in wine_raw_df.columns if 'region' in col.lower()]\n",
    "print(\"Columns containing 'region':\", region_cols)"
   ]
  },
  {
   "cell_type": "code",
   "execution_count": 18,
   "id": "aa424e1b",
   "metadata": {},
   "outputs": [
    {
     "data": {
      "text/html": [
       "<pre style=\"white-space:pre;overflow-x:auto;line-height:normal;font-family:Menlo,'DejaVu Sans Mono',consolas,'Courier New',monospace\"></pre>\n"
      ],
      "text/plain": []
     },
     "metadata": {},
     "output_type": "display_data"
    },
    {
     "data": {
      "application/vnd.microsoft.datawrangler.viewer.v0+json": {
       "columns": [
        {
         "name": "index",
         "rawType": "int64",
         "type": "integer"
        },
        {
         "name": "country",
         "rawType": "object",
         "type": "string"
        },
        {
         "name": "description",
         "rawType": "object",
         "type": "string"
        },
        {
         "name": "designation",
         "rawType": "object",
         "type": "unknown"
        },
        {
         "name": "points",
         "rawType": "int64",
         "type": "integer"
        },
        {
         "name": "price",
         "rawType": "float64",
         "type": "float"
        },
        {
         "name": "province",
         "rawType": "category",
         "type": "unknown"
        },
        {
         "name": "region_1",
         "rawType": "object",
         "type": "unknown"
        },
        {
         "name": "region_2",
         "rawType": "object",
         "type": "unknown"
        },
        {
         "name": "taster_name",
         "rawType": "object",
         "type": "string"
        },
        {
         "name": "taster_twitter_handle",
         "rawType": "object",
         "type": "unknown"
        },
        {
         "name": "title",
         "rawType": "object",
         "type": "string"
        },
        {
         "name": "variety",
         "rawType": "object",
         "type": "string"
        },
        {
         "name": "winery",
         "rawType": "object",
         "type": "string"
        },
        {
         "name": "province_codes",
         "rawType": "int16",
         "type": "integer"
        }
       ],
       "ref": "1a3515b4-b455-43a2-aebd-14e4291e9bba",
       "rows": [
        [
         "0",
         "Italy",
         "Aromas include tropical fruit, broom, brimstone and dried herb. The palate isn't overly expressive, offering unripened apple, citrus and dried sage alongside brisk acidity.",
         "Vulkà Bianco",
         "87",
         null,
         "Sicily & Sardinia",
         "Etna",
         null,
         "Kerin O’Keefe",
         "@kerinokeefe",
         "Nicosia 2013 Vulkà Bianco  (Etna)",
         "White Blend",
         "Nicosia",
         "331"
        ],
        [
         "1",
         "Portugal",
         "This is ripe and fruity, a wine that is smooth while still structured. Firm tannins are filled out with juicy red berry fruits and freshened with acidity. It's  already drinkable, although it will certainly be better from 2016.",
         "Avidagos",
         "87",
         "15.0",
         "Douro",
         null,
         null,
         "Roger Voss",
         "@vossroger",
         "Quinta dos Avidagos 2011 Avidagos Red (Douro)",
         "Portuguese Red",
         "Quinta dos Avidagos",
         "108"
        ],
        [
         "2",
         "US",
         "Tart and snappy, the flavors of lime flesh and rind dominate. Some green pineapple pokes through, with crisp acidity underscoring the flavors. The wine was all stainless-steel fermented.",
         null,
         "87",
         "14.0",
         "Oregon",
         "Willamette Valley",
         "Willamette Valley",
         "Paul Gregutt",
         "@paulgwine ",
         "Rainstorm 2013 Pinot Gris (Willamette Valley)",
         "Pinot Gris",
         "Rainstorm",
         "268"
        ],
        [
         "3",
         "US",
         "Pineapple rind, lemon pith and orange blossom start off the aromas. The palate is a bit more opulent, with notes of honey-drizzled guava and mango giving way to a slightly astringent, semidry finish.",
         "Reserve Late Harvest",
         "87",
         "13.0",
         "Michigan",
         "Lake Michigan Shore",
         null,
         "Alexander Peartree",
         null,
         "St. Julian 2013 Reserve Late Harvest Riesling (Lake Michigan Shore)",
         "Riesling",
         "St. Julian",
         "218"
        ],
        [
         "4",
         "US",
         "Much like the regular bottling from 2012, this comes across as rather rough and tannic, with rustic, earthy, herbal characteristics. Nonetheless, if you think of it as a pleasantly unfussy country wine, it's a good companion to a hearty winter stew.",
         "Vintner's Reserve Wild Child Block",
         "87",
         "65.0",
         "Oregon",
         "Willamette Valley",
         "Willamette Valley",
         "Paul Gregutt",
         "@paulgwine ",
         "Sweet Cheeks 2012 Vintner's Reserve Wild Child Block Pinot Noir (Willamette Valley)",
         "Pinot Noir",
         "Sweet Cheeks",
         "268"
        ]
       ],
       "shape": {
        "columns": 14,
        "rows": 5
       }
      },
      "text/html": [
       "<div>\n",
       "<style scoped>\n",
       "    .dataframe tbody tr th:only-of-type {\n",
       "        vertical-align: middle;\n",
       "    }\n",
       "\n",
       "    .dataframe tbody tr th {\n",
       "        vertical-align: top;\n",
       "    }\n",
       "\n",
       "    .dataframe thead th {\n",
       "        text-align: right;\n",
       "    }\n",
       "</style>\n",
       "<table border=\"1\" class=\"dataframe\">\n",
       "  <thead>\n",
       "    <tr style=\"text-align: right;\">\n",
       "      <th></th>\n",
       "      <th>country</th>\n",
       "      <th>description</th>\n",
       "      <th>designation</th>\n",
       "      <th>points</th>\n",
       "      <th>price</th>\n",
       "      <th>province</th>\n",
       "      <th>region_1</th>\n",
       "      <th>region_2</th>\n",
       "      <th>taster_name</th>\n",
       "      <th>taster_twitter_handle</th>\n",
       "      <th>title</th>\n",
       "      <th>variety</th>\n",
       "      <th>winery</th>\n",
       "      <th>province_codes</th>\n",
       "    </tr>\n",
       "  </thead>\n",
       "  <tbody>\n",
       "    <tr>\n",
       "      <th>0</th>\n",
       "      <td>Italy</td>\n",
       "      <td>Aromas include tropical fruit, broom, brimston...</td>\n",
       "      <td>Vulkà Bianco</td>\n",
       "      <td>87</td>\n",
       "      <td>NaN</td>\n",
       "      <td>Sicily &amp; Sardinia</td>\n",
       "      <td>Etna</td>\n",
       "      <td>NaN</td>\n",
       "      <td>Kerin O’Keefe</td>\n",
       "      <td>@kerinokeefe</td>\n",
       "      <td>Nicosia 2013 Vulkà Bianco  (Etna)</td>\n",
       "      <td>White Blend</td>\n",
       "      <td>Nicosia</td>\n",
       "      <td>331</td>\n",
       "    </tr>\n",
       "    <tr>\n",
       "      <th>1</th>\n",
       "      <td>Portugal</td>\n",
       "      <td>This is ripe and fruity, a wine that is smooth...</td>\n",
       "      <td>Avidagos</td>\n",
       "      <td>87</td>\n",
       "      <td>15.0</td>\n",
       "      <td>Douro</td>\n",
       "      <td>NaN</td>\n",
       "      <td>NaN</td>\n",
       "      <td>Roger Voss</td>\n",
       "      <td>@vossroger</td>\n",
       "      <td>Quinta dos Avidagos 2011 Avidagos Red (Douro)</td>\n",
       "      <td>Portuguese Red</td>\n",
       "      <td>Quinta dos Avidagos</td>\n",
       "      <td>108</td>\n",
       "    </tr>\n",
       "    <tr>\n",
       "      <th>2</th>\n",
       "      <td>US</td>\n",
       "      <td>Tart and snappy, the flavors of lime flesh and...</td>\n",
       "      <td>NaN</td>\n",
       "      <td>87</td>\n",
       "      <td>14.0</td>\n",
       "      <td>Oregon</td>\n",
       "      <td>Willamette Valley</td>\n",
       "      <td>Willamette Valley</td>\n",
       "      <td>Paul Gregutt</td>\n",
       "      <td>@paulgwine</td>\n",
       "      <td>Rainstorm 2013 Pinot Gris (Willamette Valley)</td>\n",
       "      <td>Pinot Gris</td>\n",
       "      <td>Rainstorm</td>\n",
       "      <td>268</td>\n",
       "    </tr>\n",
       "    <tr>\n",
       "      <th>3</th>\n",
       "      <td>US</td>\n",
       "      <td>Pineapple rind, lemon pith and orange blossom ...</td>\n",
       "      <td>Reserve Late Harvest</td>\n",
       "      <td>87</td>\n",
       "      <td>13.0</td>\n",
       "      <td>Michigan</td>\n",
       "      <td>Lake Michigan Shore</td>\n",
       "      <td>NaN</td>\n",
       "      <td>Alexander Peartree</td>\n",
       "      <td>NaN</td>\n",
       "      <td>St. Julian 2013 Reserve Late Harvest Riesling ...</td>\n",
       "      <td>Riesling</td>\n",
       "      <td>St. Julian</td>\n",
       "      <td>218</td>\n",
       "    </tr>\n",
       "    <tr>\n",
       "      <th>4</th>\n",
       "      <td>US</td>\n",
       "      <td>Much like the regular bottling from 2012, this...</td>\n",
       "      <td>Vintner's Reserve Wild Child Block</td>\n",
       "      <td>87</td>\n",
       "      <td>65.0</td>\n",
       "      <td>Oregon</td>\n",
       "      <td>Willamette Valley</td>\n",
       "      <td>Willamette Valley</td>\n",
       "      <td>Paul Gregutt</td>\n",
       "      <td>@paulgwine</td>\n",
       "      <td>Sweet Cheeks 2012 Vintner's Reserve Wild Child...</td>\n",
       "      <td>Pinot Noir</td>\n",
       "      <td>Sweet Cheeks</td>\n",
       "      <td>268</td>\n",
       "    </tr>\n",
       "  </tbody>\n",
       "</table>\n",
       "</div>"
      ],
      "text/plain": [
       "\n",
       "    country                                        description  \\\n",
       "\u001b[1;36m0\u001b[0m     Italy  Aromas include tropical fruit, broom, brimston\u001b[33m...\u001b[0m   \n",
       "\u001b[1;36m1\u001b[0m  Portugal  This is ripe and fruity, a wine that is smooth\u001b[33m...\u001b[0m   \n",
       "\u001b[1;36m2\u001b[0m        US  Tart and snappy, the flavors of lime flesh and\u001b[33m...\u001b[0m   \n",
       "\u001b[1;36m3\u001b[0m        US  Pineapple rind, lemon pith and orange blossom \u001b[33m...\u001b[0m   \n",
       "\u001b[1;36m4\u001b[0m        US  Much like the regular bottling from \u001b[1;36m2012\u001b[0m, this\u001b[33m...\u001b[0m   \n",
       "\n",
       "                          designation  points  price           province  \\\n",
       "\u001b[1;36m0\u001b[0m                        Vulkà Bianco      \u001b[1;36m87\u001b[0m    NaN  Sicily & Sardinia   \n",
       "\u001b[1;36m1\u001b[0m                            Avidagos      \u001b[1;36m87\u001b[0m   \u001b[1;36m15.0\u001b[0m              Douro   \n",
       "\u001b[1;36m2\u001b[0m                                 NaN      \u001b[1;36m87\u001b[0m   \u001b[1;36m14.0\u001b[0m             Oregon   \n",
       "\u001b[1;36m3\u001b[0m                Reserve Late Harvest      \u001b[1;36m87\u001b[0m   \u001b[1;36m13.0\u001b[0m           Michigan   \n",
       "\u001b[1;36m4\u001b[0m  Vintner's Reserve Wild Child Block      \u001b[1;36m87\u001b[0m   \u001b[1;36m65.0\u001b[0m             Oregon   \n",
       "\n",
       "              region_1           region_2         taster_name  \\\n",
       "\u001b[1;36m0\u001b[0m                 Etna                NaN       Kerin O’Keefe   \n",
       "\u001b[1;36m1\u001b[0m                  NaN                NaN          Roger Voss   \n",
       "\u001b[1;36m2\u001b[0m    Willamette Valley  Willamette Valley        Paul Gregutt   \n",
       "\u001b[1;36m3\u001b[0m  Lake Michigan Shore                NaN  Alexander Peartree   \n",
       "\u001b[1;36m4\u001b[0m    Willamette Valley  Willamette Valley        Paul Gregutt   \n",
       "\n",
       "  taster_twitter_handle                                              title  \\\n",
       "\u001b[1;36m0\u001b[0m          @kerinokeefe                  Nicosia \u001b[1;36m2013\u001b[0m Vulkà Bianco  \u001b[1m(\u001b[0mEtna\u001b[1m)\u001b[0m   \n",
       "\u001b[1;36m1\u001b[0m            @vossroger      Quinta dos Avidagos \u001b[1;36m2011\u001b[0m Avidagos Red \u001b[1m(\u001b[0mDouro\u001b[1m)\u001b[0m   \n",
       "\u001b[1;36m2\u001b[0m           @paulgwine       Rainstorm \u001b[1;36m2013\u001b[0m Pinot Gris \u001b[1m(\u001b[0mWillamette Valley\u001b[1m)\u001b[0m   \n",
       "\u001b[1;36m3\u001b[0m                   NaN  St. Julian \u001b[1;36m2013\u001b[0m Reserve Late Harvest Riesling \u001b[33m...\u001b[0m   \n",
       "\u001b[1;36m4\u001b[0m           @paulgwine   Sweet Cheeks \u001b[1;36m2012\u001b[0m Vintner's Reserve Wild Child\u001b[33m...\u001b[0m   \n",
       "\n",
       "          variety               winery  province_codes  \n",
       "\u001b[1;36m0\u001b[0m     White Blend              Nicosia             \u001b[1;36m331\u001b[0m  \n",
       "\u001b[1;36m1\u001b[0m  Portuguese Red  Quinta dos Avidagos             \u001b[1;36m108\u001b[0m  \n",
       "\u001b[1;36m2\u001b[0m      Pinot Gris            Rainstorm             \u001b[1;36m268\u001b[0m  \n",
       "\u001b[1;36m3\u001b[0m        Riesling           St. Julian             \u001b[1;36m218\u001b[0m  \n",
       "\u001b[1;36m4\u001b[0m      Pinot Noir         Sweet Cheeks             \u001b[1;36m268\u001b[0m  "
      ]
     },
     "execution_count": 18,
     "metadata": {},
     "output_type": "execute_result"
    }
   ],
   "source": [
    "# set 'Unnamed: 0' to index \n",
    "\n",
    "# lets replace na values with 'unknown' values\n",
    "import pandas as pd\n",
    "\n",
    "wine_raw_df['province'] = wine_raw_df['province'].apply(lambda x: 'unknown' if pd.isna(x) else x)\n",
    "# wine_raw_df['province'] = wine_raw_df['province'].fillna('unknown')\n",
    "\n",
    "\n",
    "\n",
    "# lets encode region_1 with values \n",
    "wine_raw_df['province'] = wine_raw_df['province'].astype('category')\n",
    "\n",
    "# \n",
    "wine_raw_df['province_codes'] = wine_raw_df['province'].cat.codes\n",
    "\n",
    "# encode categorical value with value 1000 \n",
    "\n",
    "# wine_raw_df['province_codes'] = wine_raw_df[['province_codes', 'province']].apply(lambda x: 1000 if x['province'] == 'unknown' else x['province_codes'])\n",
    "wine_raw_df.loc[wine_raw_df['province'] == 'unknown', 'province_codes'] = 1000\n",
    "wine_raw_df.head()"
   ]
  },
  {
   "cell_type": "code",
   "execution_count": null,
   "id": "6e998f8f",
   "metadata": {},
   "outputs": [
    {
     "data": {
      "text/html": [
       "<pre style=\"white-space:pre;overflow-x:auto;line-height:normal;font-family:Menlo,'DejaVu Sans Mono',consolas,'Courier New',monospace\"></pre>\n"
      ],
      "text/plain": []
     },
     "metadata": {},
     "output_type": "display_data"
    },
    {
     "data": {
      "application/vnd.microsoft.datawrangler.viewer.v0+json": {
       "columns": [
        {
         "name": "index",
         "rawType": "int64",
         "type": "integer"
        },
        {
         "name": "description",
         "rawType": "object",
         "type": "string"
        },
        {
         "name": "designation",
         "rawType": "object",
         "type": "unknown"
        },
        {
         "name": "points",
         "rawType": "int64",
         "type": "integer"
        },
        {
         "name": "price",
         "rawType": "float64",
         "type": "float"
        },
        {
         "name": "province",
         "rawType": "category",
         "type": "unknown"
        },
        {
         "name": "region_1",
         "rawType": "object",
         "type": "unknown"
        },
        {
         "name": "region_2",
         "rawType": "object",
         "type": "unknown"
        },
        {
         "name": "taster_name",
         "rawType": "object",
         "type": "unknown"
        },
        {
         "name": "taster_twitter_handle",
         "rawType": "object",
         "type": "unknown"
        },
        {
         "name": "title",
         "rawType": "object",
         "type": "string"
        },
        {
         "name": "variety",
         "rawType": "object",
         "type": "unknown"
        },
        {
         "name": "winery",
         "rawType": "object",
         "type": "string"
        },
        {
         "name": "province_codes",
         "rawType": "int16",
         "type": "integer"
        }
       ],
       "ref": "d693dbaa-6003-416a-9592-e26561c5a286",
       "rows": [
        [
         "0",
         "Aromas include tropical fruit, broom, brimstone and dried herb. The palate isn't overly expressive, offering unripened apple, citrus and dried sage alongside brisk acidity.",
         "Vulkà Bianco",
         "87",
         null,
         "Sicily & Sardinia",
         "Etna",
         null,
         "Kerin O’Keefe",
         "@kerinokeefe",
         "Nicosia 2013 Vulkà Bianco  (Etna)",
         "White Blend",
         "Nicosia",
         "331"
        ],
        [
         "1",
         "This is ripe and fruity, a wine that is smooth while still structured. Firm tannins are filled out with juicy red berry fruits and freshened with acidity. It's  already drinkable, although it will certainly be better from 2016.",
         "Avidagos",
         "87",
         "15.0",
         "Douro",
         null,
         null,
         "Roger Voss",
         "@vossroger",
         "Quinta dos Avidagos 2011 Avidagos Red (Douro)",
         "Portuguese Red",
         "Quinta dos Avidagos",
         "108"
        ],
        [
         "2",
         "Tart and snappy, the flavors of lime flesh and rind dominate. Some green pineapple pokes through, with crisp acidity underscoring the flavors. The wine was all stainless-steel fermented.",
         null,
         "87",
         "14.0",
         "Oregon",
         "Willamette Valley",
         "Willamette Valley",
         "Paul Gregutt",
         "@paulgwine ",
         "Rainstorm 2013 Pinot Gris (Willamette Valley)",
         "Pinot Gris",
         "Rainstorm",
         "268"
        ],
        [
         "3",
         "Pineapple rind, lemon pith and orange blossom start off the aromas. The palate is a bit more opulent, with notes of honey-drizzled guava and mango giving way to a slightly astringent, semidry finish.",
         "Reserve Late Harvest",
         "87",
         "13.0",
         "Michigan",
         "Lake Michigan Shore",
         null,
         "Alexander Peartree",
         null,
         "St. Julian 2013 Reserve Late Harvest Riesling (Lake Michigan Shore)",
         "Riesling",
         "St. Julian",
         "218"
        ],
        [
         "4",
         "Much like the regular bottling from 2012, this comes across as rather rough and tannic, with rustic, earthy, herbal characteristics. Nonetheless, if you think of it as a pleasantly unfussy country wine, it's a good companion to a hearty winter stew.",
         "Vintner's Reserve Wild Child Block",
         "87",
         "65.0",
         "Oregon",
         "Willamette Valley",
         "Willamette Valley",
         "Paul Gregutt",
         "@paulgwine ",
         "Sweet Cheeks 2012 Vintner's Reserve Wild Child Block Pinot Noir (Willamette Valley)",
         "Pinot Noir",
         "Sweet Cheeks",
         "268"
        ],
        [
         "5",
         "Blackberry and raspberry aromas show a typical Navarran whiff of green herbs and, in this case, horseradish. In the mouth, this is fairly full bodied, with tomatoey acidity. Spicy, herbal flavors complement dark plum fruit, while the finish is fresh but grabby.",
         "Ars In Vitro",
         "87",
         "15.0",
         "Northern Spain",
         "Navarra",
         null,
         "Michael Schachner",
         "@wineschach",
         "Tandem 2011 Ars In Vitro Tempranillo-Merlot (Navarra)",
         "Tempranillo-Merlot",
         "Tandem",
         "262"
        ],
        [
         "6",
         "Here's a bright, informal red that opens with aromas of candied berry, white pepper and savory herb that carry over to the palate. It's balanced with fresh acidity and soft tannins.",
         "Belsito",
         "87",
         "16.0",
         "Sicily & Sardinia",
         "Vittoria",
         null,
         "Kerin O’Keefe",
         "@kerinokeefe",
         "Terre di Giurfo 2013 Belsito Frappato (Vittoria)",
         "Frappato",
         "Terre di Giurfo",
         "331"
        ],
        [
         "7",
         "This dry and restrained wine offers spice in profusion. Balanced with acidity and a firm texture, it's very much for food.",
         null,
         "87",
         "24.0",
         "Alsace",
         "Alsace",
         null,
         "Roger Voss",
         "@vossroger",
         "Trimbach 2012 Gewurztraminer (Alsace)",
         "Gewürztraminer",
         "Trimbach",
         "11"
        ],
        [
         "8",
         "Savory dried thyme notes accent sunnier flavors of preserved peach in this brisk, off-dry wine. It's fruity and fresh, with an elegant, sprightly footprint.",
         "Shine",
         "87",
         "12.0",
         "Rheinhessen",
         null,
         null,
         "Anna Lee C. Iijima",
         null,
         "Heinz Eifel 2013 Shine Gewürztraminer (Rheinhessen)",
         "Gewürztraminer",
         "Heinz Eifel",
         "307"
        ],
        [
         "9",
         "This has great depth of flavor with its fresh apple and pear fruits and touch of spice. It's off dry while balanced with acidity and a crisp texture. Drink now.",
         "Les Natures",
         "87",
         "27.0",
         "Alsace",
         "Alsace",
         null,
         "Roger Voss",
         "@vossroger",
         "Jean-Baptiste Adam 2012 Les Natures Pinot Gris (Alsace)",
         "Pinot Gris",
         "Jean-Baptiste Adam",
         "11"
        ],
        [
         "10",
         "Soft, supple plum envelopes an oaky structure in this Cabernet, supported by 15% Merlot. Coffee and chocolate complete the picture, finishing strong at the end, resulting in a value-priced wine of attractive flavor and immediate accessibility.",
         "Mountain Cuvée",
         "87",
         "19.0",
         "California",
         "Napa Valley",
         "Napa",
         "Virginie Boone",
         "@vboone",
         "Kirkland Signature 2011 Mountain Cuvée Cabernet Sauvignon (Napa Valley)",
         "Cabernet Sauvignon",
         "Kirkland Signature",
         "51"
        ],
        [
         "11",
         "This is a dry wine, very spicy, with a tight, taut texture and strongly mineral character layered with citrus as well as pepper. It's a food wine with its almost crisp aftertaste.",
         null,
         "87",
         "30.0",
         "Alsace",
         "Alsace",
         null,
         "Roger Voss",
         "@vossroger",
         "Leon Beyer 2012 Gewurztraminer (Alsace)",
         "Gewürztraminer",
         "Leon Beyer",
         "11"
        ],
        [
         "12",
         "Slightly reduced, this wine offers a chalky, tannic backbone to an otherwise juicy explosion of rich black cherry, the whole accented throughout by firm oak and cigar box.",
         null,
         "87",
         "34.0",
         "California",
         "Alexander Valley",
         "Sonoma",
         "Virginie Boone",
         "@vboone",
         "Louis M. Martini 2012 Cabernet Sauvignon (Alexander Valley)",
         "Cabernet Sauvignon",
         "Louis M. Martini",
         "51"
        ],
        [
         "13",
         "This is dominated by oak and oak-driven aromas that include roasted coffee bean, espresso, coconut and vanilla that carry over to the palate, together with plum and chocolate. Astringent, drying tannins give it a rather abrupt finish.",
         "Rosso",
         "87",
         null,
         "Sicily & Sardinia",
         "Etna",
         null,
         "Kerin O’Keefe",
         "@kerinokeefe",
         "Masseria Setteporte 2012 Rosso  (Etna)",
         "Nerello Mascalese",
         "Masseria Setteporte",
         "331"
        ],
        [
         "14",
         "Building on 150 years and six generations of winemaking tradition, the winery trends toward a leaner style, with the classic California buttercream aroma cut by tart green apple. In this good everyday sipping wine, flavors that range from pear to barely ripe pineapple prove approachable but not distinctive.",
         null,
         "87",
         "12.0",
         "California",
         "Central Coast",
         "Central Coast",
         "Matt Kettmann",
         "@mattkettmann",
         "Mirassou 2012 Chardonnay (Central Coast)",
         "Chardonnay",
         "Mirassou",
         "51"
        ],
        [
         "15",
         "Zesty orange peels and apple notes abound in this sprightly, mineral-toned Riesling. Off dry on the palate, yet racy and lean, it's a refreshing, easy quaffer with wide appeal.",
         "Devon",
         "87",
         "24.0",
         "Mosel",
         null,
         null,
         "Anna Lee C. Iijima",
         null,
         "Richard Böcking 2013 Devon Riesling (Mosel)",
         "Riesling",
         "Richard Böcking",
         "232"
        ],
        [
         "16",
         "Baked plum, molasses, balsamic vinegar and cheesy oak aromas feed into a palate that's braced by a bolt of acidity. A compact set of saucy red-berry and plum flavors features tobacco and peppery accents, while the finish is mildly green in flavor, with respectable weight and balance.",
         "Felix",
         "87",
         "30.0",
         "Other",
         "Cafayate",
         null,
         "Michael Schachner",
         "@wineschach",
         "Felix Lavaque 2010 Felix Malbec (Cafayate)",
         "Malbec",
         "Felix Lavaque",
         "269"
        ],
        [
         "17",
         "Raw black-cherry aromas are direct and simple but good. This has a juicy feel that thickens over time, with oak character and extract becoming more apparent. A flavor profile driven by dark-berry fruits and smoldering oak finishes meaty but hot.",
         "Winemaker Selection",
         "87",
         "13.0",
         "Mendoza Province",
         "Mendoza",
         null,
         "Michael Schachner",
         "@wineschach",
         "Gaucho Andino 2011 Winemaker Selection Malbec (Mendoza)",
         "Malbec",
         "Gaucho Andino",
         "216"
        ],
        [
         "18",
         "Desiccated blackberry, leather, charred wood and mint aromas carry the nose on this full-bodied, tannic, heavily oaked Tinto Fino. Flavors of clove and woodspice sit on top of blackberry fruit, then hickory and other forceful oak-based aromas rise up and dominate the finish.",
         "Vendimia Seleccionada Finca Valdelayegua Single Vineyard Crianza",
         "87",
         "28.0",
         "Northern Spain",
         "Ribera del Duero",
         null,
         "Michael Schachner",
         "@wineschach",
         "Pradorey 2010 Vendimia Seleccionada Finca Valdelayegua Single Vineyard Crianza  (Ribera del Duero)",
         "Tempranillo Blend",
         "Pradorey",
         "262"
        ],
        [
         "19",
         "Red fruit aromas pervade on the nose, with cigar box and menthol notes riding in the back. The palate is slightly restrained on entry, but opens up to riper notes of cherry and plum specked with crushed pepper. This blend of Merlot, Cabernet Sauvignon and Cabernet Franc is approachable now and ready to be enjoyed.",
         null,
         "87",
         "32.0",
         "Virginia",
         "Virginia",
         null,
         "Alexander Peartree",
         null,
         "Quiévremont 2012 Meritage (Virginia)",
         "Meritage",
         "Quiévremont",
         "398"
        ],
        [
         "20",
         "Ripe aromas of dark berries mingle with ample notes of black pepper, toasted vanilla and dusty tobacco. The palate is oak-driven in nature, but notes of tart red currant shine through, offering a bit of levity.",
         "Vin de Maison",
         "87",
         "23.0",
         "Virginia",
         "Virginia",
         null,
         "Alexander Peartree",
         null,
         "Quiévremont 2012 Vin de Maison Red (Virginia)",
         "Red Blend",
         "Quiévremont",
         "398"
        ],
        [
         "21",
         "A sleek mix of tart berry, stem and herb, along with a hint of oak and chocolate, this is a fair value in a widely available, drink-now Oregon Pinot. The wine oak-aged for six months, whether in neutral or re-staved is not indicated.",
         null,
         "87",
         "20.0",
         "Oregon",
         "Oregon",
         "Oregon Other",
         "Paul Gregutt",
         "@paulgwine ",
         "Acrobat 2013 Pinot Noir (Oregon)",
         "Pinot Noir",
         "Acrobat",
         "268"
        ],
        [
         "22",
         "Delicate aromas recall white flower and citrus. The palate offers passion fruit, lime and white peach with a hint of mineral alongside bright acidity.",
         "Ficiligno",
         "87",
         "19.0",
         "Sicily & Sardinia",
         "Sicilia",
         null,
         "Kerin O’Keefe",
         "@kerinokeefe",
         "Baglio di Pianetto 2007 Ficiligno White (Sicilia)",
         "White Blend",
         "Baglio di Pianetto",
         "331"
        ],
        [
         "23",
         "This wine from the Geneseo district offers aromas of sour plums and just enough cigar box to tempt the nose. The flavors are a bit flat at first, then the acidity and tension of sour cherries emerges in the midpalate, bolstered by some black licorice.",
         "Signature Selection",
         "87",
         "22.0",
         "California",
         "Paso Robles",
         "Central Coast",
         "Matt Kettmann",
         "@mattkettmann",
         "Bianchi 2011 Signature Selection Merlot (Paso Robles)",
         "Merlot",
         "Bianchi",
         "51"
        ],
        [
         "24",
         "Aromas of prune, blackcurrant, toast and oak carry through to the extracted palate, along with flavors of black cherry and roasted coffee beans. Firm but drying tannins provide the framework.",
         "Aynat",
         "87",
         "35.0",
         "Sicily & Sardinia",
         "Sicilia",
         null,
         "Kerin O’Keefe",
         "@kerinokeefe",
         "Canicattì 2009 Aynat Nero d'Avola (Sicilia)",
         "Nero d'Avola",
         "Canicattì",
         "331"
        ],
        [
         "25",
         "Oak and earth intermingle around robust aromas of wet forest floor in this vineyard-designated Pinot that hails from a high-elevation site. Small in production, it offers intense, full-bodied raspberry and blackberry steeped in smoky spice and smooth texture.",
         "King Ridge Vineyard",
         "87",
         "69.0",
         "California",
         "Sonoma Coast",
         "Sonoma",
         "Virginie Boone",
         "@vboone",
         "Castello di Amorosa 2011 King Ridge Vineyard Pinot Noir (Sonoma Coast)",
         "Pinot Noir",
         "Castello di Amorosa",
         "51"
        ],
        [
         "26",
         "Pretty aromas of yellow flower and stone fruit lead the nose. The bright palate offers yellow apple, apricot, vanilla and delicate notes of lightly toasted oak alongside crisp acidity.",
         "Dalila",
         "87",
         "13.0",
         "Sicily & Sardinia",
         "Terre Siciliane",
         null,
         "Kerin O’Keefe",
         "@kerinokeefe",
         "Stemmari 2013 Dalila White (Terre Siciliane)",
         "White Blend",
         "Stemmari",
         "331"
        ],
        [
         "27",
         "Aromas recall ripe dark berry, toast and a whiff of cake spice. The soft, informal palate offers sour cherry, vanilla and a hint of espresso alongside round tannins. Drink soon.",
         null,
         "87",
         "10.0",
         "Sicily & Sardinia",
         "Terre Siciliane",
         null,
         "Kerin O’Keefe",
         "@kerinokeefe",
         "Stemmari 2013 Nero d'Avola (Terre Siciliane)",
         "Nero d'Avola",
         "Stemmari",
         "331"
        ],
        [
         "28",
         "Aromas suggest mature berry, scorched earth, animal, toast and anise. The palate offers ripe black berry, oak, espresso, cocoa and vanilla alongside dusty tannins.",
         "Mascaria Barricato",
         "87",
         "17.0",
         "Sicily & Sardinia",
         "Cerasuolo di Vittoria",
         null,
         "Kerin O’Keefe",
         "@kerinokeefe",
         "Terre di Giurfo 2011 Mascaria Barricato  (Cerasuolo di Vittoria)",
         "Red Blend",
         "Terre di Giurfo",
         "331"
        ],
        [
         "29",
         "Clarksburg is becoming a haven for Chenin Blanc in California. This bottling, using fruit sourced from several vineyards in the area, is balanced with just a trace of sweetness in the background (1% residual sugar). This is crisp, straightforward and blessed with notes of pear and lime. Drink it cold.",
         null,
         "86",
         "16.0",
         "California",
         "Clarksburg",
         "Central Valley",
         "Virginie Boone",
         "@vboone",
         "Clarksburg Wine Company 2010 Chenin Blanc (Clarksburg)",
         "Chenin Blanc",
         "Clarksburg Wine Company",
         "51"
        ],
        [
         "30",
         "Red cherry fruit comes laced with light tannins, giving this bright wine an open, juicy character.",
         "Nouveau",
         "86",
         null,
         "Beaujolais",
         "Beaujolais-Villages",
         null,
         "Roger Voss",
         "@vossroger",
         "Domaine de la Madone 2012 Nouveau  (Beaujolais-Villages)",
         "Gamay",
         "Domaine de la Madone",
         "29"
        ],
        [
         "31",
         "Merlot and Nero d'Avola form the base for this easy red wine that would pair with fettuccine and meat sauce or pork roast. The quality of the fruit is clean, bright and sharp.",
         "Calanìca Nero d'Avola-Merlot",
         "86",
         null,
         "Sicily & Sardinia",
         "Sicilia",
         null,
         null,
         null,
         "Duca di Salaparuta 2010 Calanìca Nero d'Avola-Merlot Red (Sicilia)",
         "Red Blend",
         "Duca di Salaparuta",
         "331"
        ],
        [
         "32",
         "Part of the extended Calanìca series, this Grillo-Viognier blend shows aromas of honeysuckle and jasmine, backed by touches of cut grass and wild sage. In the mouth, it shows ripe yellow-fruit flavors.",
         "Calanìca Grillo-Viognier",
         "86",
         null,
         "Sicily & Sardinia",
         "Sicilia",
         null,
         null,
         null,
         "Duca di Salaparuta 2011 Calanìca Grillo-Viognier White (Sicilia)",
         "White Blend",
         "Duca di Salaparuta",
         "331"
        ],
        [
         "33",
         "Rustic and dry, this has flavors of berries, currants, licorice and spices. Made from Cabernet Franc and Cabernet Sauvignon.",
         "Puma Springs Vineyard",
         "86",
         "50.0",
         "California",
         "Dry Creek Valley",
         "Sonoma",
         null,
         null,
         "Envolve 2010 Puma Springs Vineyard Red (Dry Creek Valley)",
         "Red Blend",
         "Envolve",
         "51"
        ],
        [
         "34",
         "This shows a tart, green gooseberry flavor that is similar to New Zealand Sauvignon Blanc. Other notes include tropical fruit, orange and honey. Unoaked, with a splash of Muscat, this has commendable dryness and acidity.",
         null,
         "86",
         "20.0",
         "California",
         "Sonoma Valley",
         "Sonoma",
         null,
         null,
         "Envolve 2011 Sauvignon Blanc (Sonoma Valley)",
         "Sauvignon Blanc",
         "Envolve",
         "51"
        ],
        [
         "35",
         "As with many of the Erath 2010 vineyard designates, this is strongly herbal. The notes of leaf and herb create somewhat unripe flavor impressions, with a touch of bitterness on the finish. The fruit just passes the ripeness of sweet tomatoes.",
         "Hyland",
         "86",
         "50.0",
         "Oregon",
         "McMinnville",
         "Willamette Valley",
         "Paul Gregutt",
         "@paulgwine ",
         "Erath 2010 Hyland Pinot Noir (McMinnville)",
         "Pinot Noir",
         "Erath",
         "268"
        ],
        [
         "36",
         "White flower, lychee and apple aromas carry the mellow bouquet. The chunky-feeling palate bears powdery, sweet flavors of peach and melon, mixed with greener notes of grass and lime. The 80% Viognier component is typical of the warm climate: plump and oily, with a short finish. Chardonnay fills out the blend.",
         "Estate",
         "86",
         "15.0",
         "Colchagua Valley",
         null,
         null,
         "Michael Schachner",
         "@wineschach",
         "Estampa 2011 Estate Viognier-Chardonnay (Colchagua Valley)",
         "Viognier-Chardonnay",
         "Estampa",
         "84"
        ],
        [
         "37",
         "This concentrated Cabernet offers aromas of cured meat, dried fruit and rosemary. Barbecue spice and teriyaki sauce flavors give the wine a bold, chewy feel.",
         "Missoni",
         "86",
         "21.0",
         "Sicily & Sardinia",
         "Sicilia",
         null,
         null,
         null,
         "Feudi del Pisciotto 2010 Missoni Cabernet Sauvignon (Sicilia)",
         "Cabernet Sauvignon",
         "Feudi del Pisciotto",
         "331"
        ],
        [
         "38",
         "Inky in color, this wine has plump aromas of ripe fruit, blackberry jam and rum cake. On the palate, it is soft and smooth.",
         "I Tratturi",
         "86",
         "11.0",
         "Southern Italy",
         "Puglia",
         null,
         null,
         null,
         "Feudi di San Marzano 2011 I Tratturi Primitivo (Puglia)",
         "Primitivo",
         "Feudi di San Marzano",
         "341"
        ],
        [
         "39",
         "Part of the natural wine movement, this wine is made from organic grapes, and the label is printed with vegetable ink on recycled paper. The quality of fruit is very nice, with a juicy palate and a bright berry flavor on the finish.",
         "Purato Made With Organic Grapes",
         "86",
         "12.0",
         "Sicily & Sardinia",
         "Sicilia",
         null,
         null,
         null,
         "Feudo di Santa Tresa 2011 Purato Made With Organic Grapes Nero d'Avola (Sicilia)",
         "Nero d'Avola",
         "Feudo di Santa Tresa",
         "331"
        ],
        [
         "40",
         "Catarratto is one of Sicily's most widely farmed white grape varieties. This expression shows a mineral note, backed by citrus and almond blossom touches.",
         null,
         "86",
         "17.0",
         "Sicily & Sardinia",
         "Sicilia",
         null,
         null,
         null,
         "Feudo Montoni 2011 Catarratto (Sicilia)",
         "Catarratto",
         "Feudo Montoni",
         "331"
        ],
        [
         "41",
         "A stiff, tannic wine, this slowly opens and brings brambly berry flavors into play, along with notes of earthy herbs. There's a touch of bitterness to the tannins.",
         null,
         "86",
         "22.0",
         "Oregon",
         "Willamette Valley",
         "Willamette Valley",
         "Paul Gregutt",
         "@paulgwine ",
         "Hawkins Cellars 2009 Pinot Noir (Willamette Valley)",
         "Pinot Noir",
         "Hawkins Cellars",
         "268"
        ],
        [
         "42",
         "This is a festive wine, with soft, ripe fruit and acidity, plus a red berry flavor.",
         "Nouveau",
         "86",
         "9.0",
         "Beaujolais",
         "Beaujolais",
         null,
         "Roger Voss",
         "@vossroger",
         "Henry Fessy 2012 Nouveau  (Beaujolais)",
         "Gamay",
         "Henry Fessy",
         "29"
        ],
        [
         "43",
         "The clean, brisk mouthfeel gives this slightly oaked Sauvignon Blanc instant likeability. It's dry with a rich streak of honey that sweetens the citrus, pear and tropical fruit flavors. Pair this with Asian fare, ham or a green salad with grapefruit sections.",
         null,
         "86",
         "14.0",
         "California",
         "Paso Robles",
         "Central Coast",
         null,
         null,
         "Robert Hall 2011 Sauvignon Blanc (Paso Robles)",
         "Sauvignon Blanc",
         "Robert Hall",
         "51"
        ],
        [
         "44",
         "A berry aroma comes with cola and herb notes. The palate is tangy and racy, and it delivers raspberry and plum flavors, with a modest finish.",
         null,
         "86",
         "9.0",
         "Maule Valley",
         null,
         null,
         "Michael Schachner",
         "@wineschach",
         "Sundance 2011 Merlot (Maule Valley)",
         "Merlot",
         "Sundance",
         "213"
        ],
        [
         "45",
         "Right out of the starting blocks this is an oaky wine, dripping with caramel and vanilla notes. The texture on the midpalate is finessed and graceful, with drying tannins that latch onto the oak-driven finish. An eccentric blend of 50% Tannat, 35% Petit Verdot and 15% Pinotage.",
         "#SocialSecret",
         "86",
         "40.0",
         "Virginia",
         "Virginia",
         null,
         null,
         null,
         "Tarara 2010 #SocialSecret Red (Virginia)",
         "Red Blend",
         "Tarara",
         "398"
        ],
        [
         "46",
         "Spicy, fresh and clean, this would pair with fried seafood or spaghetti con vongole. It offers pretty citrus tones followed by a drying mineral nuance.",
         "Sallier de la Tour",
         "86",
         "13.0",
         "Sicily & Sardinia",
         "Sicilia",
         null,
         null,
         null,
         "Tasca d'Almerita 2011 Sallier de la Tour Inzolia (Sicilia)",
         "Inzolia",
         "Tasca d'Almerita",
         "331"
        ],
        [
         "47",
         "This is a sweet wine with flavors of white sugar, orange, honey and vanilla, all brightened by crisp acidity.",
         null,
         "86",
         "13.0",
         "California",
         "Lake County",
         null,
         null,
         null,
         "The White Knight 2011 Riesling (Lake County)",
         "Riesling",
         "The White Knight",
         "51"
        ],
        [
         "48",
         "This bottling resembles the New Zealand paradigm of Sauvignon Blanc, bearing aromas of grapefruit, passion fruit and kiwi; a sprinkling of graham cracker adds interest. The wine hits the palate like a fleshy fist, with an intense, grassy gooseberry flavor that provides plenty of punch. Pair with apricot-glazed roasted chicken.",
         null,
         "86",
         "16.0",
         "Virginia",
         "Monticello",
         null,
         null,
         null,
         "Trump 2011 Sauvignon Blanc (Monticello)",
         "Sauvignon Blanc",
         "Trump",
         "398"
        ],
        [
         "49",
         "Soft and fruity, this is a generous, ripe wine that's full of juicy red-cherry fruits and gentle tannins. It has some richness, giving a sweet character to this open, ready-to-drink wine.",
         "Eté Indien",
         "86",
         "14.0",
         "Beaujolais",
         "Brouilly",
         null,
         "Roger Voss",
         "@vossroger",
         "Vignerons de Bel Air 2011 Eté Indien  (Brouilly)",
         "Gamay",
         "Vignerons de Bel Air",
         "29"
        ]
       ],
       "shape": {
        "columns": 13,
        "rows": 129971
       }
      },
      "text/html": [
       "<div>\n",
       "<style scoped>\n",
       "    .dataframe tbody tr th:only-of-type {\n",
       "        vertical-align: middle;\n",
       "    }\n",
       "\n",
       "    .dataframe tbody tr th {\n",
       "        vertical-align: top;\n",
       "    }\n",
       "\n",
       "    .dataframe thead th {\n",
       "        text-align: right;\n",
       "    }\n",
       "</style>\n",
       "<table border=\"1\" class=\"dataframe\">\n",
       "  <thead>\n",
       "    <tr style=\"text-align: right;\">\n",
       "      <th></th>\n",
       "      <th>description</th>\n",
       "      <th>designation</th>\n",
       "      <th>points</th>\n",
       "      <th>price</th>\n",
       "      <th>province</th>\n",
       "      <th>region_1</th>\n",
       "      <th>region_2</th>\n",
       "      <th>taster_name</th>\n",
       "      <th>taster_twitter_handle</th>\n",
       "      <th>title</th>\n",
       "      <th>variety</th>\n",
       "      <th>winery</th>\n",
       "      <th>province_codes</th>\n",
       "    </tr>\n",
       "  </thead>\n",
       "  <tbody>\n",
       "    <tr>\n",
       "      <th>0</th>\n",
       "      <td>Aromas include tropical fruit, broom, brimston...</td>\n",
       "      <td>Vulkà Bianco</td>\n",
       "      <td>87</td>\n",
       "      <td>NaN</td>\n",
       "      <td>Sicily &amp; Sardinia</td>\n",
       "      <td>Etna</td>\n",
       "      <td>NaN</td>\n",
       "      <td>Kerin O’Keefe</td>\n",
       "      <td>@kerinokeefe</td>\n",
       "      <td>Nicosia 2013 Vulkà Bianco  (Etna)</td>\n",
       "      <td>White Blend</td>\n",
       "      <td>Nicosia</td>\n",
       "      <td>331</td>\n",
       "    </tr>\n",
       "    <tr>\n",
       "      <th>1</th>\n",
       "      <td>This is ripe and fruity, a wine that is smooth...</td>\n",
       "      <td>Avidagos</td>\n",
       "      <td>87</td>\n",
       "      <td>15.0</td>\n",
       "      <td>Douro</td>\n",
       "      <td>NaN</td>\n",
       "      <td>NaN</td>\n",
       "      <td>Roger Voss</td>\n",
       "      <td>@vossroger</td>\n",
       "      <td>Quinta dos Avidagos 2011 Avidagos Red (Douro)</td>\n",
       "      <td>Portuguese Red</td>\n",
       "      <td>Quinta dos Avidagos</td>\n",
       "      <td>108</td>\n",
       "    </tr>\n",
       "    <tr>\n",
       "      <th>2</th>\n",
       "      <td>Tart and snappy, the flavors of lime flesh and...</td>\n",
       "      <td>NaN</td>\n",
       "      <td>87</td>\n",
       "      <td>14.0</td>\n",
       "      <td>Oregon</td>\n",
       "      <td>Willamette Valley</td>\n",
       "      <td>Willamette Valley</td>\n",
       "      <td>Paul Gregutt</td>\n",
       "      <td>@paulgwine</td>\n",
       "      <td>Rainstorm 2013 Pinot Gris (Willamette Valley)</td>\n",
       "      <td>Pinot Gris</td>\n",
       "      <td>Rainstorm</td>\n",
       "      <td>268</td>\n",
       "    </tr>\n",
       "    <tr>\n",
       "      <th>3</th>\n",
       "      <td>Pineapple rind, lemon pith and orange blossom ...</td>\n",
       "      <td>Reserve Late Harvest</td>\n",
       "      <td>87</td>\n",
       "      <td>13.0</td>\n",
       "      <td>Michigan</td>\n",
       "      <td>Lake Michigan Shore</td>\n",
       "      <td>NaN</td>\n",
       "      <td>Alexander Peartree</td>\n",
       "      <td>NaN</td>\n",
       "      <td>St. Julian 2013 Reserve Late Harvest Riesling ...</td>\n",
       "      <td>Riesling</td>\n",
       "      <td>St. Julian</td>\n",
       "      <td>218</td>\n",
       "    </tr>\n",
       "    <tr>\n",
       "      <th>4</th>\n",
       "      <td>Much like the regular bottling from 2012, this...</td>\n",
       "      <td>Vintner's Reserve Wild Child Block</td>\n",
       "      <td>87</td>\n",
       "      <td>65.0</td>\n",
       "      <td>Oregon</td>\n",
       "      <td>Willamette Valley</td>\n",
       "      <td>Willamette Valley</td>\n",
       "      <td>Paul Gregutt</td>\n",
       "      <td>@paulgwine</td>\n",
       "      <td>Sweet Cheeks 2012 Vintner's Reserve Wild Child...</td>\n",
       "      <td>Pinot Noir</td>\n",
       "      <td>Sweet Cheeks</td>\n",
       "      <td>268</td>\n",
       "    </tr>\n",
       "    <tr>\n",
       "      <th>...</th>\n",
       "      <td>...</td>\n",
       "      <td>...</td>\n",
       "      <td>...</td>\n",
       "      <td>...</td>\n",
       "      <td>...</td>\n",
       "      <td>...</td>\n",
       "      <td>...</td>\n",
       "      <td>...</td>\n",
       "      <td>...</td>\n",
       "      <td>...</td>\n",
       "      <td>...</td>\n",
       "      <td>...</td>\n",
       "      <td>...</td>\n",
       "    </tr>\n",
       "    <tr>\n",
       "      <th>129966</th>\n",
       "      <td>Notes of honeysuckle and cantaloupe sweeten th...</td>\n",
       "      <td>Brauneberger Juffer-Sonnenuhr Spätlese</td>\n",
       "      <td>90</td>\n",
       "      <td>28.0</td>\n",
       "      <td>Mosel</td>\n",
       "      <td>NaN</td>\n",
       "      <td>NaN</td>\n",
       "      <td>Anna Lee C. Iijima</td>\n",
       "      <td>NaN</td>\n",
       "      <td>Dr. H. Thanisch (Erben Müller-Burggraef) 2013 ...</td>\n",
       "      <td>Riesling</td>\n",
       "      <td>Dr. H. Thanisch (Erben Müller-Burggraef)</td>\n",
       "      <td>232</td>\n",
       "    </tr>\n",
       "    <tr>\n",
       "      <th>129967</th>\n",
       "      <td>Citation is given as much as a decade of bottl...</td>\n",
       "      <td>NaN</td>\n",
       "      <td>90</td>\n",
       "      <td>75.0</td>\n",
       "      <td>Oregon</td>\n",
       "      <td>Oregon</td>\n",
       "      <td>Oregon Other</td>\n",
       "      <td>Paul Gregutt</td>\n",
       "      <td>@paulgwine</td>\n",
       "      <td>Citation 2004 Pinot Noir (Oregon)</td>\n",
       "      <td>Pinot Noir</td>\n",
       "      <td>Citation</td>\n",
       "      <td>268</td>\n",
       "    </tr>\n",
       "    <tr>\n",
       "      <th>129968</th>\n",
       "      <td>Well-drained gravel soil gives this wine its c...</td>\n",
       "      <td>Kritt</td>\n",
       "      <td>90</td>\n",
       "      <td>30.0</td>\n",
       "      <td>Alsace</td>\n",
       "      <td>Alsace</td>\n",
       "      <td>NaN</td>\n",
       "      <td>Roger Voss</td>\n",
       "      <td>@vossroger</td>\n",
       "      <td>Domaine Gresser 2013 Kritt Gewurztraminer (Als...</td>\n",
       "      <td>Gewürztraminer</td>\n",
       "      <td>Domaine Gresser</td>\n",
       "      <td>11</td>\n",
       "    </tr>\n",
       "    <tr>\n",
       "      <th>129969</th>\n",
       "      <td>A dry style of Pinot Gris, this is crisp with ...</td>\n",
       "      <td>NaN</td>\n",
       "      <td>90</td>\n",
       "      <td>32.0</td>\n",
       "      <td>Alsace</td>\n",
       "      <td>Alsace</td>\n",
       "      <td>NaN</td>\n",
       "      <td>Roger Voss</td>\n",
       "      <td>@vossroger</td>\n",
       "      <td>Domaine Marcel Deiss 2012 Pinot Gris (Alsace)</td>\n",
       "      <td>Pinot Gris</td>\n",
       "      <td>Domaine Marcel Deiss</td>\n",
       "      <td>11</td>\n",
       "    </tr>\n",
       "    <tr>\n",
       "      <th>129970</th>\n",
       "      <td>Big, rich and off-dry, this is powered by inte...</td>\n",
       "      <td>Lieu-dit Harth Cuvée Caroline</td>\n",
       "      <td>90</td>\n",
       "      <td>21.0</td>\n",
       "      <td>Alsace</td>\n",
       "      <td>Alsace</td>\n",
       "      <td>NaN</td>\n",
       "      <td>Roger Voss</td>\n",
       "      <td>@vossroger</td>\n",
       "      <td>Domaine Schoffit 2012 Lieu-dit Harth Cuvée Car...</td>\n",
       "      <td>Gewürztraminer</td>\n",
       "      <td>Domaine Schoffit</td>\n",
       "      <td>11</td>\n",
       "    </tr>\n",
       "  </tbody>\n",
       "</table>\n",
       "<p>129971 rows × 13 columns</p>\n",
       "</div>"
      ],
      "text/plain": [
       "\n",
       "                                              description  \\\n",
       "\u001b[1;36m0\u001b[0m       Aromas include tropical fruit, broom, brimston\u001b[33m...\u001b[0m   \n",
       "\u001b[1;36m1\u001b[0m       This is ripe and fruity, a wine that is smooth\u001b[33m...\u001b[0m   \n",
       "\u001b[1;36m2\u001b[0m       Tart and snappy, the flavors of lime flesh and\u001b[33m...\u001b[0m   \n",
       "\u001b[1;36m3\u001b[0m       Pineapple rind, lemon pith and orange blossom \u001b[33m...\u001b[0m   \n",
       "\u001b[1;36m4\u001b[0m       Much like the regular bottling from \u001b[1;36m2012\u001b[0m, this\u001b[33m...\u001b[0m   \n",
       "\u001b[33m...\u001b[0m                                                   \u001b[33m...\u001b[0m   \n",
       "\u001b[1;36m129966\u001b[0m  Notes of honeysuckle and cantaloupe sweeten th\u001b[33m...\u001b[0m   \n",
       "\u001b[1;36m129967\u001b[0m  Citation is given as much as a decade of bottl\u001b[33m...\u001b[0m   \n",
       "\u001b[1;36m129968\u001b[0m  Well-drained gravel soil gives this wine its c\u001b[33m...\u001b[0m   \n",
       "\u001b[1;36m129969\u001b[0m  A dry style of Pinot Gris, this is crisp with \u001b[33m...\u001b[0m   \n",
       "\u001b[1;36m129970\u001b[0m  Big, rich and off-dry, this is powered by inte\u001b[33m...\u001b[0m   \n",
       "\n",
       "                                   designation  points  price  \\\n",
       "\u001b[1;36m0\u001b[0m                                 Vulkà Bianco      \u001b[1;36m87\u001b[0m    NaN   \n",
       "\u001b[1;36m1\u001b[0m                                     Avidagos      \u001b[1;36m87\u001b[0m   \u001b[1;36m15.0\u001b[0m   \n",
       "\u001b[1;36m2\u001b[0m                                          NaN      \u001b[1;36m87\u001b[0m   \u001b[1;36m14.0\u001b[0m   \n",
       "\u001b[1;36m3\u001b[0m                         Reserve Late Harvest      \u001b[1;36m87\u001b[0m   \u001b[1;36m13.0\u001b[0m   \n",
       "\u001b[1;36m4\u001b[0m           Vintner's Reserve Wild Child Block      \u001b[1;36m87\u001b[0m   \u001b[1;36m65.0\u001b[0m   \n",
       "\u001b[33m...\u001b[0m                                        \u001b[33m...\u001b[0m     \u001b[33m...\u001b[0m    \u001b[33m...\u001b[0m   \n",
       "\u001b[1;36m129966\u001b[0m  Brauneberger Juffer-Sonnenuhr Spätlese      \u001b[1;36m90\u001b[0m   \u001b[1;36m28.0\u001b[0m   \n",
       "\u001b[1;36m129967\u001b[0m                                     NaN      \u001b[1;36m90\u001b[0m   \u001b[1;36m75.0\u001b[0m   \n",
       "\u001b[1;36m129968\u001b[0m                                   Kritt      \u001b[1;36m90\u001b[0m   \u001b[1;36m30.0\u001b[0m   \n",
       "\u001b[1;36m129969\u001b[0m                                     NaN      \u001b[1;36m90\u001b[0m   \u001b[1;36m32.0\u001b[0m   \n",
       "\u001b[1;36m129970\u001b[0m           Lieu-dit Harth Cuvée Caroline      \u001b[1;36m90\u001b[0m   \u001b[1;36m21.0\u001b[0m   \n",
       "\n",
       "                 province             region_1           region_2  \\\n",
       "\u001b[1;36m0\u001b[0m       Sicily & Sardinia                 Etna                NaN   \n",
       "\u001b[1;36m1\u001b[0m                   Douro                  NaN                NaN   \n",
       "\u001b[1;36m2\u001b[0m                  Oregon    Willamette Valley  Willamette Valley   \n",
       "\u001b[1;36m3\u001b[0m                Michigan  Lake Michigan Shore                NaN   \n",
       "\u001b[1;36m4\u001b[0m                  Oregon    Willamette Valley  Willamette Valley   \n",
       "\u001b[33m...\u001b[0m                   \u001b[33m...\u001b[0m                  \u001b[33m...\u001b[0m                \u001b[33m...\u001b[0m   \n",
       "\u001b[1;36m129966\u001b[0m              Mosel                  NaN                NaN   \n",
       "\u001b[1;36m129967\u001b[0m             Oregon               Oregon       Oregon Other   \n",
       "\u001b[1;36m129968\u001b[0m             Alsace               Alsace                NaN   \n",
       "\u001b[1;36m129969\u001b[0m             Alsace               Alsace                NaN   \n",
       "\u001b[1;36m129970\u001b[0m             Alsace               Alsace                NaN   \n",
       "\n",
       "               taster_name taster_twitter_handle  \\\n",
       "\u001b[1;36m0\u001b[0m            Kerin O’Keefe          @kerinokeefe   \n",
       "\u001b[1;36m1\u001b[0m               Roger Voss            @vossroger   \n",
       "\u001b[1;36m2\u001b[0m             Paul Gregutt           @paulgwine    \n",
       "\u001b[1;36m3\u001b[0m       Alexander Peartree                   NaN   \n",
       "\u001b[1;36m4\u001b[0m             Paul Gregutt           @paulgwine    \n",
       "\u001b[33m...\u001b[0m                    \u001b[33m...\u001b[0m                   \u001b[33m...\u001b[0m   \n",
       "\u001b[1;36m129966\u001b[0m  Anna Lee C. Iijima                   NaN   \n",
       "\u001b[1;36m129967\u001b[0m        Paul Gregutt           @paulgwine    \n",
       "\u001b[1;36m129968\u001b[0m          Roger Voss            @vossroger   \n",
       "\u001b[1;36m129969\u001b[0m          Roger Voss            @vossroger   \n",
       "\u001b[1;36m129970\u001b[0m          Roger Voss            @vossroger   \n",
       "\n",
       "                                                    title         variety  \\\n",
       "\u001b[1;36m0\u001b[0m                       Nicosia \u001b[1;36m2013\u001b[0m Vulkà Bianco  \u001b[1m(\u001b[0mEtna\u001b[1m)\u001b[0m     White Blend   \n",
       "\u001b[1;36m1\u001b[0m           Quinta dos Avidagos \u001b[1;36m2011\u001b[0m Avidagos Red \u001b[1m(\u001b[0mDouro\u001b[1m)\u001b[0m  Portuguese Red   \n",
       "\u001b[1;36m2\u001b[0m           Rainstorm \u001b[1;36m2013\u001b[0m Pinot Gris \u001b[1m(\u001b[0mWillamette Valley\u001b[1m)\u001b[0m      Pinot Gris   \n",
       "\u001b[1;36m3\u001b[0m       St. Julian \u001b[1;36m2013\u001b[0m Reserve Late Harvest Riesling \u001b[33m...\u001b[0m        Riesling   \n",
       "\u001b[1;36m4\u001b[0m       Sweet Cheeks \u001b[1;36m2012\u001b[0m Vintner's Reserve Wild Child\u001b[33m...\u001b[0m      Pinot Noir   \n",
       "\u001b[33m...\u001b[0m                                                   \u001b[33m...\u001b[0m             \u001b[33m...\u001b[0m   \n",
       "\u001b[1;36m129966\u001b[0m  Dr. H. Thanisch \u001b[1m(\u001b[0mErben Müller-Burggraef\u001b[1m)\u001b[0m \u001b[1;36m2013\u001b[0m \u001b[33m...\u001b[0m        Riesling   \n",
       "\u001b[1;36m129967\u001b[0m                  Citation \u001b[1;36m2004\u001b[0m Pinot Noir \u001b[1m(\u001b[0mOregon\u001b[1m)\u001b[0m      Pinot Noir   \n",
       "\u001b[1;36m129968\u001b[0m  Domaine Gresser \u001b[1;36m2013\u001b[0m Kritt Gewurztraminer \u001b[1m(\u001b[0mAls\u001b[33m...\u001b[0m  Gewürztraminer   \n",
       "\u001b[1;36m129969\u001b[0m      Domaine Marcel Deiss \u001b[1;36m2012\u001b[0m Pinot Gris \u001b[1m(\u001b[0mAlsace\u001b[1m)\u001b[0m      Pinot Gris   \n",
       "\u001b[1;36m129970\u001b[0m  Domaine Schoffit \u001b[1;36m2012\u001b[0m Lieu-dit Harth Cuvée Car\u001b[33m...\u001b[0m  Gewürztraminer   \n",
       "\n",
       "                                          winery  province_codes  \n",
       "\u001b[1;36m0\u001b[0m                                        Nicosia             \u001b[1;36m331\u001b[0m  \n",
       "\u001b[1;36m1\u001b[0m                            Quinta dos Avidagos             \u001b[1;36m108\u001b[0m  \n",
       "\u001b[1;36m2\u001b[0m                                      Rainstorm             \u001b[1;36m268\u001b[0m  \n",
       "\u001b[1;36m3\u001b[0m                                     St. Julian             \u001b[1;36m218\u001b[0m  \n",
       "\u001b[1;36m4\u001b[0m                                   Sweet Cheeks             \u001b[1;36m268\u001b[0m  \n",
       "\u001b[33m...\u001b[0m                                          \u001b[33m...\u001b[0m             \u001b[33m...\u001b[0m  \n",
       "\u001b[1;36m129966\u001b[0m  Dr. H. Thanisch \u001b[1m(\u001b[0mErben Müller-Burggraef\u001b[1m)\u001b[0m             \u001b[1;36m232\u001b[0m  \n",
       "\u001b[1;36m129967\u001b[0m                                  Citation             \u001b[1;36m268\u001b[0m  \n",
       "\u001b[1;36m129968\u001b[0m                           Domaine Gresser              \u001b[1;36m11\u001b[0m  \n",
       "\u001b[1;36m129969\u001b[0m                      Domaine Marcel Deiss              \u001b[1;36m11\u001b[0m  \n",
       "\u001b[1;36m129970\u001b[0m                          Domaine Schoffit              \u001b[1;36m11\u001b[0m  \n",
       "\n",
       "\u001b[1m[\u001b[0m\u001b[1;36m129971\u001b[0m rows x \u001b[1;36m13\u001b[0m columns\u001b[1m]\u001b[0m"
      ]
     },
     "execution_count": 17,
     "metadata": {},
     "output_type": "execute_result"
    }
   ],
   "source": [
    "# wine_raw_df.drop(['country', designation,], axis = 1)\n"
   ]
  },
  {
   "cell_type": "code",
   "execution_count": null,
   "id": "0ed91f84",
   "metadata": {},
   "outputs": [],
   "source": [
    "designation, province, region_1, region_2 taster_name, taster_twitter_handle, title, winery, "
   ]
  },
  {
   "cell_type": "code",
   "execution_count": null,
   "id": "405f7aa4",
   "metadata": {},
   "outputs": [],
   "source": [
    "\n",
    "# drop unnecesarry columns\n",
    "def drop_col(columns: list[str], df: pd.DataFrame) -> pd.DataFrame:\n",
    "    return df.drop(columns)\n"
   ]
  }
 ],
 "metadata": {
  "kernelspec": {
   "display_name": "project",
   "language": "python",
   "name": "python3"
  },
  "language_info": {
   "codemirror_mode": {
    "name": "ipython",
    "version": 3
   },
   "file_extension": ".py",
   "mimetype": "text/x-python",
   "name": "python",
   "nbconvert_exporter": "python",
   "pygments_lexer": "ipython3",
   "version": "3.10.5"
  }
 },
 "nbformat": 4,
 "nbformat_minor": 5
}
