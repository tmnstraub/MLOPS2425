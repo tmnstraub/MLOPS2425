{
 "cells": [
  {
   "cell_type": "code",
   "execution_count": 1,
   "id": "13954ee0",
   "metadata": {},
   "outputs": [
    {
     "data": {
      "text/html": [
       "<pre style=\"white-space:pre;overflow-x:auto;line-height:normal;font-family:Menlo,'DejaVu Sans Mono',consolas,'Courier New',monospace\"><span style=\"color: #7fbfbf; text-decoration-color: #7fbfbf\">[06/21/25 13:56:23] </span><span style=\"color: #000080; text-decoration-color: #000080\">INFO    </span> Registered line magic <span style=\"color: #008000; text-decoration-color: #008000\">'%reload_kedro'</span>                                   <a href=\"file:///Users/svengoerdes/Projects/Master/MLOps_Project/project/.venv/lib/python3.9/site-packages/kedro/ipython/__init__.py\" target=\"_blank\"><span style=\"color: #7f7f7f; text-decoration-color: #7f7f7f\">__init__.py</span></a><span style=\"color: #7f7f7f; text-decoration-color: #7f7f7f\">:</span><a href=\"file:///Users/svengoerdes/Projects/Master/MLOps_Project/project/.venv/lib/python3.9/site-packages/kedro/ipython/__init__.py#51\" target=\"_blank\"><span style=\"color: #7f7f7f; text-decoration-color: #7f7f7f\">51</span></a>\n",
       "</pre>\n"
      ],
      "text/plain": [
       "\u001b[2;36m[06/21/25 13:56:23]\u001b[0m\u001b[2;36m \u001b[0m\u001b[34mINFO    \u001b[0m Registered line magic \u001b[32m'%reload_kedro'\u001b[0m                                   \u001b]8;id=675518;file:///Users/svengoerdes/Projects/Master/MLOps_Project/project/.venv/lib/python3.9/site-packages/kedro/ipython/__init__.py\u001b\\\u001b[2m__init__.py\u001b[0m\u001b]8;;\u001b\\\u001b[2m:\u001b[0m\u001b]8;id=894844;file:///Users/svengoerdes/Projects/Master/MLOps_Project/project/.venv/lib/python3.9/site-packages/kedro/ipython/__init__.py#51\u001b\\\u001b[2m51\u001b[0m\u001b]8;;\u001b\\\n"
      ]
     },
     "metadata": {},
     "output_type": "display_data"
    },
    {
     "data": {
      "text/html": [
       "<pre style=\"white-space:pre;overflow-x:auto;line-height:normal;font-family:Menlo,'DejaVu Sans Mono',consolas,'Courier New',monospace\"><span style=\"color: #7fbfbf; text-decoration-color: #7fbfbf\">                    </span><span style=\"color: #000080; text-decoration-color: #000080\">INFO    </span> Registered line magic <span style=\"color: #008000; text-decoration-color: #008000\">'%load_node'</span>                                      <a href=\"file:///Users/svengoerdes/Projects/Master/MLOps_Project/project/.venv/lib/python3.9/site-packages/kedro/ipython/__init__.py\" target=\"_blank\"><span style=\"color: #7f7f7f; text-decoration-color: #7f7f7f\">__init__.py</span></a><span style=\"color: #7f7f7f; text-decoration-color: #7f7f7f\">:</span><a href=\"file:///Users/svengoerdes/Projects/Master/MLOps_Project/project/.venv/lib/python3.9/site-packages/kedro/ipython/__init__.py#53\" target=\"_blank\"><span style=\"color: #7f7f7f; text-decoration-color: #7f7f7f\">53</span></a>\n",
       "</pre>\n"
      ],
      "text/plain": [
       "\u001b[2;36m                   \u001b[0m\u001b[2;36m \u001b[0m\u001b[34mINFO    \u001b[0m Registered line magic \u001b[32m'%load_node'\u001b[0m                                      \u001b]8;id=542429;file:///Users/svengoerdes/Projects/Master/MLOps_Project/project/.venv/lib/python3.9/site-packages/kedro/ipython/__init__.py\u001b\\\u001b[2m__init__.py\u001b[0m\u001b]8;;\u001b\\\u001b[2m:\u001b[0m\u001b]8;id=23730;file:///Users/svengoerdes/Projects/Master/MLOps_Project/project/.venv/lib/python3.9/site-packages/kedro/ipython/__init__.py#53\u001b\\\u001b[2m53\u001b[0m\u001b]8;;\u001b\\\n"
      ]
     },
     "metadata": {},
     "output_type": "display_data"
    },
    {
     "data": {
      "text/html": [
       "<pre style=\"white-space:pre;overflow-x:auto;line-height:normal;font-family:Menlo,'DejaVu Sans Mono',consolas,'Courier New',monospace\"><span style=\"color: #7fbfbf; text-decoration-color: #7fbfbf\">                    </span><span style=\"color: #000080; text-decoration-color: #000080\">INFO    </span> Resolved project path as:                                              <a href=\"file:///Users/svengoerdes/Projects/Master/MLOps_Project/project/.venv/lib/python3.9/site-packages/kedro/ipython/__init__.py\" target=\"_blank\"><span style=\"color: #7f7f7f; text-decoration-color: #7f7f7f\">__init__.py</span></a><span style=\"color: #7f7f7f; text-decoration-color: #7f7f7f\">:</span><a href=\"file:///Users/svengoerdes/Projects/Master/MLOps_Project/project/.venv/lib/python3.9/site-packages/kedro/ipython/__init__.py#164\" target=\"_blank\"><span style=\"color: #7f7f7f; text-decoration-color: #7f7f7f\">164</span></a>\n",
       "<span style=\"color: #7fbfbf; text-decoration-color: #7fbfbf\">                    </span>         <span style=\"color: #800080; text-decoration-color: #800080\">/Users/svengoerdes/Projects/Master/MLOps_Project/</span><span style=\"color: #ff00ff; text-decoration-color: #ff00ff\">project.</span>              <span style=\"color: #7f7f7f; text-decoration-color: #7f7f7f\">               </span>\n",
       "<span style=\"color: #7fbfbf; text-decoration-color: #7fbfbf\">                    </span>         To set a different path, run <span style=\"color: #008000; text-decoration-color: #008000\">'%reload_kedro &lt;project_root&gt;'</span>            <span style=\"color: #7f7f7f; text-decoration-color: #7f7f7f\">               </span>\n",
       "</pre>\n"
      ],
      "text/plain": [
       "\u001b[2;36m                   \u001b[0m\u001b[2;36m \u001b[0m\u001b[34mINFO    \u001b[0m Resolved project path as:                                              \u001b]8;id=565920;file:///Users/svengoerdes/Projects/Master/MLOps_Project/project/.venv/lib/python3.9/site-packages/kedro/ipython/__init__.py\u001b\\\u001b[2m__init__.py\u001b[0m\u001b]8;;\u001b\\\u001b[2m:\u001b[0m\u001b]8;id=910118;file:///Users/svengoerdes/Projects/Master/MLOps_Project/project/.venv/lib/python3.9/site-packages/kedro/ipython/__init__.py#164\u001b\\\u001b[2m164\u001b[0m\u001b]8;;\u001b\\\n",
       "\u001b[2;36m                    \u001b[0m         \u001b[35m/Users/svengoerdes/Projects/Master/MLOps_Project/\u001b[0m\u001b[95mproject.\u001b[0m              \u001b[2m               \u001b[0m\n",
       "\u001b[2;36m                    \u001b[0m         To set a different path, run \u001b[32m'%reload_kedro \u001b[0m\u001b[32m<\u001b[0m\u001b[32mproject_root\u001b[0m\u001b[32m>\u001b[0m\u001b[32m'\u001b[0m            \u001b[2m               \u001b[0m\n"
      ]
     },
     "metadata": {},
     "output_type": "display_data"
    },
    {
     "data": {
      "text/html": [
       "<pre style=\"white-space:pre;overflow-x:auto;line-height:normal;font-family:Menlo,'DejaVu Sans Mono',consolas,'Courier New',monospace\"><span style=\"color: #7fbfbf; text-decoration-color: #7fbfbf\">[06/21/25 13:56:24] </span><span style=\"color: #800000; text-decoration-color: #800000\">WARNING </span> <span style=\"color: #800080; text-decoration-color: #800080\">/Users/svengoerdes/Projects/Master/MLOps_Project/project/.venv/lib/pyt</span> <a href=\"file:///Users/svengoerdes/.local/share/uv/python/cpython-3.9.23-macos-aarch64-none/lib/python3.9/warnings.py\" target=\"_blank\"><span style=\"color: #7f7f7f; text-decoration-color: #7f7f7f\">warnings.py</span></a><span style=\"color: #7f7f7f; text-decoration-color: #7f7f7f\">:</span><a href=\"file:///Users/svengoerdes/.local/share/uv/python/cpython-3.9.23-macos-aarch64-none/lib/python3.9/warnings.py#109\" target=\"_blank\"><span style=\"color: #7f7f7f; text-decoration-color: #7f7f7f\">109</span></a>\n",
       "<span style=\"color: #7fbfbf; text-decoration-color: #7fbfbf\">                    </span>         <span style=\"color: #800080; text-decoration-color: #800080\">hon3.9/site-packages/mlflow/utils/</span><span style=\"color: #ff00ff; text-decoration-color: #ff00ff\">requirements_utils.py</span>:<span style=\"color: #008080; text-decoration-color: #008080; font-weight: bold\">20</span>:            <span style=\"color: #7f7f7f; text-decoration-color: #7f7f7f\">               </span>\n",
       "<span style=\"color: #7fbfbf; text-decoration-color: #7fbfbf\">                    </span>         UserWarning: pkg_resources is deprecated as an API. See                <span style=\"color: #7f7f7f; text-decoration-color: #7f7f7f\">               </span>\n",
       "<span style=\"color: #7fbfbf; text-decoration-color: #7fbfbf\">                    </span>         <span style=\"color: #0000ff; text-decoration-color: #0000ff; text-decoration: underline\">https://setuptools.pypa.io/en/latest/pkg_resources.html.</span> The           <span style=\"color: #7f7f7f; text-decoration-color: #7f7f7f\">               </span>\n",
       "<span style=\"color: #7fbfbf; text-decoration-color: #7fbfbf\">                    </span>         pkg_resources package is slated for removal as early as <span style=\"color: #008080; text-decoration-color: #008080; font-weight: bold\">2025</span>-<span style=\"color: #008080; text-decoration-color: #008080; font-weight: bold\">11</span>-<span style=\"color: #008080; text-decoration-color: #008080; font-weight: bold\">30</span>.    <span style=\"color: #7f7f7f; text-decoration-color: #7f7f7f\">               </span>\n",
       "<span style=\"color: #7fbfbf; text-decoration-color: #7fbfbf\">                    </span>         Refrain from using this package or pin to Setuptools&lt;<span style=\"color: #008080; text-decoration-color: #008080; font-weight: bold\">81</span>.               <span style=\"color: #7f7f7f; text-decoration-color: #7f7f7f\">               </span>\n",
       "<span style=\"color: #7fbfbf; text-decoration-color: #7fbfbf\">                    </span>           import pkg_resources  # noqa: TID251                                 <span style=\"color: #7f7f7f; text-decoration-color: #7f7f7f\">               </span>\n",
       "<span style=\"color: #7fbfbf; text-decoration-color: #7fbfbf\">                    </span>                                                                                <span style=\"color: #7f7f7f; text-decoration-color: #7f7f7f\">               </span>\n",
       "</pre>\n"
      ],
      "text/plain": [
       "\u001b[2;36m[06/21/25 13:56:24]\u001b[0m\u001b[2;36m \u001b[0m\u001b[31mWARNING \u001b[0m \u001b[35m/Users/svengoerdes/Projects/Master/MLOps_Project/project/.venv/lib/pyt\u001b[0m \u001b]8;id=968382;file:///Users/svengoerdes/.local/share/uv/python/cpython-3.9.23-macos-aarch64-none/lib/python3.9/warnings.py\u001b\\\u001b[2mwarnings.py\u001b[0m\u001b]8;;\u001b\\\u001b[2m:\u001b[0m\u001b]8;id=261090;file:///Users/svengoerdes/.local/share/uv/python/cpython-3.9.23-macos-aarch64-none/lib/python3.9/warnings.py#109\u001b\\\u001b[2m109\u001b[0m\u001b]8;;\u001b\\\n",
       "\u001b[2;36m                    \u001b[0m         \u001b[35mhon3.9/site-packages/mlflow/utils/\u001b[0m\u001b[95mrequirements_utils.py\u001b[0m:\u001b[1;36m20\u001b[0m:            \u001b[2m               \u001b[0m\n",
       "\u001b[2;36m                    \u001b[0m         UserWarning: pkg_resources is deprecated as an API. See                \u001b[2m               \u001b[0m\n",
       "\u001b[2;36m                    \u001b[0m         \u001b[4;94mhttps://setuptools.pypa.io/en/latest/pkg_resources.html.\u001b[0m The           \u001b[2m               \u001b[0m\n",
       "\u001b[2;36m                    \u001b[0m         pkg_resources package is slated for removal as early as \u001b[1;36m2025\u001b[0m-\u001b[1;36m11\u001b[0m-\u001b[1;36m30\u001b[0m.    \u001b[2m               \u001b[0m\n",
       "\u001b[2;36m                    \u001b[0m         Refrain from using this package or pin to Setuptools<\u001b[1;36m81\u001b[0m.               \u001b[2m               \u001b[0m\n",
       "\u001b[2;36m                    \u001b[0m           import pkg_resources  # noqa: TID251                                 \u001b[2m               \u001b[0m\n",
       "\u001b[2;36m                    \u001b[0m                                                                                \u001b[2m               \u001b[0m\n"
      ]
     },
     "metadata": {},
     "output_type": "display_data"
    },
    {
     "data": {
      "text/html": [
       "<pre style=\"white-space:pre;overflow-x:auto;line-height:normal;font-family:Menlo,'DejaVu Sans Mono',consolas,'Courier New',monospace\"><span style=\"color: #7fbfbf; text-decoration-color: #7fbfbf\">[06/21/25 13:56:25] </span><span style=\"color: #000080; text-decoration-color: #000080\">INFO    </span> Registering new custom resolver: <span style=\"color: #008000; text-decoration-color: #008000\">'km.random_name'</span>                    <a href=\"file:///Users/svengoerdes/Projects/Master/MLOps_Project/project/.venv/lib/python3.9/site-packages/kedro_mlflow/framework/hooks/mlflow_hook.py\" target=\"_blank\"><span style=\"color: #7f7f7f; text-decoration-color: #7f7f7f\">mlflow_hook.py</span></a><span style=\"color: #7f7f7f; text-decoration-color: #7f7f7f\">:</span><a href=\"file:///Users/svengoerdes/Projects/Master/MLOps_Project/project/.venv/lib/python3.9/site-packages/kedro_mlflow/framework/hooks/mlflow_hook.py#65\" target=\"_blank\"><span style=\"color: #7f7f7f; text-decoration-color: #7f7f7f\">65</span></a>\n",
       "</pre>\n"
      ],
      "text/plain": [
       "\u001b[2;36m[06/21/25 13:56:25]\u001b[0m\u001b[2;36m \u001b[0m\u001b[34mINFO    \u001b[0m Registering new custom resolver: \u001b[32m'km.random_name'\u001b[0m                    \u001b]8;id=702183;file:///Users/svengoerdes/Projects/Master/MLOps_Project/project/.venv/lib/python3.9/site-packages/kedro_mlflow/framework/hooks/mlflow_hook.py\u001b\\\u001b[2mmlflow_hook.py\u001b[0m\u001b]8;;\u001b\\\u001b[2m:\u001b[0m\u001b]8;id=962694;file:///Users/svengoerdes/Projects/Master/MLOps_Project/project/.venv/lib/python3.9/site-packages/kedro_mlflow/framework/hooks/mlflow_hook.py#65\u001b\\\u001b[2m65\u001b[0m\u001b]8;;\u001b\\\n"
      ]
     },
     "metadata": {},
     "output_type": "display_data"
    },
    {
     "data": {
      "text/html": [
       "<pre style=\"white-space:pre;overflow-x:auto;line-height:normal;font-family:Menlo,'DejaVu Sans Mono',consolas,'Courier New',monospace\"><span style=\"color: #7fbfbf; text-decoration-color: #7fbfbf\">                    </span><span style=\"color: #000080; text-decoration-color: #000080\">INFO    </span> Kedro project wine_project                                             <a href=\"file:///Users/svengoerdes/Projects/Master/MLOps_Project/project/.venv/lib/python3.9/site-packages/kedro/ipython/__init__.py\" target=\"_blank\"><span style=\"color: #7f7f7f; text-decoration-color: #7f7f7f\">__init__.py</span></a><span style=\"color: #7f7f7f; text-decoration-color: #7f7f7f\">:</span><a href=\"file:///Users/svengoerdes/Projects/Master/MLOps_Project/project/.venv/lib/python3.9/site-packages/kedro/ipython/__init__.py#134\" target=\"_blank\"><span style=\"color: #7f7f7f; text-decoration-color: #7f7f7f\">134</span></a>\n",
       "</pre>\n"
      ],
      "text/plain": [
       "\u001b[2;36m                   \u001b[0m\u001b[2;36m \u001b[0m\u001b[34mINFO    \u001b[0m Kedro project wine_project                                             \u001b]8;id=109462;file:///Users/svengoerdes/Projects/Master/MLOps_Project/project/.venv/lib/python3.9/site-packages/kedro/ipython/__init__.py\u001b\\\u001b[2m__init__.py\u001b[0m\u001b]8;;\u001b\\\u001b[2m:\u001b[0m\u001b]8;id=521704;file:///Users/svengoerdes/Projects/Master/MLOps_Project/project/.venv/lib/python3.9/site-packages/kedro/ipython/__init__.py#134\u001b\\\u001b[2m134\u001b[0m\u001b]8;;\u001b\\\n"
      ]
     },
     "metadata": {},
     "output_type": "display_data"
    },
    {
     "data": {
      "text/html": [
       "<pre style=\"white-space:pre;overflow-x:auto;line-height:normal;font-family:Menlo,'DejaVu Sans Mono',consolas,'Courier New',monospace\"><span style=\"color: #7fbfbf; text-decoration-color: #7fbfbf\">                    </span><span style=\"color: #000080; text-decoration-color: #000080\">INFO    </span> Defined global variable <span style=\"color: #008000; text-decoration-color: #008000\">'context'</span>, <span style=\"color: #008000; text-decoration-color: #008000\">'session'</span>, <span style=\"color: #008000; text-decoration-color: #008000\">'catalog'</span> and            <a href=\"file:///Users/svengoerdes/Projects/Master/MLOps_Project/project/.venv/lib/python3.9/site-packages/kedro/ipython/__init__.py\" target=\"_blank\"><span style=\"color: #7f7f7f; text-decoration-color: #7f7f7f\">__init__.py</span></a><span style=\"color: #7f7f7f; text-decoration-color: #7f7f7f\">:</span><a href=\"file:///Users/svengoerdes/Projects/Master/MLOps_Project/project/.venv/lib/python3.9/site-packages/kedro/ipython/__init__.py#135\" target=\"_blank\"><span style=\"color: #7f7f7f; text-decoration-color: #7f7f7f\">135</span></a>\n",
       "<span style=\"color: #7fbfbf; text-decoration-color: #7fbfbf\">                    </span>         <span style=\"color: #008000; text-decoration-color: #008000\">'pipelines'</span>                                                            <span style=\"color: #7f7f7f; text-decoration-color: #7f7f7f\">               </span>\n",
       "</pre>\n"
      ],
      "text/plain": [
       "\u001b[2;36m                   \u001b[0m\u001b[2;36m \u001b[0m\u001b[34mINFO    \u001b[0m Defined global variable \u001b[32m'context'\u001b[0m, \u001b[32m'session'\u001b[0m, \u001b[32m'catalog'\u001b[0m and            \u001b]8;id=599337;file:///Users/svengoerdes/Projects/Master/MLOps_Project/project/.venv/lib/python3.9/site-packages/kedro/ipython/__init__.py\u001b\\\u001b[2m__init__.py\u001b[0m\u001b]8;;\u001b\\\u001b[2m:\u001b[0m\u001b]8;id=33096;file:///Users/svengoerdes/Projects/Master/MLOps_Project/project/.venv/lib/python3.9/site-packages/kedro/ipython/__init__.py#135\u001b\\\u001b[2m135\u001b[0m\u001b]8;;\u001b\\\n",
       "\u001b[2;36m                    \u001b[0m         \u001b[32m'pipelines'\u001b[0m                                                            \u001b[2m               \u001b[0m\n"
      ]
     },
     "metadata": {},
     "output_type": "display_data"
    },
    {
     "data": {
      "text/html": [
       "<pre style=\"white-space:pre;overflow-x:auto;line-height:normal;font-family:Menlo,'DejaVu Sans Mono',consolas,'Courier New',monospace\"><span style=\"color: #7fbfbf; text-decoration-color: #7fbfbf\">[06/21/25 13:56:26] </span><span style=\"color: #000080; text-decoration-color: #000080\">INFO    </span> Registered line magic <span style=\"color: #008000; text-decoration-color: #008000\">'run_viz'</span>                                        <a href=\"file:///Users/svengoerdes/Projects/Master/MLOps_Project/project/.venv/lib/python3.9/site-packages/kedro/ipython/__init__.py\" target=\"_blank\"><span style=\"color: #7f7f7f; text-decoration-color: #7f7f7f\">__init__.py</span></a><span style=\"color: #7f7f7f; text-decoration-color: #7f7f7f\">:</span><a href=\"file:///Users/svengoerdes/Projects/Master/MLOps_Project/project/.venv/lib/python3.9/site-packages/kedro/ipython/__init__.py#141\" target=\"_blank\"><span style=\"color: #7f7f7f; text-decoration-color: #7f7f7f\">141</span></a>\n",
       "</pre>\n"
      ],
      "text/plain": [
       "\u001b[2;36m[06/21/25 13:56:26]\u001b[0m\u001b[2;36m \u001b[0m\u001b[34mINFO    \u001b[0m Registered line magic \u001b[32m'run_viz'\u001b[0m                                        \u001b]8;id=339987;file:///Users/svengoerdes/Projects/Master/MLOps_Project/project/.venv/lib/python3.9/site-packages/kedro/ipython/__init__.py\u001b\\\u001b[2m__init__.py\u001b[0m\u001b]8;;\u001b\\\u001b[2m:\u001b[0m\u001b]8;id=554233;file:///Users/svengoerdes/Projects/Master/MLOps_Project/project/.venv/lib/python3.9/site-packages/kedro/ipython/__init__.py#141\u001b\\\u001b[2m141\u001b[0m\u001b]8;;\u001b\\\n"
      ]
     },
     "metadata": {},
     "output_type": "display_data"
    }
   ],
   "source": [
    "import os\n",
    "# Adjust the path to be the root of your Kedro project\n",
    "os.chdir('/Users/svengoerdes/Projects/Master/MLOps_Project/project/')\n",
    "\n",
    "# Now, load the Kedro extension\n",
    "%load_ext kedro.ipython"
   ]
  },
  {
   "cell_type": "code",
   "execution_count": 5,
   "id": "da18b54c",
   "metadata": {},
   "outputs": [
    {
     "data": {
      "text/html": [
       "<pre style=\"white-space:pre;overflow-x:auto;line-height:normal;font-family:Menlo,'DejaVu Sans Mono',consolas,'Courier New',monospace\"><span style=\"color: #7fbfbf; text-decoration-color: #7fbfbf\">[06/21/25 13:56:53] </span><span style=\"color: #000080; text-decoration-color: #000080\">INFO    </span> Loading data from <span style=\"color: #ff8700; text-decoration-color: #ff8700\">wine_ingested_data</span> <span style=\"font-weight: bold\">(</span>CSVDataset<span style=\"font-weight: bold\">)</span><span style=\"color: #808000; text-decoration-color: #808000\">...</span>               <a href=\"file:///Users/svengoerdes/Projects/Master/MLOps_Project/project/.venv/lib/python3.9/site-packages/kedro/io/data_catalog.py\" target=\"_blank\"><span style=\"color: #7f7f7f; text-decoration-color: #7f7f7f\">data_catalog.py</span></a><span style=\"color: #7f7f7f; text-decoration-color: #7f7f7f\">:</span><a href=\"file:///Users/svengoerdes/Projects/Master/MLOps_Project/project/.venv/lib/python3.9/site-packages/kedro/io/data_catalog.py#483\" target=\"_blank\"><span style=\"color: #7f7f7f; text-decoration-color: #7f7f7f\">483</span></a>\n",
       "</pre>\n"
      ],
      "text/plain": [
       "\u001b[2;36m[06/21/25 13:56:53]\u001b[0m\u001b[2;36m \u001b[0m\u001b[34mINFO    \u001b[0m Loading data from \u001b[38;5;208mwine_ingested_data\u001b[0m \u001b[1m(\u001b[0mCSVDataset\u001b[1m)\u001b[0m\u001b[33m...\u001b[0m               \u001b]8;id=112137;file:///Users/svengoerdes/Projects/Master/MLOps_Project/project/.venv/lib/python3.9/site-packages/kedro/io/data_catalog.py\u001b\\\u001b[2mdata_catalog.py\u001b[0m\u001b]8;;\u001b\\\u001b[2m:\u001b[0m\u001b]8;id=384613;file:///Users/svengoerdes/Projects/Master/MLOps_Project/project/.venv/lib/python3.9/site-packages/kedro/io/data_catalog.py#483\u001b\\\u001b[2m483\u001b[0m\u001b]8;;\u001b\\\n"
      ]
     },
     "metadata": {},
     "output_type": "display_data"
    }
   ],
   "source": [
    "wine_ingested = catalog.load('wine_ingested_data')"
   ]
  },
  {
   "cell_type": "code",
   "execution_count": 7,
   "id": "967e1229",
   "metadata": {},
   "outputs": [
    {
     "name": "stdout",
     "output_type": "stream",
     "text": [
      "<class 'pandas.core.frame.DataFrame'>\n",
      "RangeIndex: 88224 entries, 0 to 88223\n",
      "Data columns (total 9 columns):\n",
      " #   Column       Non-Null Count  Dtype  \n",
      "---  ------       --------------  -----  \n",
      " 0   country      88166 non-null  object \n",
      " 1   points       88224 non-null  int64  \n",
      " 2   price        88224 non-null  float64\n",
      " 3   province     88166 non-null  object \n",
      " 4   region_1     73544 non-null  object \n",
      " 5   taster_name  69044 non-null  object \n",
      " 6   variety      88223 non-null  object \n",
      " 7   index        88224 non-null  int64  \n",
      " 8   datetime     88224 non-null  object \n",
      "dtypes: float64(1), int64(2), object(6)\n",
      "memory usage: 6.1+ MB\n"
     ]
    }
   ],
   "source": [
    "wine_ingested.info()"
   ]
  },
  {
   "cell_type": "code",
   "execution_count": null,
   "id": "85f9c727",
   "metadata": {},
   "outputs": [
    {
     "data": {
      "text/html": [
       "<pre style=\"white-space:pre;overflow-x:auto;line-height:normal;font-family:Menlo,'DejaVu Sans Mono',consolas,'Courier New',monospace\"></pre>\n"
      ],
      "text/plain": []
     },
     "metadata": {},
     "output_type": "display_data"
    },
    {
     "data": {
      "application/vnd.microsoft.datawrangler.viewer.v0+json": {
       "columns": [
        {
         "name": "index",
         "rawType": "object",
         "type": "string"
        },
        {
         "name": "0",
         "rawType": "float64",
         "type": "float"
        }
       ],
       "ref": "72a76b28-4bbd-46c5-a8d4-144598644941",
       "rows": [
        [
         "country",
         "0.0006574174827711281"
        ],
        [
         "points",
         "0.0"
        ],
        [
         "price",
         "0.0"
        ],
        [
         "province",
         "0.0"
        ],
        [
         "region_1",
         "0.16639463184620965"
        ],
        [
         "taster_name",
         "0.21740116068190063"
        ],
        [
         "variety",
         "1.1334784185709104e-05"
        ],
        [
         "index",
         "0.0"
        ],
        [
         "datetime",
         "0.0"
        ],
        [
         "province_codes",
         "0.0"
        ]
       ],
       "shape": {
        "columns": 1,
        "rows": 10
       }
      },
      "text/plain": [
       "\n",
       "country           \u001b[1;36m0.000657\u001b[0m\n",
       "points            \u001b[1;36m0.000000\u001b[0m\n",
       "price             \u001b[1;36m0.000000\u001b[0m\n",
       "province          \u001b[1;36m0.000000\u001b[0m\n",
       "region_1          \u001b[1;36m0.166395\u001b[0m\n",
       "taster_name       \u001b[1;36m0.217401\u001b[0m\n",
       "variety           \u001b[1;36m0.000011\u001b[0m\n",
       "index             \u001b[1;36m0.000000\u001b[0m\n",
       "datetime          \u001b[1;36m0.000000\u001b[0m\n",
       "province_codes    \u001b[1;36m0.000000\u001b[0m\n",
       "dtype: float64"
      ]
     },
     "execution_count": 19,
     "metadata": {},
     "output_type": "execute_result"
    }
   ],
   "source": [
    "# check how many values are missing in the columns:\n",
    "wine_ingested.isna().sum()\n",
    "wine_ingested.isna().sum()/wine_ingested.shape[0]\n",
    "\n",
    "\n"
   ]
  },
  {
   "cell_type": "code",
   "execution_count": 17,
   "id": "e7304d09",
   "metadata": {},
   "outputs": [
    {
     "name": "stdout",
     "output_type": "stream",
     "text": [
      "country: 43 unique values\n",
      "points: 21 unique values\n",
      "price: 391 unique values\n",
      "province: 426 unique values\n",
      "region_1: 1229 unique values\n",
      "taster_name: 19 unique values\n",
      "variety: 707 unique values\n",
      "index: 88224 unique values\n",
      "datetime: 1 unique values\n",
      "province_codes: 426 unique values\n"
     ]
    }
   ],
   "source": [
    "# unique values for every column\n",
    "\n",
    "for col in wine_ingested.columns:\n",
    "    print(f\"{col}: {wine_ingested[col].nunique()} unique values\")"
   ]
  },
  {
   "cell_type": "code",
   "execution_count": 9,
   "id": "62856a28",
   "metadata": {},
   "outputs": [
    {
     "name": "stdout",
     "output_type": "stream",
     "text": [
      "Index(['country', 'points', 'price', 'province', 'region_1', 'taster_name',\n",
      "       'variety', 'index', 'datetime'],\n",
      "      dtype='object')\n"
     ]
    },
    {
     "data": {
      "text/html": [
       "<pre style=\"white-space:pre;overflow-x:auto;line-height:normal;font-family:Menlo,'DejaVu Sans Mono',consolas,'Courier New',monospace\"></pre>\n"
      ],
      "text/plain": []
     },
     "metadata": {},
     "output_type": "display_data"
    },
    {
     "data": {
      "application/vnd.microsoft.datawrangler.viewer.v0+json": {
       "columns": [
        {
         "name": "index",
         "rawType": "int64",
         "type": "integer"
        },
        {
         "name": "country",
         "rawType": "object",
         "type": "string"
        },
        {
         "name": "points",
         "rawType": "int64",
         "type": "integer"
        },
        {
         "name": "price",
         "rawType": "float64",
         "type": "float"
        },
        {
         "name": "province",
         "rawType": "object",
         "type": "string"
        },
        {
         "name": "region_1",
         "rawType": "object",
         "type": "unknown"
        },
        {
         "name": "taster_name",
         "rawType": "object",
         "type": "string"
        },
        {
         "name": "variety",
         "rawType": "object",
         "type": "string"
        },
        {
         "name": "index",
         "rawType": "int64",
         "type": "integer"
        },
        {
         "name": "datetime",
         "rawType": "object",
         "type": "string"
        }
       ],
       "ref": "b86cb579-cec8-40fb-8b4b-d7d193e5fe39",
       "rows": [
        [
         "0",
         "Italy",
         "87",
         "0.0",
         "Sicily & Sardinia",
         "Etna",
         "Kerin O’Keefe",
         "White Blend",
         "0",
         "2025-01-01"
        ],
        [
         "1",
         "Portugal",
         "87",
         "15.0",
         "Douro",
         null,
         "Roger Voss",
         "Portuguese Red",
         "1",
         "2025-01-01"
        ],
        [
         "2",
         "US",
         "87",
         "14.0",
         "Oregon",
         "Willamette Valley",
         "Paul Gregutt",
         "Pinot Gris",
         "2",
         "2025-01-01"
        ],
        [
         "3",
         "US",
         "87",
         "13.0",
         "Michigan",
         "Lake Michigan Shore",
         "Alexander Peartree",
         "Riesling",
         "3",
         "2025-01-01"
        ],
        [
         "4",
         "US",
         "87",
         "65.0",
         "Oregon",
         "Willamette Valley",
         "Paul Gregutt",
         "Pinot Noir",
         "4",
         "2025-01-01"
        ]
       ],
       "shape": {
        "columns": 9,
        "rows": 5
       }
      },
      "text/html": [
       "<div>\n",
       "<style scoped>\n",
       "    .dataframe tbody tr th:only-of-type {\n",
       "        vertical-align: middle;\n",
       "    }\n",
       "\n",
       "    .dataframe tbody tr th {\n",
       "        vertical-align: top;\n",
       "    }\n",
       "\n",
       "    .dataframe thead th {\n",
       "        text-align: right;\n",
       "    }\n",
       "</style>\n",
       "<table border=\"1\" class=\"dataframe\">\n",
       "  <thead>\n",
       "    <tr style=\"text-align: right;\">\n",
       "      <th></th>\n",
       "      <th>country</th>\n",
       "      <th>points</th>\n",
       "      <th>price</th>\n",
       "      <th>province</th>\n",
       "      <th>region_1</th>\n",
       "      <th>taster_name</th>\n",
       "      <th>variety</th>\n",
       "      <th>index</th>\n",
       "      <th>datetime</th>\n",
       "    </tr>\n",
       "  </thead>\n",
       "  <tbody>\n",
       "    <tr>\n",
       "      <th>0</th>\n",
       "      <td>Italy</td>\n",
       "      <td>87</td>\n",
       "      <td>0.0</td>\n",
       "      <td>Sicily &amp; Sardinia</td>\n",
       "      <td>Etna</td>\n",
       "      <td>Kerin O’Keefe</td>\n",
       "      <td>White Blend</td>\n",
       "      <td>0</td>\n",
       "      <td>2025-01-01</td>\n",
       "    </tr>\n",
       "    <tr>\n",
       "      <th>1</th>\n",
       "      <td>Portugal</td>\n",
       "      <td>87</td>\n",
       "      <td>15.0</td>\n",
       "      <td>Douro</td>\n",
       "      <td>NaN</td>\n",
       "      <td>Roger Voss</td>\n",
       "      <td>Portuguese Red</td>\n",
       "      <td>1</td>\n",
       "      <td>2025-01-01</td>\n",
       "    </tr>\n",
       "    <tr>\n",
       "      <th>2</th>\n",
       "      <td>US</td>\n",
       "      <td>87</td>\n",
       "      <td>14.0</td>\n",
       "      <td>Oregon</td>\n",
       "      <td>Willamette Valley</td>\n",
       "      <td>Paul Gregutt</td>\n",
       "      <td>Pinot Gris</td>\n",
       "      <td>2</td>\n",
       "      <td>2025-01-01</td>\n",
       "    </tr>\n",
       "    <tr>\n",
       "      <th>3</th>\n",
       "      <td>US</td>\n",
       "      <td>87</td>\n",
       "      <td>13.0</td>\n",
       "      <td>Michigan</td>\n",
       "      <td>Lake Michigan Shore</td>\n",
       "      <td>Alexander Peartree</td>\n",
       "      <td>Riesling</td>\n",
       "      <td>3</td>\n",
       "      <td>2025-01-01</td>\n",
       "    </tr>\n",
       "    <tr>\n",
       "      <th>4</th>\n",
       "      <td>US</td>\n",
       "      <td>87</td>\n",
       "      <td>65.0</td>\n",
       "      <td>Oregon</td>\n",
       "      <td>Willamette Valley</td>\n",
       "      <td>Paul Gregutt</td>\n",
       "      <td>Pinot Noir</td>\n",
       "      <td>4</td>\n",
       "      <td>2025-01-01</td>\n",
       "    </tr>\n",
       "  </tbody>\n",
       "</table>\n",
       "</div>"
      ],
      "text/plain": [
       "\n",
       "    country  points  price           province             region_1  \\\n",
       "\u001b[1;36m0\u001b[0m     Italy      \u001b[1;36m87\u001b[0m    \u001b[1;36m0.0\u001b[0m  Sicily & Sardinia                 Etna   \n",
       "\u001b[1;36m1\u001b[0m  Portugal      \u001b[1;36m87\u001b[0m   \u001b[1;36m15.0\u001b[0m              Douro                  NaN   \n",
       "\u001b[1;36m2\u001b[0m        US      \u001b[1;36m87\u001b[0m   \u001b[1;36m14.0\u001b[0m             Oregon    Willamette Valley   \n",
       "\u001b[1;36m3\u001b[0m        US      \u001b[1;36m87\u001b[0m   \u001b[1;36m13.0\u001b[0m           Michigan  Lake Michigan Shore   \n",
       "\u001b[1;36m4\u001b[0m        US      \u001b[1;36m87\u001b[0m   \u001b[1;36m65.0\u001b[0m             Oregon    Willamette Valley   \n",
       "\n",
       "          taster_name         variety  index    datetime  \n",
       "\u001b[1;36m0\u001b[0m       Kerin O’Keefe     White Blend      \u001b[1;36m0\u001b[0m  \u001b[1;36m2025\u001b[0m-\u001b[1;36m01\u001b[0m-\u001b[1;36m01\u001b[0m  \n",
       "\u001b[1;36m1\u001b[0m          Roger Voss  Portuguese Red      \u001b[1;36m1\u001b[0m  \u001b[1;36m2025\u001b[0m-\u001b[1;36m01\u001b[0m-\u001b[1;36m01\u001b[0m  \n",
       "\u001b[1;36m2\u001b[0m        Paul Gregutt      Pinot Gris      \u001b[1;36m2\u001b[0m  \u001b[1;36m2025\u001b[0m-\u001b[1;36m01\u001b[0m-\u001b[1;36m01\u001b[0m  \n",
       "\u001b[1;36m3\u001b[0m  Alexander Peartree        Riesling      \u001b[1;36m3\u001b[0m  \u001b[1;36m2025\u001b[0m-\u001b[1;36m01\u001b[0m-\u001b[1;36m01\u001b[0m  \n",
       "\u001b[1;36m4\u001b[0m        Paul Gregutt      Pinot Noir      \u001b[1;36m4\u001b[0m  \u001b[1;36m2025\u001b[0m-\u001b[1;36m01\u001b[0m-\u001b[1;36m01\u001b[0m  "
      ]
     },
     "execution_count": 9,
     "metadata": {},
     "output_type": "execute_result"
    }
   ],
   "source": [
    "print(wine_ingested.columns)\n",
    "wine_ingested.head()\n",
    "# lets drop some of the columns that we will never fucking use\n",
    "\n"
   ]
  },
  {
   "cell_type": "code",
   "execution_count": 10,
   "id": "a115a2a1",
   "metadata": {},
   "outputs": [
    {
     "data": {
      "text/html": [
       "<pre style=\"white-space:pre;overflow-x:auto;line-height:normal;font-family:Menlo,'DejaVu Sans Mono',consolas,'Courier New',monospace\"></pre>\n"
      ],
      "text/plain": []
     },
     "metadata": {},
     "output_type": "display_data"
    },
    {
     "data": {
      "application/vnd.microsoft.datawrangler.viewer.v0+json": {
       "columns": [
        {
         "name": "index",
         "rawType": "object",
         "type": "string"
        },
        {
         "name": "0",
         "rawType": "int64",
         "type": "integer"
        }
       ],
       "ref": "07f46bb6-74f2-4754-96b4-7d71f77faf8f",
       "rows": [
        [
         "province",
         "58"
        ]
       ],
       "shape": {
        "columns": 1,
        "rows": 1
       }
      },
      "text/plain": [
       "\n",
       "province    \u001b[1;36m58\u001b[0m\n",
       "dtype: int64"
      ]
     },
     "execution_count": 10,
     "metadata": {},
     "output_type": "execute_result"
    }
   ],
   "source": [
    "wine_ingested[['province']].isna().sum()"
   ]
  },
  {
   "cell_type": "code",
   "execution_count": 11,
   "id": "95d07b88",
   "metadata": {},
   "outputs": [
    {
     "name": "stdout",
     "output_type": "stream",
     "text": [
      "Columns containing 'province': ['province']\n",
      "Columns containing 'region': ['region_1']\n"
     ]
    }
   ],
   "source": [
    "# Check for columns containing 'province'\n",
    "province_cols = [col for col in wine_ingested.columns if 'province' in col.lower()]\n",
    "print(\"Columns containing 'province':\", province_cols)\n",
    "\n",
    "# Check for columns containing 'region'\n",
    "region_cols = [col for col in wine_ingested.columns if 'region' in col.lower()]\n",
    "print(\"Columns containing 'region':\", region_cols)"
   ]
  },
  {
   "cell_type": "code",
   "execution_count": 12,
   "id": "aa424e1b",
   "metadata": {},
   "outputs": [
    {
     "data": {
      "text/html": [
       "<pre style=\"white-space:pre;overflow-x:auto;line-height:normal;font-family:Menlo,'DejaVu Sans Mono',consolas,'Courier New',monospace\"></pre>\n"
      ],
      "text/plain": []
     },
     "metadata": {},
     "output_type": "display_data"
    },
    {
     "data": {
      "application/vnd.microsoft.datawrangler.viewer.v0+json": {
       "columns": [
        {
         "name": "index",
         "rawType": "int64",
         "type": "integer"
        },
        {
         "name": "country",
         "rawType": "object",
         "type": "string"
        },
        {
         "name": "points",
         "rawType": "int64",
         "type": "integer"
        },
        {
         "name": "price",
         "rawType": "float64",
         "type": "float"
        },
        {
         "name": "province",
         "rawType": "category",
         "type": "unknown"
        },
        {
         "name": "region_1",
         "rawType": "object",
         "type": "unknown"
        },
        {
         "name": "taster_name",
         "rawType": "object",
         "type": "string"
        },
        {
         "name": "variety",
         "rawType": "object",
         "type": "string"
        },
        {
         "name": "index",
         "rawType": "int64",
         "type": "integer"
        },
        {
         "name": "datetime",
         "rawType": "object",
         "type": "string"
        },
        {
         "name": "province_codes",
         "rawType": "int16",
         "type": "integer"
        }
       ],
       "ref": "a3aea924-db8f-42e4-bdbf-41e30835d4ab",
       "rows": [
        [
         "0",
         "Italy",
         "87",
         "0.0",
         "Sicily & Sardinia",
         "Etna",
         "Kerin O’Keefe",
         "White Blend",
         "0",
         "2025-01-01",
         "331"
        ],
        [
         "1",
         "Portugal",
         "87",
         "15.0",
         "Douro",
         null,
         "Roger Voss",
         "Portuguese Red",
         "1",
         "2025-01-01",
         "108"
        ],
        [
         "2",
         "US",
         "87",
         "14.0",
         "Oregon",
         "Willamette Valley",
         "Paul Gregutt",
         "Pinot Gris",
         "2",
         "2025-01-01",
         "268"
        ],
        [
         "3",
         "US",
         "87",
         "13.0",
         "Michigan",
         "Lake Michigan Shore",
         "Alexander Peartree",
         "Riesling",
         "3",
         "2025-01-01",
         "218"
        ],
        [
         "4",
         "US",
         "87",
         "65.0",
         "Oregon",
         "Willamette Valley",
         "Paul Gregutt",
         "Pinot Noir",
         "4",
         "2025-01-01",
         "268"
        ]
       ],
       "shape": {
        "columns": 10,
        "rows": 5
       }
      },
      "text/html": [
       "<div>\n",
       "<style scoped>\n",
       "    .dataframe tbody tr th:only-of-type {\n",
       "        vertical-align: middle;\n",
       "    }\n",
       "\n",
       "    .dataframe tbody tr th {\n",
       "        vertical-align: top;\n",
       "    }\n",
       "\n",
       "    .dataframe thead th {\n",
       "        text-align: right;\n",
       "    }\n",
       "</style>\n",
       "<table border=\"1\" class=\"dataframe\">\n",
       "  <thead>\n",
       "    <tr style=\"text-align: right;\">\n",
       "      <th></th>\n",
       "      <th>country</th>\n",
       "      <th>points</th>\n",
       "      <th>price</th>\n",
       "      <th>province</th>\n",
       "      <th>region_1</th>\n",
       "      <th>taster_name</th>\n",
       "      <th>variety</th>\n",
       "      <th>index</th>\n",
       "      <th>datetime</th>\n",
       "      <th>province_codes</th>\n",
       "    </tr>\n",
       "  </thead>\n",
       "  <tbody>\n",
       "    <tr>\n",
       "      <th>0</th>\n",
       "      <td>Italy</td>\n",
       "      <td>87</td>\n",
       "      <td>0.0</td>\n",
       "      <td>Sicily &amp; Sardinia</td>\n",
       "      <td>Etna</td>\n",
       "      <td>Kerin O’Keefe</td>\n",
       "      <td>White Blend</td>\n",
       "      <td>0</td>\n",
       "      <td>2025-01-01</td>\n",
       "      <td>331</td>\n",
       "    </tr>\n",
       "    <tr>\n",
       "      <th>1</th>\n",
       "      <td>Portugal</td>\n",
       "      <td>87</td>\n",
       "      <td>15.0</td>\n",
       "      <td>Douro</td>\n",
       "      <td>NaN</td>\n",
       "      <td>Roger Voss</td>\n",
       "      <td>Portuguese Red</td>\n",
       "      <td>1</td>\n",
       "      <td>2025-01-01</td>\n",
       "      <td>108</td>\n",
       "    </tr>\n",
       "    <tr>\n",
       "      <th>2</th>\n",
       "      <td>US</td>\n",
       "      <td>87</td>\n",
       "      <td>14.0</td>\n",
       "      <td>Oregon</td>\n",
       "      <td>Willamette Valley</td>\n",
       "      <td>Paul Gregutt</td>\n",
       "      <td>Pinot Gris</td>\n",
       "      <td>2</td>\n",
       "      <td>2025-01-01</td>\n",
       "      <td>268</td>\n",
       "    </tr>\n",
       "    <tr>\n",
       "      <th>3</th>\n",
       "      <td>US</td>\n",
       "      <td>87</td>\n",
       "      <td>13.0</td>\n",
       "      <td>Michigan</td>\n",
       "      <td>Lake Michigan Shore</td>\n",
       "      <td>Alexander Peartree</td>\n",
       "      <td>Riesling</td>\n",
       "      <td>3</td>\n",
       "      <td>2025-01-01</td>\n",
       "      <td>218</td>\n",
       "    </tr>\n",
       "    <tr>\n",
       "      <th>4</th>\n",
       "      <td>US</td>\n",
       "      <td>87</td>\n",
       "      <td>65.0</td>\n",
       "      <td>Oregon</td>\n",
       "      <td>Willamette Valley</td>\n",
       "      <td>Paul Gregutt</td>\n",
       "      <td>Pinot Noir</td>\n",
       "      <td>4</td>\n",
       "      <td>2025-01-01</td>\n",
       "      <td>268</td>\n",
       "    </tr>\n",
       "  </tbody>\n",
       "</table>\n",
       "</div>"
      ],
      "text/plain": [
       "\n",
       "    country  points  price           province             region_1  \\\n",
       "\u001b[1;36m0\u001b[0m     Italy      \u001b[1;36m87\u001b[0m    \u001b[1;36m0.0\u001b[0m  Sicily & Sardinia                 Etna   \n",
       "\u001b[1;36m1\u001b[0m  Portugal      \u001b[1;36m87\u001b[0m   \u001b[1;36m15.0\u001b[0m              Douro                  NaN   \n",
       "\u001b[1;36m2\u001b[0m        US      \u001b[1;36m87\u001b[0m   \u001b[1;36m14.0\u001b[0m             Oregon    Willamette Valley   \n",
       "\u001b[1;36m3\u001b[0m        US      \u001b[1;36m87\u001b[0m   \u001b[1;36m13.0\u001b[0m           Michigan  Lake Michigan Shore   \n",
       "\u001b[1;36m4\u001b[0m        US      \u001b[1;36m87\u001b[0m   \u001b[1;36m65.0\u001b[0m             Oregon    Willamette Valley   \n",
       "\n",
       "          taster_name         variety  index    datetime  province_codes  \n",
       "\u001b[1;36m0\u001b[0m       Kerin O’Keefe     White Blend      \u001b[1;36m0\u001b[0m  \u001b[1;36m2025\u001b[0m-\u001b[1;36m01\u001b[0m-\u001b[1;36m01\u001b[0m             \u001b[1;36m331\u001b[0m  \n",
       "\u001b[1;36m1\u001b[0m          Roger Voss  Portuguese Red      \u001b[1;36m1\u001b[0m  \u001b[1;36m2025\u001b[0m-\u001b[1;36m01\u001b[0m-\u001b[1;36m01\u001b[0m             \u001b[1;36m108\u001b[0m  \n",
       "\u001b[1;36m2\u001b[0m        Paul Gregutt      Pinot Gris      \u001b[1;36m2\u001b[0m  \u001b[1;36m2025\u001b[0m-\u001b[1;36m01\u001b[0m-\u001b[1;36m01\u001b[0m             \u001b[1;36m268\u001b[0m  \n",
       "\u001b[1;36m3\u001b[0m  Alexander Peartree        Riesling      \u001b[1;36m3\u001b[0m  \u001b[1;36m2025\u001b[0m-\u001b[1;36m01\u001b[0m-\u001b[1;36m01\u001b[0m             \u001b[1;36m218\u001b[0m  \n",
       "\u001b[1;36m4\u001b[0m        Paul Gregutt      Pinot Noir      \u001b[1;36m4\u001b[0m  \u001b[1;36m2025\u001b[0m-\u001b[1;36m01\u001b[0m-\u001b[1;36m01\u001b[0m             \u001b[1;36m268\u001b[0m  "
      ]
     },
     "execution_count": 12,
     "metadata": {},
     "output_type": "execute_result"
    }
   ],
   "source": [
    "# set 'Unnamed: 0' to index \n",
    "\n",
    "# lets replace na values with 'unknown' values\n",
    "import pandas as pd\n",
    "\n",
    "wine_ingested['province'] = wine_ingested['province'].apply(lambda x: 'unknown' if pd.isna(x) else x)\n",
    "# wine_ingested['province'] = wine_ingested['province'].fillna('unknown')\n",
    "\n",
    "\n",
    "\n",
    "# lets encode region_1 with values \n",
    "wine_ingested['province'] = wine_ingested['province'].astype('category')\n",
    "\n",
    "# \n",
    "wine_ingested['province_codes'] = wine_ingested['province'].cat.codes\n",
    "\n",
    "# encode categorical value with value 1000 \n",
    "\n",
    "# wine_ingested['province_codes'] = wine_ingested[['province_codes', 'province']].apply(lambda x: 1000 if x['province'] == 'unknown' else x['province_codes'])\n",
    "wine_ingested.loc[wine_ingested['province'] == 'unknown', 'province_codes'] = 1000\n",
    "wine_ingested.head()"
   ]
  },
  {
   "cell_type": "code",
   "execution_count": 13,
   "id": "6e998f8f",
   "metadata": {},
   "outputs": [],
   "source": [
    "# wine_ingested.drop(['country', designation,], axis = 1)\n"
   ]
  },
  {
   "cell_type": "markdown",
   "id": "0ed91f84",
   "metadata": {},
   "source": [
    "designation, province, region_1, region_2 taster_name, taster_twitter_handle, title, winery, "
   ]
  },
  {
   "cell_type": "code",
   "execution_count": 15,
   "id": "405f7aa4",
   "metadata": {},
   "outputs": [],
   "source": [
    "\n",
    "# drop unnecesarry columns\n",
    "def drop_col(columns: list[str], df: pd.DataFrame) -> pd.DataFrame:\n",
    "    return df.drop(columns)\n"
   ]
  },
  {
   "cell_type": "code",
   "execution_count": null,
   "id": "b1851eec",
   "metadata": {},
   "outputs": [],
   "source": []
  },
  {
   "cell_type": "code",
   "execution_count": null,
   "id": "a206e7a4",
   "metadata": {},
   "outputs": [],
   "source": []
  }
 ],
 "metadata": {
  "kernelspec": {
   "display_name": "project",
   "language": "python",
   "name": "python3"
  },
  "language_info": {
   "codemirror_mode": {
    "name": "ipython",
    "version": 3
   },
   "file_extension": ".py",
   "mimetype": "text/x-python",
   "name": "python",
   "nbconvert_exporter": "python",
   "pygments_lexer": "ipython3",
   "version": "3.9.23"
  }
 },
 "nbformat": 4,
 "nbformat_minor": 5
}
