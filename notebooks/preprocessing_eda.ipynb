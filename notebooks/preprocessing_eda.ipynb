{
 "cells": [
  {
   "cell_type": "code",
   "execution_count": 1,
   "id": "13954ee0",
   "metadata": {},
   "outputs": [
    {
     "data": {
      "text/html": [
       "<pre style=\"white-space:pre;overflow-x:auto;line-height:normal;font-family:Menlo,'DejaVu Sans Mono',consolas,'Courier New',monospace\"><span style=\"color: #7fbfbf; text-decoration-color: #7fbfbf\">[06/25/25 22:06:48] </span><span style=\"color: #000080; text-decoration-color: #000080\">INFO    </span> Using <span style=\"color: #008000; text-decoration-color: #008000\">'conf/logging.yml'</span> as logging configuration. You can change this <a href=\"file:///Users/svengoerdes/Projects/Master/MLOps_Project/project/.venv/lib/python3.9/site-packages/kedro/framework/project/__init__.py\" target=\"_blank\"><span style=\"color: #7f7f7f; text-decoration-color: #7f7f7f\">__init__.py</span></a><span style=\"color: #7f7f7f; text-decoration-color: #7f7f7f\">:</span><a href=\"file:///Users/svengoerdes/Projects/Master/MLOps_Project/project/.venv/lib/python3.9/site-packages/kedro/framework/project/__init__.py#272\" target=\"_blank\"><span style=\"color: #7f7f7f; text-decoration-color: #7f7f7f\">272</span></a>\n",
       "<span style=\"color: #7fbfbf; text-decoration-color: #7fbfbf\">                    </span>         by setting the KEDRO_LOGGING_CONFIG environment variable accordingly.  <span style=\"color: #7f7f7f; text-decoration-color: #7f7f7f\">               </span>\n",
       "</pre>\n"
      ],
      "text/plain": [
       "\u001b[2;36m[06/25/25 22:06:48]\u001b[0m\u001b[2;36m \u001b[0m\u001b[34mINFO    \u001b[0m Using \u001b[32m'conf/logging.yml'\u001b[0m as logging configuration. You can change this \u001b]8;id=649439;file:///Users/svengoerdes/Projects/Master/MLOps_Project/project/.venv/lib/python3.9/site-packages/kedro/framework/project/__init__.py\u001b\\\u001b[2m__init__.py\u001b[0m\u001b]8;;\u001b\\\u001b[2m:\u001b[0m\u001b]8;id=348408;file:///Users/svengoerdes/Projects/Master/MLOps_Project/project/.venv/lib/python3.9/site-packages/kedro/framework/project/__init__.py#272\u001b\\\u001b[2m272\u001b[0m\u001b]8;;\u001b\\\n",
       "\u001b[2;36m                    \u001b[0m         by setting the KEDRO_LOGGING_CONFIG environment variable accordingly.  \u001b[2m               \u001b[0m\n"
      ]
     },
     "metadata": {},
     "output_type": "display_data"
    },
    {
     "data": {
      "text/html": [
       "<pre style=\"white-space:pre;overflow-x:auto;line-height:normal;font-family:Menlo,'DejaVu Sans Mono',consolas,'Courier New',monospace\"><span style=\"color: #7fbfbf; text-decoration-color: #7fbfbf\">                    </span><span style=\"color: #000080; text-decoration-color: #000080\">INFO    </span> Registered line magic <span style=\"color: #008000; text-decoration-color: #008000\">'%reload_kedro'</span>                                   <a href=\"file:///Users/svengoerdes/Projects/Master/MLOps_Project/project/.venv/lib/python3.9/site-packages/kedro/ipython/__init__.py\" target=\"_blank\"><span style=\"color: #7f7f7f; text-decoration-color: #7f7f7f\">__init__.py</span></a><span style=\"color: #7f7f7f; text-decoration-color: #7f7f7f\">:</span><a href=\"file:///Users/svengoerdes/Projects/Master/MLOps_Project/project/.venv/lib/python3.9/site-packages/kedro/ipython/__init__.py#63\" target=\"_blank\"><span style=\"color: #7f7f7f; text-decoration-color: #7f7f7f\">63</span></a>\n",
       "</pre>\n"
      ],
      "text/plain": [
       "\u001b[2;36m                   \u001b[0m\u001b[2;36m \u001b[0m\u001b[34mINFO    \u001b[0m Registered line magic \u001b[32m'%reload_kedro'\u001b[0m                                   \u001b]8;id=362174;file:///Users/svengoerdes/Projects/Master/MLOps_Project/project/.venv/lib/python3.9/site-packages/kedro/ipython/__init__.py\u001b\\\u001b[2m__init__.py\u001b[0m\u001b]8;;\u001b\\\u001b[2m:\u001b[0m\u001b]8;id=569167;file:///Users/svengoerdes/Projects/Master/MLOps_Project/project/.venv/lib/python3.9/site-packages/kedro/ipython/__init__.py#63\u001b\\\u001b[2m63\u001b[0m\u001b]8;;\u001b\\\n"
      ]
     },
     "metadata": {},
     "output_type": "display_data"
    },
    {
     "data": {
      "text/html": [
       "<pre style=\"white-space:pre;overflow-x:auto;line-height:normal;font-family:Menlo,'DejaVu Sans Mono',consolas,'Courier New',monospace\"><span style=\"color: #7fbfbf; text-decoration-color: #7fbfbf\">                    </span><span style=\"color: #000080; text-decoration-color: #000080\">INFO    </span> Registered line magic <span style=\"color: #008000; text-decoration-color: #008000\">'%load_node'</span>                                      <a href=\"file:///Users/svengoerdes/Projects/Master/MLOps_Project/project/.venv/lib/python3.9/site-packages/kedro/ipython/__init__.py\" target=\"_blank\"><span style=\"color: #7f7f7f; text-decoration-color: #7f7f7f\">__init__.py</span></a><span style=\"color: #7f7f7f; text-decoration-color: #7f7f7f\">:</span><a href=\"file:///Users/svengoerdes/Projects/Master/MLOps_Project/project/.venv/lib/python3.9/site-packages/kedro/ipython/__init__.py#65\" target=\"_blank\"><span style=\"color: #7f7f7f; text-decoration-color: #7f7f7f\">65</span></a>\n",
       "</pre>\n"
      ],
      "text/plain": [
       "\u001b[2;36m                   \u001b[0m\u001b[2;36m \u001b[0m\u001b[34mINFO    \u001b[0m Registered line magic \u001b[32m'%load_node'\u001b[0m                                      \u001b]8;id=97415;file:///Users/svengoerdes/Projects/Master/MLOps_Project/project/.venv/lib/python3.9/site-packages/kedro/ipython/__init__.py\u001b\\\u001b[2m__init__.py\u001b[0m\u001b]8;;\u001b\\\u001b[2m:\u001b[0m\u001b]8;id=559054;file:///Users/svengoerdes/Projects/Master/MLOps_Project/project/.venv/lib/python3.9/site-packages/kedro/ipython/__init__.py#65\u001b\\\u001b[2m65\u001b[0m\u001b]8;;\u001b\\\n"
      ]
     },
     "metadata": {},
     "output_type": "display_data"
    },
    {
     "data": {
      "text/html": [
       "<pre style=\"white-space:pre;overflow-x:auto;line-height:normal;font-family:Menlo,'DejaVu Sans Mono',consolas,'Courier New',monospace\"><span style=\"color: #7fbfbf; text-decoration-color: #7fbfbf\">                    </span><span style=\"color: #000080; text-decoration-color: #000080\">INFO    </span> Resolved project path as:                                              <a href=\"file:///Users/svengoerdes/Projects/Master/MLOps_Project/project/.venv/lib/python3.9/site-packages/kedro/ipython/__init__.py\" target=\"_blank\"><span style=\"color: #7f7f7f; text-decoration-color: #7f7f7f\">__init__.py</span></a><span style=\"color: #7f7f7f; text-decoration-color: #7f7f7f\">:</span><a href=\"file:///Users/svengoerdes/Projects/Master/MLOps_Project/project/.venv/lib/python3.9/site-packages/kedro/ipython/__init__.py#180\" target=\"_blank\"><span style=\"color: #7f7f7f; text-decoration-color: #7f7f7f\">180</span></a>\n",
       "<span style=\"color: #7fbfbf; text-decoration-color: #7fbfbf\">                    </span>         <span style=\"color: #800080; text-decoration-color: #800080\">/Users/svengoerdes/Projects/Master/MLOps_Project/</span><span style=\"color: #ff00ff; text-decoration-color: #ff00ff\">project.</span>              <span style=\"color: #7f7f7f; text-decoration-color: #7f7f7f\">               </span>\n",
       "<span style=\"color: #7fbfbf; text-decoration-color: #7fbfbf\">                    </span>         To set a different path, run <span style=\"color: #008000; text-decoration-color: #008000\">'%reload_kedro &lt;project_root&gt;'</span>            <span style=\"color: #7f7f7f; text-decoration-color: #7f7f7f\">               </span>\n",
       "</pre>\n"
      ],
      "text/plain": [
       "\u001b[2;36m                   \u001b[0m\u001b[2;36m \u001b[0m\u001b[34mINFO    \u001b[0m Resolved project path as:                                              \u001b]8;id=751447;file:///Users/svengoerdes/Projects/Master/MLOps_Project/project/.venv/lib/python3.9/site-packages/kedro/ipython/__init__.py\u001b\\\u001b[2m__init__.py\u001b[0m\u001b]8;;\u001b\\\u001b[2m:\u001b[0m\u001b]8;id=835814;file:///Users/svengoerdes/Projects/Master/MLOps_Project/project/.venv/lib/python3.9/site-packages/kedro/ipython/__init__.py#180\u001b\\\u001b[2m180\u001b[0m\u001b]8;;\u001b\\\n",
       "\u001b[2;36m                    \u001b[0m         \u001b[35m/Users/svengoerdes/Projects/Master/MLOps_Project/\u001b[0m\u001b[95mproject.\u001b[0m              \u001b[2m               \u001b[0m\n",
       "\u001b[2;36m                    \u001b[0m         To set a different path, run \u001b[32m'%reload_kedro \u001b[0m\u001b[32m<\u001b[0m\u001b[32mproject_root\u001b[0m\u001b[32m>\u001b[0m\u001b[32m'\u001b[0m            \u001b[2m               \u001b[0m\n"
      ]
     },
     "metadata": {},
     "output_type": "display_data"
    },
    {
     "data": {
      "text/html": [
       "<pre style=\"white-space:pre;overflow-x:auto;line-height:normal;font-family:Menlo,'DejaVu Sans Mono',consolas,'Courier New',monospace\"><span style=\"color: #7fbfbf; text-decoration-color: #7fbfbf\">[06/25/25 22:06:50] </span><span style=\"color: #808000; text-decoration-color: #808000\">WARNING </span> <span style=\"color: #800080; text-decoration-color: #800080\">/Users/svengoerdes/Projects/Master/MLOps_Project/project/.venv/lib/pyt</span> <a href=\"file:///Users/svengoerdes/.local/share/uv/python/cpython-3.9.23-macos-aarch64-none/lib/python3.9/warnings.py\" target=\"_blank\"><span style=\"color: #7f7f7f; text-decoration-color: #7f7f7f\">warnings.py</span></a><span style=\"color: #7f7f7f; text-decoration-color: #7f7f7f\">:</span><a href=\"file:///Users/svengoerdes/.local/share/uv/python/cpython-3.9.23-macos-aarch64-none/lib/python3.9/warnings.py#109\" target=\"_blank\"><span style=\"color: #7f7f7f; text-decoration-color: #7f7f7f\">109</span></a>\n",
       "<span style=\"color: #7fbfbf; text-decoration-color: #7fbfbf\">                    </span>         <span style=\"color: #800080; text-decoration-color: #800080\">hon3.9/site-packages/mlflow/pyfunc/utils/</span><span style=\"color: #ff00ff; text-decoration-color: #ff00ff\">data_validation.py</span>:<span style=\"color: #008080; text-decoration-color: #008080; font-weight: bold\">186</span>:       <span style=\"color: #7f7f7f; text-decoration-color: #7f7f7f\">               </span>\n",
       "<span style=\"color: #7fbfbf; text-decoration-color: #7fbfbf\">                    </span>         UserWarning: \u001b<span style=\"font-weight: bold\">[</span>33mAdd type hints to the `predict` method to enable data <span style=\"color: #7f7f7f; text-decoration-color: #7f7f7f\">               </span>\n",
       "<span style=\"color: #7fbfbf; text-decoration-color: #7fbfbf\">                    </span>         validation and automatic signature inference during model logging.     <span style=\"color: #7f7f7f; text-decoration-color: #7f7f7f\">               </span>\n",
       "<span style=\"color: #7fbfbf; text-decoration-color: #7fbfbf\">                    </span>         Check                                                                  <span style=\"color: #7f7f7f; text-decoration-color: #7f7f7f\">               </span>\n",
       "<span style=\"color: #7fbfbf; text-decoration-color: #7fbfbf\">                    </span>         <span style=\"color: #0000ff; text-decoration-color: #0000ff; text-decoration: underline\">https://mlflow.org/docs/latest/model/python_model.html#type-hint-usage</span> <span style=\"color: #7f7f7f; text-decoration-color: #7f7f7f\">               </span>\n",
       "<span style=\"color: #7fbfbf; text-decoration-color: #7fbfbf\">                    </span>         <span style=\"color: #0000ff; text-decoration-color: #0000ff; text-decoration: underline\">-in-pythonmodel</span> for more details.\u001b<span style=\"font-weight: bold\">[</span>0m                                   <span style=\"color: #7f7f7f; text-decoration-color: #7f7f7f\">               </span>\n",
       "<span style=\"color: #7fbfbf; text-decoration-color: #7fbfbf\">                    </span>           <span style=\"color: #800080; text-decoration-color: #800080; font-weight: bold\">color_warning</span><span style=\"font-weight: bold\">(</span>                                                       <span style=\"color: #7f7f7f; text-decoration-color: #7f7f7f\">               </span>\n",
       "<span style=\"color: #7fbfbf; text-decoration-color: #7fbfbf\">                    </span>                                                                                <span style=\"color: #7f7f7f; text-decoration-color: #7f7f7f\">               </span>\n",
       "</pre>\n"
      ],
      "text/plain": [
       "\u001b[2;36m[06/25/25 22:06:50]\u001b[0m\u001b[2;36m \u001b[0m\u001b[33mWARNING \u001b[0m \u001b[35m/Users/svengoerdes/Projects/Master/MLOps_Project/project/.venv/lib/pyt\u001b[0m \u001b]8;id=719976;file:///Users/svengoerdes/.local/share/uv/python/cpython-3.9.23-macos-aarch64-none/lib/python3.9/warnings.py\u001b\\\u001b[2mwarnings.py\u001b[0m\u001b]8;;\u001b\\\u001b[2m:\u001b[0m\u001b]8;id=645778;file:///Users/svengoerdes/.local/share/uv/python/cpython-3.9.23-macos-aarch64-none/lib/python3.9/warnings.py#109\u001b\\\u001b[2m109\u001b[0m\u001b]8;;\u001b\\\n",
       "\u001b[2;36m                    \u001b[0m         \u001b[35mhon3.9/site-packages/mlflow/pyfunc/utils/\u001b[0m\u001b[95mdata_validation.py\u001b[0m:\u001b[1;36m186\u001b[0m:       \u001b[2m               \u001b[0m\n",
       "\u001b[2;36m                    \u001b[0m         UserWarning: \u001b\u001b[1m[\u001b[0m33mAdd type hints to the `predict` method to enable data \u001b[2m               \u001b[0m\n",
       "\u001b[2;36m                    \u001b[0m         validation and automatic signature inference during model logging.     \u001b[2m               \u001b[0m\n",
       "\u001b[2;36m                    \u001b[0m         Check                                                                  \u001b[2m               \u001b[0m\n",
       "\u001b[2;36m                    \u001b[0m         \u001b[4;94mhttps://mlflow.org/docs/latest/model/python_model.html#type-hint-usage\u001b[0m \u001b[2m               \u001b[0m\n",
       "\u001b[2;36m                    \u001b[0m         \u001b[4;94m-in-pythonmodel\u001b[0m for more details.\u001b\u001b[1m[\u001b[0m0m                                   \u001b[2m               \u001b[0m\n",
       "\u001b[2;36m                    \u001b[0m           \u001b[1;35mcolor_warning\u001b[0m\u001b[1m(\u001b[0m                                                       \u001b[2m               \u001b[0m\n",
       "\u001b[2;36m                    \u001b[0m                                                                                \u001b[2m               \u001b[0m\n"
      ]
     },
     "metadata": {},
     "output_type": "display_data"
    },
    {
     "data": {
      "text/html": [
       "<pre style=\"white-space:pre;overflow-x:auto;line-height:normal;font-family:Menlo,'DejaVu Sans Mono',consolas,'Courier New',monospace\"><span style=\"color: #7fbfbf; text-decoration-color: #7fbfbf\">                    </span><span style=\"color: #808000; text-decoration-color: #808000\">WARNING </span> <span style=\"color: #800080; text-decoration-color: #800080\">/Users/svengoerdes/Projects/Master/MLOps_Project/project/.venv/lib/pyt</span> <a href=\"file:///Users/svengoerdes/.local/share/uv/python/cpython-3.9.23-macos-aarch64-none/lib/python3.9/warnings.py\" target=\"_blank\"><span style=\"color: #7f7f7f; text-decoration-color: #7f7f7f\">warnings.py</span></a><span style=\"color: #7f7f7f; text-decoration-color: #7f7f7f\">:</span><a href=\"file:///Users/svengoerdes/.local/share/uv/python/cpython-3.9.23-macos-aarch64-none/lib/python3.9/warnings.py#109\" target=\"_blank\"><span style=\"color: #7f7f7f; text-decoration-color: #7f7f7f\">109</span></a>\n",
       "<span style=\"color: #7fbfbf; text-decoration-color: #7fbfbf\">                    </span>         <span style=\"color: #800080; text-decoration-color: #800080\">hon3.9/site-packages/kedro_viz/integrations/kedro/</span><span style=\"color: #ff00ff; text-decoration-color: #ff00ff\">hooks.py</span>:<span style=\"color: #008080; text-decoration-color: #008080; font-weight: bold\">20</span>:         <span style=\"color: #7f7f7f; text-decoration-color: #7f7f7f\">               </span>\n",
       "<span style=\"color: #7fbfbf; text-decoration-color: #7fbfbf\">                    </span>         KedroDeprecationWarning: <span style=\"color: #008000; text-decoration-color: #008000\">'TRANSCODING_SEPARATOR'</span> has been moved to     <span style=\"color: #7f7f7f; text-decoration-color: #7f7f7f\">               </span>\n",
       "<span style=\"color: #7fbfbf; text-decoration-color: #7fbfbf\">                    </span>         <span style=\"color: #008000; text-decoration-color: #008000\">'kedro.pipeline.transcoding'</span>, and the alias will be removed in Kedro   <span style=\"color: #7f7f7f; text-decoration-color: #7f7f7f\">               </span>\n",
       "<span style=\"color: #7fbfbf; text-decoration-color: #7fbfbf\">                    </span>         <span style=\"color: #008080; text-decoration-color: #008080; font-weight: bold\">1.0</span>.<span style=\"color: #008080; text-decoration-color: #008080; font-weight: bold\">0</span>.                                                                 <span style=\"color: #7f7f7f; text-decoration-color: #7f7f7f\">               </span>\n",
       "<span style=\"color: #7fbfbf; text-decoration-color: #7fbfbf\">                    </span>           from kedro.pipeline.pipeline import TRANSCODING_SEPARATOR,           <span style=\"color: #7f7f7f; text-decoration-color: #7f7f7f\">               </span>\n",
       "<span style=\"color: #7fbfbf; text-decoration-color: #7fbfbf\">                    </span>         _strip_transcoding                                                     <span style=\"color: #7f7f7f; text-decoration-color: #7f7f7f\">               </span>\n",
       "<span style=\"color: #7fbfbf; text-decoration-color: #7fbfbf\">                    </span>                                                                                <span style=\"color: #7f7f7f; text-decoration-color: #7f7f7f\">               </span>\n",
       "</pre>\n"
      ],
      "text/plain": [
       "\u001b[2;36m                   \u001b[0m\u001b[2;36m \u001b[0m\u001b[33mWARNING \u001b[0m \u001b[35m/Users/svengoerdes/Projects/Master/MLOps_Project/project/.venv/lib/pyt\u001b[0m \u001b]8;id=117862;file:///Users/svengoerdes/.local/share/uv/python/cpython-3.9.23-macos-aarch64-none/lib/python3.9/warnings.py\u001b\\\u001b[2mwarnings.py\u001b[0m\u001b]8;;\u001b\\\u001b[2m:\u001b[0m\u001b]8;id=656097;file:///Users/svengoerdes/.local/share/uv/python/cpython-3.9.23-macos-aarch64-none/lib/python3.9/warnings.py#109\u001b\\\u001b[2m109\u001b[0m\u001b]8;;\u001b\\\n",
       "\u001b[2;36m                    \u001b[0m         \u001b[35mhon3.9/site-packages/kedro_viz/integrations/kedro/\u001b[0m\u001b[95mhooks.py\u001b[0m:\u001b[1;36m20\u001b[0m:         \u001b[2m               \u001b[0m\n",
       "\u001b[2;36m                    \u001b[0m         KedroDeprecationWarning: \u001b[32m'TRANSCODING_SEPARATOR'\u001b[0m has been moved to     \u001b[2m               \u001b[0m\n",
       "\u001b[2;36m                    \u001b[0m         \u001b[32m'kedro.pipeline.transcoding'\u001b[0m, and the alias will be removed in Kedro   \u001b[2m               \u001b[0m\n",
       "\u001b[2;36m                    \u001b[0m         \u001b[1;36m1.0\u001b[0m.\u001b[1;36m0\u001b[0m.                                                                 \u001b[2m               \u001b[0m\n",
       "\u001b[2;36m                    \u001b[0m           from kedro.pipeline.pipeline import TRANSCODING_SEPARATOR,           \u001b[2m               \u001b[0m\n",
       "\u001b[2;36m                    \u001b[0m         _strip_transcoding                                                     \u001b[2m               \u001b[0m\n",
       "\u001b[2;36m                    \u001b[0m                                                                                \u001b[2m               \u001b[0m\n"
      ]
     },
     "metadata": {},
     "output_type": "display_data"
    },
    {
     "data": {
      "text/html": [
       "<pre style=\"white-space:pre;overflow-x:auto;line-height:normal;font-family:Menlo,'DejaVu Sans Mono',consolas,'Courier New',monospace\"><span style=\"color: #7fbfbf; text-decoration-color: #7fbfbf\">                    </span><span style=\"color: #000080; text-decoration-color: #000080\">INFO    </span> Registering new custom resolver: <span style=\"color: #008000; text-decoration-color: #008000\">'km.random_name'</span>                    <a href=\"file:///Users/svengoerdes/Projects/Master/MLOps_Project/project/.venv/lib/python3.9/site-packages/kedro_mlflow/framework/hooks/mlflow_hook.py\" target=\"_blank\"><span style=\"color: #7f7f7f; text-decoration-color: #7f7f7f\">mlflow_hook.py</span></a><span style=\"color: #7f7f7f; text-decoration-color: #7f7f7f\">:</span><a href=\"file:///Users/svengoerdes/Projects/Master/MLOps_Project/project/.venv/lib/python3.9/site-packages/kedro_mlflow/framework/hooks/mlflow_hook.py#65\" target=\"_blank\"><span style=\"color: #7f7f7f; text-decoration-color: #7f7f7f\">65</span></a>\n",
       "</pre>\n"
      ],
      "text/plain": [
       "\u001b[2;36m                   \u001b[0m\u001b[2;36m \u001b[0m\u001b[34mINFO    \u001b[0m Registering new custom resolver: \u001b[32m'km.random_name'\u001b[0m                    \u001b]8;id=61667;file:///Users/svengoerdes/Projects/Master/MLOps_Project/project/.venv/lib/python3.9/site-packages/kedro_mlflow/framework/hooks/mlflow_hook.py\u001b\\\u001b[2mmlflow_hook.py\u001b[0m\u001b]8;;\u001b\\\u001b[2m:\u001b[0m\u001b]8;id=786066;file:///Users/svengoerdes/Projects/Master/MLOps_Project/project/.venv/lib/python3.9/site-packages/kedro_mlflow/framework/hooks/mlflow_hook.py#65\u001b\\\u001b[2m65\u001b[0m\u001b]8;;\u001b\\\n"
      ]
     },
     "metadata": {},
     "output_type": "display_data"
    },
    {
     "data": {
      "text/html": [
       "<pre style=\"white-space:pre;overflow-x:auto;line-height:normal;font-family:Menlo,'DejaVu Sans Mono',consolas,'Courier New',monospace\"><span style=\"color: #7fbfbf; text-decoration-color: #7fbfbf\">[06/25/25 22:06:51] </span><span style=\"color: #000080; text-decoration-color: #000080\">INFO    </span> Kedro project wine_project                                             <a href=\"file:///Users/svengoerdes/Projects/Master/MLOps_Project/project/.venv/lib/python3.9/site-packages/kedro/ipython/__init__.py\" target=\"_blank\"><span style=\"color: #7f7f7f; text-decoration-color: #7f7f7f\">__init__.py</span></a><span style=\"color: #7f7f7f; text-decoration-color: #7f7f7f\">:</span><a href=\"file:///Users/svengoerdes/Projects/Master/MLOps_Project/project/.venv/lib/python3.9/site-packages/kedro/ipython/__init__.py#146\" target=\"_blank\"><span style=\"color: #7f7f7f; text-decoration-color: #7f7f7f\">146</span></a>\n",
       "</pre>\n"
      ],
      "text/plain": [
       "\u001b[2;36m[06/25/25 22:06:51]\u001b[0m\u001b[2;36m \u001b[0m\u001b[34mINFO    \u001b[0m Kedro project wine_project                                             \u001b]8;id=284671;file:///Users/svengoerdes/Projects/Master/MLOps_Project/project/.venv/lib/python3.9/site-packages/kedro/ipython/__init__.py\u001b\\\u001b[2m__init__.py\u001b[0m\u001b]8;;\u001b\\\u001b[2m:\u001b[0m\u001b]8;id=684939;file:///Users/svengoerdes/Projects/Master/MLOps_Project/project/.venv/lib/python3.9/site-packages/kedro/ipython/__init__.py#146\u001b\\\u001b[2m146\u001b[0m\u001b]8;;\u001b\\\n"
      ]
     },
     "metadata": {},
     "output_type": "display_data"
    },
    {
     "data": {
      "text/html": [
       "<pre style=\"white-space:pre;overflow-x:auto;line-height:normal;font-family:Menlo,'DejaVu Sans Mono',consolas,'Courier New',monospace\"><span style=\"color: #7fbfbf; text-decoration-color: #7fbfbf\">                    </span><span style=\"color: #000080; text-decoration-color: #000080\">INFO    </span> Defined global variable <span style=\"color: #008000; text-decoration-color: #008000\">'context'</span>, <span style=\"color: #008000; text-decoration-color: #008000\">'session'</span>, <span style=\"color: #008000; text-decoration-color: #008000\">'catalog'</span> and            <a href=\"file:///Users/svengoerdes/Projects/Master/MLOps_Project/project/.venv/lib/python3.9/site-packages/kedro/ipython/__init__.py\" target=\"_blank\"><span style=\"color: #7f7f7f; text-decoration-color: #7f7f7f\">__init__.py</span></a><span style=\"color: #7f7f7f; text-decoration-color: #7f7f7f\">:</span><a href=\"file:///Users/svengoerdes/Projects/Master/MLOps_Project/project/.venv/lib/python3.9/site-packages/kedro/ipython/__init__.py#147\" target=\"_blank\"><span style=\"color: #7f7f7f; text-decoration-color: #7f7f7f\">147</span></a>\n",
       "<span style=\"color: #7fbfbf; text-decoration-color: #7fbfbf\">                    </span>         <span style=\"color: #008000; text-decoration-color: #008000\">'pipelines'</span>                                                            <span style=\"color: #7f7f7f; text-decoration-color: #7f7f7f\">               </span>\n",
       "</pre>\n"
      ],
      "text/plain": [
       "\u001b[2;36m                   \u001b[0m\u001b[2;36m \u001b[0m\u001b[34mINFO    \u001b[0m Defined global variable \u001b[32m'context'\u001b[0m, \u001b[32m'session'\u001b[0m, \u001b[32m'catalog'\u001b[0m and            \u001b]8;id=23708;file:///Users/svengoerdes/Projects/Master/MLOps_Project/project/.venv/lib/python3.9/site-packages/kedro/ipython/__init__.py\u001b\\\u001b[2m__init__.py\u001b[0m\u001b]8;;\u001b\\\u001b[2m:\u001b[0m\u001b]8;id=763834;file:///Users/svengoerdes/Projects/Master/MLOps_Project/project/.venv/lib/python3.9/site-packages/kedro/ipython/__init__.py#147\u001b\\\u001b[2m147\u001b[0m\u001b]8;;\u001b\\\n",
       "\u001b[2;36m                    \u001b[0m         \u001b[32m'pipelines'\u001b[0m                                                            \u001b[2m               \u001b[0m\n"
      ]
     },
     "metadata": {},
     "output_type": "display_data"
    },
    {
     "data": {
      "text/html": [
       "<pre style=\"white-space:pre;overflow-x:auto;line-height:normal;font-family:Menlo,'DejaVu Sans Mono',consolas,'Courier New',monospace\"><span style=\"color: #7fbfbf; text-decoration-color: #7fbfbf\">                    </span><span style=\"color: #808000; text-decoration-color: #808000\">WARNING </span> <span style=\"color: #800080; text-decoration-color: #800080\">/Users/svengoerdes/Projects/Master/MLOps_Project/project/.venv/lib/pyt</span> <a href=\"file:///Users/svengoerdes/.local/share/uv/python/cpython-3.9.23-macos-aarch64-none/lib/python3.9/warnings.py\" target=\"_blank\"><span style=\"color: #7f7f7f; text-decoration-color: #7f7f7f\">warnings.py</span></a><span style=\"color: #7f7f7f; text-decoration-color: #7f7f7f\">:</span><a href=\"file:///Users/svengoerdes/.local/share/uv/python/cpython-3.9.23-macos-aarch64-none/lib/python3.9/warnings.py#109\" target=\"_blank\"><span style=\"color: #7f7f7f; text-decoration-color: #7f7f7f\">109</span></a>\n",
       "<span style=\"color: #7fbfbf; text-decoration-color: #7fbfbf\">                    </span>         <span style=\"color: #800080; text-decoration-color: #800080\">hon3.9/site-packages/kedro_viz/models/</span><span style=\"color: #ff00ff; text-decoration-color: #ff00ff\">flowchart.py</span>:<span style=\"color: #008080; text-decoration-color: #008080; font-weight: bold\">20</span>:                 <span style=\"color: #7f7f7f; text-decoration-color: #7f7f7f\">               </span>\n",
       "<span style=\"color: #7fbfbf; text-decoration-color: #7fbfbf\">                    </span>         KedroDeprecationWarning: <span style=\"color: #008000; text-decoration-color: #008000\">'TRANSCODING_SEPARATOR'</span> has been moved to     <span style=\"color: #7f7f7f; text-decoration-color: #7f7f7f\">               </span>\n",
       "<span style=\"color: #7fbfbf; text-decoration-color: #7fbfbf\">                    </span>         <span style=\"color: #008000; text-decoration-color: #008000\">'kedro.pipeline.transcoding'</span>, and the alias will be removed in Kedro   <span style=\"color: #7f7f7f; text-decoration-color: #7f7f7f\">               </span>\n",
       "<span style=\"color: #7fbfbf; text-decoration-color: #7fbfbf\">                    </span>         <span style=\"color: #008080; text-decoration-color: #008080; font-weight: bold\">1.0</span>.<span style=\"color: #008080; text-decoration-color: #008080; font-weight: bold\">0</span>.                                                                 <span style=\"color: #7f7f7f; text-decoration-color: #7f7f7f\">               </span>\n",
       "<span style=\"color: #7fbfbf; text-decoration-color: #7fbfbf\">                    </span>           from kedro.pipeline.pipeline import TRANSCODING_SEPARATOR,           <span style=\"color: #7f7f7f; text-decoration-color: #7f7f7f\">               </span>\n",
       "<span style=\"color: #7fbfbf; text-decoration-color: #7fbfbf\">                    </span>         _strip_transcoding                                                     <span style=\"color: #7f7f7f; text-decoration-color: #7f7f7f\">               </span>\n",
       "<span style=\"color: #7fbfbf; text-decoration-color: #7fbfbf\">                    </span>                                                                                <span style=\"color: #7f7f7f; text-decoration-color: #7f7f7f\">               </span>\n",
       "</pre>\n"
      ],
      "text/plain": [
       "\u001b[2;36m                   \u001b[0m\u001b[2;36m \u001b[0m\u001b[33mWARNING \u001b[0m \u001b[35m/Users/svengoerdes/Projects/Master/MLOps_Project/project/.venv/lib/pyt\u001b[0m \u001b]8;id=856940;file:///Users/svengoerdes/.local/share/uv/python/cpython-3.9.23-macos-aarch64-none/lib/python3.9/warnings.py\u001b\\\u001b[2mwarnings.py\u001b[0m\u001b]8;;\u001b\\\u001b[2m:\u001b[0m\u001b]8;id=249239;file:///Users/svengoerdes/.local/share/uv/python/cpython-3.9.23-macos-aarch64-none/lib/python3.9/warnings.py#109\u001b\\\u001b[2m109\u001b[0m\u001b]8;;\u001b\\\n",
       "\u001b[2;36m                    \u001b[0m         \u001b[35mhon3.9/site-packages/kedro_viz/models/\u001b[0m\u001b[95mflowchart.py\u001b[0m:\u001b[1;36m20\u001b[0m:                 \u001b[2m               \u001b[0m\n",
       "\u001b[2;36m                    \u001b[0m         KedroDeprecationWarning: \u001b[32m'TRANSCODING_SEPARATOR'\u001b[0m has been moved to     \u001b[2m               \u001b[0m\n",
       "\u001b[2;36m                    \u001b[0m         \u001b[32m'kedro.pipeline.transcoding'\u001b[0m, and the alias will be removed in Kedro   \u001b[2m               \u001b[0m\n",
       "\u001b[2;36m                    \u001b[0m         \u001b[1;36m1.0\u001b[0m.\u001b[1;36m0\u001b[0m.                                                                 \u001b[2m               \u001b[0m\n",
       "\u001b[2;36m                    \u001b[0m           from kedro.pipeline.pipeline import TRANSCODING_SEPARATOR,           \u001b[2m               \u001b[0m\n",
       "\u001b[2;36m                    \u001b[0m         _strip_transcoding                                                     \u001b[2m               \u001b[0m\n",
       "\u001b[2;36m                    \u001b[0m                                                                                \u001b[2m               \u001b[0m\n"
      ]
     },
     "metadata": {},
     "output_type": "display_data"
    },
    {
     "data": {
      "text/html": [
       "<pre style=\"white-space:pre;overflow-x:auto;line-height:normal;font-family:Menlo,'DejaVu Sans Mono',consolas,'Courier New',monospace\"><span style=\"color: #7fbfbf; text-decoration-color: #7fbfbf\">                    </span><span style=\"color: #808000; text-decoration-color: #808000\">WARNING </span> <span style=\"color: #800080; text-decoration-color: #800080\">/Users/svengoerdes/Projects/Master/MLOps_Project/project/.venv/lib/pyt</span> <a href=\"file:///Users/svengoerdes/.local/share/uv/python/cpython-3.9.23-macos-aarch64-none/lib/python3.9/warnings.py\" target=\"_blank\"><span style=\"color: #7f7f7f; text-decoration-color: #7f7f7f\">warnings.py</span></a><span style=\"color: #7f7f7f; text-decoration-color: #7f7f7f\">:</span><a href=\"file:///Users/svengoerdes/.local/share/uv/python/cpython-3.9.23-macos-aarch64-none/lib/python3.9/warnings.py#109\" target=\"_blank\"><span style=\"color: #7f7f7f; text-decoration-color: #7f7f7f\">109</span></a>\n",
       "<span style=\"color: #7fbfbf; text-decoration-color: #7fbfbf\">                    </span>         <span style=\"color: #800080; text-decoration-color: #800080\">hon3.9/site-packages/kedro_viz/data_access/repositories/</span><span style=\"color: #ff00ff; text-decoration-color: #ff00ff\">catalog.py</span>:<span style=\"color: #008080; text-decoration-color: #008080; font-weight: bold\">15</span>: <span style=\"color: #7f7f7f; text-decoration-color: #7f7f7f\">               </span>\n",
       "<span style=\"color: #7fbfbf; text-decoration-color: #7fbfbf\">                    </span>          KedroDeprecationWarning: <span style=\"color: #008000; text-decoration-color: #008000\">'TRANSCODING_SEPARATOR'</span> has been moved to    <span style=\"color: #7f7f7f; text-decoration-color: #7f7f7f\">               </span>\n",
       "<span style=\"color: #7fbfbf; text-decoration-color: #7fbfbf\">                    </span>         <span style=\"color: #008000; text-decoration-color: #008000\">'kedro.pipeline.transcoding'</span>, and the alias will be removed in Kedro   <span style=\"color: #7f7f7f; text-decoration-color: #7f7f7f\">               </span>\n",
       "<span style=\"color: #7fbfbf; text-decoration-color: #7fbfbf\">                    </span>         <span style=\"color: #008080; text-decoration-color: #008080; font-weight: bold\">1.0</span>.<span style=\"color: #008080; text-decoration-color: #008080; font-weight: bold\">0</span>.                                                                 <span style=\"color: #7f7f7f; text-decoration-color: #7f7f7f\">               </span>\n",
       "<span style=\"color: #7fbfbf; text-decoration-color: #7fbfbf\">                    </span>           from kedro.pipeline.pipeline import TRANSCODING_SEPARATOR,           <span style=\"color: #7f7f7f; text-decoration-color: #7f7f7f\">               </span>\n",
       "<span style=\"color: #7fbfbf; text-decoration-color: #7fbfbf\">                    </span>         _strip_transcoding                                                     <span style=\"color: #7f7f7f; text-decoration-color: #7f7f7f\">               </span>\n",
       "<span style=\"color: #7fbfbf; text-decoration-color: #7fbfbf\">                    </span>                                                                                <span style=\"color: #7f7f7f; text-decoration-color: #7f7f7f\">               </span>\n",
       "</pre>\n"
      ],
      "text/plain": [
       "\u001b[2;36m                   \u001b[0m\u001b[2;36m \u001b[0m\u001b[33mWARNING \u001b[0m \u001b[35m/Users/svengoerdes/Projects/Master/MLOps_Project/project/.venv/lib/pyt\u001b[0m \u001b]8;id=169338;file:///Users/svengoerdes/.local/share/uv/python/cpython-3.9.23-macos-aarch64-none/lib/python3.9/warnings.py\u001b\\\u001b[2mwarnings.py\u001b[0m\u001b]8;;\u001b\\\u001b[2m:\u001b[0m\u001b]8;id=505142;file:///Users/svengoerdes/.local/share/uv/python/cpython-3.9.23-macos-aarch64-none/lib/python3.9/warnings.py#109\u001b\\\u001b[2m109\u001b[0m\u001b]8;;\u001b\\\n",
       "\u001b[2;36m                    \u001b[0m         \u001b[35mhon3.9/site-packages/kedro_viz/data_access/repositories/\u001b[0m\u001b[95mcatalog.py\u001b[0m:\u001b[1;36m15\u001b[0m: \u001b[2m               \u001b[0m\n",
       "\u001b[2;36m                    \u001b[0m          KedroDeprecationWarning: \u001b[32m'TRANSCODING_SEPARATOR'\u001b[0m has been moved to    \u001b[2m               \u001b[0m\n",
       "\u001b[2;36m                    \u001b[0m         \u001b[32m'kedro.pipeline.transcoding'\u001b[0m, and the alias will be removed in Kedro   \u001b[2m               \u001b[0m\n",
       "\u001b[2;36m                    \u001b[0m         \u001b[1;36m1.0\u001b[0m.\u001b[1;36m0\u001b[0m.                                                                 \u001b[2m               \u001b[0m\n",
       "\u001b[2;36m                    \u001b[0m           from kedro.pipeline.pipeline import TRANSCODING_SEPARATOR,           \u001b[2m               \u001b[0m\n",
       "\u001b[2;36m                    \u001b[0m         _strip_transcoding                                                     \u001b[2m               \u001b[0m\n",
       "\u001b[2;36m                    \u001b[0m                                                                                \u001b[2m               \u001b[0m\n"
      ]
     },
     "metadata": {},
     "output_type": "display_data"
    },
    {
     "data": {
      "text/html": [
       "<pre style=\"white-space:pre;overflow-x:auto;line-height:normal;font-family:Menlo,'DejaVu Sans Mono',consolas,'Courier New',monospace\"><span style=\"color: #7fbfbf; text-decoration-color: #7fbfbf\">                    </span><span style=\"color: #808000; text-decoration-color: #808000\">WARNING </span> Failed to load kedro_viz.launchers.jupyter commands from                  <a href=\"file:///Users/svengoerdes/Projects/Master/MLOps_Project/project/.venv/lib/python3.9/site-packages/kedro/framework/cli/utils.py\" target=\"_blank\"><span style=\"color: #7f7f7f; text-decoration-color: #7f7f7f\">utils.py</span></a><span style=\"color: #7f7f7f; text-decoration-color: #7f7f7f\">:</span><a href=\"file:///Users/svengoerdes/Projects/Master/MLOps_Project/project/.venv/lib/python3.9/site-packages/kedro/framework/cli/utils.py#403\" target=\"_blank\"><span style=\"color: #7f7f7f; text-decoration-color: #7f7f7f\">403</span></a>\n",
       "<span style=\"color: #7fbfbf; text-decoration-color: #7fbfbf\">                    </span>         <span style=\"color: #800080; text-decoration-color: #800080; font-weight: bold\">EntryPoint</span><span style=\"font-weight: bold\">(</span><span style=\"color: #808000; text-decoration-color: #808000\">name</span>=<span style=\"color: #008000; text-decoration-color: #008000\">'line_magic'</span>,                                             <span style=\"color: #7f7f7f; text-decoration-color: #7f7f7f\">            </span>\n",
       "<span style=\"color: #7fbfbf; text-decoration-color: #7fbfbf\">                    </span>         <span style=\"color: #808000; text-decoration-color: #808000\">value</span>=<span style=\"color: #008000; text-decoration-color: #008000\">'kedro_viz.launchers.jupyter:run_viz'</span>, <span style=\"color: #808000; text-decoration-color: #808000\">group</span>=<span style=\"color: #008000; text-decoration-color: #008000\">'kedro.line_magic'</span><span style=\"font-weight: bold\">)</span>.   <span style=\"color: #7f7f7f; text-decoration-color: #7f7f7f\">            </span>\n",
       "<span style=\"color: #7fbfbf; text-decoration-color: #7fbfbf\">                    </span>         Full exception: cannot import name <span style=\"color: #008000; text-decoration-color: #008000\">'is_new_type'</span> from                     <span style=\"color: #7f7f7f; text-decoration-color: #7f7f7f\">            </span>\n",
       "<span style=\"color: #7fbfbf; text-decoration-color: #7fbfbf\">                    </span>         <span style=\"color: #008000; text-decoration-color: #008000\">'pydantic._internal._typing_extra'</span>                                        <span style=\"color: #7f7f7f; text-decoration-color: #7f7f7f\">            </span>\n",
       "<span style=\"color: #7fbfbf; text-decoration-color: #7fbfbf\">                    </span>         <span style=\"font-weight: bold\">(</span><span style=\"color: #800080; text-decoration-color: #800080\">/Users/svengoerdes/Projects/Master/MLOps_Project/project/.venv/lib/pytho</span> <span style=\"color: #7f7f7f; text-decoration-color: #7f7f7f\">            </span>\n",
       "<span style=\"color: #7fbfbf; text-decoration-color: #7fbfbf\">                    </span>         <span style=\"color: #800080; text-decoration-color: #800080\">n3.9/site-packages/pydantic/_internal/</span><span style=\"color: #ff00ff; text-decoration-color: #ff00ff\">_typing_extra.py</span><span style=\"font-weight: bold\">)</span>                   <span style=\"color: #7f7f7f; text-decoration-color: #7f7f7f\">            </span>\n",
       "</pre>\n"
      ],
      "text/plain": [
       "\u001b[2;36m                   \u001b[0m\u001b[2;36m \u001b[0m\u001b[33mWARNING \u001b[0m Failed to load kedro_viz.launchers.jupyter commands from                  \u001b]8;id=937859;file:///Users/svengoerdes/Projects/Master/MLOps_Project/project/.venv/lib/python3.9/site-packages/kedro/framework/cli/utils.py\u001b\\\u001b[2mutils.py\u001b[0m\u001b]8;;\u001b\\\u001b[2m:\u001b[0m\u001b]8;id=667652;file:///Users/svengoerdes/Projects/Master/MLOps_Project/project/.venv/lib/python3.9/site-packages/kedro/framework/cli/utils.py#403\u001b\\\u001b[2m403\u001b[0m\u001b]8;;\u001b\\\n",
       "\u001b[2;36m                    \u001b[0m         \u001b[1;35mEntryPoint\u001b[0m\u001b[1m(\u001b[0m\u001b[33mname\u001b[0m=\u001b[32m'line_magic'\u001b[0m,                                             \u001b[2m            \u001b[0m\n",
       "\u001b[2;36m                    \u001b[0m         \u001b[33mvalue\u001b[0m=\u001b[32m'kedro_viz.launchers.jupyter:run_viz'\u001b[0m, \u001b[33mgroup\u001b[0m=\u001b[32m'kedro.line_magic'\u001b[0m\u001b[1m)\u001b[0m.   \u001b[2m            \u001b[0m\n",
       "\u001b[2;36m                    \u001b[0m         Full exception: cannot import name \u001b[32m'is_new_type'\u001b[0m from                     \u001b[2m            \u001b[0m\n",
       "\u001b[2;36m                    \u001b[0m         \u001b[32m'pydantic._internal._typing_extra'\u001b[0m                                        \u001b[2m            \u001b[0m\n",
       "\u001b[2;36m                    \u001b[0m         \u001b[1m(\u001b[0m\u001b[35m/Users/svengoerdes/Projects/Master/MLOps_Project/project/.venv/lib/pytho\u001b[0m \u001b[2m            \u001b[0m\n",
       "\u001b[2;36m                    \u001b[0m         \u001b[35mn3.9/site-packages/pydantic/_internal/\u001b[0m\u001b[95m_typing_extra.py\u001b[0m\u001b[1m)\u001b[0m                   \u001b[2m            \u001b[0m\n"
      ]
     },
     "metadata": {},
     "output_type": "display_data"
    }
   ],
   "source": [
    "import os\n",
    "# Adjust the path to be the root of your Kedro project\n",
    "os.chdir('/Users/svengoerdes/Projects/Master/MLOps_Project/project/')\n",
    "\n",
    "# Now, load the Kedro extension\n",
    "%load_ext kedro.ipython"
   ]
  },
  {
   "cell_type": "code",
   "execution_count": 2,
   "id": "da18b54c",
   "metadata": {},
   "outputs": [
    {
     "data": {
      "text/html": [
       "<pre style=\"white-space:pre;overflow-x:auto;line-height:normal;font-family:Menlo,'DejaVu Sans Mono',consolas,'Courier New',monospace\"><span style=\"color: #7fbfbf; text-decoration-color: #7fbfbf\">                    </span><span style=\"color: #000080; text-decoration-color: #000080\">INFO    </span> Loading data from <span style=\"color: #ff8700; text-decoration-color: #ff8700\">wine_ingested_data</span> <span style=\"font-weight: bold\">(</span>CSVDataset<span style=\"font-weight: bold\">)</span><span style=\"color: #808000; text-decoration-color: #808000\">...</span>               <a href=\"file:///Users/svengoerdes/Projects/Master/MLOps_Project/project/.venv/lib/python3.9/site-packages/kedro/io/data_catalog.py\" target=\"_blank\"><span style=\"color: #7f7f7f; text-decoration-color: #7f7f7f\">data_catalog.py</span></a><span style=\"color: #7f7f7f; text-decoration-color: #7f7f7f\">:</span><a href=\"file:///Users/svengoerdes/Projects/Master/MLOps_Project/project/.venv/lib/python3.9/site-packages/kedro/io/data_catalog.py#483\" target=\"_blank\"><span style=\"color: #7f7f7f; text-decoration-color: #7f7f7f\">483</span></a>\n",
       "</pre>\n"
      ],
      "text/plain": [
       "\u001b[2;36m                   \u001b[0m\u001b[2;36m \u001b[0m\u001b[34mINFO    \u001b[0m Loading data from \u001b[38;5;208mwine_ingested_data\u001b[0m \u001b[1m(\u001b[0mCSVDataset\u001b[1m)\u001b[0m\u001b[33m...\u001b[0m               \u001b]8;id=481346;file:///Users/svengoerdes/Projects/Master/MLOps_Project/project/.venv/lib/python3.9/site-packages/kedro/io/data_catalog.py\u001b\\\u001b[2mdata_catalog.py\u001b[0m\u001b]8;;\u001b\\\u001b[2m:\u001b[0m\u001b]8;id=937528;file:///Users/svengoerdes/Projects/Master/MLOps_Project/project/.venv/lib/python3.9/site-packages/kedro/io/data_catalog.py#483\u001b\\\u001b[2m483\u001b[0m\u001b]8;;\u001b\\\n"
      ]
     },
     "metadata": {},
     "output_type": "display_data"
    }
   ],
   "source": [
    "wine_ingested = catalog.load('wine_ingested_data')"
   ]
  },
  {
   "cell_type": "code",
   "execution_count": 3,
   "id": "967e1229",
   "metadata": {},
   "outputs": [
    {
     "name": "stdout",
     "output_type": "stream",
     "text": [
      "<class 'pandas.core.frame.DataFrame'>\n",
      "RangeIndex: 88224 entries, 0 to 88223\n",
      "Data columns (total 9 columns):\n",
      " #   Column       Non-Null Count  Dtype  \n",
      "---  ------       --------------  -----  \n",
      " 0   country      88166 non-null  object \n",
      " 1   points       88224 non-null  int64  \n",
      " 2   price        88224 non-null  float64\n",
      " 3   province     88166 non-null  object \n",
      " 4   region_1     73544 non-null  object \n",
      " 5   taster_name  69044 non-null  object \n",
      " 6   variety      88223 non-null  object \n",
      " 7   index        88224 non-null  int64  \n",
      " 8   datetime     88224 non-null  object \n",
      "dtypes: float64(1), int64(2), object(6)\n",
      "memory usage: 6.1+ MB\n"
     ]
    }
   ],
   "source": [
    "wine_ingested.info()"
   ]
  },
  {
   "cell_type": "code",
   "execution_count": null,
   "id": "8b35f712",
   "metadata": {},
   "outputs": [],
   "source": []
  },
  {
   "cell_type": "code",
   "execution_count": 4,
   "id": "5148b238",
   "metadata": {},
   "outputs": [
    {
     "data": {
      "text/html": [
       "<pre style=\"white-space:pre;overflow-x:auto;line-height:normal;font-family:Menlo,'DejaVu Sans Mono',consolas,'Courier New',monospace\"></pre>\n"
      ],
      "text/plain": []
     },
     "metadata": {},
     "output_type": "display_data"
    },
    {
     "data": {
      "application/vnd.microsoft.datawrangler.viewer.v0+json": {
       "columns": [
        {
         "name": "index",
         "rawType": "object",
         "type": "string"
        },
        {
         "name": "0",
         "rawType": "int64",
         "type": "integer"
        }
       ],
       "ref": "9b75d52b-1cb5-4820-ad40-c3aa5b83be42",
       "rows": [
        [
         "country",
         "58"
        ],
        [
         "points",
         "0"
        ],
        [
         "price",
         "0"
        ],
        [
         "province",
         "58"
        ],
        [
         "region_1",
         "14680"
        ],
        [
         "taster_name",
         "19180"
        ],
        [
         "variety",
         "1"
        ],
        [
         "index",
         "0"
        ],
        [
         "datetime",
         "0"
        ]
       ],
       "shape": {
        "columns": 1,
        "rows": 9
       }
      },
      "text/plain": [
       "\n",
       "country           \u001b[1;36m58\u001b[0m\n",
       "points             \u001b[1;36m0\u001b[0m\n",
       "price              \u001b[1;36m0\u001b[0m\n",
       "province          \u001b[1;36m58\u001b[0m\n",
       "region_1       \u001b[1;36m14680\u001b[0m\n",
       "taster_name    \u001b[1;36m19180\u001b[0m\n",
       "variety            \u001b[1;36m1\u001b[0m\n",
       "index              \u001b[1;36m0\u001b[0m\n",
       "datetime           \u001b[1;36m0\u001b[0m\n",
       "dtype: int64"
      ]
     },
     "execution_count": 4,
     "metadata": {},
     "output_type": "execute_result"
    }
   ],
   "source": [
    "wine_ingested.isna().sum()"
   ]
  },
  {
   "cell_type": "code",
   "execution_count": 6,
   "id": "27883a71",
   "metadata": {},
   "outputs": [],
   "source": [
    "import pandas as pd \n",
    "import typing as t \n",
    "\n",
    "# create me a finciton which drops the row for a list of colums if the value is na\n",
    "def drop_row(parameters: t.Dict, df: pd.DataFrame) -> pd.DataFrame:\n",
    "    return df.dropna(subset=parameters)"
   ]
  },
  {
   "cell_type": "code",
   "execution_count": null,
   "id": "50d7d856",
   "metadata": {},
   "outputs": [],
   "source": []
  },
  {
   "cell_type": "code",
   "execution_count": 13,
   "id": "c6892be7",
   "metadata": {},
   "outputs": [],
   "source": [
    "value_dropped_df = drop_row(['variety'], wine_ingested)"
   ]
  },
  {
   "cell_type": "code",
   "execution_count": null,
   "id": "65add888",
   "metadata": {},
   "outputs": [
    {
     "data": {
      "text/html": [
       "<pre style=\"white-space:pre;overflow-x:auto;line-height:normal;font-family:Menlo,'DejaVu Sans Mono',consolas,'Courier New',monospace\"><span style=\"color: #800000; text-decoration-color: #800000\">╭─────────────────────────────── </span><span style=\"color: #800000; text-decoration-color: #800000; font-weight: bold\">Traceback </span><span style=\"color: #bf7f7f; text-decoration-color: #bf7f7f; font-weight: bold\">(most recent call last)</span><span style=\"color: #800000; text-decoration-color: #800000\"> ────────────────────────────────╮</span>\n",
       "<span style=\"color: #800000; text-decoration-color: #800000\">│</span> in <span style=\"color: #00ff00; text-decoration-color: #00ff00\">&lt;module&gt;</span>:<span style=\"color: #0000ff; text-decoration-color: #0000ff\">1</span>                                                                                    <span style=\"color: #800000; text-decoration-color: #800000\">│</span>\n",
       "<span style=\"color: #800000; text-decoration-color: #800000\">│</span>                                                                                                  <span style=\"color: #800000; text-decoration-color: #800000\">│</span>\n",
       "<span style=\"color: #800000; text-decoration-color: #800000\">│</span> <span style=\"color: #800000; text-decoration-color: #800000\">❱ </span>1 value_dropped_df.groupby(wine_ingested[<span style=\"color: #808000; text-decoration-color: #808000\">'variety'</span>]).count().sort_values(ascending=<span style=\"color: #0000ff; text-decoration-color: #0000ff\">False</span>)      <span style=\"color: #800000; text-decoration-color: #800000\">│</span>\n",
       "<span style=\"color: #800000; text-decoration-color: #800000\">│</span>   <span style=\"color: #7f7f7f; text-decoration-color: #7f7f7f\">2 </span>                                                                                             <span style=\"color: #800000; text-decoration-color: #800000\">│</span>\n",
       "<span style=\"color: #800000; text-decoration-color: #800000\">╰──────────────────────────────────────────────────────────────────────────────────────────────────╯</span>\n",
       "<span style=\"color: #ff0000; text-decoration-color: #ff0000; font-weight: bold\">TypeError: </span><span style=\"color: #800080; text-decoration-color: #800080; font-weight: bold\">sort_values</span><span style=\"font-weight: bold\">()</span> missing <span style=\"color: #008080; text-decoration-color: #008080; font-weight: bold\">1</span> required positional argument: <span style=\"color: #008000; text-decoration-color: #008000\">'by'</span>\n",
       "</pre>\n"
      ],
      "text/plain": [
       "\u001b[31m╭─\u001b[0m\u001b[31m──────────────────────────────\u001b[0m\u001b[31m \u001b[0m\u001b[1;31mTraceback \u001b[0m\u001b[1;2;31m(most recent call last)\u001b[0m\u001b[31m \u001b[0m\u001b[31m───────────────────────────────\u001b[0m\u001b[31m─╮\u001b[0m\n",
       "\u001b[31m│\u001b[0m in \u001b[92m<module>\u001b[0m:\u001b[94m1\u001b[0m                                                                                    \u001b[31m│\u001b[0m\n",
       "\u001b[31m│\u001b[0m                                                                                                  \u001b[31m│\u001b[0m\n",
       "\u001b[31m│\u001b[0m \u001b[31m❱ \u001b[0m1 value_dropped_df.groupby(wine_ingested[\u001b[33m'\u001b[0m\u001b[33mvariety\u001b[0m\u001b[33m'\u001b[0m]).count().sort_values(ascending=\u001b[94mFalse\u001b[0m)      \u001b[31m│\u001b[0m\n",
       "\u001b[31m│\u001b[0m   \u001b[2m2 \u001b[0m                                                                                             \u001b[31m│\u001b[0m\n",
       "\u001b[31m╰──────────────────────────────────────────────────────────────────────────────────────────────────╯\u001b[0m\n",
       "\u001b[1;91mTypeError: \u001b[0m\u001b[1;35msort_values\u001b[0m\u001b[1m(\u001b[0m\u001b[1m)\u001b[0m missing \u001b[1;36m1\u001b[0m required positional argument: \u001b[32m'by'\u001b[0m\n"
      ]
     },
     "metadata": {},
     "output_type": "display_data"
    }
   ],
   "source": [
    "value_dropped_df.groupby(wine_ingested['variety']).count().sort_values(ascending=False)"
   ]
  },
  {
   "cell_type": "code",
   "execution_count": null,
   "id": "e7304d09",
   "metadata": {},
   "outputs": [
    {
     "name": "stdout",
     "output_type": "stream",
     "text": [
      "country: 44 unique values\n",
      "points: 21 unique values\n",
      "price: 391 unique values\n",
      "province: 426 unique values\n",
      "region_1: 1230 unique values\n",
      "taster_name: 20 unique values\n",
      "variety: 707 unique values\n",
      "index: 88223 unique values\n",
      "datetime: 1 unique values\n"
     ]
    }
   ],
   "source": [
    "# unique values for every column\n",
    "\n",
    "for col in wine_ingested.columns:\n",
    "    print(f\"{col}: {wine_ingested[col].nunique()} unique values\")"
   ]
  },
  {
   "cell_type": "code",
   "execution_count": null,
   "id": "62856a28",
   "metadata": {},
   "outputs": [
    {
     "name": "stdout",
     "output_type": "stream",
     "text": [
      "Index(['country', 'points', 'price', 'province', 'region_1', 'taster_name',\n",
      "       'variety', 'index', 'datetime'],\n",
      "      dtype='object')\n"
     ]
    },
    {
     "data": {
      "text/html": [
       "<pre style=\"white-space:pre;overflow-x:auto;line-height:normal;font-family:Menlo,'DejaVu Sans Mono',consolas,'Courier New',monospace\"></pre>\n"
      ],
      "text/plain": []
     },
     "metadata": {},
     "output_type": "display_data"
    },
    {
     "data": {
      "application/vnd.microsoft.datawrangler.viewer.v0+json": {
       "columns": [
        {
         "name": "index",
         "rawType": "int64",
         "type": "integer"
        },
        {
         "name": "country",
         "rawType": "object",
         "type": "string"
        },
        {
         "name": "points",
         "rawType": "int64",
         "type": "integer"
        },
        {
         "name": "price",
         "rawType": "float64",
         "type": "float"
        },
        {
         "name": "province",
         "rawType": "object",
         "type": "string"
        },
        {
         "name": "region_1",
         "rawType": "object",
         "type": "string"
        },
        {
         "name": "taster_name",
         "rawType": "object",
         "type": "string"
        },
        {
         "name": "variety",
         "rawType": "object",
         "type": "string"
        },
        {
         "name": "index",
         "rawType": "int64",
         "type": "integer"
        },
        {
         "name": "datetime",
         "rawType": "object",
         "type": "string"
        }
       ],
       "ref": "2592b2f7-fbe1-4dc2-8bc9-f0071ccb4cfe",
       "rows": [
        [
         "0",
         "Italy",
         "87",
         "0.0",
         "Sicily & Sardinia",
         "Etna",
         "Kerin O’Keefe",
         "White Blend",
         "0",
         "2025-01-01"
        ],
        [
         "1",
         "Portugal",
         "87",
         "15.0",
         "Douro",
         "unknown",
         "Roger Voss",
         "Portuguese Red",
         "1",
         "2025-01-01"
        ],
        [
         "2",
         "US",
         "87",
         "14.0",
         "Oregon",
         "Willamette Valley",
         "Paul Gregutt",
         "Pinot Gris",
         "2",
         "2025-01-01"
        ],
        [
         "3",
         "US",
         "87",
         "13.0",
         "Michigan",
         "Lake Michigan Shore",
         "Alexander Peartree",
         "Riesling",
         "3",
         "2025-01-01"
        ],
        [
         "4",
         "US",
         "87",
         "65.0",
         "Oregon",
         "Willamette Valley",
         "Paul Gregutt",
         "Pinot Noir",
         "4",
         "2025-01-01"
        ]
       ],
       "shape": {
        "columns": 9,
        "rows": 5
       }
      },
      "text/html": [
       "<div>\n",
       "<style scoped>\n",
       "    .dataframe tbody tr th:only-of-type {\n",
       "        vertical-align: middle;\n",
       "    }\n",
       "\n",
       "    .dataframe tbody tr th {\n",
       "        vertical-align: top;\n",
       "    }\n",
       "\n",
       "    .dataframe thead th {\n",
       "        text-align: right;\n",
       "    }\n",
       "</style>\n",
       "<table border=\"1\" class=\"dataframe\">\n",
       "  <thead>\n",
       "    <tr style=\"text-align: right;\">\n",
       "      <th></th>\n",
       "      <th>country</th>\n",
       "      <th>points</th>\n",
       "      <th>price</th>\n",
       "      <th>province</th>\n",
       "      <th>region_1</th>\n",
       "      <th>taster_name</th>\n",
       "      <th>variety</th>\n",
       "      <th>index</th>\n",
       "      <th>datetime</th>\n",
       "    </tr>\n",
       "  </thead>\n",
       "  <tbody>\n",
       "    <tr>\n",
       "      <th>0</th>\n",
       "      <td>Italy</td>\n",
       "      <td>87</td>\n",
       "      <td>0.0</td>\n",
       "      <td>Sicily &amp; Sardinia</td>\n",
       "      <td>Etna</td>\n",
       "      <td>Kerin O’Keefe</td>\n",
       "      <td>White Blend</td>\n",
       "      <td>0</td>\n",
       "      <td>2025-01-01</td>\n",
       "    </tr>\n",
       "    <tr>\n",
       "      <th>1</th>\n",
       "      <td>Portugal</td>\n",
       "      <td>87</td>\n",
       "      <td>15.0</td>\n",
       "      <td>Douro</td>\n",
       "      <td>unknown</td>\n",
       "      <td>Roger Voss</td>\n",
       "      <td>Portuguese Red</td>\n",
       "      <td>1</td>\n",
       "      <td>2025-01-01</td>\n",
       "    </tr>\n",
       "    <tr>\n",
       "      <th>2</th>\n",
       "      <td>US</td>\n",
       "      <td>87</td>\n",
       "      <td>14.0</td>\n",
       "      <td>Oregon</td>\n",
       "      <td>Willamette Valley</td>\n",
       "      <td>Paul Gregutt</td>\n",
       "      <td>Pinot Gris</td>\n",
       "      <td>2</td>\n",
       "      <td>2025-01-01</td>\n",
       "    </tr>\n",
       "    <tr>\n",
       "      <th>3</th>\n",
       "      <td>US</td>\n",
       "      <td>87</td>\n",
       "      <td>13.0</td>\n",
       "      <td>Michigan</td>\n",
       "      <td>Lake Michigan Shore</td>\n",
       "      <td>Alexander Peartree</td>\n",
       "      <td>Riesling</td>\n",
       "      <td>3</td>\n",
       "      <td>2025-01-01</td>\n",
       "    </tr>\n",
       "    <tr>\n",
       "      <th>4</th>\n",
       "      <td>US</td>\n",
       "      <td>87</td>\n",
       "      <td>65.0</td>\n",
       "      <td>Oregon</td>\n",
       "      <td>Willamette Valley</td>\n",
       "      <td>Paul Gregutt</td>\n",
       "      <td>Pinot Noir</td>\n",
       "      <td>4</td>\n",
       "      <td>2025-01-01</td>\n",
       "    </tr>\n",
       "  </tbody>\n",
       "</table>\n",
       "</div>"
      ],
      "text/plain": [
       "\n",
       "    country  points  price           province             region_1  \\\n",
       "\u001b[1;36m0\u001b[0m     Italy      \u001b[1;36m87\u001b[0m    \u001b[1;36m0.0\u001b[0m  Sicily & Sardinia                 Etna   \n",
       "\u001b[1;36m1\u001b[0m  Portugal      \u001b[1;36m87\u001b[0m   \u001b[1;36m15.0\u001b[0m              Douro              unknown   \n",
       "\u001b[1;36m2\u001b[0m        US      \u001b[1;36m87\u001b[0m   \u001b[1;36m14.0\u001b[0m             Oregon    Willamette Valley   \n",
       "\u001b[1;36m3\u001b[0m        US      \u001b[1;36m87\u001b[0m   \u001b[1;36m13.0\u001b[0m           Michigan  Lake Michigan Shore   \n",
       "\u001b[1;36m4\u001b[0m        US      \u001b[1;36m87\u001b[0m   \u001b[1;36m65.0\u001b[0m             Oregon    Willamette Valley   \n",
       "\n",
       "          taster_name         variety  index    datetime  \n",
       "\u001b[1;36m0\u001b[0m       Kerin O’Keefe     White Blend      \u001b[1;36m0\u001b[0m  \u001b[1;36m2025\u001b[0m-\u001b[1;36m01\u001b[0m-\u001b[1;36m01\u001b[0m  \n",
       "\u001b[1;36m1\u001b[0m          Roger Voss  Portuguese Red      \u001b[1;36m1\u001b[0m  \u001b[1;36m2025\u001b[0m-\u001b[1;36m01\u001b[0m-\u001b[1;36m01\u001b[0m  \n",
       "\u001b[1;36m2\u001b[0m        Paul Gregutt      Pinot Gris      \u001b[1;36m2\u001b[0m  \u001b[1;36m2025\u001b[0m-\u001b[1;36m01\u001b[0m-\u001b[1;36m01\u001b[0m  \n",
       "\u001b[1;36m3\u001b[0m  Alexander Peartree        Riesling      \u001b[1;36m3\u001b[0m  \u001b[1;36m2025\u001b[0m-\u001b[1;36m01\u001b[0m-\u001b[1;36m01\u001b[0m  \n",
       "\u001b[1;36m4\u001b[0m        Paul Gregutt      Pinot Noir      \u001b[1;36m4\u001b[0m  \u001b[1;36m2025\u001b[0m-\u001b[1;36m01\u001b[0m-\u001b[1;36m01\u001b[0m  "
      ]
     },
     "execution_count": 6,
     "metadata": {},
     "output_type": "execute_result"
    }
   ],
   "source": [
    "print(wine_ingested.columns)\n",
    "wine_ingested.head()\n",
    "# lets drop some of the columns that we will never fucking use\n",
    "\n"
   ]
  },
  {
   "cell_type": "code",
   "execution_count": 9,
   "id": "2b8c2aa4",
   "metadata": {},
   "outputs": [
    {
     "data": {
      "text/html": [
       "<pre style=\"white-space:pre;overflow-x:auto;line-height:normal;font-family:Menlo,'DejaVu Sans Mono',consolas,'Courier New',monospace\"><span style=\"color: #7fbfbf; text-decoration-color: #7fbfbf\">[06/21/25 15:07:38] </span><span style=\"color: #000080; text-decoration-color: #000080\">INFO    </span> Loading data from <span style=\"color: #ff8700; text-decoration-color: #ff8700\">wine_preprocessed</span> <span style=\"font-weight: bold\">(</span>CSVDataset<span style=\"font-weight: bold\">)</span><span style=\"color: #808000; text-decoration-color: #808000\">...</span>                <a href=\"file:///Users/svengoerdes/Projects/Master/MLOps_Project/project/.venv/lib/python3.9/site-packages/kedro/io/data_catalog.py\" target=\"_blank\"><span style=\"color: #7f7f7f; text-decoration-color: #7f7f7f\">data_catalog.py</span></a><span style=\"color: #7f7f7f; text-decoration-color: #7f7f7f\">:</span><a href=\"file:///Users/svengoerdes/Projects/Master/MLOps_Project/project/.venv/lib/python3.9/site-packages/kedro/io/data_catalog.py#483\" target=\"_blank\"><span style=\"color: #7f7f7f; text-decoration-color: #7f7f7f\">483</span></a>\n",
       "</pre>\n"
      ],
      "text/plain": [
       "\u001b[2;36m[06/21/25 15:07:38]\u001b[0m\u001b[2;36m \u001b[0m\u001b[34mINFO    \u001b[0m Loading data from \u001b[38;5;208mwine_preprocessed\u001b[0m \u001b[1m(\u001b[0mCSVDataset\u001b[1m)\u001b[0m\u001b[33m...\u001b[0m                \u001b]8;id=611186;file:///Users/svengoerdes/Projects/Master/MLOps_Project/project/.venv/lib/python3.9/site-packages/kedro/io/data_catalog.py\u001b\\\u001b[2mdata_catalog.py\u001b[0m\u001b]8;;\u001b\\\u001b[2m:\u001b[0m\u001b]8;id=402222;file:///Users/svengoerdes/Projects/Master/MLOps_Project/project/.venv/lib/python3.9/site-packages/kedro/io/data_catalog.py#483\u001b\\\u001b[2m483\u001b[0m\u001b]8;;\u001b\\\n"
      ]
     },
     "metadata": {},
     "output_type": "display_data"
    }
   ],
   "source": [
    "wine_preprocessed = catalog.load('wine_preprocessed')"
   ]
  },
  {
   "cell_type": "code",
   "execution_count": 12,
   "id": "01966f76",
   "metadata": {},
   "outputs": [
    {
     "name": "stdout",
     "output_type": "stream",
     "text": [
      "country: 44 unique values\n",
      "country\n",
      "US                        39001\n",
      "Italy                     12959\n",
      "France                    12797\n",
      "Spain                      4514\n",
      "Chile                      3196\n",
      "Portugal                   3157\n",
      "Austria                    2514\n",
      "Argentina                  2425\n",
      "Australia                  2020\n",
      "Germany                    1303\n",
      "South Africa               1185\n",
      "New Zealand                 928\n",
      "Israel                      434\n",
      "Greece                      410\n",
      "Canada                      218\n",
      "Hungary                     124\n",
      "Bulgaria                    118\n",
      "Romania                      99\n",
      "Uruguay                      96\n",
      "Slovenia                     76\n",
      "Turkey                       75\n",
      "Georgia                      72\n",
      "Croatia                      69\n",
      "Mexico                       68\n",
      "unknown                      58\n",
      "England                      57\n",
      "Moldova                      55\n",
      "Brazil                       49\n",
      "Lebanon                      32\n",
      "Morocco                      22\n",
      "Peru                         16\n",
      "Ukraine                      12\n",
      "Czech Republic               11\n",
      "Macedonia                    11\n",
      "Cyprus                       10\n",
      "Serbia                        8\n",
      "India                         8\n",
      "Luxembourg                    5\n",
      "Switzerland                   5\n",
      "Bosnia and Herzegovina        2\n",
      "Armenia                       2\n",
      "Slovakia                      1\n",
      "China                         1\n",
      "Egypt                         1\n",
      "Name: count, dtype: int64\n",
      "\n",
      "\n",
      "points: 21 unique values\n",
      "points\n",
      "88     10953\n",
      "87     10872\n",
      "90      9896\n",
      "86      8539\n",
      "89      8332\n",
      "91      7585\n",
      "85      6791\n",
      "92      6347\n",
      "84      4866\n",
      "93      4329\n",
      "94      2596\n",
      "83      2503\n",
      "82      1571\n",
      "95      1238\n",
      "81       630\n",
      "96       465\n",
      "80       380\n",
      "97       209\n",
      "98        73\n",
      "99        30\n",
      "100       19\n",
      "Name: count, dtype: int64\n",
      "\n",
      "\n",
      "price: 391 unique values\n",
      "price\n",
      "20.0     4442\n",
      "25.0     3935\n",
      "0.0      3718\n",
      "15.0     3674\n",
      "18.0     3381\n",
      "         ... \n",
      "764.0       1\n",
      "319.0       1\n",
      "419.0       1\n",
      "182.0       1\n",
      "848.0       1\n",
      "Name: count, Length: 391, dtype: int64\n",
      "\n",
      "\n",
      "province: 426 unique values\n",
      "province\n",
      "California         26476\n",
      "Washington          6309\n",
      "Tuscany             3455\n",
      "Oregon              3055\n",
      "Burgundy            2658\n",
      "                   ...  \n",
      "Markopoulo             1\n",
      "Piekenierskloof        1\n",
      "Krania Olympus         1\n",
      "Corinthia              1\n",
      "Neuchâtel              1\n",
      "Name: count, Length: 426, dtype: int64\n",
      "\n",
      "\n",
      "region_1: 1230 unique values\n",
      "region_1\n",
      "unknown                              14680\n",
      "Napa Valley                           2760\n",
      "Columbia Valley (WA)                  2676\n",
      "Paso Robles                           1823\n",
      "Russian River Valley                  1698\n",
      "                                     ...  \n",
      "Coteaux de Verdon                        1\n",
      "Moscato di Pantelleria                   1\n",
      "Valpolicella Valpantena Superiore        1\n",
      "Barossa-Langhorne Creek                  1\n",
      "Paestum                                  1\n",
      "Name: count, Length: 1230, dtype: int64\n",
      "\n",
      "\n",
      "taster_name: 20 unique values\n",
      "taster_name\n",
      "unknown               19180\n",
      "Roger Voss            14380\n",
      "Michael Schachner     10330\n",
      "Kerin O’Keefe          6902\n",
      "Virginie Boone         6712\n",
      "Paul Gregutt           6216\n",
      "Matt Kettmann          4676\n",
      "Joe Czerwinski         4086\n",
      "Sean P. Sullivan       3564\n",
      "Jim Gordon             3122\n",
      "Anna Lee C. Iijima     2690\n",
      "Anne Krebiehl MW       2475\n",
      "Lauren Buzzeo          1549\n",
      "Susan Kostrzewa         973\n",
      "Mike DeSimone           429\n",
      "Jeff Jenssen            409\n",
      "Alexander Peartree      376\n",
      "Carrie Dykes            126\n",
      "Fiona Adams              23\n",
      "Christina Pickard         6\n",
      "Name: count, dtype: int64\n",
      "\n",
      "\n",
      "variety: 707 unique values\n",
      "variety\n",
      "Pinot Noir                  8082\n",
      "Chardonnay                  7989\n",
      "Red Blend                   6646\n",
      "Cabernet Sauvignon          6393\n",
      "Bordeaux-style Red Blend    3789\n",
      "                            ... \n",
      "Vidadillo                      1\n",
      "Misket                         1\n",
      "Zelen                          1\n",
      "Other                          1\n",
      "Bobal-Cabernet Sauvignon       1\n",
      "Name: count, Length: 707, dtype: int64\n",
      "\n",
      "\n",
      "index: 88224 unique values\n",
      "index\n",
      "0        1\n",
      "58812    1\n",
      "58820    1\n",
      "58819    1\n",
      "58818    1\n",
      "        ..\n",
      "29407    1\n",
      "29406    1\n",
      "29405    1\n",
      "29404    1\n",
      "88223    1\n",
      "Name: count, Length: 88224, dtype: int64\n",
      "\n",
      "\n",
      "datetime: 1 unique values\n",
      "datetime\n",
      "2025-01-01    88224\n",
      "Name: count, dtype: int64\n",
      "\n",
      "\n"
     ]
    }
   ],
   "source": [
    "# show me the unique values for the columns in the preprocessed dataset and for eachc value the number of rows:\n",
    "\n",
    "\n",
    "for col in wine_preprocessed.columns:\n",
    "    print(f\"{col}: {wine_preprocessed[col].nunique()} unique values\")\n",
    "    print(wine_preprocessed[col].value_counts())\n",
    "    print(\"\\n\")"
   ]
  },
  {
   "cell_type": "code",
   "execution_count": null,
   "id": "a115a2a1",
   "metadata": {},
   "outputs": [
    {
     "data": {
      "text/html": [
       "<pre style=\"white-space:pre;overflow-x:auto;line-height:normal;font-family:Menlo,'DejaVu Sans Mono',consolas,'Courier New',monospace\"></pre>\n"
      ],
      "text/plain": []
     },
     "metadata": {},
     "output_type": "display_data"
    },
    {
     "data": {
      "application/vnd.microsoft.datawrangler.viewer.v0+json": {
       "columns": [
        {
         "name": "index",
         "rawType": "object",
         "type": "string"
        },
        {
         "name": "0",
         "rawType": "int64",
         "type": "integer"
        }
       ],
       "ref": "e50f8b3e-7077-4c5a-a8c7-886665405ddb",
       "rows": [
        [
         "province",
         "0"
        ]
       ],
       "shape": {
        "columns": 1,
        "rows": 1
       }
      },
      "text/plain": [
       "\n",
       "province    \u001b[1;36m0\u001b[0m\n",
       "dtype: int64"
      ]
     },
     "execution_count": 7,
     "metadata": {},
     "output_type": "execute_result"
    }
   ],
   "source": [
    "wine_ingested[['province']].isna().sum()"
   ]
  },
  {
   "cell_type": "code",
   "execution_count": null,
   "id": "95d07b88",
   "metadata": {},
   "outputs": [
    {
     "name": "stdout",
     "output_type": "stream",
     "text": [
      "Columns containing 'province': ['province']\n",
      "Columns containing 'region': ['region_1']\n"
     ]
    }
   ],
   "source": [
    "# Check for columns containing 'province'\n",
    "province_cols = [col for col in wine_ingested.columns if 'province' in col.lower()]\n",
    "print(\"Columns containing 'province':\", province_cols)\n",
    "\n",
    "# Check for columns containing 'region'\n",
    "region_cols = [col for col in wine_ingested.columns if 'region' in col.lower()]\n",
    "print(\"Columns containing 'region':\", region_cols)"
   ]
  },
  {
   "cell_type": "code",
   "execution_count": null,
   "id": "aa424e1b",
   "metadata": {},
   "outputs": [
    {
     "data": {
      "text/html": [
       "<pre style=\"white-space:pre;overflow-x:auto;line-height:normal;font-family:Menlo,'DejaVu Sans Mono',consolas,'Courier New',monospace\"></pre>\n"
      ],
      "text/plain": []
     },
     "metadata": {},
     "output_type": "display_data"
    },
    {
     "data": {
      "application/vnd.microsoft.datawrangler.viewer.v0+json": {
       "columns": [
        {
         "name": "index",
         "rawType": "int64",
         "type": "integer"
        },
        {
         "name": "country",
         "rawType": "object",
         "type": "string"
        },
        {
         "name": "points",
         "rawType": "int64",
         "type": "integer"
        },
        {
         "name": "price",
         "rawType": "float64",
         "type": "float"
        },
        {
         "name": "province",
         "rawType": "category",
         "type": "unknown"
        },
        {
         "name": "region_1",
         "rawType": "object",
         "type": "string"
        },
        {
         "name": "taster_name",
         "rawType": "object",
         "type": "string"
        },
        {
         "name": "variety",
         "rawType": "object",
         "type": "string"
        },
        {
         "name": "index",
         "rawType": "int64",
         "type": "integer"
        },
        {
         "name": "datetime",
         "rawType": "object",
         "type": "string"
        },
        {
         "name": "province_codes",
         "rawType": "int16",
         "type": "integer"
        }
       ],
       "ref": "fcc23b83-6a8d-499f-8098-caa211481634",
       "rows": [
        [
         "0",
         "Italy",
         "87",
         "0.0",
         "Sicily & Sardinia",
         "Etna",
         "Kerin O’Keefe",
         "White Blend",
         "0",
         "2025-01-01",
         "331"
        ],
        [
         "1",
         "Portugal",
         "87",
         "15.0",
         "Douro",
         "unknown",
         "Roger Voss",
         "Portuguese Red",
         "1",
         "2025-01-01",
         "108"
        ],
        [
         "2",
         "US",
         "87",
         "14.0",
         "Oregon",
         "Willamette Valley",
         "Paul Gregutt",
         "Pinot Gris",
         "2",
         "2025-01-01",
         "268"
        ],
        [
         "3",
         "US",
         "87",
         "13.0",
         "Michigan",
         "Lake Michigan Shore",
         "Alexander Peartree",
         "Riesling",
         "3",
         "2025-01-01",
         "218"
        ],
        [
         "4",
         "US",
         "87",
         "65.0",
         "Oregon",
         "Willamette Valley",
         "Paul Gregutt",
         "Pinot Noir",
         "4",
         "2025-01-01",
         "268"
        ]
       ],
       "shape": {
        "columns": 10,
        "rows": 5
       }
      },
      "text/html": [
       "<div>\n",
       "<style scoped>\n",
       "    .dataframe tbody tr th:only-of-type {\n",
       "        vertical-align: middle;\n",
       "    }\n",
       "\n",
       "    .dataframe tbody tr th {\n",
       "        vertical-align: top;\n",
       "    }\n",
       "\n",
       "    .dataframe thead th {\n",
       "        text-align: right;\n",
       "    }\n",
       "</style>\n",
       "<table border=\"1\" class=\"dataframe\">\n",
       "  <thead>\n",
       "    <tr style=\"text-align: right;\">\n",
       "      <th></th>\n",
       "      <th>country</th>\n",
       "      <th>points</th>\n",
       "      <th>price</th>\n",
       "      <th>province</th>\n",
       "      <th>region_1</th>\n",
       "      <th>taster_name</th>\n",
       "      <th>variety</th>\n",
       "      <th>index</th>\n",
       "      <th>datetime</th>\n",
       "      <th>province_codes</th>\n",
       "    </tr>\n",
       "  </thead>\n",
       "  <tbody>\n",
       "    <tr>\n",
       "      <th>0</th>\n",
       "      <td>Italy</td>\n",
       "      <td>87</td>\n",
       "      <td>0.0</td>\n",
       "      <td>Sicily &amp; Sardinia</td>\n",
       "      <td>Etna</td>\n",
       "      <td>Kerin O’Keefe</td>\n",
       "      <td>White Blend</td>\n",
       "      <td>0</td>\n",
       "      <td>2025-01-01</td>\n",
       "      <td>331</td>\n",
       "    </tr>\n",
       "    <tr>\n",
       "      <th>1</th>\n",
       "      <td>Portugal</td>\n",
       "      <td>87</td>\n",
       "      <td>15.0</td>\n",
       "      <td>Douro</td>\n",
       "      <td>unknown</td>\n",
       "      <td>Roger Voss</td>\n",
       "      <td>Portuguese Red</td>\n",
       "      <td>1</td>\n",
       "      <td>2025-01-01</td>\n",
       "      <td>108</td>\n",
       "    </tr>\n",
       "    <tr>\n",
       "      <th>2</th>\n",
       "      <td>US</td>\n",
       "      <td>87</td>\n",
       "      <td>14.0</td>\n",
       "      <td>Oregon</td>\n",
       "      <td>Willamette Valley</td>\n",
       "      <td>Paul Gregutt</td>\n",
       "      <td>Pinot Gris</td>\n",
       "      <td>2</td>\n",
       "      <td>2025-01-01</td>\n",
       "      <td>268</td>\n",
       "    </tr>\n",
       "    <tr>\n",
       "      <th>3</th>\n",
       "      <td>US</td>\n",
       "      <td>87</td>\n",
       "      <td>13.0</td>\n",
       "      <td>Michigan</td>\n",
       "      <td>Lake Michigan Shore</td>\n",
       "      <td>Alexander Peartree</td>\n",
       "      <td>Riesling</td>\n",
       "      <td>3</td>\n",
       "      <td>2025-01-01</td>\n",
       "      <td>218</td>\n",
       "    </tr>\n",
       "    <tr>\n",
       "      <th>4</th>\n",
       "      <td>US</td>\n",
       "      <td>87</td>\n",
       "      <td>65.0</td>\n",
       "      <td>Oregon</td>\n",
       "      <td>Willamette Valley</td>\n",
       "      <td>Paul Gregutt</td>\n",
       "      <td>Pinot Noir</td>\n",
       "      <td>4</td>\n",
       "      <td>2025-01-01</td>\n",
       "      <td>268</td>\n",
       "    </tr>\n",
       "  </tbody>\n",
       "</table>\n",
       "</div>"
      ],
      "text/plain": [
       "\n",
       "    country  points  price           province             region_1  \\\n",
       "\u001b[1;36m0\u001b[0m     Italy      \u001b[1;36m87\u001b[0m    \u001b[1;36m0.0\u001b[0m  Sicily & Sardinia                 Etna   \n",
       "\u001b[1;36m1\u001b[0m  Portugal      \u001b[1;36m87\u001b[0m   \u001b[1;36m15.0\u001b[0m              Douro              unknown   \n",
       "\u001b[1;36m2\u001b[0m        US      \u001b[1;36m87\u001b[0m   \u001b[1;36m14.0\u001b[0m             Oregon    Willamette Valley   \n",
       "\u001b[1;36m3\u001b[0m        US      \u001b[1;36m87\u001b[0m   \u001b[1;36m13.0\u001b[0m           Michigan  Lake Michigan Shore   \n",
       "\u001b[1;36m4\u001b[0m        US      \u001b[1;36m87\u001b[0m   \u001b[1;36m65.0\u001b[0m             Oregon    Willamette Valley   \n",
       "\n",
       "          taster_name         variety  index    datetime  province_codes  \n",
       "\u001b[1;36m0\u001b[0m       Kerin O’Keefe     White Blend      \u001b[1;36m0\u001b[0m  \u001b[1;36m2025\u001b[0m-\u001b[1;36m01\u001b[0m-\u001b[1;36m01\u001b[0m             \u001b[1;36m331\u001b[0m  \n",
       "\u001b[1;36m1\u001b[0m          Roger Voss  Portuguese Red      \u001b[1;36m1\u001b[0m  \u001b[1;36m2025\u001b[0m-\u001b[1;36m01\u001b[0m-\u001b[1;36m01\u001b[0m             \u001b[1;36m108\u001b[0m  \n",
       "\u001b[1;36m2\u001b[0m        Paul Gregutt      Pinot Gris      \u001b[1;36m2\u001b[0m  \u001b[1;36m2025\u001b[0m-\u001b[1;36m01\u001b[0m-\u001b[1;36m01\u001b[0m             \u001b[1;36m268\u001b[0m  \n",
       "\u001b[1;36m3\u001b[0m  Alexander Peartree        Riesling      \u001b[1;36m3\u001b[0m  \u001b[1;36m2025\u001b[0m-\u001b[1;36m01\u001b[0m-\u001b[1;36m01\u001b[0m             \u001b[1;36m218\u001b[0m  \n",
       "\u001b[1;36m4\u001b[0m        Paul Gregutt      Pinot Noir      \u001b[1;36m4\u001b[0m  \u001b[1;36m2025\u001b[0m-\u001b[1;36m01\u001b[0m-\u001b[1;36m01\u001b[0m             \u001b[1;36m268\u001b[0m  "
      ]
     },
     "execution_count": 9,
     "metadata": {},
     "output_type": "execute_result"
    }
   ],
   "source": [
    "# set 'Unnamed: 0' to index \n",
    "\n",
    "# lets replace na values with 'unknown' values\n",
    "import pandas as pd\n",
    "\n",
    "wine_ingested['province'] = wine_ingested['province'].apply(lambda x: 'unknown' if pd.isna(x) else x)\n",
    "# wine_ingested['province'] = wine_ingested['province'].fillna('unknown')\n",
    "\n",
    "\n",
    "\n",
    "# lets encode region_1 with values \n",
    "wine_ingested['province'] = wine_ingested['province'].astype('category')\n",
    "\n",
    "# \n",
    "wine_ingested['province_codes'] = wine_ingested['province'].cat.codes\n",
    "\n",
    "# encode categorical value with value 1000 \n",
    "\n",
    "# wine_ingested['province_codes'] = wine_ingested[['province_codes', 'province']].apply(lambda x: 1000 if x['province'] == 'unknown' else x['province_codes'])\n",
    "wine_ingested.loc[wine_ingested['province'] == 'unknown', 'province_codes'] = 1000\n",
    "wine_ingested.head()"
   ]
  },
  {
   "cell_type": "code",
   "execution_count": null,
   "id": "6e998f8f",
   "metadata": {},
   "outputs": [],
   "source": [
    "# wine_ingested.drop(['country', designation,], axis = 1)\n"
   ]
  },
  {
   "cell_type": "markdown",
   "id": "0ed91f84",
   "metadata": {},
   "source": [
    "designation, province, region_1, region_2 taster_name, taster_twitter_handle, title, winery, "
   ]
  },
  {
   "cell_type": "code",
   "execution_count": null,
   "id": "405f7aa4",
   "metadata": {},
   "outputs": [],
   "source": [
    "\n",
    "# drop unnecesarry columns\n",
    "def drop_col(columns: list[str], df: pd.DataFrame) -> pd.DataFrame:\n",
    "    return df.drop(columns)\n"
   ]
  },
  {
   "cell_type": "code",
   "execution_count": null,
   "id": "b1851eec",
   "metadata": {},
   "outputs": [
    {
     "data": {
      "text/html": [
       "<pre style=\"white-space:pre;overflow-x:auto;line-height:normal;font-family:Menlo,'DejaVu Sans Mono',consolas,'Courier New',monospace\"><span style=\"color: #7fbfbf; text-decoration-color: #7fbfbf\">[06/21/25 15:01:46] </span><span style=\"color: #000080; text-decoration-color: #000080\">INFO    </span> Loading data from <span style=\"color: #ff8700; text-decoration-color: #ff8700\">wine_preprocessed</span> <span style=\"font-weight: bold\">(</span>CSVDataset<span style=\"font-weight: bold\">)</span><span style=\"color: #808000; text-decoration-color: #808000\">...</span>                <a href=\"file:///Users/svengoerdes/Projects/Master/MLOps_Project/project/.venv/lib/python3.9/site-packages/kedro/io/data_catalog.py\" target=\"_blank\"><span style=\"color: #7f7f7f; text-decoration-color: #7f7f7f\">data_catalog.py</span></a><span style=\"color: #7f7f7f; text-decoration-color: #7f7f7f\">:</span><a href=\"file:///Users/svengoerdes/Projects/Master/MLOps_Project/project/.venv/lib/python3.9/site-packages/kedro/io/data_catalog.py#483\" target=\"_blank\"><span style=\"color: #7f7f7f; text-decoration-color: #7f7f7f\">483</span></a>\n",
       "</pre>\n"
      ],
      "text/plain": [
       "\u001b[2;36m[06/21/25 15:01:46]\u001b[0m\u001b[2;36m \u001b[0m\u001b[34mINFO    \u001b[0m Loading data from \u001b[38;5;208mwine_preprocessed\u001b[0m \u001b[1m(\u001b[0mCSVDataset\u001b[1m)\u001b[0m\u001b[33m...\u001b[0m                \u001b]8;id=936641;file:///Users/svengoerdes/Projects/Master/MLOps_Project/project/.venv/lib/python3.9/site-packages/kedro/io/data_catalog.py\u001b\\\u001b[2mdata_catalog.py\u001b[0m\u001b]8;;\u001b\\\u001b[2m:\u001b[0m\u001b]8;id=247296;file:///Users/svengoerdes/Projects/Master/MLOps_Project/project/.venv/lib/python3.9/site-packages/kedro/io/data_catalog.py#483\u001b\\\u001b[2m483\u001b[0m\u001b]8;;\u001b\\\n"
      ]
     },
     "metadata": {},
     "output_type": "display_data"
    }
   ],
   "source": [
    "wine_preprocessed = catalog.load('wine_preprocessed')"
   ]
  },
  {
   "cell_type": "code",
   "execution_count": null,
   "id": "a206e7a4",
   "metadata": {},
   "outputs": [
    {
     "data": {
      "text/html": [
       "<pre style=\"white-space:pre;overflow-x:auto;line-height:normal;font-family:Menlo,'DejaVu Sans Mono',consolas,'Courier New',monospace\"></pre>\n"
      ],
      "text/plain": []
     },
     "metadata": {},
     "output_type": "display_data"
    },
    {
     "data": {
      "application/vnd.microsoft.datawrangler.viewer.v0+json": {
       "columns": [
        {
         "name": "index",
         "rawType": "object",
         "type": "string"
        },
        {
         "name": "0",
         "rawType": "int64",
         "type": "integer"
        }
       ],
       "ref": "232ba2af-0eb3-4047-8d84-64a98a0dc907",
       "rows": [
        [
         "country",
         "0"
        ],
        [
         "points",
         "0"
        ],
        [
         "price",
         "0"
        ],
        [
         "province",
         "0"
        ],
        [
         "region_1",
         "0"
        ],
        [
         "taster_name",
         "0"
        ],
        [
         "variety",
         "0"
        ],
        [
         "index",
         "0"
        ],
        [
         "datetime",
         "0"
        ]
       ],
       "shape": {
        "columns": 1,
        "rows": 9
       }
      },
      "text/plain": [
       "\n",
       "country        \u001b[1;36m0\u001b[0m\n",
       "points         \u001b[1;36m0\u001b[0m\n",
       "price          \u001b[1;36m0\u001b[0m\n",
       "province       \u001b[1;36m0\u001b[0m\n",
       "region_1       \u001b[1;36m0\u001b[0m\n",
       "taster_name    \u001b[1;36m0\u001b[0m\n",
       "variety        \u001b[1;36m0\u001b[0m\n",
       "index          \u001b[1;36m0\u001b[0m\n",
       "datetime       \u001b[1;36m0\u001b[0m\n",
       "dtype: int64"
      ]
     },
     "execution_count": 13,
     "metadata": {},
     "output_type": "execute_result"
    }
   ],
   "source": [
    "wine_preprocessed.isna().sum()"
   ]
  },
  {
   "cell_type": "code",
   "execution_count": null,
   "id": "d543f6b6",
   "metadata": {},
   "outputs": [],
   "source": []
  }
 ],
 "metadata": {
  "kernelspec": {
   "display_name": ".venv",
   "language": "python",
   "name": "python3"
  },
  "language_info": {
   "codemirror_mode": {
    "name": "ipython",
    "version": 3
   },
   "file_extension": ".py",
   "mimetype": "text/x-python",
   "name": "python",
   "nbconvert_exporter": "python",
   "pygments_lexer": "ipython3",
   "version": "3.9.23"
  }
 },
 "nbformat": 4,
 "nbformat_minor": 5
}
