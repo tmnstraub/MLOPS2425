{
 "cells": [
  {
   "cell_type": "code",
   "execution_count": 100,
   "id": "30dbcda7",
   "metadata": {},
   "outputs": [],
   "source": [
    "import pandas as pd\n",
    "import numpy as np\n",
    "from typing import Dict, Optional\n",
    "import nannyml as nml"
   ]
  },
  {
   "cell_type": "code",
   "execution_count": 101,
   "id": "924dd097",
   "metadata": {},
   "outputs": [
    {
     "name": "stdout",
     "output_type": "stream",
     "text": [
      "The kedro.ipython extension is already loaded. To reload it, use:\n",
      "  %reload_ext kedro.ipython\n"
     ]
    }
   ],
   "source": [
    "%load_ext kedro.ipython"
   ]
  },
  {
   "cell_type": "code",
   "execution_count": 102,
   "id": "4182a773",
   "metadata": {},
   "outputs": [
    {
     "data": {
      "text/html": [
       "<pre style=\"white-space:pre;overflow-x:auto;line-height:normal;font-family:Menlo,'DejaVu Sans Mono',consolas,'Courier New',monospace\"><span style=\"color: #7fbfbf; text-decoration-color: #7fbfbf\">[06/28/25 15:26:50] </span><span style=\"color: #000080; text-decoration-color: #000080\">INFO    </span> Loading data from <span style=\"color: #ff8700; text-decoration-color: #ff8700\">wine_raw_data</span> <span style=\"font-weight: bold\">(</span>CSVDataset<span style=\"font-weight: bold\">)</span><span style=\"color: #808000; text-decoration-color: #808000\">...</span>                    <a href=\"file:///Users/svengoerdes/Projects/Master/MLOps_Project/project/.venv/lib/python3.9/site-packages/kedro/io/data_catalog.py\" target=\"_blank\"><span style=\"color: #7f7f7f; text-decoration-color: #7f7f7f\">data_catalog.py</span></a><span style=\"color: #7f7f7f; text-decoration-color: #7f7f7f\">:</span><a href=\"file:///Users/svengoerdes/Projects/Master/MLOps_Project/project/.venv/lib/python3.9/site-packages/kedro/io/data_catalog.py#403\" target=\"_blank\"><span style=\"color: #7f7f7f; text-decoration-color: #7f7f7f\">403</span></a>\n",
       "</pre>\n"
      ],
      "text/plain": [
       "\u001b[2;36m[06/28/25 15:26:50]\u001b[0m\u001b[2;36m \u001b[0m\u001b[34mINFO    \u001b[0m Loading data from \u001b[38;5;208mwine_raw_data\u001b[0m \u001b[1m(\u001b[0mCSVDataset\u001b[1m)\u001b[0m\u001b[33m...\u001b[0m                    \u001b]8;id=504673;file:///Users/svengoerdes/Projects/Master/MLOps_Project/project/.venv/lib/python3.9/site-packages/kedro/io/data_catalog.py\u001b\\\u001b[2mdata_catalog.py\u001b[0m\u001b]8;;\u001b\\\u001b[2m:\u001b[0m\u001b]8;id=856670;file:///Users/svengoerdes/Projects/Master/MLOps_Project/project/.venv/lib/python3.9/site-packages/kedro/io/data_catalog.py#403\u001b\\\u001b[2m403\u001b[0m\u001b]8;;\u001b\\\n"
      ]
     },
     "metadata": {},
     "output_type": "display_data"
    }
   ],
   "source": [
    "wine_raw = catalog.load('wine_raw_data')"
   ]
  },
  {
   "cell_type": "code",
   "execution_count": 103,
   "id": "67751c20",
   "metadata": {},
   "outputs": [
    {
     "data": {
      "text/html": [
       "<pre style=\"white-space:pre;overflow-x:auto;line-height:normal;font-family:Menlo,'DejaVu Sans Mono',consolas,'Courier New',monospace\"></pre>\n"
      ],
      "text/plain": []
     },
     "metadata": {},
     "output_type": "display_data"
    },
    {
     "data": {
      "text/plain": [
       "\u001b[1m<\u001b[0m\u001b[1;95mAxes:\u001b[0m\u001b[39m \u001b[0m\u001b[33mxlabel\u001b[0m\u001b[39m=\u001b[0m\u001b[32m'points'\u001b[0m\u001b[1m>\u001b[0m"
      ]
     },
     "execution_count": 103,
     "metadata": {},
     "output_type": "execute_result"
    },
    {
     "data": {
      "text/html": [
       "<pre style=\"white-space:pre;overflow-x:auto;line-height:normal;font-family:Menlo,'DejaVu Sans Mono',consolas,'Courier New',monospace\"></pre>\n"
      ],
      "text/plain": []
     },
     "metadata": {},
     "output_type": "display_data"
    },
    {
     "data": {
      "image/png": "[encoded data removed]",
      "text/plain": [
       "\u001b[1m<\u001b[0m\u001b[1;95mFigure\u001b[0m\u001b[39m size 100\u001b[0m\u001b[1;36m0x500\u001b[0m\u001b[39m with \u001b[0m\u001b[1;36m1\u001b[0m\u001b[39m Axes\u001b[0m\u001b[1m>\u001b[0m"
      ]
     },
     "metadata": {},
     "output_type": "display_data"
    }
   ],
   "source": [
    "# lets look at the current distribution ofthe points\n",
    "wine_raw['points'].value_counts().sort_index().plot(kind='bar', figsize=(10, 5))"
   ]
  },
  {
   "cell_type": "code",
   "execution_count": 104,
   "id": "58e3b630",
   "metadata": {},
   "outputs": [
    {
     "data": {
      "text/html": [
       "<pre style=\"white-space:pre;overflow-x:auto;line-height:normal;font-family:Menlo,'DejaVu Sans Mono',consolas,'Courier New',monospace\"></pre>\n"
      ],
      "text/plain": []
     },
     "metadata": {},
     "output_type": "display_data"
    },
    {
     "data": {
      "application/vnd.microsoft.datawrangler.viewer.v0+json": {
       "columns": [
        {
         "name": "index",
         "rawType": "object",
         "type": "string"
        },
        {
         "name": "points",
         "rawType": "float64",
         "type": "float"
        }
       ],
       "ref": "1123b593-3691-46fd-972e-49b1a48a033e",
       "rows": [
        [
         "count",
         "129971.0"
        ],
        [
         "mean",
         "88.44713820775404"
        ],
        [
         "std",
         "3.039730202916003"
        ],
        [
         "min",
         "80.0"
        ],
        [
         "25%",
         "86.0"
        ],
        [
         "50%",
         "88.0"
        ],
        [
         "75%",
         "91.0"
        ],
        [
         "max",
         "100.0"
        ]
       ],
       "shape": {
        "columns": 1,
        "rows": 8
       }
      },
      "text/plain": [
       "\n",
       "count    \u001b[1;36m129971.000000\u001b[0m\n",
       "mean         \u001b[1;36m88.447138\u001b[0m\n",
       "std           \u001b[1;36m3.039730\u001b[0m\n",
       "min          \u001b[1;36m80.000000\u001b[0m\n",
       "\u001b[1;36m25\u001b[0m%          \u001b[1;36m86.000000\u001b[0m\n",
       "\u001b[1;36m50\u001b[0m%          \u001b[1;36m88.000000\u001b[0m\n",
       "\u001b[1;36m75\u001b[0m%          \u001b[1;36m91.000000\u001b[0m\n",
       "max         \u001b[1;36m100.000000\u001b[0m\n",
       "Name: points, dtype: float64"
      ]
     },
     "execution_count": 104,
     "metadata": {},
     "output_type": "execute_result"
    }
   ],
   "source": [
    "wine_raw['points'].describe()"
   ]
  },
  {
   "cell_type": "code",
   "execution_count": 105,
   "id": "8b0009b3",
   "metadata": {},
   "outputs": [
    {
     "data": {
      "text/html": [
       "<pre style=\"white-space:pre;overflow-x:auto;line-height:normal;font-family:Menlo,'DejaVu Sans Mono',consolas,'Courier New',monospace\"></pre>\n"
      ],
      "text/plain": []
     },
     "metadata": {},
     "output_type": "display_data"
    },
    {
     "data": {
      "text/plain": [
       "\u001b[1;36m-5.80477299947163\u001b[0m"
      ]
     },
     "execution_count": 105,
     "metadata": {},
     "output_type": "execute_result"
    }
   ],
   "source": [
    "# lets take a sample of the original data and shift the data ponts by - 20 \n",
    "wine_sample = wine_raw.sample(30000, random_state=42)\n",
    "# lets use a normal distrubtion to generate a new set of points\n",
    "np.random.normal(loc = -5 ,scale = 3)"
   ]
  },
  {
   "cell_type": "code",
   "execution_count": 106,
   "id": "a597bd2d",
   "metadata": {},
   "outputs": [],
   "source": [
    "data_shift = np.random.normal(loc = -10 ,scale = 3, size = 30000)\n",
    "wine_sample['points'] = wine_sample['points'] + data_shift"
   ]
  },
  {
   "cell_type": "code",
   "execution_count": 107,
   "id": "aad19a59",
   "metadata": {},
   "outputs": [
    {
     "data": {
      "text/html": [
       "<pre style=\"white-space:pre;overflow-x:auto;line-height:normal;font-family:Menlo,'DejaVu Sans Mono',consolas,'Courier New',monospace\"></pre>\n"
      ],
      "text/plain": []
     },
     "metadata": {},
     "output_type": "display_data"
    },
    {
     "data": {
      "application/vnd.microsoft.datawrangler.viewer.v0+json": {
       "columns": [
        {
         "name": "index",
         "rawType": "object",
         "type": "string"
        },
        {
         "name": "points",
         "rawType": "float64",
         "type": "float"
        },
        {
         "name": "price",
         "rawType": "float64",
         "type": "float"
        }
       ],
       "ref": "4c3fad43-0d9b-482d-b126-a5df4568b1f9",
       "rows": [
        [
         "count",
         "30000.0",
         "27894.0"
        ],
        [
         "mean",
         "78.44897523939208",
         "35.39474438947444"
        ],
        [
         "std",
         "4.288730498902724",
         "41.52319285343306"
        ],
        [
         "min",
         "61.30661810991201",
         "4.0"
        ],
        [
         "25%",
         "75.53771324269877",
         "17.0"
        ],
        [
         "50%",
         "78.42530563376022",
         "25.0"
        ],
        [
         "75%",
         "81.35543545082781",
         "42.0"
        ],
        [
         "max",
         "95.0836817825829",
         "2013.0"
        ]
       ],
       "shape": {
        "columns": 2,
        "rows": 8
       }
      },
      "text/html": [
       "<div>\n",
       "<style scoped>\n",
       "    .dataframe tbody tr th:only-of-type {\n",
       "        vertical-align: middle;\n",
       "    }\n",
       "\n",
       "    .dataframe tbody tr th {\n",
       "        vertical-align: top;\n",
       "    }\n",
       "\n",
       "    .dataframe thead th {\n",
       "        text-align: right;\n",
       "    }\n",
       "</style>\n",
       "<table border=\"1\" class=\"dataframe\">\n",
       "  <thead>\n",
       "    <tr style=\"text-align: right;\">\n",
       "      <th></th>\n",
       "      <th>points</th>\n",
       "      <th>price</th>\n",
       "    </tr>\n",
       "  </thead>\n",
       "  <tbody>\n",
       "    <tr>\n",
       "      <th>count</th>\n",
       "      <td>30000.000000</td>\n",
       "      <td>27894.000000</td>\n",
       "    </tr>\n",
       "    <tr>\n",
       "      <th>mean</th>\n",
       "      <td>78.448975</td>\n",
       "      <td>35.394744</td>\n",
       "    </tr>\n",
       "    <tr>\n",
       "      <th>std</th>\n",
       "      <td>4.288730</td>\n",
       "      <td>41.523193</td>\n",
       "    </tr>\n",
       "    <tr>\n",
       "      <th>min</th>\n",
       "      <td>61.306618</td>\n",
       "      <td>4.000000</td>\n",
       "    </tr>\n",
       "    <tr>\n",
       "      <th>25%</th>\n",
       "      <td>75.537713</td>\n",
       "      <td>17.000000</td>\n",
       "    </tr>\n",
       "    <tr>\n",
       "      <th>50%</th>\n",
       "      <td>78.425306</td>\n",
       "      <td>25.000000</td>\n",
       "    </tr>\n",
       "    <tr>\n",
       "      <th>75%</th>\n",
       "      <td>81.355435</td>\n",
       "      <td>42.000000</td>\n",
       "    </tr>\n",
       "    <tr>\n",
       "      <th>max</th>\n",
       "      <td>95.083682</td>\n",
       "      <td>2013.000000</td>\n",
       "    </tr>\n",
       "  </tbody>\n",
       "</table>\n",
       "</div>"
      ],
      "text/plain": [
       "\n",
       "             points         price\n",
       "count  \u001b[1;36m30000.000000\u001b[0m  \u001b[1;36m27894.000000\u001b[0m\n",
       "mean      \u001b[1;36m78.448975\u001b[0m     \u001b[1;36m35.394744\u001b[0m\n",
       "std        \u001b[1;36m4.288730\u001b[0m     \u001b[1;36m41.523193\u001b[0m\n",
       "min       \u001b[1;36m61.306618\u001b[0m      \u001b[1;36m4.000000\u001b[0m\n",
       "\u001b[1;36m25\u001b[0m%       \u001b[1;36m75.537713\u001b[0m     \u001b[1;36m17.000000\u001b[0m\n",
       "\u001b[1;36m50\u001b[0m%       \u001b[1;36m78.425306\u001b[0m     \u001b[1;36m25.000000\u001b[0m\n",
       "\u001b[1;36m75\u001b[0m%       \u001b[1;36m81.355435\u001b[0m     \u001b[1;36m42.000000\u001b[0m\n",
       "max       \u001b[1;36m95.083682\u001b[0m   \u001b[1;36m2013.000000\u001b[0m"
      ]
     },
     "execution_count": 107,
     "metadata": {},
     "output_type": "execute_result"
    }
   ],
   "source": [
    "# make sure that every value is between [0, 100] -> if not this should get caught by great_expectations.\n",
    "wine_sample.describe()\n"
   ]
  },
  {
   "cell_type": "code",
   "execution_count": null,
   "id": "eb06a933",
   "metadata": {},
   "outputs": [],
   "source": []
  },
  {
   "cell_type": "code",
   "execution_count": 108,
   "id": "f808a15b",
   "metadata": {},
   "outputs": [],
   "source": [
    "wine_sample.reset_index(inplace= True, drop=True)\n",
    "\n",
    "# wine_sample.drop(columns=['index'], inplace=True)"
   ]
  },
  {
   "cell_type": "code",
   "execution_count": 109,
   "id": "5b6c6498",
   "metadata": {},
   "outputs": [
    {
     "data": {
      "text/html": [
       "<pre style=\"white-space:pre;overflow-x:auto;line-height:normal;font-family:Menlo,'DejaVu Sans Mono',consolas,'Courier New',monospace\"></pre>\n"
      ],
      "text/plain": []
     },
     "metadata": {},
     "output_type": "display_data"
    },
    {
     "data": {
      "application/vnd.microsoft.datawrangler.viewer.v0+json": {
       "columns": [
        {
         "name": "index",
         "rawType": "int64",
         "type": "integer"
        },
        {
         "name": "country",
         "rawType": "object",
         "type": "string"
        },
        {
         "name": "description",
         "rawType": "object",
         "type": "string"
        },
        {
         "name": "designation",
         "rawType": "object",
         "type": "unknown"
        },
        {
         "name": "points",
         "rawType": "float64",
         "type": "float"
        },
        {
         "name": "price",
         "rawType": "float64",
         "type": "float"
        },
        {
         "name": "province",
         "rawType": "object",
         "type": "string"
        },
        {
         "name": "region_1",
         "rawType": "object",
         "type": "string"
        },
        {
         "name": "region_2",
         "rawType": "object",
         "type": "unknown"
        },
        {
         "name": "taster_name",
         "rawType": "object",
         "type": "unknown"
        },
        {
         "name": "taster_twitter_handle",
         "rawType": "object",
         "type": "unknown"
        },
        {
         "name": "title",
         "rawType": "object",
         "type": "string"
        },
        {
         "name": "variety",
         "rawType": "object",
         "type": "string"
        },
        {
         "name": "winery",
         "rawType": "object",
         "type": "string"
        }
       ],
       "ref": "73ceb166-7b3a-4080-addc-d0a6b4daec52",
       "rows": [
        [
         "0",
         "Australia",
         "Possibly a little sweet, this is a soft, easygoing Chardonnay marked by clean, modest pear and melon flavors.",
         null,
         "67.93575472832669",
         "5.0",
         "Australia Other",
         "South Eastern Australia",
         null,
         "Joe Czerwinski",
         "@JoeCz",
         "Banrock Station 2006 Chardonnay (South Eastern Australia)",
         "Chardonnay",
         "Banrock Station"
        ],
        [
         "1",
         "France",
         "A soft, almost off dry wine that is full in the mouth. It has caramel and spice flavors as well as light acidity. The wine feels weighty and definitely needs food.",
         "Réserve",
         "68.97016374269171",
         "12.0",
         "Rhône Valley",
         "Côtes du Rhône",
         null,
         "Roger Voss",
         "@vossroger",
         "Cellier des Dauphins 2015 Réserve Rosé (Côtes du Rhône)",
         "Rosé",
         "Cellier des Dauphins"
        ],
        [
         "2",
         "Spain",
         "Generic white-fruit aromas of peach and apple are slightly pithy. This feels good but innocuous, while flavors of apple and stone fruits lose some of their snap and directness on a tropical-tasting finish.",
         "Estate Grown & Bottled",
         "77.23840240688885",
         "9.0",
         "Northern Spain",
         "Rueda",
         null,
         "Michael Schachner",
         "@wineschach",
         "Esperanza 2013 Estate Grown & Bottled Verdejo-Viura (Rueda)",
         "Verdejo-Viura",
         "Esperanza"
        ],
        [
         "3",
         "US",
         "This is the winery's best Nebula in years. While it's still a little on the soft, sweet side, the cool vintage has resonated in the wine's flavor, giving it a good structure housing cherry, currant and sandalwood flavors. Drink now.",
         "Nebula",
         "76.71648730093693",
         "29.0",
         "California",
         "Paso Robles",
         "Central Coast",
         null,
         null,
         "Midnight 2010 Nebula Cabernet Sauvignon (Paso Robles)",
         "Cabernet Sauvignon",
         "Midnight"
        ],
        [
         "4",
         "US",
         "This is a very rich Pinot whose primary virtue is fruit. It just explodes with delicious cherry jam, red currant, licorice and mocha flavors. Dry and crisply acidic, it's a beautiful wine for early drinking.",
         "Wiley Vineyard",
         "76.23530826835739",
         "40.0",
         "California",
         "Anderson Valley",
         null,
         null,
         null,
         "Harrington 2006 Wiley Vineyard Pinot Noir (Anderson Valley)",
         "Pinot Noir",
         "Harrington"
        ]
       ],
       "shape": {
        "columns": 13,
        "rows": 5
       }
      },
      "text/html": [
       "<div>\n",
       "<style scoped>\n",
       "    .dataframe tbody tr th:only-of-type {\n",
       "        vertical-align: middle;\n",
       "    }\n",
       "\n",
       "    .dataframe tbody tr th {\n",
       "        vertical-align: top;\n",
       "    }\n",
       "\n",
       "    .dataframe thead th {\n",
       "        text-align: right;\n",
       "    }\n",
       "</style>\n",
       "<table border=\"1\" class=\"dataframe\">\n",
       "  <thead>\n",
       "    <tr style=\"text-align: right;\">\n",
       "      <th></th>\n",
       "      <th>country</th>\n",
       "      <th>description</th>\n",
       "      <th>designation</th>\n",
       "      <th>points</th>\n",
       "      <th>price</th>\n",
       "      <th>province</th>\n",
       "      <th>region_1</th>\n",
       "      <th>region_2</th>\n",
       "      <th>taster_name</th>\n",
       "      <th>taster_twitter_handle</th>\n",
       "      <th>title</th>\n",
       "      <th>variety</th>\n",
       "      <th>winery</th>\n",
       "    </tr>\n",
       "  </thead>\n",
       "  <tbody>\n",
       "    <tr>\n",
       "      <th>0</th>\n",
       "      <td>Australia</td>\n",
       "      <td>Possibly a little sweet, this is a soft, easyg...</td>\n",
       "      <td>NaN</td>\n",
       "      <td>67.935755</td>\n",
       "      <td>5.0</td>\n",
       "      <td>Australia Other</td>\n",
       "      <td>South Eastern Australia</td>\n",
       "      <td>NaN</td>\n",
       "      <td>Joe Czerwinski</td>\n",
       "      <td>@JoeCz</td>\n",
       "      <td>Banrock Station 2006 Chardonnay (South Eastern...</td>\n",
       "      <td>Chardonnay</td>\n",
       "      <td>Banrock Station</td>\n",
       "    </tr>\n",
       "    <tr>\n",
       "      <th>1</th>\n",
       "      <td>France</td>\n",
       "      <td>A soft, almost off dry wine that is full in th...</td>\n",
       "      <td>Réserve</td>\n",
       "      <td>68.970164</td>\n",
       "      <td>12.0</td>\n",
       "      <td>Rhône Valley</td>\n",
       "      <td>Côtes du Rhône</td>\n",
       "      <td>NaN</td>\n",
       "      <td>Roger Voss</td>\n",
       "      <td>@vossroger</td>\n",
       "      <td>Cellier des Dauphins 2015 Réserve Rosé (Côtes ...</td>\n",
       "      <td>Rosé</td>\n",
       "      <td>Cellier des Dauphins</td>\n",
       "    </tr>\n",
       "    <tr>\n",
       "      <th>2</th>\n",
       "      <td>Spain</td>\n",
       "      <td>Generic white-fruit aromas of peach and apple ...</td>\n",
       "      <td>Estate Grown &amp; Bottled</td>\n",
       "      <td>77.238402</td>\n",
       "      <td>9.0</td>\n",
       "      <td>Northern Spain</td>\n",
       "      <td>Rueda</td>\n",
       "      <td>NaN</td>\n",
       "      <td>Michael Schachner</td>\n",
       "      <td>@wineschach</td>\n",
       "      <td>Esperanza 2013 Estate Grown &amp; Bottled Verdejo-...</td>\n",
       "      <td>Verdejo-Viura</td>\n",
       "      <td>Esperanza</td>\n",
       "    </tr>\n",
       "    <tr>\n",
       "      <th>3</th>\n",
       "      <td>US</td>\n",
       "      <td>This is the winery's best Nebula in years. Whi...</td>\n",
       "      <td>Nebula</td>\n",
       "      <td>76.716487</td>\n",
       "      <td>29.0</td>\n",
       "      <td>California</td>\n",
       "      <td>Paso Robles</td>\n",
       "      <td>Central Coast</td>\n",
       "      <td>NaN</td>\n",
       "      <td>NaN</td>\n",
       "      <td>Midnight 2010 Nebula Cabernet Sauvignon (Paso ...</td>\n",
       "      <td>Cabernet Sauvignon</td>\n",
       "      <td>Midnight</td>\n",
       "    </tr>\n",
       "    <tr>\n",
       "      <th>4</th>\n",
       "      <td>US</td>\n",
       "      <td>This is a very rich Pinot whose primary virtue...</td>\n",
       "      <td>Wiley Vineyard</td>\n",
       "      <td>76.235308</td>\n",
       "      <td>40.0</td>\n",
       "      <td>California</td>\n",
       "      <td>Anderson Valley</td>\n",
       "      <td>NaN</td>\n",
       "      <td>NaN</td>\n",
       "      <td>NaN</td>\n",
       "      <td>Harrington 2006 Wiley Vineyard Pinot Noir (And...</td>\n",
       "      <td>Pinot Noir</td>\n",
       "      <td>Harrington</td>\n",
       "    </tr>\n",
       "  </tbody>\n",
       "</table>\n",
       "</div>"
      ],
      "text/plain": [
       "\n",
       "     country                                        description  \\\n",
       "\u001b[1;36m0\u001b[0m  Australia  Possibly a little sweet, this is a soft, easyg\u001b[33m...\u001b[0m   \n",
       "\u001b[1;36m1\u001b[0m     France  A soft, almost off dry wine that is full in th\u001b[33m...\u001b[0m   \n",
       "\u001b[1;36m2\u001b[0m      Spain  Generic white-fruit aromas of peach and apple \u001b[33m...\u001b[0m   \n",
       "\u001b[1;36m3\u001b[0m         US  This is the winery's best Nebula in years. Whi\u001b[33m...\u001b[0m   \n",
       "\u001b[1;36m4\u001b[0m         US  This is a very rich Pinot whose primary virtue\u001b[33m...\u001b[0m   \n",
       "\n",
       "              designation     points  price         province  \\\n",
       "\u001b[1;36m0\u001b[0m                     NaN  \u001b[1;36m67.935755\u001b[0m    \u001b[1;36m5.0\u001b[0m  Australia Other   \n",
       "\u001b[1;36m1\u001b[0m                 Réserve  \u001b[1;36m68.970164\u001b[0m   \u001b[1;36m12.0\u001b[0m     Rhône Valley   \n",
       "\u001b[1;36m2\u001b[0m  Estate Grown & Bottled  \u001b[1;36m77.238402\u001b[0m    \u001b[1;36m9.0\u001b[0m   Northern Spain   \n",
       "\u001b[1;36m3\u001b[0m                  Nebula  \u001b[1;36m76.716487\u001b[0m   \u001b[1;36m29.0\u001b[0m       California   \n",
       "\u001b[1;36m4\u001b[0m          Wiley Vineyard  \u001b[1;36m76.235308\u001b[0m   \u001b[1;36m40.0\u001b[0m       California   \n",
       "\n",
       "                  region_1       region_2        taster_name  \\\n",
       "\u001b[1;36m0\u001b[0m  South Eastern Australia            NaN     Joe Czerwinski   \n",
       "\u001b[1;36m1\u001b[0m           Côtes du Rhône            NaN         Roger Voss   \n",
       "\u001b[1;36m2\u001b[0m                    Rueda            NaN  Michael Schachner   \n",
       "\u001b[1;36m3\u001b[0m              Paso Robles  Central Coast                NaN   \n",
       "\u001b[1;36m4\u001b[0m          Anderson Valley            NaN                NaN   \n",
       "\n",
       "  taster_twitter_handle                                              title  \\\n",
       "\u001b[1;36m0\u001b[0m                @JoeCz  Banrock Station \u001b[1;36m2006\u001b[0m Chardonnay \u001b[1m(\u001b[0mSouth Eastern\u001b[33m...\u001b[0m   \n",
       "\u001b[1;36m1\u001b[0m            @vossroger  Cellier des Dauphins \u001b[1;36m2015\u001b[0m Réserve Rosé \u001b[1m(\u001b[0mCôtes \u001b[33m...\u001b[0m   \n",
       "\u001b[1;36m2\u001b[0m           @wineschach  Esperanza \u001b[1;36m2013\u001b[0m Estate Grown & Bottled Verdejo-\u001b[33m...\u001b[0m   \n",
       "\u001b[1;36m3\u001b[0m                   NaN  Midnight \u001b[1;36m2010\u001b[0m Nebula Cabernet Sauvignon \u001b[1m(\u001b[0mPaso \u001b[33m...\u001b[0m   \n",
       "\u001b[1;36m4\u001b[0m                   NaN  Harrington \u001b[1;36m2006\u001b[0m Wiley Vineyard Pinot Noir \u001b[1m(\u001b[0mAnd\u001b[33m...\u001b[0m   \n",
       "\n",
       "              variety                winery  \n",
       "\u001b[1;36m0\u001b[0m          Chardonnay       Banrock Station  \n",
       "\u001b[1;36m1\u001b[0m                Rosé  Cellier des Dauphins  \n",
       "\u001b[1;36m2\u001b[0m       Verdejo-Viura             Esperanza  \n",
       "\u001b[1;36m3\u001b[0m  Cabernet Sauvignon              Midnight  \n",
       "\u001b[1;36m4\u001b[0m          Pinot Noir            Harrington  "
      ]
     },
     "execution_count": 109,
     "metadata": {},
     "output_type": "execute_result"
    }
   ],
   "source": [
    "wine_sample.head()"
   ]
  },
  {
   "cell_type": "code",
   "execution_count": 110,
   "id": "f5c166bc",
   "metadata": {},
   "outputs": [],
   "source": [
    "# save this new data_sample with new distribution to winemag-data-datadrift\n",
    "wine_sample.to_csv('../data/01_raw/winemag_data_drift.csv')"
   ]
  },
  {
   "cell_type": "code",
   "execution_count": 111,
   "id": "33925005",
   "metadata": {},
   "outputs": [],
   "source": [
    "# --- Helper Function ---\n",
    "def _add_timestamp_from_index(df: pd.DataFrame, ts_col_name: str) -> pd.DataFrame:\n",
    "    \"\"\"\n",
    "    Takes a DataFrame, creates a copy, and adds a new column \n",
    "    named `ts_col_name` from the DataFrame's index.\n",
    "    \"\"\"\n",
    "    df_copy = df.copy()\n",
    "    # reset_index() converts the index into a column named 'index'\n",
    "    df_copy = df_copy.reset_index()\n",
    "    # Rename it to the name specified in our parameters\n",
    "    df_copy = df_copy.rename(columns={'index': ts_col_name})\n",
    "    return df_copy\n",
    "\n",
    "# --- Main Nodes (Updated) ---\n",
    "\n",
    "# The data splitting and drift introduction nodes remain the same.\n",
    "\n",
    "def detect_univariate_drift(\n",
    "    reference_df: pd.DataFrame, \n",
    "    analysis_df: pd.DataFrame, \n",
    "    params: Dict\n",
    ") -> pd.DataFrame:\n",
    "    \"\"\"Calculates univariate drift using the DataFrame's index as the timestamp.\"\"\"\n",
    "    \n",
    "    ts_col = params['timestamp_column']\n",
    "    \n",
    "    # Use the helper to prepare data for NannyML\n",
    "    reference_df_nml = _add_timestamp_from_index(reference_df, ts_col)\n",
    "    analysis_df_nml = _add_timestamp_from_index(analysis_df, ts_col)\n",
    "\n",
    "    print(\"Detecting univariate drift...\")\n",
    "    calc = nml.UnivariateDriftCalculator(\n",
    "        column_names=params['features_to_monitor'],\n",
    "        timestamp_column_name=ts_col,\n",
    "        chunk_size=params['chunk_size']\n",
    "    ).fit(reference_data=reference_df_nml)\n",
    "    \n",
    "    results = calc.calculate(data=analysis_df_nml)\n",
    "    return results.to_df()"
   ]
  },
  {
   "cell_type": "code",
   "execution_count": 112,
   "id": "6af66b0c",
   "metadata": {},
   "outputs": [],
   "source": [
    "wine_sample_drift = _add_timestamp_from_index(wine_sample, 'record_id')"
   ]
  },
  {
   "cell_type": "code",
   "execution_count": 113,
   "id": "72ebc774",
   "metadata": {},
   "outputs": [
    {
     "data": {
      "text/html": [
       "<pre style=\"white-space:pre;overflow-x:auto;line-height:normal;font-family:Menlo,'DejaVu Sans Mono',consolas,'Courier New',monospace\"><span style=\"color: #7fbfbf; text-decoration-color: #7fbfbf\">[06/28/25 15:26:51] </span><span style=\"color: #000080; text-decoration-color: #000080\">INFO    </span> Loading data from <span style=\"color: #ff8700; text-decoration-color: #ff8700\">params:data_drift</span> <span style=\"font-weight: bold\">(</span>MemoryDataset<span style=\"font-weight: bold\">)</span><span style=\"color: #808000; text-decoration-color: #808000\">...</span>             <a href=\"file:///Users/svengoerdes/Projects/Master/MLOps_Project/project/.venv/lib/python3.9/site-packages/kedro/io/data_catalog.py\" target=\"_blank\"><span style=\"color: #7f7f7f; text-decoration-color: #7f7f7f\">data_catalog.py</span></a><span style=\"color: #7f7f7f; text-decoration-color: #7f7f7f\">:</span><a href=\"file:///Users/svengoerdes/Projects/Master/MLOps_Project/project/.venv/lib/python3.9/site-packages/kedro/io/data_catalog.py#403\" target=\"_blank\"><span style=\"color: #7f7f7f; text-decoration-color: #7f7f7f\">403</span></a>\n",
       "</pre>\n"
      ],
      "text/plain": [
       "\u001b[2;36m[06/28/25 15:26:51]\u001b[0m\u001b[2;36m \u001b[0m\u001b[34mINFO    \u001b[0m Loading data from \u001b[38;5;208mparams:data_drift\u001b[0m \u001b[1m(\u001b[0mMemoryDataset\u001b[1m)\u001b[0m\u001b[33m...\u001b[0m             \u001b]8;id=652667;file:///Users/svengoerdes/Projects/Master/MLOps_Project/project/.venv/lib/python3.9/site-packages/kedro/io/data_catalog.py\u001b\\\u001b[2mdata_catalog.py\u001b[0m\u001b]8;;\u001b\\\u001b[2m:\u001b[0m\u001b]8;id=15656;file:///Users/svengoerdes/Projects/Master/MLOps_Project/project/.venv/lib/python3.9/site-packages/kedro/io/data_catalog.py#403\u001b\\\u001b[2m403\u001b[0m\u001b]8;;\u001b\\\n"
      ]
     },
     "metadata": {},
     "output_type": "display_data"
    }
   ],
   "source": [
    "# load the params from parameters_data_drift.yml\n",
    "params = catalog.load('params:data_drift')"
   ]
  },
  {
   "cell_type": "code",
   "execution_count": 114,
   "id": "a32dcb3c",
   "metadata": {},
   "outputs": [
    {
     "data": {
      "text/html": [
       "<pre style=\"white-space:pre;overflow-x:auto;line-height:normal;font-family:Menlo,'DejaVu Sans Mono',consolas,'Courier New',monospace\"></pre>\n"
      ],
      "text/plain": []
     },
     "metadata": {},
     "output_type": "display_data"
    },
    {
     "data": {
      "text/plain": [
       "\n",
       "\u001b[1m{\u001b[0m\n",
       "    \u001b[32m'features_to_monitor'\u001b[0m: \u001b[1m[\u001b[0m\u001b[32m'points'\u001b[0m\u001b[1m]\u001b[0m,\n",
       "    \u001b[32m'timestamp_column'\u001b[0m: \u001b[32m'record_id'\u001b[0m,\n",
       "    \u001b[32m'target_column'\u001b[0m: \u001b[32m'price'\u001b[0m,\n",
       "    \u001b[32m'prediction_column'\u001b[0m: \u001b[32m'y_pred'\u001b[0m,\n",
       "    \u001b[32m'chunk_size'\u001b[0m: \u001b[1;36m100\u001b[0m\n",
       "\u001b[1m}\u001b[0m"
      ]
     },
     "execution_count": 114,
     "metadata": {},
     "output_type": "execute_result"
    }
   ],
   "source": [
    "params"
   ]
  },
  {
   "cell_type": "code",
   "execution_count": 115,
   "id": "b57cc5b3",
   "metadata": {},
   "outputs": [
    {
     "data": {
      "text/html": [
       "<pre style=\"white-space:pre;overflow-x:auto;line-height:normal;font-family:Menlo,'DejaVu Sans Mono',consolas,'Courier New',monospace\"></pre>\n"
      ],
      "text/plain": []
     },
     "metadata": {},
     "output_type": "display_data"
    },
    {
     "data": {
      "application/vnd.microsoft.datawrangler.viewer.v0+json": {
       "columns": [
        {
         "name": "index",
         "rawType": "int64",
         "type": "integer"
        },
        {
         "name": "country",
         "rawType": "object",
         "type": "string"
        },
        {
         "name": "description",
         "rawType": "object",
         "type": "string"
        },
        {
         "name": "designation",
         "rawType": "object",
         "type": "unknown"
        },
        {
         "name": "points",
         "rawType": "int64",
         "type": "integer"
        },
        {
         "name": "price",
         "rawType": "float64",
         "type": "float"
        },
        {
         "name": "province",
         "rawType": "object",
         "type": "string"
        },
        {
         "name": "region_1",
         "rawType": "object",
         "type": "unknown"
        },
        {
         "name": "region_2",
         "rawType": "object",
         "type": "unknown"
        },
        {
         "name": "taster_name",
         "rawType": "object",
         "type": "string"
        },
        {
         "name": "taster_twitter_handle",
         "rawType": "object",
         "type": "unknown"
        },
        {
         "name": "title",
         "rawType": "object",
         "type": "string"
        },
        {
         "name": "variety",
         "rawType": "object",
         "type": "string"
        },
        {
         "name": "winery",
         "rawType": "object",
         "type": "string"
        }
       ],
       "ref": "456d59a3-169a-41c1-8f42-239c5e4a01f3",
       "rows": [
        [
         "0",
         "Italy",
         "Aromas include tropical fruit, broom, brimstone and dried herb. The palate isn't overly expressive, offering unripened apple, citrus and dried sage alongside brisk acidity.",
         "Vulkà Bianco",
         "87",
         null,
         "Sicily & Sardinia",
         "Etna",
         null,
         "Kerin O’Keefe",
         "@kerinokeefe",
         "Nicosia 2013 Vulkà Bianco  (Etna)",
         "White Blend",
         "Nicosia"
        ],
        [
         "1",
         "Portugal",
         "This is ripe and fruity, a wine that is smooth while still structured. Firm tannins are filled out with juicy red berry fruits and freshened with acidity. It's  already drinkable, although it will certainly be better from 2016.",
         "Avidagos",
         "87",
         "15.0",
         "Douro",
         null,
         null,
         "Roger Voss",
         "@vossroger",
         "Quinta dos Avidagos 2011 Avidagos Red (Douro)",
         "Portuguese Red",
         "Quinta dos Avidagos"
        ],
        [
         "2",
         "US",
         "Tart and snappy, the flavors of lime flesh and rind dominate. Some green pineapple pokes through, with crisp acidity underscoring the flavors. The wine was all stainless-steel fermented.",
         null,
         "87",
         "14.0",
         "Oregon",
         "Willamette Valley",
         "Willamette Valley",
         "Paul Gregutt",
         "@paulgwine ",
         "Rainstorm 2013 Pinot Gris (Willamette Valley)",
         "Pinot Gris",
         "Rainstorm"
        ],
        [
         "3",
         "US",
         "Pineapple rind, lemon pith and orange blossom start off the aromas. The palate is a bit more opulent, with notes of honey-drizzled guava and mango giving way to a slightly astringent, semidry finish.",
         "Reserve Late Harvest",
         "87",
         "13.0",
         "Michigan",
         "Lake Michigan Shore",
         null,
         "Alexander Peartree",
         null,
         "St. Julian 2013 Reserve Late Harvest Riesling (Lake Michigan Shore)",
         "Riesling",
         "St. Julian"
        ],
        [
         "4",
         "US",
         "Much like the regular bottling from 2012, this comes across as rather rough and tannic, with rustic, earthy, herbal characteristics. Nonetheless, if you think of it as a pleasantly unfussy country wine, it's a good companion to a hearty winter stew.",
         "Vintner's Reserve Wild Child Block",
         "87",
         "65.0",
         "Oregon",
         "Willamette Valley",
         "Willamette Valley",
         "Paul Gregutt",
         "@paulgwine ",
         "Sweet Cheeks 2012 Vintner's Reserve Wild Child Block Pinot Noir (Willamette Valley)",
         "Pinot Noir",
         "Sweet Cheeks"
        ]
       ],
       "shape": {
        "columns": 13,
        "rows": 5
       }
      },
      "text/html": [
       "<div>\n",
       "<style scoped>\n",
       "    .dataframe tbody tr th:only-of-type {\n",
       "        vertical-align: middle;\n",
       "    }\n",
       "\n",
       "    .dataframe tbody tr th {\n",
       "        vertical-align: top;\n",
       "    }\n",
       "\n",
       "    .dataframe thead th {\n",
       "        text-align: right;\n",
       "    }\n",
       "</style>\n",
       "<table border=\"1\" class=\"dataframe\">\n",
       "  <thead>\n",
       "    <tr style=\"text-align: right;\">\n",
       "      <th></th>\n",
       "      <th>country</th>\n",
       "      <th>description</th>\n",
       "      <th>designation</th>\n",
       "      <th>points</th>\n",
       "      <th>price</th>\n",
       "      <th>province</th>\n",
       "      <th>region_1</th>\n",
       "      <th>region_2</th>\n",
       "      <th>taster_name</th>\n",
       "      <th>taster_twitter_handle</th>\n",
       "      <th>title</th>\n",
       "      <th>variety</th>\n",
       "      <th>winery</th>\n",
       "    </tr>\n",
       "  </thead>\n",
       "  <tbody>\n",
       "    <tr>\n",
       "      <th>0</th>\n",
       "      <td>Italy</td>\n",
       "      <td>Aromas include tropical fruit, broom, brimston...</td>\n",
       "      <td>Vulkà Bianco</td>\n",
       "      <td>87</td>\n",
       "      <td>NaN</td>\n",
       "      <td>Sicily &amp; Sardinia</td>\n",
       "      <td>Etna</td>\n",
       "      <td>NaN</td>\n",
       "      <td>Kerin O’Keefe</td>\n",
       "      <td>@kerinokeefe</td>\n",
       "      <td>Nicosia 2013 Vulkà Bianco  (Etna)</td>\n",
       "      <td>White Blend</td>\n",
       "      <td>Nicosia</td>\n",
       "    </tr>\n",
       "    <tr>\n",
       "      <th>1</th>\n",
       "      <td>Portugal</td>\n",
       "      <td>This is ripe and fruity, a wine that is smooth...</td>\n",
       "      <td>Avidagos</td>\n",
       "      <td>87</td>\n",
       "      <td>15.0</td>\n",
       "      <td>Douro</td>\n",
       "      <td>NaN</td>\n",
       "      <td>NaN</td>\n",
       "      <td>Roger Voss</td>\n",
       "      <td>@vossroger</td>\n",
       "      <td>Quinta dos Avidagos 2011 Avidagos Red (Douro)</td>\n",
       "      <td>Portuguese Red</td>\n",
       "      <td>Quinta dos Avidagos</td>\n",
       "    </tr>\n",
       "    <tr>\n",
       "      <th>2</th>\n",
       "      <td>US</td>\n",
       "      <td>Tart and snappy, the flavors of lime flesh and...</td>\n",
       "      <td>NaN</td>\n",
       "      <td>87</td>\n",
       "      <td>14.0</td>\n",
       "      <td>Oregon</td>\n",
       "      <td>Willamette Valley</td>\n",
       "      <td>Willamette Valley</td>\n",
       "      <td>Paul Gregutt</td>\n",
       "      <td>@paulgwine</td>\n",
       "      <td>Rainstorm 2013 Pinot Gris (Willamette Valley)</td>\n",
       "      <td>Pinot Gris</td>\n",
       "      <td>Rainstorm</td>\n",
       "    </tr>\n",
       "    <tr>\n",
       "      <th>3</th>\n",
       "      <td>US</td>\n",
       "      <td>Pineapple rind, lemon pith and orange blossom ...</td>\n",
       "      <td>Reserve Late Harvest</td>\n",
       "      <td>87</td>\n",
       "      <td>13.0</td>\n",
       "      <td>Michigan</td>\n",
       "      <td>Lake Michigan Shore</td>\n",
       "      <td>NaN</td>\n",
       "      <td>Alexander Peartree</td>\n",
       "      <td>NaN</td>\n",
       "      <td>St. Julian 2013 Reserve Late Harvest Riesling ...</td>\n",
       "      <td>Riesling</td>\n",
       "      <td>St. Julian</td>\n",
       "    </tr>\n",
       "    <tr>\n",
       "      <th>4</th>\n",
       "      <td>US</td>\n",
       "      <td>Much like the regular bottling from 2012, this...</td>\n",
       "      <td>Vintner's Reserve Wild Child Block</td>\n",
       "      <td>87</td>\n",
       "      <td>65.0</td>\n",
       "      <td>Oregon</td>\n",
       "      <td>Willamette Valley</td>\n",
       "      <td>Willamette Valley</td>\n",
       "      <td>Paul Gregutt</td>\n",
       "      <td>@paulgwine</td>\n",
       "      <td>Sweet Cheeks 2012 Vintner's Reserve Wild Child...</td>\n",
       "      <td>Pinot Noir</td>\n",
       "      <td>Sweet Cheeks</td>\n",
       "    </tr>\n",
       "  </tbody>\n",
       "</table>\n",
       "</div>"
      ],
      "text/plain": [
       "\n",
       "    country                                        description  \\\n",
       "\u001b[1;36m0\u001b[0m     Italy  Aromas include tropical fruit, broom, brimston\u001b[33m...\u001b[0m   \n",
       "\u001b[1;36m1\u001b[0m  Portugal  This is ripe and fruity, a wine that is smooth\u001b[33m...\u001b[0m   \n",
       "\u001b[1;36m2\u001b[0m        US  Tart and snappy, the flavors of lime flesh and\u001b[33m...\u001b[0m   \n",
       "\u001b[1;36m3\u001b[0m        US  Pineapple rind, lemon pith and orange blossom \u001b[33m...\u001b[0m   \n",
       "\u001b[1;36m4\u001b[0m        US  Much like the regular bottling from \u001b[1;36m2012\u001b[0m, this\u001b[33m...\u001b[0m   \n",
       "\n",
       "                          designation  points  price           province  \\\n",
       "\u001b[1;36m0\u001b[0m                        Vulkà Bianco      \u001b[1;36m87\u001b[0m    NaN  Sicily & Sardinia   \n",
       "\u001b[1;36m1\u001b[0m                            Avidagos      \u001b[1;36m87\u001b[0m   \u001b[1;36m15.0\u001b[0m              Douro   \n",
       "\u001b[1;36m2\u001b[0m                                 NaN      \u001b[1;36m87\u001b[0m   \u001b[1;36m14.0\u001b[0m             Oregon   \n",
       "\u001b[1;36m3\u001b[0m                Reserve Late Harvest      \u001b[1;36m87\u001b[0m   \u001b[1;36m13.0\u001b[0m           Michigan   \n",
       "\u001b[1;36m4\u001b[0m  Vintner's Reserve Wild Child Block      \u001b[1;36m87\u001b[0m   \u001b[1;36m65.0\u001b[0m             Oregon   \n",
       "\n",
       "              region_1           region_2         taster_name  \\\n",
       "\u001b[1;36m0\u001b[0m                 Etna                NaN       Kerin O’Keefe   \n",
       "\u001b[1;36m1\u001b[0m                  NaN                NaN          Roger Voss   \n",
       "\u001b[1;36m2\u001b[0m    Willamette Valley  Willamette Valley        Paul Gregutt   \n",
       "\u001b[1;36m3\u001b[0m  Lake Michigan Shore                NaN  Alexander Peartree   \n",
       "\u001b[1;36m4\u001b[0m    Willamette Valley  Willamette Valley        Paul Gregutt   \n",
       "\n",
       "  taster_twitter_handle                                              title  \\\n",
       "\u001b[1;36m0\u001b[0m          @kerinokeefe                  Nicosia \u001b[1;36m2013\u001b[0m Vulkà Bianco  \u001b[1m(\u001b[0mEtna\u001b[1m)\u001b[0m   \n",
       "\u001b[1;36m1\u001b[0m            @vossroger      Quinta dos Avidagos \u001b[1;36m2011\u001b[0m Avidagos Red \u001b[1m(\u001b[0mDouro\u001b[1m)\u001b[0m   \n",
       "\u001b[1;36m2\u001b[0m           @paulgwine       Rainstorm \u001b[1;36m2013\u001b[0m Pinot Gris \u001b[1m(\u001b[0mWillamette Valley\u001b[1m)\u001b[0m   \n",
       "\u001b[1;36m3\u001b[0m                   NaN  St. Julian \u001b[1;36m2013\u001b[0m Reserve Late Harvest Riesling \u001b[33m...\u001b[0m   \n",
       "\u001b[1;36m4\u001b[0m           @paulgwine   Sweet Cheeks \u001b[1;36m2012\u001b[0m Vintner's Reserve Wild Child\u001b[33m...\u001b[0m   \n",
       "\n",
       "          variety               winery  \n",
       "\u001b[1;36m0\u001b[0m     White Blend              Nicosia  \n",
       "\u001b[1;36m1\u001b[0m  Portuguese Red  Quinta dos Avidagos  \n",
       "\u001b[1;36m2\u001b[0m      Pinot Gris            Rainstorm  \n",
       "\u001b[1;36m3\u001b[0m        Riesling           St. Julian  \n",
       "\u001b[1;36m4\u001b[0m      Pinot Noir         Sweet Cheeks  "
      ]
     },
     "execution_count": 115,
     "metadata": {},
     "output_type": "execute_result"
    }
   ],
   "source": [
    "wine_raw.head()"
   ]
  },
  {
   "cell_type": "code",
   "execution_count": 116,
   "id": "eeccc624",
   "metadata": {},
   "outputs": [
    {
     "name": "stdout",
     "output_type": "stream",
     "text": [
      "Index(['country', 'description', 'designation', 'points', 'price', 'province',\n",
      "       'region_1', 'region_2', 'taster_name', 'taster_twitter_handle', 'title',\n",
      "       'variety', 'winery'],\n",
      "      dtype='object')\n"
     ]
    }
   ],
   "source": [
    "print(wine_raw.columns)"
   ]
  },
  {
   "cell_type": "code",
   "execution_count": 117,
   "id": "13b36860",
   "metadata": {},
   "outputs": [
    {
     "data": {
      "text/html": [
       "<pre style=\"white-space:pre;overflow-x:auto;line-height:normal;font-family:Menlo,'DejaVu Sans Mono',consolas,'Courier New',monospace\"></pre>\n"
      ],
      "text/plain": []
     },
     "metadata": {},
     "output_type": "display_data"
    },
    {
     "data": {
      "text/plain": [
       "\u001b[1;35mIndex\u001b[0m\u001b[1m(\u001b[0m\u001b[1m[\u001b[0m\u001b[1m]\u001b[0m, \u001b[33mdtype\u001b[0m=\u001b[32m'object'\u001b[0m\u001b[1m)\u001b[0m"
      ]
     },
     "execution_count": 117,
     "metadata": {},
     "output_type": "execute_result"
    }
   ],
   "source": [
    "duplicated_columns = wine_raw.columns[wine_raw.columns.duplicated()]\n",
    "duplicated_columns"
   ]
  },
  {
   "cell_type": "code",
   "execution_count": 118,
   "id": "d753680f",
   "metadata": {},
   "outputs": [
    {
     "data": {
      "text/html": [
       "<pre style=\"white-space:pre;overflow-x:auto;line-height:normal;font-family:Menlo,'DejaVu Sans Mono',consolas,'Courier New',monospace\"></pre>\n"
      ],
      "text/plain": []
     },
     "metadata": {},
     "output_type": "display_data"
    },
    {
     "data": {
      "text/plain": [
       "\u001b[1;35mIndex\u001b[0m\u001b[1m(\u001b[0m\u001b[1m[\u001b[0m\u001b[1m]\u001b[0m, \u001b[33mdtype\u001b[0m=\u001b[32m'object'\u001b[0m\u001b[1m)\u001b[0m"
      ]
     },
     "execution_count": 118,
     "metadata": {},
     "output_type": "execute_result"
    }
   ],
   "source": [
    "duplicated_columns = wine_sample_drift.columns[wine_sample_drift.columns.duplicated()]\n",
    "duplicated_columns"
   ]
  },
  {
   "cell_type": "code",
   "execution_count": 119,
   "id": "91cf08b7",
   "metadata": {},
   "outputs": [
    {
     "data": {
      "text/html": [
       "<pre style=\"white-space:pre;overflow-x:auto;line-height:normal;font-family:Menlo,'DejaVu Sans Mono',consolas,'Courier New',monospace\"></pre>\n"
      ],
      "text/plain": []
     },
     "metadata": {},
     "output_type": "display_data"
    },
    {
     "data": {
      "application/vnd.microsoft.datawrangler.viewer.v0+json": {
       "columns": [
        {
         "name": "index",
         "rawType": "int64",
         "type": "integer"
        },
        {
         "name": "record_id",
         "rawType": "int64",
         "type": "integer"
        },
        {
         "name": "country",
         "rawType": "object",
         "type": "string"
        },
        {
         "name": "description",
         "rawType": "object",
         "type": "string"
        },
        {
         "name": "designation",
         "rawType": "object",
         "type": "unknown"
        },
        {
         "name": "points",
         "rawType": "float64",
         "type": "float"
        },
        {
         "name": "price",
         "rawType": "float64",
         "type": "float"
        },
        {
         "name": "province",
         "rawType": "object",
         "type": "string"
        },
        {
         "name": "region_1",
         "rawType": "object",
         "type": "string"
        },
        {
         "name": "region_2",
         "rawType": "object",
         "type": "unknown"
        },
        {
         "name": "taster_name",
         "rawType": "object",
         "type": "unknown"
        },
        {
         "name": "taster_twitter_handle",
         "rawType": "object",
         "type": "unknown"
        },
        {
         "name": "title",
         "rawType": "object",
         "type": "string"
        },
        {
         "name": "variety",
         "rawType": "object",
         "type": "string"
        },
        {
         "name": "winery",
         "rawType": "object",
         "type": "string"
        }
       ],
       "ref": "926ef4e0-e836-45a3-9f0c-1d23aa9ee8b3",
       "rows": [
        [
         "0",
         "0",
         "Australia",
         "Possibly a little sweet, this is a soft, easygoing Chardonnay marked by clean, modest pear and melon flavors.",
         null,
         "67.93575472832669",
         "5.0",
         "Australia Other",
         "South Eastern Australia",
         null,
         "Joe Czerwinski",
         "@JoeCz",
         "Banrock Station 2006 Chardonnay (South Eastern Australia)",
         "Chardonnay",
         "Banrock Station"
        ],
        [
         "1",
         "1",
         "France",
         "A soft, almost off dry wine that is full in the mouth. It has caramel and spice flavors as well as light acidity. The wine feels weighty and definitely needs food.",
         "Réserve",
         "68.97016374269171",
         "12.0",
         "Rhône Valley",
         "Côtes du Rhône",
         null,
         "Roger Voss",
         "@vossroger",
         "Cellier des Dauphins 2015 Réserve Rosé (Côtes du Rhône)",
         "Rosé",
         "Cellier des Dauphins"
        ],
        [
         "2",
         "2",
         "Spain",
         "Generic white-fruit aromas of peach and apple are slightly pithy. This feels good but innocuous, while flavors of apple and stone fruits lose some of their snap and directness on a tropical-tasting finish.",
         "Estate Grown & Bottled",
         "77.23840240688885",
         "9.0",
         "Northern Spain",
         "Rueda",
         null,
         "Michael Schachner",
         "@wineschach",
         "Esperanza 2013 Estate Grown & Bottled Verdejo-Viura (Rueda)",
         "Verdejo-Viura",
         "Esperanza"
        ],
        [
         "3",
         "3",
         "US",
         "This is the winery's best Nebula in years. While it's still a little on the soft, sweet side, the cool vintage has resonated in the wine's flavor, giving it a good structure housing cherry, currant and sandalwood flavors. Drink now.",
         "Nebula",
         "76.71648730093693",
         "29.0",
         "California",
         "Paso Robles",
         "Central Coast",
         null,
         null,
         "Midnight 2010 Nebula Cabernet Sauvignon (Paso Robles)",
         "Cabernet Sauvignon",
         "Midnight"
        ],
        [
         "4",
         "4",
         "US",
         "This is a very rich Pinot whose primary virtue is fruit. It just explodes with delicious cherry jam, red currant, licorice and mocha flavors. Dry and crisply acidic, it's a beautiful wine for early drinking.",
         "Wiley Vineyard",
         "76.23530826835739",
         "40.0",
         "California",
         "Anderson Valley",
         null,
         null,
         null,
         "Harrington 2006 Wiley Vineyard Pinot Noir (Anderson Valley)",
         "Pinot Noir",
         "Harrington"
        ]
       ],
       "shape": {
        "columns": 14,
        "rows": 5
       }
      },
      "text/html": [
       "<div>\n",
       "<style scoped>\n",
       "    .dataframe tbody tr th:only-of-type {\n",
       "        vertical-align: middle;\n",
       "    }\n",
       "\n",
       "    .dataframe tbody tr th {\n",
       "        vertical-align: top;\n",
       "    }\n",
       "\n",
       "    .dataframe thead th {\n",
       "        text-align: right;\n",
       "    }\n",
       "</style>\n",
       "<table border=\"1\" class=\"dataframe\">\n",
       "  <thead>\n",
       "    <tr style=\"text-align: right;\">\n",
       "      <th></th>\n",
       "      <th>record_id</th>\n",
       "      <th>country</th>\n",
       "      <th>description</th>\n",
       "      <th>designation</th>\n",
       "      <th>points</th>\n",
       "      <th>price</th>\n",
       "      <th>province</th>\n",
       "      <th>region_1</th>\n",
       "      <th>region_2</th>\n",
       "      <th>taster_name</th>\n",
       "      <th>taster_twitter_handle</th>\n",
       "      <th>title</th>\n",
       "      <th>variety</th>\n",
       "      <th>winery</th>\n",
       "    </tr>\n",
       "  </thead>\n",
       "  <tbody>\n",
       "    <tr>\n",
       "      <th>0</th>\n",
       "      <td>0</td>\n",
       "      <td>Australia</td>\n",
       "      <td>Possibly a little sweet, this is a soft, easyg...</td>\n",
       "      <td>NaN</td>\n",
       "      <td>67.935755</td>\n",
       "      <td>5.0</td>\n",
       "      <td>Australia Other</td>\n",
       "      <td>South Eastern Australia</td>\n",
       "      <td>NaN</td>\n",
       "      <td>Joe Czerwinski</td>\n",
       "      <td>@JoeCz</td>\n",
       "      <td>Banrock Station 2006 Chardonnay (South Eastern...</td>\n",
       "      <td>Chardonnay</td>\n",
       "      <td>Banrock Station</td>\n",
       "    </tr>\n",
       "    <tr>\n",
       "      <th>1</th>\n",
       "      <td>1</td>\n",
       "      <td>France</td>\n",
       "      <td>A soft, almost off dry wine that is full in th...</td>\n",
       "      <td>Réserve</td>\n",
       "      <td>68.970164</td>\n",
       "      <td>12.0</td>\n",
       "      <td>Rhône Valley</td>\n",
       "      <td>Côtes du Rhône</td>\n",
       "      <td>NaN</td>\n",
       "      <td>Roger Voss</td>\n",
       "      <td>@vossroger</td>\n",
       "      <td>Cellier des Dauphins 2015 Réserve Rosé (Côtes ...</td>\n",
       "      <td>Rosé</td>\n",
       "      <td>Cellier des Dauphins</td>\n",
       "    </tr>\n",
       "    <tr>\n",
       "      <th>2</th>\n",
       "      <td>2</td>\n",
       "      <td>Spain</td>\n",
       "      <td>Generic white-fruit aromas of peach and apple ...</td>\n",
       "      <td>Estate Grown &amp; Bottled</td>\n",
       "      <td>77.238402</td>\n",
       "      <td>9.0</td>\n",
       "      <td>Northern Spain</td>\n",
       "      <td>Rueda</td>\n",
       "      <td>NaN</td>\n",
       "      <td>Michael Schachner</td>\n",
       "      <td>@wineschach</td>\n",
       "      <td>Esperanza 2013 Estate Grown &amp; Bottled Verdejo-...</td>\n",
       "      <td>Verdejo-Viura</td>\n",
       "      <td>Esperanza</td>\n",
       "    </tr>\n",
       "    <tr>\n",
       "      <th>3</th>\n",
       "      <td>3</td>\n",
       "      <td>US</td>\n",
       "      <td>This is the winery's best Nebula in years. Whi...</td>\n",
       "      <td>Nebula</td>\n",
       "      <td>76.716487</td>\n",
       "      <td>29.0</td>\n",
       "      <td>California</td>\n",
       "      <td>Paso Robles</td>\n",
       "      <td>Central Coast</td>\n",
       "      <td>NaN</td>\n",
       "      <td>NaN</td>\n",
       "      <td>Midnight 2010 Nebula Cabernet Sauvignon (Paso ...</td>\n",
       "      <td>Cabernet Sauvignon</td>\n",
       "      <td>Midnight</td>\n",
       "    </tr>\n",
       "    <tr>\n",
       "      <th>4</th>\n",
       "      <td>4</td>\n",
       "      <td>US</td>\n",
       "      <td>This is a very rich Pinot whose primary virtue...</td>\n",
       "      <td>Wiley Vineyard</td>\n",
       "      <td>76.235308</td>\n",
       "      <td>40.0</td>\n",
       "      <td>California</td>\n",
       "      <td>Anderson Valley</td>\n",
       "      <td>NaN</td>\n",
       "      <td>NaN</td>\n",
       "      <td>NaN</td>\n",
       "      <td>Harrington 2006 Wiley Vineyard Pinot Noir (And...</td>\n",
       "      <td>Pinot Noir</td>\n",
       "      <td>Harrington</td>\n",
       "    </tr>\n",
       "  </tbody>\n",
       "</table>\n",
       "</div>"
      ],
      "text/plain": [
       "\n",
       "   record_id    country                                        description  \\\n",
       "\u001b[1;36m0\u001b[0m          \u001b[1;36m0\u001b[0m  Australia  Possibly a little sweet, this is a soft, easyg\u001b[33m...\u001b[0m   \n",
       "\u001b[1;36m1\u001b[0m          \u001b[1;36m1\u001b[0m     France  A soft, almost off dry wine that is full in th\u001b[33m...\u001b[0m   \n",
       "\u001b[1;36m2\u001b[0m          \u001b[1;36m2\u001b[0m      Spain  Generic white-fruit aromas of peach and apple \u001b[33m...\u001b[0m   \n",
       "\u001b[1;36m3\u001b[0m          \u001b[1;36m3\u001b[0m         US  This is the winery's best Nebula in years. Whi\u001b[33m...\u001b[0m   \n",
       "\u001b[1;36m4\u001b[0m          \u001b[1;36m4\u001b[0m         US  This is a very rich Pinot whose primary virtue\u001b[33m...\u001b[0m   \n",
       "\n",
       "              designation     points  price         province  \\\n",
       "\u001b[1;36m0\u001b[0m                     NaN  \u001b[1;36m67.935755\u001b[0m    \u001b[1;36m5.0\u001b[0m  Australia Other   \n",
       "\u001b[1;36m1\u001b[0m                 Réserve  \u001b[1;36m68.970164\u001b[0m   \u001b[1;36m12.0\u001b[0m     Rhône Valley   \n",
       "\u001b[1;36m2\u001b[0m  Estate Grown & Bottled  \u001b[1;36m77.238402\u001b[0m    \u001b[1;36m9.0\u001b[0m   Northern Spain   \n",
       "\u001b[1;36m3\u001b[0m                  Nebula  \u001b[1;36m76.716487\u001b[0m   \u001b[1;36m29.0\u001b[0m       California   \n",
       "\u001b[1;36m4\u001b[0m          Wiley Vineyard  \u001b[1;36m76.235308\u001b[0m   \u001b[1;36m40.0\u001b[0m       California   \n",
       "\n",
       "                  region_1       region_2        taster_name  \\\n",
       "\u001b[1;36m0\u001b[0m  South Eastern Australia            NaN     Joe Czerwinski   \n",
       "\u001b[1;36m1\u001b[0m           Côtes du Rhône            NaN         Roger Voss   \n",
       "\u001b[1;36m2\u001b[0m                    Rueda            NaN  Michael Schachner   \n",
       "\u001b[1;36m3\u001b[0m              Paso Robles  Central Coast                NaN   \n",
       "\u001b[1;36m4\u001b[0m          Anderson Valley            NaN                NaN   \n",
       "\n",
       "  taster_twitter_handle                                              title  \\\n",
       "\u001b[1;36m0\u001b[0m                @JoeCz  Banrock Station \u001b[1;36m2006\u001b[0m Chardonnay \u001b[1m(\u001b[0mSouth Eastern\u001b[33m...\u001b[0m   \n",
       "\u001b[1;36m1\u001b[0m            @vossroger  Cellier des Dauphins \u001b[1;36m2015\u001b[0m Réserve Rosé \u001b[1m(\u001b[0mCôtes \u001b[33m...\u001b[0m   \n",
       "\u001b[1;36m2\u001b[0m           @wineschach  Esperanza \u001b[1;36m2013\u001b[0m Estate Grown & Bottled Verdejo-\u001b[33m...\u001b[0m   \n",
       "\u001b[1;36m3\u001b[0m                   NaN  Midnight \u001b[1;36m2010\u001b[0m Nebula Cabernet Sauvignon \u001b[1m(\u001b[0mPaso \u001b[33m...\u001b[0m   \n",
       "\u001b[1;36m4\u001b[0m                   NaN  Harrington \u001b[1;36m2006\u001b[0m Wiley Vineyard Pinot Noir \u001b[1m(\u001b[0mAnd\u001b[33m...\u001b[0m   \n",
       "\n",
       "              variety                winery  \n",
       "\u001b[1;36m0\u001b[0m          Chardonnay       Banrock Station  \n",
       "\u001b[1;36m1\u001b[0m                Rosé  Cellier des Dauphins  \n",
       "\u001b[1;36m2\u001b[0m       Verdejo-Viura             Esperanza  \n",
       "\u001b[1;36m3\u001b[0m  Cabernet Sauvignon              Midnight  \n",
       "\u001b[1;36m4\u001b[0m          Pinot Noir            Harrington  "
      ]
     },
     "execution_count": 119,
     "metadata": {},
     "output_type": "execute_result"
    }
   ],
   "source": [
    "wine_sample_drift.head()"
   ]
  },
  {
   "cell_type": "code",
   "execution_count": 120,
   "id": "682e1957",
   "metadata": {},
   "outputs": [
    {
     "name": "stdout",
     "output_type": "stream",
     "text": [
      "Detecting univariate drift...\n"
     ]
    },
    {
     "data": {
      "text/html": [
       "<pre style=\"white-space:pre;overflow-x:auto;line-height:normal;font-family:Menlo,'DejaVu Sans Mono',consolas,'Courier New',monospace\"><span style=\"color: #800000; text-decoration-color: #800000\">╭─────────────────────────────── </span><span style=\"color: #800000; text-decoration-color: #800000; font-weight: bold\">Traceback </span><span style=\"color: #bf7f7f; text-decoration-color: #bf7f7f; font-weight: bold\">(most recent call last)</span><span style=\"color: #800000; text-decoration-color: #800000\"> ────────────────────────────────╮</span>\n",
       "<span style=\"color: #800000; text-decoration-color: #800000\">│</span> <span style=\"color: #7f7f7f; text-decoration-color: #7f7f7f\">/Users/svengoerdes/Projects/Master/MLOps_Project/project/.venv/lib/python3.9/site-packages/nanny</span> <span style=\"color: #800000; text-decoration-color: #800000\">│</span>\n",
       "<span style=\"color: #800000; text-decoration-color: #800000\">│</span> <span style=\"color: #7f7f7f; text-decoration-color: #7f7f7f\">ml/</span><span style=\"font-weight: bold\">base.py</span>:370 in calculate                                                                      <span style=\"color: #800000; text-decoration-color: #800000\">│</span>\n",
       "<span style=\"color: #800000; text-decoration-color: #800000\">│</span>                                                                                                  <span style=\"color: #800000; text-decoration-color: #800000\">│</span>\n",
       "<span style=\"color: #800000; text-decoration-color: #800000\">│</span>   <span style=\"color: #7f7f7f; text-decoration-color: #7f7f7f\">367 </span><span style=\"color: #bfbfbf; text-decoration-color: #bfbfbf\">│   │   </span><span style=\"color: #808000; text-decoration-color: #808000\">\"\"\"Performs a calculation on the provided data.\"\"\"</span>                                 <span style=\"color: #800000; text-decoration-color: #800000\">│</span>\n",
       "<span style=\"color: #800000; text-decoration-color: #800000\">│</span>   <span style=\"color: #7f7f7f; text-decoration-color: #7f7f7f\">368 </span><span style=\"color: #7f7f7f; text-decoration-color: #7f7f7f\">│   │   </span><span style=\"color: #0000ff; text-decoration-color: #0000ff\">try</span>:                                                                               <span style=\"color: #800000; text-decoration-color: #800000\">│</span>\n",
       "<span style=\"color: #800000; text-decoration-color: #800000\">│</span>   <span style=\"color: #7f7f7f; text-decoration-color: #7f7f7f\">369 </span><span style=\"color: #7f7f7f; text-decoration-color: #7f7f7f\">│   │   │   </span><span style=\"color: #00ffff; text-decoration-color: #00ffff\">self</span>._logger.debug(<span style=\"color: #808000; text-decoration-color: #808000\">f\"calculating {</span><span style=\"color: #00ffff; text-decoration-color: #00ffff\">str</span>(<span style=\"color: #00ffff; text-decoration-color: #00ffff\">self</span>)<span style=\"color: #808000; text-decoration-color: #808000\">}\"</span>)                                 <span style=\"color: #800000; text-decoration-color: #800000\">│</span>\n",
       "<span style=\"color: #800000; text-decoration-color: #800000\">│</span> <span style=\"color: #800000; text-decoration-color: #800000\">❱ </span>370 <span style=\"color: #7f7f7f; text-decoration-color: #7f7f7f\">│   │   │   </span><span style=\"color: #0000ff; text-decoration-color: #0000ff\">return</span> <span style=\"color: #00ffff; text-decoration-color: #00ffff\">self</span>._calculate(data, *args, **kwargs)                                  <span style=\"color: #800000; text-decoration-color: #800000\">│</span>\n",
       "<span style=\"color: #800000; text-decoration-color: #800000\">│</span>   <span style=\"color: #7f7f7f; text-decoration-color: #7f7f7f\">371 </span><span style=\"color: #7f7f7f; text-decoration-color: #7f7f7f\">│   │   </span><span style=\"color: #0000ff; text-decoration-color: #0000ff\">except</span> NannyMLException:                                                           <span style=\"color: #800000; text-decoration-color: #800000\">│</span>\n",
       "<span style=\"color: #800000; text-decoration-color: #800000\">│</span>   <span style=\"color: #7f7f7f; text-decoration-color: #7f7f7f\">372 </span><span style=\"color: #7f7f7f; text-decoration-color: #7f7f7f\">│   │   │   </span><span style=\"color: #0000ff; text-decoration-color: #0000ff\">raise</span>                                                                          <span style=\"color: #800000; text-decoration-color: #800000\">│</span>\n",
       "<span style=\"color: #800000; text-decoration-color: #800000\">│</span>   <span style=\"color: #7f7f7f; text-decoration-color: #7f7f7f\">373 </span><span style=\"color: #7f7f7f; text-decoration-color: #7f7f7f\">│   │   </span><span style=\"color: #0000ff; text-decoration-color: #0000ff\">except</span> <span style=\"color: #00ffff; text-decoration-color: #00ffff\">Exception</span> <span style=\"color: #0000ff; text-decoration-color: #0000ff\">as</span> exc:                                                           <span style=\"color: #800000; text-decoration-color: #800000\">│</span>\n",
       "<span style=\"color: #800000; text-decoration-color: #800000\">│</span>                                                                                                  <span style=\"color: #800000; text-decoration-color: #800000\">│</span>\n",
       "<span style=\"color: #800000; text-decoration-color: #800000\">│</span> <span style=\"color: #7f7f7f; text-decoration-color: #7f7f7f\">/Users/svengoerdes/Projects/Master/MLOps_Project/project/.venv/lib/python3.9/site-packages/nanny</span> <span style=\"color: #800000; text-decoration-color: #800000\">│</span>\n",
       "<span style=\"color: #800000; text-decoration-color: #800000\">│</span> <span style=\"color: #7f7f7f; text-decoration-color: #7f7f7f\">ml/</span><span style=\"font-weight: bold\">usage_logging.py</span>:242 in logging_wrapper                                                       <span style=\"color: #800000; text-decoration-color: #800000\">│</span>\n",
       "<span style=\"color: #800000; text-decoration-color: #800000\">│</span>                                                                                                  <span style=\"color: #800000; text-decoration-color: #800000\">│</span>\n",
       "<span style=\"color: #800000; text-decoration-color: #800000\">│</span>   <span style=\"color: #7f7f7f; text-decoration-color: #7f7f7f\">239 </span><span style=\"color: #7f7f7f; text-decoration-color: #7f7f7f\">│   │   │   │   </span>logger.log(usage_event, md)                                                <span style=\"color: #800000; text-decoration-color: #800000\">│</span>\n",
       "<span style=\"color: #800000; text-decoration-color: #800000\">│</span>   <span style=\"color: #7f7f7f; text-decoration-color: #7f7f7f\">240 </span><span style=\"color: #7f7f7f; text-decoration-color: #7f7f7f\">│   │   │   </span><span style=\"color: #0000ff; text-decoration-color: #0000ff\">finally</span>:                                                                       <span style=\"color: #800000; text-decoration-color: #800000\">│</span>\n",
       "<span style=\"color: #800000; text-decoration-color: #800000\">│</span>   <span style=\"color: #7f7f7f; text-decoration-color: #7f7f7f\">241 </span><span style=\"color: #7f7f7f; text-decoration-color: #7f7f7f\">│   │   │   │   </span><span style=\"color: #0000ff; text-decoration-color: #0000ff\">if</span> runtime_exception <span style=\"color: #ff00ff; text-decoration-color: #ff00ff\">is</span> <span style=\"color: #ff00ff; text-decoration-color: #ff00ff\">not</span> <span style=\"color: #0000ff; text-decoration-color: #0000ff\">None</span>:                                          <span style=\"color: #800000; text-decoration-color: #800000\">│</span>\n",
       "<span style=\"color: #800000; text-decoration-color: #800000\">│</span> <span style=\"color: #800000; text-decoration-color: #800000\">❱ </span>242 <span style=\"color: #7f7f7f; text-decoration-color: #7f7f7f\">│   │   │   │   │   </span><span style=\"color: #0000ff; text-decoration-color: #0000ff\">raise</span> runtime_exception                                                <span style=\"color: #800000; text-decoration-color: #800000\">│</span>\n",
       "<span style=\"color: #800000; text-decoration-color: #800000\">│</span>   <span style=\"color: #7f7f7f; text-decoration-color: #7f7f7f\">243 </span><span style=\"color: #7f7f7f; text-decoration-color: #7f7f7f\">│   │   │   │   </span><span style=\"color: #0000ff; text-decoration-color: #0000ff\">else</span>:                                                                      <span style=\"color: #800000; text-decoration-color: #800000\">│</span>\n",
       "<span style=\"color: #800000; text-decoration-color: #800000\">│</span>   <span style=\"color: #7f7f7f; text-decoration-color: #7f7f7f\">244 </span><span style=\"color: #7f7f7f; text-decoration-color: #7f7f7f\">│   │   │   │   │   </span><span style=\"color: #0000ff; text-decoration-color: #0000ff\">return</span> res                                                             <span style=\"color: #800000; text-decoration-color: #800000\">│</span>\n",
       "<span style=\"color: #800000; text-decoration-color: #800000\">│</span>   <span style=\"color: #7f7f7f; text-decoration-color: #7f7f7f\">245 </span>                                                                                           <span style=\"color: #800000; text-decoration-color: #800000\">│</span>\n",
       "<span style=\"color: #800000; text-decoration-color: #800000\">│</span>                                                                                                  <span style=\"color: #800000; text-decoration-color: #800000\">│</span>\n",
       "<span style=\"color: #800000; text-decoration-color: #800000\">│</span> <span style=\"color: #7f7f7f; text-decoration-color: #7f7f7f\">/Users/svengoerdes/Projects/Master/MLOps_Project/project/.venv/lib/python3.9/site-packages/nanny</span> <span style=\"color: #800000; text-decoration-color: #800000\">│</span>\n",
       "<span style=\"color: #800000; text-decoration-color: #800000\">│</span> <span style=\"color: #7f7f7f; text-decoration-color: #7f7f7f\">ml/</span><span style=\"font-weight: bold\">usage_logging.py</span>:191 in logging_wrapper                                                       <span style=\"color: #800000; text-decoration-color: #800000\">│</span>\n",
       "<span style=\"color: #800000; text-decoration-color: #800000\">│</span>                                                                                                  <span style=\"color: #800000; text-decoration-color: #800000\">│</span>\n",
       "<span style=\"color: #800000; text-decoration-color: #800000\">│</span>   <span style=\"color: #7f7f7f; text-decoration-color: #7f7f7f\">188 </span><span style=\"color: #7f7f7f; text-decoration-color: #7f7f7f\">│   │   │   </span>runtime_exception = <span style=\"color: #0000ff; text-decoration-color: #0000ff\">None</span>                                                       <span style=\"color: #800000; text-decoration-color: #800000\">│</span>\n",
       "<span style=\"color: #800000; text-decoration-color: #800000\">│</span>   <span style=\"color: #7f7f7f; text-decoration-color: #7f7f7f\">189 </span><span style=\"color: #7f7f7f; text-decoration-color: #7f7f7f\">│   │   │   </span><span style=\"color: #0000ff; text-decoration-color: #0000ff\">try</span>:                                                                           <span style=\"color: #800000; text-decoration-color: #800000\">│</span>\n",
       "<span style=\"color: #800000; text-decoration-color: #800000\">│</span>   <span style=\"color: #7f7f7f; text-decoration-color: #7f7f7f\">190 </span><span style=\"color: #7f7f7f; text-decoration-color: #7f7f7f\">│   │   │   │   </span><span style=\"color: #7f7f7f; text-decoration-color: #7f7f7f\"># run original function</span>                                                    <span style=\"color: #800000; text-decoration-color: #800000\">│</span>\n",
       "<span style=\"color: #800000; text-decoration-color: #800000\">│</span> <span style=\"color: #800000; text-decoration-color: #800000\">❱ </span>191 <span style=\"color: #7f7f7f; text-decoration-color: #7f7f7f\">│   │   │   │   </span>res = func(*args, **kwargs)                                                <span style=\"color: #800000; text-decoration-color: #800000\">│</span>\n",
       "<span style=\"color: #800000; text-decoration-color: #800000\">│</span>   <span style=\"color: #7f7f7f; text-decoration-color: #7f7f7f\">192 </span><span style=\"color: #7f7f7f; text-decoration-color: #7f7f7f\">│   │   │   </span><span style=\"color: #0000ff; text-decoration-color: #0000ff\">except</span> <span style=\"color: #00ffff; text-decoration-color: #00ffff\">BaseException</span> <span style=\"color: #0000ff; text-decoration-color: #0000ff\">as</span> exc:                                                   <span style=\"color: #800000; text-decoration-color: #800000\">│</span>\n",
       "<span style=\"color: #800000; text-decoration-color: #800000\">│</span>   <span style=\"color: #7f7f7f; text-decoration-color: #7f7f7f\">193 </span><span style=\"color: #7f7f7f; text-decoration-color: #7f7f7f\">│   │   │   │   </span>runtime_exception = exc                                                    <span style=\"color: #800000; text-decoration-color: #800000\">│</span>\n",
       "<span style=\"color: #800000; text-decoration-color: #800000\">│</span>   <span style=\"color: #7f7f7f; text-decoration-color: #7f7f7f\">194 </span>                                                                                           <span style=\"color: #800000; text-decoration-color: #800000\">│</span>\n",
       "<span style=\"color: #800000; text-decoration-color: #800000\">│</span>                                                                                                  <span style=\"color: #800000; text-decoration-color: #800000\">│</span>\n",
       "<span style=\"color: #800000; text-decoration-color: #800000\">│</span> <span style=\"color: #7f7f7f; text-decoration-color: #7f7f7f\">/Users/svengoerdes/Projects/Master/MLOps_Project/project/.venv/lib/python3.9/site-packages/nanny</span> <span style=\"color: #800000; text-decoration-color: #800000\">│</span>\n",
       "<span style=\"color: #800000; text-decoration-color: #800000\">│</span> <span style=\"color: #7f7f7f; text-decoration-color: #7f7f7f\">ml/drift/univariate/</span><span style=\"font-weight: bold\">calculator.py</span>:327 in _calculate                                              <span style=\"color: #800000; text-decoration-color: #800000\">│</span>\n",
       "<span style=\"color: #800000; text-decoration-color: #800000\">│</span>                                                                                                  <span style=\"color: #800000; text-decoration-color: #800000\">│</span>\n",
       "<span style=\"color: #800000; text-decoration-color: #800000\">│</span>   <span style=\"color: #7f7f7f; text-decoration-color: #7f7f7f\">324 </span><span style=\"color: #7f7f7f; text-decoration-color: #7f7f7f\">│   │   </span>                                                                                   <span style=\"color: #800000; text-decoration-color: #800000\">│</span>\n",
       "<span style=\"color: #800000; text-decoration-color: #800000\">│</span>   <span style=\"color: #7f7f7f; text-decoration-color: #7f7f7f\">325 </span><span style=\"color: #7f7f7f; text-decoration-color: #7f7f7f\">│   │   </span>_list_missing(<span style=\"color: #00ffff; text-decoration-color: #00ffff\">self</span>.column_names, data)                                             <span style=\"color: #800000; text-decoration-color: #800000\">│</span>\n",
       "<span style=\"color: #800000; text-decoration-color: #800000\">│</span>   <span style=\"color: #7f7f7f; text-decoration-color: #7f7f7f\">326 </span><span style=\"color: #7f7f7f; text-decoration-color: #7f7f7f\">│   │   </span>                                                                                   <span style=\"color: #800000; text-decoration-color: #800000\">│</span>\n",
       "<span style=\"color: #800000; text-decoration-color: #800000\">│</span> <span style=\"color: #800000; text-decoration-color: #800000\">❱ </span>327 <span style=\"color: #7f7f7f; text-decoration-color: #7f7f7f\">│   │   </span>chunks = <span style=\"color: #00ffff; text-decoration-color: #00ffff\">self</span>.chunker.split(data)                                                  <span style=\"color: #800000; text-decoration-color: #800000\">│</span>\n",
       "<span style=\"color: #800000; text-decoration-color: #800000\">│</span>   <span style=\"color: #7f7f7f; text-decoration-color: #7f7f7f\">328 </span><span style=\"color: #7f7f7f; text-decoration-color: #7f7f7f\">│   │   </span>                                                                                   <span style=\"color: #800000; text-decoration-color: #800000\">│</span>\n",
       "<span style=\"color: #800000; text-decoration-color: #800000\">│</span>   <span style=\"color: #7f7f7f; text-decoration-color: #7f7f7f\">329 </span><span style=\"color: #7f7f7f; text-decoration-color: #7f7f7f\">│   │   </span>rows = []                                                                          <span style=\"color: #800000; text-decoration-color: #800000\">│</span>\n",
       "<span style=\"color: #800000; text-decoration-color: #800000\">│</span>   <span style=\"color: #7f7f7f; text-decoration-color: #7f7f7f\">330 </span><span style=\"color: #7f7f7f; text-decoration-color: #7f7f7f\">│   │   </span><span style=\"color: #0000ff; text-decoration-color: #0000ff\">for</span> chunk <span style=\"color: #ff00ff; text-decoration-color: #ff00ff\">in</span> chunks:                                                               <span style=\"color: #800000; text-decoration-color: #800000\">│</span>\n",
       "<span style=\"color: #800000; text-decoration-color: #800000\">│</span>                                                                                                  <span style=\"color: #800000; text-decoration-color: #800000\">│</span>\n",
       "<span style=\"color: #800000; text-decoration-color: #800000\">│</span> <span style=\"color: #7f7f7f; text-decoration-color: #7f7f7f\">/Users/svengoerdes/Projects/Master/MLOps_Project/project/.venv/lib/python3.9/site-packages/nanny</span> <span style=\"color: #800000; text-decoration-color: #800000\">│</span>\n",
       "<span style=\"color: #800000; text-decoration-color: #800000\">│</span> <span style=\"color: #7f7f7f; text-decoration-color: #7f7f7f\">ml/</span><span style=\"font-weight: bold\">chunk.py</span>:165 in split                                                                         <span style=\"color: #800000; text-decoration-color: #800000\">│</span>\n",
       "<span style=\"color: #800000; text-decoration-color: #800000\">│</span>                                                                                                  <span style=\"color: #800000; text-decoration-color: #800000\">│</span>\n",
       "<span style=\"color: #800000; text-decoration-color: #800000\">│</span>   <span style=\"color: #7f7f7f; text-decoration-color: #7f7f7f\">162 </span><span style=\"color: #7f7f7f; text-decoration-color: #7f7f7f\">│   │   │   │   │   </span><span style=\"color: #808000; text-decoration-color: #808000\">f\"timestamp column '{</span><span style=\"color: #00ffff; text-decoration-color: #00ffff\">self</span>.timestamp_column_name<span style=\"color: #808000; text-decoration-color: #808000\">}' not in columns: {</span><span style=\"color: #00ffff; text-decoration-color: #00ffff\">l</span>   <span style=\"color: #800000; text-decoration-color: #800000\">│</span>\n",
       "<span style=\"color: #800000; text-decoration-color: #800000\">│</span>   <span style=\"color: #7f7f7f; text-decoration-color: #7f7f7f\">163 </span><span style=\"color: #7f7f7f; text-decoration-color: #7f7f7f\">│   │   │   │   </span>)                                                                          <span style=\"color: #800000; text-decoration-color: #800000\">│</span>\n",
       "<span style=\"color: #800000; text-decoration-color: #800000\">│</span>   <span style=\"color: #7f7f7f; text-decoration-color: #7f7f7f\">164 </span><span style=\"color: #7f7f7f; text-decoration-color: #7f7f7f\">│   │   │   </span>                                                                               <span style=\"color: #800000; text-decoration-color: #800000\">│</span>\n",
       "<span style=\"color: #800000; text-decoration-color: #800000\">│</span> <span style=\"color: #800000; text-decoration-color: #800000\">❱ </span>165 <span style=\"color: #7f7f7f; text-decoration-color: #7f7f7f\">│   │   │   </span>data = data.sort_values(by=[<span style=\"color: #00ffff; text-decoration-color: #00ffff\">self</span>.timestamp_column_name]).reset_index(drop=<span style=\"color: #0000ff; text-decoration-color: #0000ff\">Tr</span>   <span style=\"color: #800000; text-decoration-color: #800000\">│</span>\n",
       "<span style=\"color: #800000; text-decoration-color: #800000\">│</span>   <span style=\"color: #7f7f7f; text-decoration-color: #7f7f7f\">166 </span><span style=\"color: #7f7f7f; text-decoration-color: #7f7f7f\">│   │   </span>                                                                                   <span style=\"color: #800000; text-decoration-color: #800000\">│</span>\n",
       "<span style=\"color: #800000; text-decoration-color: #800000\">│</span>   <span style=\"color: #7f7f7f; text-decoration-color: #7f7f7f\">167 </span><span style=\"color: #7f7f7f; text-decoration-color: #7f7f7f\">│   │   </span><span style=\"color: #0000ff; text-decoration-color: #0000ff\">try</span>:                                                                               <span style=\"color: #800000; text-decoration-color: #800000\">│</span>\n",
       "<span style=\"color: #800000; text-decoration-color: #800000\">│</span>   <span style=\"color: #7f7f7f; text-decoration-color: #7f7f7f\">168 </span><span style=\"color: #7f7f7f; text-decoration-color: #7f7f7f\">│   │   │   </span>chunks = <span style=\"color: #00ffff; text-decoration-color: #00ffff\">self</span>._split(data)                                                     <span style=\"color: #800000; text-decoration-color: #800000\">│</span>\n",
       "<span style=\"color: #800000; text-decoration-color: #800000\">│</span>                                                                                                  <span style=\"color: #800000; text-decoration-color: #800000\">│</span>\n",
       "<span style=\"color: #800000; text-decoration-color: #800000\">│</span> <span style=\"color: #7f7f7f; text-decoration-color: #7f7f7f\">/Users/svengoerdes/Projects/Master/MLOps_Project/project/.venv/lib/python3.9/site-packages/panda</span> <span style=\"color: #800000; text-decoration-color: #800000\">│</span>\n",
       "<span style=\"color: #800000; text-decoration-color: #800000\">│</span> <span style=\"color: #7f7f7f; text-decoration-color: #7f7f7f\">s/core/</span><span style=\"font-weight: bold\">frame.py</span>:6944 in sort_values                                                              <span style=\"color: #800000; text-decoration-color: #800000\">│</span>\n",
       "<span style=\"color: #800000; text-decoration-color: #800000\">│</span>                                                                                                  <span style=\"color: #800000; text-decoration-color: #800000\">│</span>\n",
       "<span style=\"color: #800000; text-decoration-color: #800000\">│</span>   <span style=\"color: #7f7f7f; text-decoration-color: #7f7f7f\"> 6941 </span><span style=\"color: #7f7f7f; text-decoration-color: #7f7f7f\">│   │   </span><span style=\"color: #0000ff; text-decoration-color: #0000ff\">elif</span> <span style=\"color: #00ffff; text-decoration-color: #00ffff\">len</span>(by):                                                                    <span style=\"color: #800000; text-decoration-color: #800000\">│</span>\n",
       "<span style=\"color: #800000; text-decoration-color: #800000\">│</span>   <span style=\"color: #7f7f7f; text-decoration-color: #7f7f7f\"> 6942 </span><span style=\"color: #7f7f7f; text-decoration-color: #7f7f7f\">│   │   │   </span><span style=\"color: #7f7f7f; text-decoration-color: #7f7f7f\"># len(by) == 1</span>                                                               <span style=\"color: #800000; text-decoration-color: #800000\">│</span>\n",
       "<span style=\"color: #800000; text-decoration-color: #800000\">│</span>   <span style=\"color: #7f7f7f; text-decoration-color: #7f7f7f\"> 6943 </span><span style=\"color: #7f7f7f; text-decoration-color: #7f7f7f\">│   │   │   </span>                                                                             <span style=\"color: #800000; text-decoration-color: #800000\">│</span>\n",
       "<span style=\"color: #800000; text-decoration-color: #800000\">│</span> <span style=\"color: #800000; text-decoration-color: #800000\">❱ </span> 6944 <span style=\"color: #7f7f7f; text-decoration-color: #7f7f7f\">│   │   │   </span>k = <span style=\"color: #00ffff; text-decoration-color: #00ffff\">self</span>._get_label_or_level_values(by[<span style=\"color: #0000ff; text-decoration-color: #0000ff\">0</span>], axis=axis)                        <span style=\"color: #800000; text-decoration-color: #800000\">│</span>\n",
       "<span style=\"color: #800000; text-decoration-color: #800000\">│</span>   <span style=\"color: #7f7f7f; text-decoration-color: #7f7f7f\"> 6945 </span><span style=\"color: #7f7f7f; text-decoration-color: #7f7f7f\">│   │   │   </span>                                                                             <span style=\"color: #800000; text-decoration-color: #800000\">│</span>\n",
       "<span style=\"color: #800000; text-decoration-color: #800000\">│</span>   <span style=\"color: #7f7f7f; text-decoration-color: #7f7f7f\"> 6946 </span><span style=\"color: #7f7f7f; text-decoration-color: #7f7f7f\">│   │   │   </span><span style=\"color: #7f7f7f; text-decoration-color: #7f7f7f\"># need to rewrap column in Series to apply key function</span>                      <span style=\"color: #800000; text-decoration-color: #800000\">│</span>\n",
       "<span style=\"color: #800000; text-decoration-color: #800000\">│</span>   <span style=\"color: #7f7f7f; text-decoration-color: #7f7f7f\"> 6947 </span><span style=\"color: #7f7f7f; text-decoration-color: #7f7f7f\">│   │   │   </span><span style=\"color: #0000ff; text-decoration-color: #0000ff\">if</span> key <span style=\"color: #ff00ff; text-decoration-color: #ff00ff\">is</span> <span style=\"color: #ff00ff; text-decoration-color: #ff00ff\">not</span> <span style=\"color: #0000ff; text-decoration-color: #0000ff\">None</span>:                                                          <span style=\"color: #800000; text-decoration-color: #800000\">│</span>\n",
       "<span style=\"color: #800000; text-decoration-color: #800000\">│</span>                                                                                                  <span style=\"color: #800000; text-decoration-color: #800000\">│</span>\n",
       "<span style=\"color: #800000; text-decoration-color: #800000\">│</span> <span style=\"color: #7f7f7f; text-decoration-color: #7f7f7f\">/Users/svengoerdes/Projects/Master/MLOps_Project/project/.venv/lib/python3.9/site-packages/panda</span> <span style=\"color: #800000; text-decoration-color: #800000\">│</span>\n",
       "<span style=\"color: #800000; text-decoration-color: #800000\">│</span> <span style=\"color: #7f7f7f; text-decoration-color: #7f7f7f\">s/core/</span><span style=\"font-weight: bold\">generic.py</span>:1858 in _get_label_or_level_values                                             <span style=\"color: #800000; text-decoration-color: #800000\">│</span>\n",
       "<span style=\"color: #800000; text-decoration-color: #800000\">│</span>                                                                                                  <span style=\"color: #800000; text-decoration-color: #800000\">│</span>\n",
       "<span style=\"color: #800000; text-decoration-color: #800000\">│</span>   <span style=\"color: #7f7f7f; text-decoration-color: #7f7f7f\"> 1855 </span><span style=\"color: #7f7f7f; text-decoration-color: #7f7f7f\">│   │   │   │   </span>multi_message = <span style=\"color: #808000; text-decoration-color: #808000\">\"\"</span>                                                       <span style=\"color: #800000; text-decoration-color: #800000\">│</span>\n",
       "<span style=\"color: #800000; text-decoration-color: #800000\">│</span>   <span style=\"color: #7f7f7f; text-decoration-color: #7f7f7f\"> 1856 </span><span style=\"color: #7f7f7f; text-decoration-color: #7f7f7f\">│   │   │   </span>                                                                             <span style=\"color: #800000; text-decoration-color: #800000\">│</span>\n",
       "<span style=\"color: #800000; text-decoration-color: #800000\">│</span>   <span style=\"color: #7f7f7f; text-decoration-color: #7f7f7f\"> 1857 </span><span style=\"color: #7f7f7f; text-decoration-color: #7f7f7f\">│   │   │   </span>label_axis_name = <span style=\"color: #808000; text-decoration-color: #808000\">\"column\"</span> <span style=\"color: #0000ff; text-decoration-color: #0000ff\">if</span> axis == <span style=\"color: #0000ff; text-decoration-color: #0000ff\">0</span> <span style=\"color: #0000ff; text-decoration-color: #0000ff\">else</span> <span style=\"color: #808000; text-decoration-color: #808000\">\"index\"</span>                         <span style=\"color: #800000; text-decoration-color: #800000\">│</span>\n",
       "<span style=\"color: #800000; text-decoration-color: #800000\">│</span> <span style=\"color: #800000; text-decoration-color: #800000\">❱ </span> 1858 <span style=\"color: #7f7f7f; text-decoration-color: #7f7f7f\">│   │   │   </span><span style=\"color: #0000ff; text-decoration-color: #0000ff\">raise</span> <span style=\"color: #00ffff; text-decoration-color: #00ffff\">ValueError</span>(                                                            <span style=\"color: #800000; text-decoration-color: #800000\">│</span>\n",
       "<span style=\"color: #800000; text-decoration-color: #800000\">│</span>   <span style=\"color: #7f7f7f; text-decoration-color: #7f7f7f\"> 1859 </span><span style=\"color: #7f7f7f; text-decoration-color: #7f7f7f\">│   │   │   │   </span><span style=\"color: #808000; text-decoration-color: #808000\">f\"The {</span>label_axis_name<span style=\"color: #808000; text-decoration-color: #808000\">} label '{</span>key<span style=\"color: #808000; text-decoration-color: #808000\">}' is not unique.{</span>multi_message<span style=\"color: #808000; text-decoration-color: #808000\">}\"</span>     <span style=\"color: #800000; text-decoration-color: #800000\">│</span>\n",
       "<span style=\"color: #800000; text-decoration-color: #800000\">│</span>   <span style=\"color: #7f7f7f; text-decoration-color: #7f7f7f\"> 1860 </span><span style=\"color: #7f7f7f; text-decoration-color: #7f7f7f\">│   │   │   </span>)                                                                            <span style=\"color: #800000; text-decoration-color: #800000\">│</span>\n",
       "<span style=\"color: #800000; text-decoration-color: #800000\">│</span>   <span style=\"color: #7f7f7f; text-decoration-color: #7f7f7f\"> 1861 </span>                                                                                         <span style=\"color: #800000; text-decoration-color: #800000\">│</span>\n",
       "<span style=\"color: #800000; text-decoration-color: #800000\">╰──────────────────────────────────────────────────────────────────────────────────────────────────╯</span>\n",
       "<span style=\"color: #ff0000; text-decoration-color: #ff0000; font-weight: bold\">ValueError: </span>The column label <span style=\"color: #008000; text-decoration-color: #008000\">'record_id'</span> is not unique.\n",
       "\n",
       "<span style=\"font-style: italic\">During handling of the above exception, another exception occurred:</span>\n",
       "\n",
       "<span style=\"color: #800000; text-decoration-color: #800000\">╭─────────────────────────────── </span><span style=\"color: #800000; text-decoration-color: #800000; font-weight: bold\">Traceback </span><span style=\"color: #bf7f7f; text-decoration-color: #bf7f7f; font-weight: bold\">(most recent call last)</span><span style=\"color: #800000; text-decoration-color: #800000\"> ────────────────────────────────╮</span>\n",
       "<span style=\"color: #800000; text-decoration-color: #800000\">│</span> in &lt;module&gt;:1                                                                                    <span style=\"color: #800000; text-decoration-color: #800000\">│</span>\n",
       "<span style=\"color: #800000; text-decoration-color: #800000\">│</span>                                                                                                  <span style=\"color: #800000; text-decoration-color: #800000\">│</span>\n",
       "<span style=\"color: #800000; text-decoration-color: #800000\">│</span> <span style=\"color: #800000; text-decoration-color: #800000\">❱ </span>1 detect_univariate_drift(wine_raw, wine_sample_drift, params)                                 <span style=\"color: #800000; text-decoration-color: #800000\">│</span>\n",
       "<span style=\"color: #800000; text-decoration-color: #800000\">│</span>   <span style=\"color: #7f7f7f; text-decoration-color: #7f7f7f\">2 </span>                                                                                             <span style=\"color: #800000; text-decoration-color: #800000\">│</span>\n",
       "<span style=\"color: #800000; text-decoration-color: #800000\">│</span>                                                                                                  <span style=\"color: #800000; text-decoration-color: #800000\">│</span>\n",
       "<span style=\"color: #800000; text-decoration-color: #800000\">│</span> in detect_univariate_drift:38                                                                    <span style=\"color: #800000; text-decoration-color: #800000\">│</span>\n",
       "<span style=\"color: #800000; text-decoration-color: #800000\">│</span>                                                                                                  <span style=\"color: #800000; text-decoration-color: #800000\">│</span>\n",
       "<span style=\"color: #800000; text-decoration-color: #800000\">│</span>   <span style=\"color: #7f7f7f; text-decoration-color: #7f7f7f\">35 </span><span style=\"color: #7f7f7f; text-decoration-color: #7f7f7f\">│   │   </span>chunk_size=params[<span style=\"color: #808000; text-decoration-color: #808000\">'chunk_size'</span>]                                                     <span style=\"color: #800000; text-decoration-color: #800000\">│</span>\n",
       "<span style=\"color: #800000; text-decoration-color: #800000\">│</span>   <span style=\"color: #7f7f7f; text-decoration-color: #7f7f7f\">36 </span><span style=\"color: #7f7f7f; text-decoration-color: #7f7f7f\">│   </span>).fit(reference_data=reference_df_nml)                                                  <span style=\"color: #800000; text-decoration-color: #800000\">│</span>\n",
       "<span style=\"color: #800000; text-decoration-color: #800000\">│</span>   <span style=\"color: #7f7f7f; text-decoration-color: #7f7f7f\">37 </span><span style=\"color: #7f7f7f; text-decoration-color: #7f7f7f\">│   </span>                                                                                        <span style=\"color: #800000; text-decoration-color: #800000\">│</span>\n",
       "<span style=\"color: #800000; text-decoration-color: #800000\">│</span> <span style=\"color: #800000; text-decoration-color: #800000\">❱ </span>38 <span style=\"color: #7f7f7f; text-decoration-color: #7f7f7f\">│   </span>results = calc.calculate(data=analysis_df_nml)                                          <span style=\"color: #800000; text-decoration-color: #800000\">│</span>\n",
       "<span style=\"color: #800000; text-decoration-color: #800000\">│</span>   <span style=\"color: #7f7f7f; text-decoration-color: #7f7f7f\">39 </span><span style=\"color: #7f7f7f; text-decoration-color: #7f7f7f\">│   </span><span style=\"color: #0000ff; text-decoration-color: #0000ff\">return</span> results.to_df()                                                                  <span style=\"color: #800000; text-decoration-color: #800000\">│</span>\n",
       "<span style=\"color: #800000; text-decoration-color: #800000\">│</span>   <span style=\"color: #7f7f7f; text-decoration-color: #7f7f7f\">40 </span>                                                                                            <span style=\"color: #800000; text-decoration-color: #800000\">│</span>\n",
       "<span style=\"color: #800000; text-decoration-color: #800000\">│</span>                                                                                                  <span style=\"color: #800000; text-decoration-color: #800000\">│</span>\n",
       "<span style=\"color: #800000; text-decoration-color: #800000\">│</span> <span style=\"color: #7f7f7f; text-decoration-color: #7f7f7f\">/Users/svengoerdes/Projects/Master/MLOps_Project/project/.venv/lib/python3.9/site-packages/nanny</span> <span style=\"color: #800000; text-decoration-color: #800000\">│</span>\n",
       "<span style=\"color: #800000; text-decoration-color: #800000\">│</span> <span style=\"color: #7f7f7f; text-decoration-color: #7f7f7f\">ml/</span><span style=\"font-weight: bold\">base.py</span>:374 in calculate                                                                      <span style=\"color: #800000; text-decoration-color: #800000\">│</span>\n",
       "<span style=\"color: #800000; text-decoration-color: #800000\">│</span>                                                                                                  <span style=\"color: #800000; text-decoration-color: #800000\">│</span>\n",
       "<span style=\"color: #800000; text-decoration-color: #800000\">│</span>   <span style=\"color: #7f7f7f; text-decoration-color: #7f7f7f\">371 </span><span style=\"color: #7f7f7f; text-decoration-color: #7f7f7f\">│   │   </span><span style=\"color: #0000ff; text-decoration-color: #0000ff\">except</span> NannyMLException:                                                           <span style=\"color: #800000; text-decoration-color: #800000\">│</span>\n",
       "<span style=\"color: #800000; text-decoration-color: #800000\">│</span>   <span style=\"color: #7f7f7f; text-decoration-color: #7f7f7f\">372 </span><span style=\"color: #7f7f7f; text-decoration-color: #7f7f7f\">│   │   │   </span><span style=\"color: #0000ff; text-decoration-color: #0000ff\">raise</span>                                                                          <span style=\"color: #800000; text-decoration-color: #800000\">│</span>\n",
       "<span style=\"color: #800000; text-decoration-color: #800000\">│</span>   <span style=\"color: #7f7f7f; text-decoration-color: #7f7f7f\">373 </span><span style=\"color: #7f7f7f; text-decoration-color: #7f7f7f\">│   │   </span><span style=\"color: #0000ff; text-decoration-color: #0000ff\">except</span> <span style=\"color: #00ffff; text-decoration-color: #00ffff\">Exception</span> <span style=\"color: #0000ff; text-decoration-color: #0000ff\">as</span> exc:                                                           <span style=\"color: #800000; text-decoration-color: #800000\">│</span>\n",
       "<span style=\"color: #800000; text-decoration-color: #800000\">│</span> <span style=\"color: #800000; text-decoration-color: #800000\">❱ </span>374 <span style=\"color: #7f7f7f; text-decoration-color: #7f7f7f\">│   │   │   </span><span style=\"color: #0000ff; text-decoration-color: #0000ff\">raise</span> CalculatorException(<span style=\"color: #808000; text-decoration-color: #808000\">f\"failed while calculating {</span><span style=\"color: #00ffff; text-decoration-color: #00ffff\">str</span>(<span style=\"color: #00ffff; text-decoration-color: #00ffff\">self</span>)<span style=\"color: #808000; text-decoration-color: #808000\">}.\\n{</span>exc<span style=\"color: #808000; text-decoration-color: #808000\">}\"</span>)     <span style=\"color: #800000; text-decoration-color: #800000\">│</span>\n",
       "<span style=\"color: #800000; text-decoration-color: #800000\">│</span>   <span style=\"color: #7f7f7f; text-decoration-color: #7f7f7f\">375 </span><span style=\"color: #7f7f7f; text-decoration-color: #7f7f7f\">│   </span>                                                                                       <span style=\"color: #800000; text-decoration-color: #800000\">│</span>\n",
       "<span style=\"color: #800000; text-decoration-color: #800000\">│</span>   <span style=\"color: #7f7f7f; text-decoration-color: #7f7f7f\">376 </span><span style=\"color: #7f7f7f; text-decoration-color: #7f7f7f\">│   </span><span style=\"color: #ff00ff; text-decoration-color: #ff00ff; font-weight: bold\">@abstractmethod</span>                                                                        <span style=\"color: #800000; text-decoration-color: #800000\">│</span>\n",
       "<span style=\"color: #800000; text-decoration-color: #800000\">│</span>   <span style=\"color: #7f7f7f; text-decoration-color: #7f7f7f\">377 </span><span style=\"color: #7f7f7f; text-decoration-color: #7f7f7f\">│   </span><span style=\"color: #0000ff; text-decoration-color: #0000ff\">def</span><span style=\"color: #808080; text-decoration-color: #808080\"> </span><span style=\"color: #00ff00; text-decoration-color: #00ff00\">_fit</span>(<span style=\"color: #00ffff; text-decoration-color: #00ffff\">self</span>, reference_data: pd.DataFrame, *args, **kwargs) -&gt; Self:                 <span style=\"color: #800000; text-decoration-color: #800000\">│</span>\n",
       "<span style=\"color: #800000; text-decoration-color: #800000\">╰──────────────────────────────────────────────────────────────────────────────────────────────────╯</span>\n",
       "<span style=\"color: #ff0000; text-decoration-color: #ff0000; font-weight: bold\">CalculatorException: </span>failed while calculating <span style=\"font-weight: bold\">&lt;</span><span style=\"color: #ff00ff; text-decoration-color: #ff00ff; font-weight: bold\">nannyml.drift.univariate.calculator.UnivariateDriftCalculator</span><span style=\"color: #000000; text-decoration-color: #000000\"> object</span>\n",
       "<span style=\"color: #000000; text-decoration-color: #000000\">at </span><span style=\"color: #008080; text-decoration-color: #008080; font-weight: bold\">0x32ed01370</span><span style=\"font-weight: bold\">&gt;</span>.\n",
       "The column label <span style=\"color: #008000; text-decoration-color: #008000\">'record_id'</span> is not unique.\n",
       "</pre>\n"
      ],
      "text/plain": [
       "\u001b[31m╭─\u001b[0m\u001b[31m──────────────────────────────\u001b[0m\u001b[31m \u001b[0m\u001b[1;31mTraceback \u001b[0m\u001b[1;2;31m(most recent call last)\u001b[0m\u001b[31m \u001b[0m\u001b[31m───────────────────────────────\u001b[0m\u001b[31m─╮\u001b[0m\n",
       "\u001b[31m│\u001b[0m \u001b[2m/Users/svengoerdes/Projects/Master/MLOps_Project/project/.venv/lib/python3.9/site-packages/nanny\u001b[0m \u001b[31m│\u001b[0m\n",
       "\u001b[31m│\u001b[0m \u001b[2mml/\u001b[0m\u001b[1mbase.py\u001b[0m:370 in calculate                                                                      \u001b[31m│\u001b[0m\n",
       "\u001b[31m│\u001b[0m                                                                                                  \u001b[31m│\u001b[0m\n",
       "\u001b[31m│\u001b[0m   \u001b[2m367 \u001b[0m\u001b[2;90m│   │   \u001b[0m\u001b[33m\"\"\"Performs a calculation on the provided data.\"\"\"\u001b[0m                                 \u001b[31m│\u001b[0m\n",
       "\u001b[31m│\u001b[0m   \u001b[2m368 \u001b[0m\u001b[2m│   │   \u001b[0m\u001b[94mtry\u001b[0m:                                                                               \u001b[31m│\u001b[0m\n",
       "\u001b[31m│\u001b[0m   \u001b[2m369 \u001b[0m\u001b[2m│   │   │   \u001b[0m\u001b[96mself\u001b[0m._logger.debug(\u001b[33mf\u001b[0m\u001b[33m\"\u001b[0m\u001b[33mcalculating \u001b[0m\u001b[33m{\u001b[0m\u001b[96mstr\u001b[0m(\u001b[96mself\u001b[0m)\u001b[33m}\u001b[0m\u001b[33m\"\u001b[0m)                                 \u001b[31m│\u001b[0m\n",
       "\u001b[31m│\u001b[0m \u001b[31m❱ \u001b[0m370 \u001b[2m│   │   │   \u001b[0m\u001b[94mreturn\u001b[0m \u001b[96mself\u001b[0m._calculate(data, *args, **kwargs)                                  \u001b[31m│\u001b[0m\n",
       "\u001b[31m│\u001b[0m   \u001b[2m371 \u001b[0m\u001b[2m│   │   \u001b[0m\u001b[94mexcept\u001b[0m NannyMLException:                                                           \u001b[31m│\u001b[0m\n",
       "\u001b[31m│\u001b[0m   \u001b[2m372 \u001b[0m\u001b[2m│   │   │   \u001b[0m\u001b[94mraise\u001b[0m                                                                          \u001b[31m│\u001b[0m\n",
       "\u001b[31m│\u001b[0m   \u001b[2m373 \u001b[0m\u001b[2m│   │   \u001b[0m\u001b[94mexcept\u001b[0m \u001b[96mException\u001b[0m \u001b[94mas\u001b[0m exc:                                                           \u001b[31m│\u001b[0m\n",
       "\u001b[31m│\u001b[0m                                                                                                  \u001b[31m│\u001b[0m\n",
       "\u001b[31m│\u001b[0m \u001b[2m/Users/svengoerdes/Projects/Master/MLOps_Project/project/.venv/lib/python3.9/site-packages/nanny\u001b[0m \u001b[31m│\u001b[0m\n",
       "\u001b[31m│\u001b[0m \u001b[2mml/\u001b[0m\u001b[1musage_logging.py\u001b[0m:242 in logging_wrapper                                                       \u001b[31m│\u001b[0m\n",
       "\u001b[31m│\u001b[0m                                                                                                  \u001b[31m│\u001b[0m\n",
       "\u001b[31m│\u001b[0m   \u001b[2m239 \u001b[0m\u001b[2m│   │   │   │   \u001b[0mlogger.log(usage_event, md)                                                \u001b[31m│\u001b[0m\n",
       "\u001b[31m│\u001b[0m   \u001b[2m240 \u001b[0m\u001b[2m│   │   │   \u001b[0m\u001b[94mfinally\u001b[0m:                                                                       \u001b[31m│\u001b[0m\n",
       "\u001b[31m│\u001b[0m   \u001b[2m241 \u001b[0m\u001b[2m│   │   │   │   \u001b[0m\u001b[94mif\u001b[0m runtime_exception \u001b[95mis\u001b[0m \u001b[95mnot\u001b[0m \u001b[94mNone\u001b[0m:                                          \u001b[31m│\u001b[0m\n",
       "\u001b[31m│\u001b[0m \u001b[31m❱ \u001b[0m242 \u001b[2m│   │   │   │   │   \u001b[0m\u001b[94mraise\u001b[0m runtime_exception                                                \u001b[31m│\u001b[0m\n",
       "\u001b[31m│\u001b[0m   \u001b[2m243 \u001b[0m\u001b[2m│   │   │   │   \u001b[0m\u001b[94melse\u001b[0m:                                                                      \u001b[31m│\u001b[0m\n",
       "\u001b[31m│\u001b[0m   \u001b[2m244 \u001b[0m\u001b[2m│   │   │   │   │   \u001b[0m\u001b[94mreturn\u001b[0m res                                                             \u001b[31m│\u001b[0m\n",
       "\u001b[31m│\u001b[0m   \u001b[2m245 \u001b[0m                                                                                           \u001b[31m│\u001b[0m\n",
       "\u001b[31m│\u001b[0m                                                                                                  \u001b[31m│\u001b[0m\n",
       "\u001b[31m│\u001b[0m \u001b[2m/Users/svengoerdes/Projects/Master/MLOps_Project/project/.venv/lib/python3.9/site-packages/nanny\u001b[0m \u001b[31m│\u001b[0m\n",
       "\u001b[31m│\u001b[0m \u001b[2mml/\u001b[0m\u001b[1musage_logging.py\u001b[0m:191 in logging_wrapper                                                       \u001b[31m│\u001b[0m\n",
       "\u001b[31m│\u001b[0m                                                                                                  \u001b[31m│\u001b[0m\n",
       "\u001b[31m│\u001b[0m   \u001b[2m188 \u001b[0m\u001b[2m│   │   │   \u001b[0mruntime_exception = \u001b[94mNone\u001b[0m                                                       \u001b[31m│\u001b[0m\n",
       "\u001b[31m│\u001b[0m   \u001b[2m189 \u001b[0m\u001b[2m│   │   │   \u001b[0m\u001b[94mtry\u001b[0m:                                                                           \u001b[31m│\u001b[0m\n",
       "\u001b[31m│\u001b[0m   \u001b[2m190 \u001b[0m\u001b[2m│   │   │   │   \u001b[0m\u001b[2m# run original function\u001b[0m                                                    \u001b[31m│\u001b[0m\n",
       "\u001b[31m│\u001b[0m \u001b[31m❱ \u001b[0m191 \u001b[2m│   │   │   │   \u001b[0mres = func(*args, **kwargs)                                                \u001b[31m│\u001b[0m\n",
       "\u001b[31m│\u001b[0m   \u001b[2m192 \u001b[0m\u001b[2m│   │   │   \u001b[0m\u001b[94mexcept\u001b[0m \u001b[96mBaseException\u001b[0m \u001b[94mas\u001b[0m exc:                                                   \u001b[31m│\u001b[0m\n",
       "\u001b[31m│\u001b[0m   \u001b[2m193 \u001b[0m\u001b[2m│   │   │   │   \u001b[0mruntime_exception = exc                                                    \u001b[31m│\u001b[0m\n",
       "\u001b[31m│\u001b[0m   \u001b[2m194 \u001b[0m                                                                                           \u001b[31m│\u001b[0m\n",
       "\u001b[31m│\u001b[0m                                                                                                  \u001b[31m│\u001b[0m\n",
       "\u001b[31m│\u001b[0m \u001b[2m/Users/svengoerdes/Projects/Master/MLOps_Project/project/.venv/lib/python3.9/site-packages/nanny\u001b[0m \u001b[31m│\u001b[0m\n",
       "\u001b[31m│\u001b[0m \u001b[2mml/drift/univariate/\u001b[0m\u001b[1mcalculator.py\u001b[0m:327 in _calculate                                              \u001b[31m│\u001b[0m\n",
       "\u001b[31m│\u001b[0m                                                                                                  \u001b[31m│\u001b[0m\n",
       "\u001b[31m│\u001b[0m   \u001b[2m324 \u001b[0m\u001b[2m│   │   \u001b[0m                                                                                   \u001b[31m│\u001b[0m\n",
       "\u001b[31m│\u001b[0m   \u001b[2m325 \u001b[0m\u001b[2m│   │   \u001b[0m_list_missing(\u001b[96mself\u001b[0m.column_names, data)                                             \u001b[31m│\u001b[0m\n",
       "\u001b[31m│\u001b[0m   \u001b[2m326 \u001b[0m\u001b[2m│   │   \u001b[0m                                                                                   \u001b[31m│\u001b[0m\n",
       "\u001b[31m│\u001b[0m \u001b[31m❱ \u001b[0m327 \u001b[2m│   │   \u001b[0mchunks = \u001b[96mself\u001b[0m.chunker.split(data)                                                  \u001b[31m│\u001b[0m\n",
       "\u001b[31m│\u001b[0m   \u001b[2m328 \u001b[0m\u001b[2m│   │   \u001b[0m                                                                                   \u001b[31m│\u001b[0m\n",
       "\u001b[31m│\u001b[0m   \u001b[2m329 \u001b[0m\u001b[2m│   │   \u001b[0mrows = []                                                                          \u001b[31m│\u001b[0m\n",
       "\u001b[31m│\u001b[0m   \u001b[2m330 \u001b[0m\u001b[2m│   │   \u001b[0m\u001b[94mfor\u001b[0m chunk \u001b[95min\u001b[0m chunks:                                                               \u001b[31m│\u001b[0m\n",
       "\u001b[31m│\u001b[0m                                                                                                  \u001b[31m│\u001b[0m\n",
       "\u001b[31m│\u001b[0m \u001b[2m/Users/svengoerdes/Projects/Master/MLOps_Project/project/.venv/lib/python3.9/site-packages/nanny\u001b[0m \u001b[31m│\u001b[0m\n",
       "\u001b[31m│\u001b[0m \u001b[2mml/\u001b[0m\u001b[1mchunk.py\u001b[0m:165 in split                                                                         \u001b[31m│\u001b[0m\n",
       "\u001b[31m│\u001b[0m                                                                                                  \u001b[31m│\u001b[0m\n",
       "\u001b[31m│\u001b[0m   \u001b[2m162 \u001b[0m\u001b[2m│   │   │   │   │   \u001b[0m\u001b[33mf\u001b[0m\u001b[33m\"\u001b[0m\u001b[33mtimestamp column \u001b[0m\u001b[33m'\u001b[0m\u001b[33m{\u001b[0m\u001b[96mself\u001b[0m.timestamp_column_name\u001b[33m}\u001b[0m\u001b[33m'\u001b[0m\u001b[33m not in columns: \u001b[0m\u001b[33m{\u001b[0m\u001b[96ml\u001b[0m   \u001b[31m│\u001b[0m\n",
       "\u001b[31m│\u001b[0m   \u001b[2m163 \u001b[0m\u001b[2m│   │   │   │   \u001b[0m)                                                                          \u001b[31m│\u001b[0m\n",
       "\u001b[31m│\u001b[0m   \u001b[2m164 \u001b[0m\u001b[2m│   │   │   \u001b[0m                                                                               \u001b[31m│\u001b[0m\n",
       "\u001b[31m│\u001b[0m \u001b[31m❱ \u001b[0m165 \u001b[2m│   │   │   \u001b[0mdata = data.sort_values(by=[\u001b[96mself\u001b[0m.timestamp_column_name]).reset_index(drop=\u001b[94mTr\u001b[0m   \u001b[31m│\u001b[0m\n",
       "\u001b[31m│\u001b[0m   \u001b[2m166 \u001b[0m\u001b[2m│   │   \u001b[0m                                                                                   \u001b[31m│\u001b[0m\n",
       "\u001b[31m│\u001b[0m   \u001b[2m167 \u001b[0m\u001b[2m│   │   \u001b[0m\u001b[94mtry\u001b[0m:                                                                               \u001b[31m│\u001b[0m\n",
       "\u001b[31m│\u001b[0m   \u001b[2m168 \u001b[0m\u001b[2m│   │   │   \u001b[0mchunks = \u001b[96mself\u001b[0m._split(data)                                                     \u001b[31m│\u001b[0m\n",
       "\u001b[31m│\u001b[0m                                                                                                  \u001b[31m│\u001b[0m\n",
       "\u001b[31m│\u001b[0m \u001b[2m/Users/svengoerdes/Projects/Master/MLOps_Project/project/.venv/lib/python3.9/site-packages/panda\u001b[0m \u001b[31m│\u001b[0m\n",
       "\u001b[31m│\u001b[0m \u001b[2ms/core/\u001b[0m\u001b[1mframe.py\u001b[0m:6944 in sort_values                                                              \u001b[31m│\u001b[0m\n",
       "\u001b[31m│\u001b[0m                                                                                                  \u001b[31m│\u001b[0m\n",
       "\u001b[31m│\u001b[0m   \u001b[2m 6941 \u001b[0m\u001b[2m│   │   \u001b[0m\u001b[94melif\u001b[0m \u001b[96mlen\u001b[0m(by):                                                                    \u001b[31m│\u001b[0m\n",
       "\u001b[31m│\u001b[0m   \u001b[2m 6942 \u001b[0m\u001b[2m│   │   │   \u001b[0m\u001b[2m# len(by) == 1\u001b[0m                                                               \u001b[31m│\u001b[0m\n",
       "\u001b[31m│\u001b[0m   \u001b[2m 6943 \u001b[0m\u001b[2m│   │   │   \u001b[0m                                                                             \u001b[31m│\u001b[0m\n",
       "\u001b[31m│\u001b[0m \u001b[31m❱ \u001b[0m 6944 \u001b[2m│   │   │   \u001b[0mk = \u001b[96mself\u001b[0m._get_label_or_level_values(by[\u001b[94m0\u001b[0m], axis=axis)                        \u001b[31m│\u001b[0m\n",
       "\u001b[31m│\u001b[0m   \u001b[2m 6945 \u001b[0m\u001b[2m│   │   │   \u001b[0m                                                                             \u001b[31m│\u001b[0m\n",
       "\u001b[31m│\u001b[0m   \u001b[2m 6946 \u001b[0m\u001b[2m│   │   │   \u001b[0m\u001b[2m# need to rewrap column in Series to apply key function\u001b[0m                      \u001b[31m│\u001b[0m\n",
       "\u001b[31m│\u001b[0m   \u001b[2m 6947 \u001b[0m\u001b[2m│   │   │   \u001b[0m\u001b[94mif\u001b[0m key \u001b[95mis\u001b[0m \u001b[95mnot\u001b[0m \u001b[94mNone\u001b[0m:                                                          \u001b[31m│\u001b[0m\n",
       "\u001b[31m│\u001b[0m                                                                                                  \u001b[31m│\u001b[0m\n",
       "\u001b[31m│\u001b[0m \u001b[2m/Users/svengoerdes/Projects/Master/MLOps_Project/project/.venv/lib/python3.9/site-packages/panda\u001b[0m \u001b[31m│\u001b[0m\n",
       "\u001b[31m│\u001b[0m \u001b[2ms/core/\u001b[0m\u001b[1mgeneric.py\u001b[0m:1858 in _get_label_or_level_values                                             \u001b[31m│\u001b[0m\n",
       "\u001b[31m│\u001b[0m                                                                                                  \u001b[31m│\u001b[0m\n",
       "\u001b[31m│\u001b[0m   \u001b[2m 1855 \u001b[0m\u001b[2m│   │   │   │   \u001b[0mmulti_message = \u001b[33m\"\u001b[0m\u001b[33m\"\u001b[0m                                                       \u001b[31m│\u001b[0m\n",
       "\u001b[31m│\u001b[0m   \u001b[2m 1856 \u001b[0m\u001b[2m│   │   │   \u001b[0m                                                                             \u001b[31m│\u001b[0m\n",
       "\u001b[31m│\u001b[0m   \u001b[2m 1857 \u001b[0m\u001b[2m│   │   │   \u001b[0mlabel_axis_name = \u001b[33m\"\u001b[0m\u001b[33mcolumn\u001b[0m\u001b[33m\"\u001b[0m \u001b[94mif\u001b[0m axis == \u001b[94m0\u001b[0m \u001b[94melse\u001b[0m \u001b[33m\"\u001b[0m\u001b[33mindex\u001b[0m\u001b[33m\"\u001b[0m                         \u001b[31m│\u001b[0m\n",
       "\u001b[31m│\u001b[0m \u001b[31m❱ \u001b[0m 1858 \u001b[2m│   │   │   \u001b[0m\u001b[94mraise\u001b[0m \u001b[96mValueError\u001b[0m(                                                            \u001b[31m│\u001b[0m\n",
       "\u001b[31m│\u001b[0m   \u001b[2m 1859 \u001b[0m\u001b[2m│   │   │   │   \u001b[0m\u001b[33mf\u001b[0m\u001b[33m\"\u001b[0m\u001b[33mThe \u001b[0m\u001b[33m{\u001b[0mlabel_axis_name\u001b[33m}\u001b[0m\u001b[33m label \u001b[0m\u001b[33m'\u001b[0m\u001b[33m{\u001b[0mkey\u001b[33m}\u001b[0m\u001b[33m'\u001b[0m\u001b[33m is not unique.\u001b[0m\u001b[33m{\u001b[0mmulti_message\u001b[33m}\u001b[0m\u001b[33m\"\u001b[0m     \u001b[31m│\u001b[0m\n",
       "\u001b[31m│\u001b[0m   \u001b[2m 1860 \u001b[0m\u001b[2m│   │   │   \u001b[0m)                                                                            \u001b[31m│\u001b[0m\n",
       "\u001b[31m│\u001b[0m   \u001b[2m 1861 \u001b[0m                                                                                         \u001b[31m│\u001b[0m\n",
       "\u001b[31m╰──────────────────────────────────────────────────────────────────────────────────────────────────╯\u001b[0m\n",
       "\u001b[1;91mValueError: \u001b[0mThe column label \u001b[32m'record_id'\u001b[0m is not unique.\n",
       "\n",
       "\u001b[3mDuring handling of the above exception, another exception occurred:\u001b[0m\n",
       "\n",
       "\u001b[31m╭─\u001b[0m\u001b[31m──────────────────────────────\u001b[0m\u001b[31m \u001b[0m\u001b[1;31mTraceback \u001b[0m\u001b[1;2;31m(most recent call last)\u001b[0m\u001b[31m \u001b[0m\u001b[31m───────────────────────────────\u001b[0m\u001b[31m─╮\u001b[0m\n",
       "\u001b[31m│\u001b[0m in <module>:1                                                                                    \u001b[31m│\u001b[0m\n",
       "\u001b[31m│\u001b[0m                                                                                                  \u001b[31m│\u001b[0m\n",
       "\u001b[31m│\u001b[0m \u001b[31m❱ \u001b[0m1 detect_univariate_drift(wine_raw, wine_sample_drift, params)                                 \u001b[31m│\u001b[0m\n",
       "\u001b[31m│\u001b[0m   \u001b[2m2 \u001b[0m                                                                                             \u001b[31m│\u001b[0m\n",
       "\u001b[31m│\u001b[0m                                                                                                  \u001b[31m│\u001b[0m\n",
       "\u001b[31m│\u001b[0m in detect_univariate_drift:38                                                                    \u001b[31m│\u001b[0m\n",
       "\u001b[31m│\u001b[0m                                                                                                  \u001b[31m│\u001b[0m\n",
       "\u001b[31m│\u001b[0m   \u001b[2m35 \u001b[0m\u001b[2m│   │   \u001b[0mchunk_size=params[\u001b[33m'\u001b[0m\u001b[33mchunk_size\u001b[0m\u001b[33m'\u001b[0m]                                                     \u001b[31m│\u001b[0m\n",
       "\u001b[31m│\u001b[0m   \u001b[2m36 \u001b[0m\u001b[2m│   \u001b[0m).fit(reference_data=reference_df_nml)                                                  \u001b[31m│\u001b[0m\n",
       "\u001b[31m│\u001b[0m   \u001b[2m37 \u001b[0m\u001b[2m│   \u001b[0m                                                                                        \u001b[31m│\u001b[0m\n",
       "\u001b[31m│\u001b[0m \u001b[31m❱ \u001b[0m38 \u001b[2m│   \u001b[0mresults = calc.calculate(data=analysis_df_nml)                                          \u001b[31m│\u001b[0m\n",
       "\u001b[31m│\u001b[0m   \u001b[2m39 \u001b[0m\u001b[2m│   \u001b[0m\u001b[94mreturn\u001b[0m results.to_df()                                                                  \u001b[31m│\u001b[0m\n",
       "\u001b[31m│\u001b[0m   \u001b[2m40 \u001b[0m                                                                                            \u001b[31m│\u001b[0m\n",
       "\u001b[31m│\u001b[0m                                                                                                  \u001b[31m│\u001b[0m\n",
       "\u001b[31m│\u001b[0m \u001b[2m/Users/svengoerdes/Projects/Master/MLOps_Project/project/.venv/lib/python3.9/site-packages/nanny\u001b[0m \u001b[31m│\u001b[0m\n",
       "\u001b[31m│\u001b[0m \u001b[2mml/\u001b[0m\u001b[1mbase.py\u001b[0m:374 in calculate                                                                      \u001b[31m│\u001b[0m\n",
       "\u001b[31m│\u001b[0m                                                                                                  \u001b[31m│\u001b[0m\n",
       "\u001b[31m│\u001b[0m   \u001b[2m371 \u001b[0m\u001b[2m│   │   \u001b[0m\u001b[94mexcept\u001b[0m NannyMLException:                                                           \u001b[31m│\u001b[0m\n",
       "\u001b[31m│\u001b[0m   \u001b[2m372 \u001b[0m\u001b[2m│   │   │   \u001b[0m\u001b[94mraise\u001b[0m                                                                          \u001b[31m│\u001b[0m\n",
       "\u001b[31m│\u001b[0m   \u001b[2m373 \u001b[0m\u001b[2m│   │   \u001b[0m\u001b[94mexcept\u001b[0m \u001b[96mException\u001b[0m \u001b[94mas\u001b[0m exc:                                                           \u001b[31m│\u001b[0m\n",
       "\u001b[31m│\u001b[0m \u001b[31m❱ \u001b[0m374 \u001b[2m│   │   │   \u001b[0m\u001b[94mraise\u001b[0m CalculatorException(\u001b[33mf\u001b[0m\u001b[33m\"\u001b[0m\u001b[33mfailed while calculating \u001b[0m\u001b[33m{\u001b[0m\u001b[96mstr\u001b[0m(\u001b[96mself\u001b[0m)\u001b[33m}\u001b[0m\u001b[33m.\u001b[0m\u001b[33m\\n\u001b[0m\u001b[33m{\u001b[0mexc\u001b[33m}\u001b[0m\u001b[33m\"\u001b[0m)     \u001b[31m│\u001b[0m\n",
       "\u001b[31m│\u001b[0m   \u001b[2m375 \u001b[0m\u001b[2m│   \u001b[0m                                                                                       \u001b[31m│\u001b[0m\n",
       "\u001b[31m│\u001b[0m   \u001b[2m376 \u001b[0m\u001b[2m│   \u001b[0m\u001b[1;95m@abstractmethod\u001b[0m                                                                        \u001b[31m│\u001b[0m\n",
       "\u001b[31m│\u001b[0m   \u001b[2m377 \u001b[0m\u001b[2m│   \u001b[0m\u001b[94mdef\u001b[0m\u001b[90m \u001b[0m\u001b[92m_fit\u001b[0m(\u001b[96mself\u001b[0m, reference_data: pd.DataFrame, *args, **kwargs) -> Self:                 \u001b[31m│\u001b[0m\n",
       "\u001b[31m╰──────────────────────────────────────────────────────────────────────────────────────────────────╯\u001b[0m\n",
       "\u001b[1;91mCalculatorException: \u001b[0mfailed while calculating \u001b[1m<\u001b[0m\u001b[1;95mnannyml.drift.univariate.calculator.UnivariateDriftCalculator\u001b[0m\u001b[39m object\u001b[0m\n",
       "\u001b[39mat \u001b[0m\u001b[1;36m0x32ed01370\u001b[0m\u001b[1m>\u001b[0m.\n",
       "The column label \u001b[32m'record_id'\u001b[0m is not unique.\n"
      ]
     },
     "metadata": {},
     "output_type": "display_data"
    }
   ],
   "source": [
    "detect_univariate_drift(wine_raw, wine_sample_drift, params)"
   ]
  },
  {
   "cell_type": "code",
   "execution_count": null,
   "id": "792f93be",
   "metadata": {},
   "outputs": [],
   "source": []
  }
 ],
 "metadata": {
  "kernelspec": {
   "display_name": "project",
   "language": "python",
   "name": "python3"
  },
  "language_info": {
   "codemirror_mode": {
    "name": "ipython",
    "version": 3
   },
   "file_extension": ".py",
   "mimetype": "text/x-python",
   "name": "python",
   "nbconvert_exporter": "python",
   "pygments_lexer": "ipython3",
   "version": "3.9.23"
  }
 },
 "nbformat": 4,
 "nbformat_minor": 5
}
