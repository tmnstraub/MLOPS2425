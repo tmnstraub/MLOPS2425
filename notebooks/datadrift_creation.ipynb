{
 "cells": [
  {
   "cell_type": "code",
   "execution_count": 34,
   "id": "30dbcda7",
   "metadata": {},
   "outputs": [],
   "source": [
    "import pandas as pd\n",
    "import numpy as np"
   ]
  },
  {
   "cell_type": "code",
   "execution_count": 35,
   "id": "924dd097",
   "metadata": {},
   "outputs": [
    {
     "name": "stdout",
     "output_type": "stream",
     "text": [
      "The kedro.ipython extension is already loaded. To reload it, use:\n",
      "  %reload_ext kedro.ipython\n"
     ]
    }
   ],
   "source": [
    "%load_ext kedro.ipython"
   ]
  },
  {
   "cell_type": "code",
   "execution_count": 36,
   "id": "4182a773",
   "metadata": {},
   "outputs": [
    {
     "data": {
      "text/html": [
       "<pre style=\"white-space:pre;overflow-x:auto;line-height:normal;font-family:Menlo,'DejaVu Sans Mono',consolas,'Courier New',monospace\"><span style=\"color: #7fbfbf; text-decoration-color: #7fbfbf\">[06/25/25 22:20:27] </span><span style=\"color: #000080; text-decoration-color: #000080\">INFO    </span> Loading data from <span style=\"color: #ff8700; text-decoration-color: #ff8700\">wine_raw_data</span> <span style=\"font-weight: bold\">(</span>CSVDataset<span style=\"font-weight: bold\">)</span><span style=\"color: #808000; text-decoration-color: #808000\">...</span>                    <a href=\"file:///Users/svengoerdes/Projects/Master/MLOps_Project/project/.venv/lib/python3.9/site-packages/kedro/io/data_catalog.py\" target=\"_blank\"><span style=\"color: #7f7f7f; text-decoration-color: #7f7f7f\">data_catalog.py</span></a><span style=\"color: #7f7f7f; text-decoration-color: #7f7f7f\">:</span><a href=\"file:///Users/svengoerdes/Projects/Master/MLOps_Project/project/.venv/lib/python3.9/site-packages/kedro/io/data_catalog.py#403\" target=\"_blank\"><span style=\"color: #7f7f7f; text-decoration-color: #7f7f7f\">403</span></a>\n",
       "</pre>\n"
      ],
      "text/plain": [
       "\u001b[2;36m[06/25/25 22:20:27]\u001b[0m\u001b[2;36m \u001b[0m\u001b[34mINFO    \u001b[0m Loading data from \u001b[38;5;208mwine_raw_data\u001b[0m \u001b[1m(\u001b[0mCSVDataset\u001b[1m)\u001b[0m\u001b[33m...\u001b[0m                    \u001b]8;id=370386;file:///Users/svengoerdes/Projects/Master/MLOps_Project/project/.venv/lib/python3.9/site-packages/kedro/io/data_catalog.py\u001b\\\u001b[2mdata_catalog.py\u001b[0m\u001b]8;;\u001b\\\u001b[2m:\u001b[0m\u001b]8;id=472391;file:///Users/svengoerdes/Projects/Master/MLOps_Project/project/.venv/lib/python3.9/site-packages/kedro/io/data_catalog.py#403\u001b\\\u001b[2m403\u001b[0m\u001b]8;;\u001b\\\n"
      ]
     },
     "metadata": {},
     "output_type": "display_data"
    }
   ],
   "source": [
    "wine_raw = catalog.load('wine_raw_data')"
   ]
  },
  {
   "cell_type": "code",
   "execution_count": 37,
   "id": "67751c20",
   "metadata": {},
   "outputs": [
    {
     "data": {
      "text/html": [
       "<pre style=\"white-space:pre;overflow-x:auto;line-height:normal;font-family:Menlo,'DejaVu Sans Mono',consolas,'Courier New',monospace\"></pre>\n"
      ],
      "text/plain": []
     },
     "metadata": {},
     "output_type": "display_data"
    },
    {
     "data": {
      "text/plain": [
       "\u001b[1m<\u001b[0m\u001b[1;95mAxes:\u001b[0m\u001b[39m \u001b[0m\u001b[33mxlabel\u001b[0m\u001b[39m=\u001b[0m\u001b[32m'points'\u001b[0m\u001b[1m>\u001b[0m"
      ]
     },
     "execution_count": 37,
     "metadata": {},
     "output_type": "execute_result"
    },
    {
     "data": {
      "text/html": [
       "<pre style=\"white-space:pre;overflow-x:auto;line-height:normal;font-family:Menlo,'DejaVu Sans Mono',consolas,'Courier New',monospace\"></pre>\n"
      ],
      "text/plain": []
     },
     "metadata": {},
     "output_type": "display_data"
    },
    {
     "data": {
      "image/png": "[encoded data removed]",
      "text/plain": [
       "\u001b[1m<\u001b[0m\u001b[1;95mFigure\u001b[0m\u001b[39m size 100\u001b[0m\u001b[1;36m0x500\u001b[0m\u001b[39m with \u001b[0m\u001b[1;36m1\u001b[0m\u001b[39m Axes\u001b[0m\u001b[1m>\u001b[0m"
      ]
     },
     "metadata": {},
     "output_type": "display_data"
    }
   ],
   "source": [
    "# lets look at the current distribution ofthe points\n",
    "wine_raw['points'].value_counts().sort_index().plot(kind='bar', figsize=(10, 5))"
   ]
  },
  {
   "cell_type": "code",
   "execution_count": 38,
   "id": "58e3b630",
   "metadata": {},
   "outputs": [
    {
     "data": {
      "text/html": [
       "<pre style=\"white-space:pre;overflow-x:auto;line-height:normal;font-family:Menlo,'DejaVu Sans Mono',consolas,'Courier New',monospace\"></pre>\n"
      ],
      "text/plain": []
     },
     "metadata": {},
     "output_type": "display_data"
    },
    {
     "data": {
      "application/vnd.microsoft.datawrangler.viewer.v0+json": {
       "columns": [
        {
         "name": "index",
         "rawType": "object",
         "type": "string"
        },
        {
         "name": "points",
         "rawType": "float64",
         "type": "float"
        }
       ],
       "ref": "b17f857e-1525-43e2-b22f-4a54b25543e0",
       "rows": [
        [
         "count",
         "129971.0"
        ],
        [
         "mean",
         "88.44713820775404"
        ],
        [
         "std",
         "3.039730202916003"
        ],
        [
         "min",
         "80.0"
        ],
        [
         "25%",
         "86.0"
        ],
        [
         "50%",
         "88.0"
        ],
        [
         "75%",
         "91.0"
        ],
        [
         "max",
         "100.0"
        ]
       ],
       "shape": {
        "columns": 1,
        "rows": 8
       }
      },
      "text/plain": [
       "\n",
       "count    \u001b[1;36m129971.000000\u001b[0m\n",
       "mean         \u001b[1;36m88.447138\u001b[0m\n",
       "std           \u001b[1;36m3.039730\u001b[0m\n",
       "min          \u001b[1;36m80.000000\u001b[0m\n",
       "\u001b[1;36m25\u001b[0m%          \u001b[1;36m86.000000\u001b[0m\n",
       "\u001b[1;36m50\u001b[0m%          \u001b[1;36m88.000000\u001b[0m\n",
       "\u001b[1;36m75\u001b[0m%          \u001b[1;36m91.000000\u001b[0m\n",
       "max         \u001b[1;36m100.000000\u001b[0m\n",
       "Name: points, dtype: float64"
      ]
     },
     "execution_count": 38,
     "metadata": {},
     "output_type": "execute_result"
    }
   ],
   "source": [
    "wine_raw['points'].describe()"
   ]
  },
  {
   "cell_type": "code",
   "execution_count": 39,
   "id": "8b0009b3",
   "metadata": {},
   "outputs": [
    {
     "data": {
      "text/html": [
       "<pre style=\"white-space:pre;overflow-x:auto;line-height:normal;font-family:Menlo,'DejaVu Sans Mono',consolas,'Courier New',monospace\"></pre>\n"
      ],
      "text/plain": []
     },
     "metadata": {},
     "output_type": "display_data"
    },
    {
     "data": {
      "text/plain": [
       "\u001b[1;36m-6.162889497989739\u001b[0m"
      ]
     },
     "execution_count": 39,
     "metadata": {},
     "output_type": "execute_result"
    }
   ],
   "source": [
    "# lets take a sample of the original data and shift the data ponts by - 20 \n",
    "wine_sample = wine_raw.sample(1000, random_state=42)\n",
    "# lets use a normal distrubtion to generate a new set of points\n",
    "np.random.normal(loc = -5 ,scale = 3)"
   ]
  },
  {
   "cell_type": "code",
   "execution_count": 40,
   "id": "a597bd2d",
   "metadata": {},
   "outputs": [],
   "source": [
    "data_shift = np.random.normal(loc = -10 ,scale = 3, size = 1000)\n",
    "wine_sample['points'] = wine_sample['points'] + data_shift"
   ]
  },
  {
   "cell_type": "code",
   "execution_count": null,
   "id": "aad19a59",
   "metadata": {},
   "outputs": [
    {
     "data": {
      "text/html": [
       "<pre style=\"white-space:pre;overflow-x:auto;line-height:normal;font-family:Menlo,'DejaVu Sans Mono',consolas,'Courier New',monospace\"></pre>\n"
      ],
      "text/plain": []
     },
     "metadata": {},
     "output_type": "display_data"
    },
    {
     "data": {
      "application/vnd.microsoft.datawrangler.viewer.v0+json": {
       "columns": [
        {
         "name": "index",
         "rawType": "object",
         "type": "string"
        },
        {
         "name": "points",
         "rawType": "float64",
         "type": "float"
        },
        {
         "name": "price",
         "rawType": "float64",
         "type": "float"
        }
       ],
       "ref": "103f75c2-d4ec-4165-9e8a-3dda83ed5b70",
       "rows": [
        [
         "count",
         "1000.0",
         "941.0"
        ],
        [
         "mean",
         "78.49893424046874",
         "36.07545164718385"
        ],
        [
         "std",
         "4.457481346771811",
         "45.48120541139447"
        ],
        [
         "min",
         "67.1372531762739",
         "5.0"
        ],
        [
         "25%",
         "75.48911354699656",
         "18.0"
        ],
        [
         "50%",
         "78.61584306005192",
         "26.0"
        ],
        [
         "75%",
         "81.38841089474919",
         "41.0"
        ],
        [
         "max",
         "91.79646870022374",
         "973.0"
        ]
       ],
       "shape": {
        "columns": 2,
        "rows": 8
       }
      },
      "text/html": [
       "<div>\n",
       "<style scoped>\n",
       "    .dataframe tbody tr th:only-of-type {\n",
       "        vertical-align: middle;\n",
       "    }\n",
       "\n",
       "    .dataframe tbody tr th {\n",
       "        vertical-align: top;\n",
       "    }\n",
       "\n",
       "    .dataframe thead th {\n",
       "        text-align: right;\n",
       "    }\n",
       "</style>\n",
       "<table border=\"1\" class=\"dataframe\">\n",
       "  <thead>\n",
       "    <tr style=\"text-align: right;\">\n",
       "      <th></th>\n",
       "      <th>points</th>\n",
       "      <th>price</th>\n",
       "    </tr>\n",
       "  </thead>\n",
       "  <tbody>\n",
       "    <tr>\n",
       "      <th>count</th>\n",
       "      <td>1000.000000</td>\n",
       "      <td>941.000000</td>\n",
       "    </tr>\n",
       "    <tr>\n",
       "      <th>mean</th>\n",
       "      <td>78.498934</td>\n",
       "      <td>36.075452</td>\n",
       "    </tr>\n",
       "    <tr>\n",
       "      <th>std</th>\n",
       "      <td>4.457481</td>\n",
       "      <td>45.481205</td>\n",
       "    </tr>\n",
       "    <tr>\n",
       "      <th>min</th>\n",
       "      <td>67.137253</td>\n",
       "      <td>5.000000</td>\n",
       "    </tr>\n",
       "    <tr>\n",
       "      <th>25%</th>\n",
       "      <td>75.489114</td>\n",
       "      <td>18.000000</td>\n",
       "    </tr>\n",
       "    <tr>\n",
       "      <th>50%</th>\n",
       "      <td>78.615843</td>\n",
       "      <td>26.000000</td>\n",
       "    </tr>\n",
       "    <tr>\n",
       "      <th>75%</th>\n",
       "      <td>81.388411</td>\n",
       "      <td>41.000000</td>\n",
       "    </tr>\n",
       "    <tr>\n",
       "      <th>max</th>\n",
       "      <td>91.796469</td>\n",
       "      <td>973.000000</td>\n",
       "    </tr>\n",
       "  </tbody>\n",
       "</table>\n",
       "</div>"
      ],
      "text/plain": [
       "\n",
       "            points       price\n",
       "count  \u001b[1;36m1000.000000\u001b[0m  \u001b[1;36m941.000000\u001b[0m\n",
       "mean     \u001b[1;36m78.498934\u001b[0m   \u001b[1;36m36.075452\u001b[0m\n",
       "std       \u001b[1;36m4.457481\u001b[0m   \u001b[1;36m45.481205\u001b[0m\n",
       "min      \u001b[1;36m67.137253\u001b[0m    \u001b[1;36m5.000000\u001b[0m\n",
       "\u001b[1;36m25\u001b[0m%      \u001b[1;36m75.489114\u001b[0m   \u001b[1;36m18.000000\u001b[0m\n",
       "\u001b[1;36m50\u001b[0m%      \u001b[1;36m78.615843\u001b[0m   \u001b[1;36m26.000000\u001b[0m\n",
       "\u001b[1;36m75\u001b[0m%      \u001b[1;36m81.388411\u001b[0m   \u001b[1;36m41.000000\u001b[0m\n",
       "max      \u001b[1;36m91.796469\u001b[0m  \u001b[1;36m973.000000\u001b[0m"
      ]
     },
     "execution_count": 41,
     "metadata": {},
     "output_type": "execute_result"
    }
   ],
   "source": [
    "# make sure that every value is between [0, 100] -> if not this should get caught by great_expectations.\n",
    "wine_sample.describe()\n"
   ]
  },
  {
   "cell_type": "code",
   "execution_count": 42,
   "id": "f808a15b",
   "metadata": {},
   "outputs": [
    {
     "data": {
      "text/html": [
       "<pre style=\"white-space:pre;overflow-x:auto;line-height:normal;font-family:Menlo,'DejaVu Sans Mono',consolas,'Courier New',monospace\"></pre>\n"
      ],
      "text/plain": []
     },
     "metadata": {},
     "output_type": "display_data"
    },
    {
     "data": {
      "application/vnd.microsoft.datawrangler.viewer.v0+json": {
       "columns": [
        {
         "name": "index",
         "rawType": "int64",
         "type": "integer"
        },
        {
         "name": "country",
         "rawType": "object",
         "type": "string"
        },
        {
         "name": "description",
         "rawType": "object",
         "type": "string"
        },
        {
         "name": "designation",
         "rawType": "object",
         "type": "unknown"
        },
        {
         "name": "points",
         "rawType": "float64",
         "type": "float"
        },
        {
         "name": "price",
         "rawType": "float64",
         "type": "float"
        },
        {
         "name": "province",
         "rawType": "object",
         "type": "string"
        },
        {
         "name": "region_1",
         "rawType": "object",
         "type": "unknown"
        },
        {
         "name": "region_2",
         "rawType": "object",
         "type": "unknown"
        },
        {
         "name": "taster_name",
         "rawType": "object",
         "type": "unknown"
        },
        {
         "name": "taster_twitter_handle",
         "rawType": "object",
         "type": "unknown"
        },
        {
         "name": "title",
         "rawType": "object",
         "type": "string"
        },
        {
         "name": "variety",
         "rawType": "object",
         "type": "string"
        },
        {
         "name": "winery",
         "rawType": "object",
         "type": "string"
        }
       ],
       "ref": "8a757544-9766-4760-8237-961363b5f0a8",
       "rows": [
        [
         "77718",
         "Australia",
         "Possibly a little sweet, this is a soft, easygoing Chardonnay marked by clean, modest pear and melon flavors.",
         null,
         "67.1951076482786",
         "5.0",
         "Australia Other",
         "South Eastern Australia",
         null,
         "Joe Czerwinski",
         "@JoeCz",
         "Banrock Station 2006 Chardonnay (South Eastern Australia)",
         "Chardonnay",
         "Banrock Station"
        ],
        [
         "67681",
         "France",
         "A soft, almost off dry wine that is full in the mouth. It has caramel and spice flavors as well as light acidity. The wine feels weighty and definitely needs food.",
         "Réserve",
         "74.55191551305107",
         "12.0",
         "Rhône Valley",
         "Côtes du Rhône",
         null,
         "Roger Voss",
         "@vossroger",
         "Cellier des Dauphins 2015 Réserve Rosé (Côtes du Rhône)",
         "Rosé",
         "Cellier des Dauphins"
        ],
        [
         "69877",
         "Spain",
         "Generic white-fruit aromas of peach and apple are slightly pithy. This feels good but innocuous, while flavors of apple and stone fruits lose some of their snap and directness on a tropical-tasting finish.",
         "Estate Grown & Bottled",
         "68.89756703988016",
         "9.0",
         "Northern Spain",
         "Rueda",
         null,
         "Michael Schachner",
         "@wineschach",
         "Esperanza 2013 Estate Grown & Bottled Verdejo-Viura (Rueda)",
         "Verdejo-Viura",
         "Esperanza"
        ],
        [
         "46544",
         "US",
         "This is the winery's best Nebula in years. While it's still a little on the soft, sweet side, the cool vintage has resonated in the wine's flavor, giving it a good structure housing cherry, currant and sandalwood flavors. Drink now.",
         "Nebula",
         "78.06131189267417",
         "29.0",
         "California",
         "Paso Robles",
         "Central Coast",
         null,
         null,
         "Midnight 2010 Nebula Cabernet Sauvignon (Paso Robles)",
         "Cabernet Sauvignon",
         "Midnight"
        ],
        [
         "186",
         "US",
         "This is a very rich Pinot whose primary virtue is fruit. It just explodes with delicious cherry jam, red currant, licorice and mocha flavors. Dry and crisply acidic, it's a beautiful wine for early drinking.",
         "Wiley Vineyard",
         "75.06209930915209",
         "40.0",
         "California",
         "Anderson Valley",
         null,
         null,
         null,
         "Harrington 2006 Wiley Vineyard Pinot Noir (Anderson Valley)",
         "Pinot Noir",
         "Harrington"
        ],
        [
         "73126",
         "US",
         "An unabashedly rich and luscious wine, this combines ripe and fresh fruit flavors with luxurious spicy, buttery accents and an almost thick texture. With a subtext as savory as Udon broth it's practically a meal in a bottle. Call it full-bodied, full-flavored, ultrasmooth and impressive.",
         null,
         "80.4900810647474",
         "22.0",
         "California",
         "Sonoma County-Monterey County-Santa Barbara County",
         "California Other",
         "Jim Gordon",
         "@gordone_cellars",
         "Meiomi 2013 Chardonnay (Sonoma County-Monterey County-Santa Barbara County)",
         "Chardonnay",
         "Meiomi"
        ],
        [
         "26800",
         "US",
         "This opens with a pleasing toasty aroma, following through on the palate. That deft touch of French oak (33% new) frames a solid core of strawberry preserves and Bing cherry fruit. It resonates on through a stylish, textural finish. Enjoy this immediately, and tuck away a few bottles to drink in five years.",
         "Five Faces",
         "83.94222494457381",
         "33.0",
         "Oregon",
         "Willamette Valley",
         "Willamette Valley",
         "Paul Gregutt",
         "@paulgwine ",
         "Fullerton 2014 Five Faces Pinot Noir (Willamette Valley)",
         "Pinot Noir",
         "Fullerton"
        ],
        [
         "80832",
         "Italy",
         "Made with 100% Chardonnay, this creamy sparkler opens with aromas of hawthorn, peach and a whiff of bread crust. The palate reveals candied nectarine zest and golden apple alongside a soft perlage. It ends on a note of white almond.",
         "Saten",
         "76.153753914196",
         "35.0",
         "Lombardy",
         "Franciacorta",
         null,
         "Kerin O’Keefe",
         "@kerinokeefe",
         "Lantieri de Paratico NV Saten Chardonnay (Franciacorta)",
         "Chardonnay",
         "Lantieri de Paratico"
        ],
        [
         "86297",
         "US",
         "Here's a good, everyday Cab if you're looking for a bargain. It's dry, tannic and earthy, with suggestions of currants and oak.",
         null,
         "77.18376877553635",
         "10.0",
         "California",
         "Central Coast",
         "Central Coast",
         null,
         null,
         "Cupcake 2005 Cabernet Sauvignon (Central Coast)",
         "Cabernet Sauvignon",
         "Cupcake"
        ],
        [
         "56015",
         "France",
         "Made from low-yielding, 70-year-old vines, this is a dense wine with an almost-dark structure and ripe red-plum flavors. Powerful, it obviously will be better with food and could even benefit from decanting before drinking. Age this concentrated wine until late 2016.",
         "Clos du Château",
         "80.69983129994154",
         "21.0",
         "Provence",
         "Côtes de Provence",
         null,
         "Roger Voss",
         "@vossroger",
         "Domaine du Clos Gautier 2015 Clos du Château Rosé (Côtes de Provence)",
         "Rosé",
         "Domaine du Clos Gautier"
        ],
        [
         "78536",
         "US",
         "Amidst cola and sassafras on the nose, there's a bit of rotting cherry funk and some compost pile aromas to this intriguing single-vineyard Syrah from the Los Alamos area. The little bit of cherry sweetness on the palate gets more serious with chopped herbs, tobacco and cedar.",
         "White Hawk Vineyard",
         "84.25958440619675",
         "38.0",
         "California",
         "Santa Barbara County",
         "Central Coast",
         "Matt Kettmann",
         "@mattkettmann",
         "Deep Sea 2011 White Hawk Vineyard Syrah (Santa Barbara County)",
         "Syrah",
         "Deep Sea"
        ],
        [
         "41016",
         "France",
         "This ripe, fruity wine has both freshness and a warmer, rounded character. Apricot and fresh white peach fruits are filled out with almond flavors as well as acidity. It's a wine to enjoy now, although it will be better from 2016",
         "Réserve des Vignerons",
         "74.90454216040536",
         "14.0",
         "Loire Valley",
         "Saumur",
         null,
         "Roger Voss",
         "@vossroger",
         "Cave de Saumur 2014 Réserve des Vignerons  (Saumur)",
         "Chenin Blanc",
         "Cave de Saumur"
        ],
        [
         "81019",
         "France",
         "This is a smooth and creamy wine with soft apple flavors mingling with almonds and brisk acidity. It has a tight edge of minerality that adds a fine texture, offering a glimpse of the extra richness that can be expected in 2–3 years.",
         "Clos le Vigneau",
         "77.47852104347993",
         "18.0",
         "Loire Valley",
         "Vouvray",
         null,
         "Roger Voss",
         "@vossroger",
         "Château Gaudrelle 2010 Clos le Vigneau  (Vouvray)",
         "Chenin Blanc",
         "Château Gaudrelle"
        ],
        [
         "129762",
         "US",
         "It shows ultrarich tannins and a flavor complexity ranging from briary wild blackberries and prunes to currants, nettles, sweet tea and softened cola. It's absolutely dry, despite or perhaps because of very high alcohol. The wine is unapologetic about that ripeness, instead asking only to be happily paired with barbecue.",
         null,
         "79.06171535118587",
         "20.0",
         "California",
         "Russian River Valley",
         "Sonoma",
         null,
         null,
         "Novy 2012 Zinfandel (Russian River Valley)",
         "Zinfandel",
         "Novy"
        ],
        [
         "34634",
         "Portugal",
         "With a high proportion of generous Alicante Bouschet in the blend, this is a big, bold wine. It has smoky flavors showing a meaty character that's enhanced by 12 months wood aging. Generous tannins give a rich, structured character. It could still do with some aging, so drink from 2017.",
         "Santos da Casa Reserva",
         "79.69263081112909",
         "19.0",
         "Alentejano",
         null,
         null,
         "Roger Voss",
         "@vossroger",
         "Casca Wines 2011 Santos da Casa Reserva Red (Alentejano)",
         "Portuguese Red",
         "Casca Wines"
        ],
        [
         "20284",
         "Italy",
         "Baked plum, blue flower, dark spice, vanilla and dried herb emerge in the glass. The dense, chewy palate offers mature black cherry, raspberry jam, fig and sweet cake spice alongside velvety tannins. It has hit its ideal drinking window so enjoy soon.",
         "Caleno Oro",
         "75.47565145761297",
         null,
         "Southern Italy",
         "Campania",
         null,
         "Kerin O’Keefe",
         "@kerinokeefe",
         "Nugnes 2009 Caleno Oro Aglianico (Campania)",
         "Aglianico",
         "Nugnes"
        ],
        [
         "111397",
         "US",
         "The winery says this high-alcohol wine, made from Muscat and Verdelho, was aged for ten years in barrels. It has a floral, Sherry taste, with that distinctive yeasty flavor undergirding quite sweet pineapples, oranges, apricots and white chocolate.",
         "Dessert Wine",
         "74.56648044788862",
         "20.0",
         "California",
         "California",
         "California Other",
         null,
         null,
         "Elkhorn Peak NV Dessert Wine White (California)",
         "White Blend",
         "Elkhorn Peak"
        ],
        [
         "26153",
         "Germany",
         "Hints of lemon shortbread, fresh apple and white flower unfold on the nose of this delicately honeyed wine. On the palate, sweet white-peach and yellow-cherry flavors run just a shade off dry. Easy going and fresh, it finishes long, with a streak of tangerine acidity.",
         "Dom Off-Dry",
         "78.866180403451",
         "18.0",
         "Mosel",
         null,
         null,
         "Anna Lee C. Iijima",
         null,
         "Bischöfliche Weingüter Trier 2015 Dom Off-Dry Riesling (Mosel)",
         "Riesling",
         "Bischöfliche Weingüter Trier"
        ],
        [
         "110148",
         "Italy",
         "Notes of cherry and raspberry open the nose of this organic wine. It is easy on the palate, with a lean, fruit-filled finish.",
         "Vriccio",
         "80.02654039373456",
         "20.0",
         "Southern Italy",
         "Puglia",
         null,
         null,
         null,
         "Antica Enotria 2011 Vriccio Primitivo (Puglia)",
         "Primitivo",
         "Antica Enotria"
        ],
        [
         "125453",
         "US",
         "A blend of Ciel du Cheval and Force Majeure vineyards, this wine brings a mix of pomegranate, dark raspberry, dried tobacco, crushed rock and peppery spices. It explodes on the palate with rich, dense, cranberry and spice flavors that linger.",
         "Crazy Mary",
         "77.19773676362126",
         "48.0",
         "Washington",
         "Red Mountain",
         "Columbia Valley",
         "Sean P. Sullivan",
         "@wawinereport",
         "Mark Ryan 2012 Crazy Mary Mourvèdre (Red Mountain)",
         "Mourvèdre",
         "Mark Ryan"
        ],
        [
         "69961",
         "Chile",
         "Fleshy, tropical aromas with a touch of varietal snap set up a green palate with sweet lime and scallion flavors. The finish shows ripeness and tropical notes before turning heavy. Drink this well chilled.",
         "U Estate Grown",
         "75.06924197685126",
         "11.0",
         "Maipo Valley",
         null,
         null,
         "Michael Schachner",
         "@wineschach",
         "Undurraga 2012 U Estate Grown Sauvignon Blanc (Maipo Valley)",
         "Sauvignon Blanc",
         "Undurraga"
        ],
        [
         "73036",
         "Australia",
         "This restrained, medium-bodied Cabernet Sauvignon is a solid value. On the nose, cedar, vanilla and cassis elements blend together easily, while brown sugar and vanilla flavors are supported by just enough cassis and black cherry fruit. Drink now–2028.",
         "Two Passions",
         "81.87471078396213",
         "20.0",
         "Western Australia",
         "Margaret River",
         null,
         "Joe Czerwinski",
         "@JoeCz",
         "Wildberry Estate 2013 Two Passions Cabernet Sauvignon (Margaret River)",
         "Cabernet Sauvignon",
         "Wildberry Estate"
        ],
        [
         "42766",
         "US",
         "Intense perfume and floral notes overcome ripe apple aromas. It's dry on the palate with flavors of savory apple and green herbs, but feels a bit flat and heavy in mouthfeel.",
         null,
         "73.58034572497539",
         "25.0",
         "New York",
         "North Fork of Long Island",
         "Long Island",
         "Anna Lee C. Iijima",
         null,
         "Palmer 2012 Albariño (North Fork of Long Island)",
         "Albariño",
         "Palmer"
        ],
        [
         "96340",
         "US",
         "This cool climate region is well-suited to this grape, producing aromatic, elegant wines such as this without the over-the-top perfume that can drive consumers away. Subtle aromas suggest light talc, acacia and calla lily, while in the mouth this is soft and smooth. Overall it's just plain pretty, with details of apple and apple skin.",
         "Gorge Crest",
         "83.92959550830061",
         "28.0",
         "Oregon",
         "Columbia Gorge (OR)",
         "Oregon Other",
         "Paul Gregutt",
         "@paulgwine ",
         "Phelps Creek 2015 Gorge Crest Gewürztraminer (Columbia Gorge (OR))",
         "Gewürztraminer",
         "Phelps Creek"
        ],
        [
         "9203",
         "Portugal",
         "A soft apple-tinged wine, with bright acidity that cuts right through. The wine is rounded, with just enough crispness. Ready to drink.",
         "Conde de Vimioso Colheita Seleccionada",
         "75.77696401072443",
         "9.0",
         "Tejo",
         null,
         null,
         "Roger Voss",
         "@vossroger",
         "Falua 2010 Conde de Vimioso Colheita Seleccionada White (Tejo)",
         "Portuguese White",
         "Falua"
        ],
        [
         "88712",
         "Italy",
         "Here's a Pinot Grigio that ranks high in terms of fresh, easy-drinking white wine options from northern Italy. The bouquet delivers crisp tones of honeydew melon, herb and a distant mineral dusting. In the mouth, it shows balanced freshness and a bright peach finish.",
         null,
         "76.44634567344217",
         "17.0",
         "Northeastern Italy",
         "Alto Adige",
         null,
         null,
         null,
         "Erste Neue 2011 Pinot Grigio (Alto Adige)",
         "Pinot Grigio",
         "Erste Neue"
        ],
        [
         "38625",
         "Spain",
         "Sweaty and pickled at first, although airing reveals some hidden dark fruit aromas. The palate is grapy and accented by black plum, yet it finishes salty and cheeky, with grabby tannins. Has it good points but lacks direction and elegance.",
         "Viña Tobía",
         "75.77698864104003",
         "11.0",
         "Northern Spain",
         "Rioja",
         null,
         "Michael Schachner",
         "@wineschach",
         "Bodegas Tobía 2005 Viña Tobía  (Rioja)",
         "Tempranillo",
         "Bodegas Tobía"
        ],
        [
         "74575",
         "Italy",
         "This plush Syrah opens with a pretty ruby color and thick, almost syrupy, tones of blueberry and raspberry. The fruit aromas are followed by spice and roasted almonds and the wine is succulent and chewy to the very end.",
         "Una Viola Signature",
         "78.29794144485405",
         "16.0",
         "Sicily & Sardinia",
         "Sicilia",
         null,
         null,
         null,
         "Spadina 2006 Una Viola Signature Syrah (Sicilia)",
         "Syrah",
         "Spadina"
        ],
        [
         "129599",
         "France",
         "This is pretty pale for a Tavel, with a coppery tinge to its pink color. Notes of lime zest, wet stone and modest cherry-berry notes finish on a bright citrus note.",
         null,
         "78.82877378515859",
         "24.0",
         "Rhône Valley",
         "Tavel",
         null,
         "Joe Czerwinski",
         "@JoeCz",
         "Prieuré de Montézargues 2014  Tavel",
         "Rosé",
         "Prieuré de Montézargues"
        ],
        [
         "2062",
         "US",
         "This brilliant Sauvignon Blanc should be scooped up by sommeliers. It's exceptionally dry and tart in citrusy acids, with a mineral scour that's perfect for shellfish or savory appetizers. The flavors are of lemons, limes, gooseberries and white pepper. Beautiful and compelling.",
         null,
         "82.54843211875914",
         "17.0",
         "California",
         "Napa Valley",
         "Napa",
         null,
         null,
         "Broman 2008 Sauvignon Blanc (Napa Valley)",
         "Sauvignon Blanc",
         "Broman"
        ],
        [
         "59333",
         "Argentina",
         "Foxy berry aromas are the lead scent, and they're followed by notes of wet dog and raspberry. This is full bodied and round as a ball, with earthy, lightly herbal flavors of red berries, thyme and rosemary. A warm, loamy finish brings oaky flavors and closing weight. Drink this blend of 70% Malbec and 30% Cabernet Sauvignon through 2016.",
         "Amancaya Gran Reserva",
         "77.04241512035006",
         "21.0",
         "Mendoza Province",
         "Mendoza",
         null,
         "Michael Schachner",
         "@wineschach",
         "Bodegas Caro 2011 Amancaya Gran Reserva Malbec-Cabernet Sauvignon (Mendoza)",
         "Malbec-Cabernet Sauvignon",
         "Bodegas Caro"
        ],
        [
         "51953",
         "South Africa",
         "A decadent blend of ripe berries and rich oak characterizes this wine; sweet smoke and baking spice mingle harmoniously with notes of mashed raspberry and blackberry, accented by hints of hickory-cured bacon and raw cocoa nibs. The medium-weight mouth is structured and bold, with chewy tannins and heady flavors of plum and berry preserves, roasted coffee and sweet licorice. The finish is long and dry, and although this would certainly benefit from 5–10 years of cellaring time, it's approachable now with decanting.",
         "Redhill",
         "80.16646854394202",
         "38.0",
         "Stellenbosch",
         null,
         null,
         "Lauren Buzzeo",
         "@laurbuzz",
         "Simonsig 2011 Redhill Pinotage (Stellenbosch)",
         "Pinotage",
         "Simonsig"
        ],
        [
         "50600",
         "US",
         "Tastes a bit medicinal, with a sweet-sour quality of lemons and pineapples, and is quite acidic. Lacks richness, but it's a decent everyday Chardonnay.",
         null,
         "71.41601793470316",
         "14.0",
         "California",
         "Central Coast",
         "Central Coast",
         null,
         null,
         "Castoro Cellars 2007 Chardonnay (Central Coast)",
         "Chardonnay",
         "Castoro Cellars"
        ],
        [
         "93473",
         "Portugal",
         "Quinta do Pégo produces a light, fast maturing style of vintage Port. This 2009 has the bonus of great richness, although its fruity character and soft tannins suggest it will mature rapidly.",
         "Quinta do Pégo Vintage",
         "81.05920748049923",
         "28.0",
         "Port",
         null,
         null,
         "Roger Voss",
         "@vossroger",
         "Rozes 2009 Quinta do Pégo Vintage  (Port)",
         "Port",
         "Rozes"
        ],
        [
         "105270",
         "US",
         "A surprisingly green tinge vies with tobacco, raspberry and woodspice for attention. This wine is full in feel with good concentration of flavors but ultimately the greenness provides distraction.",
         null,
         "68.33695093204287",
         "28.0",
         "Washington",
         "Columbia Valley (WA)",
         "Columbia Valley",
         "Sean P. Sullivan",
         "@wawinereport",
         "Tamarack Cellars 2012 Merlot (Columbia Valley (WA))",
         "Merlot",
         "Tamarack Cellars"
        ],
        [
         "25069",
         "France",
         "Dense and dry, this is a tough, extracted wine. It has a hard edge followed by juicy acidity and will probably remain on the dry side.",
         null,
         "76.18679650428882",
         "20.0",
         "Bordeaux",
         "Blaye Côtes de Bordeaux",
         null,
         "Roger Voss",
         "@vossroger",
         "Château Grand Bourgeau 2015  Blaye Côtes de Bordeaux",
         "Bordeaux-style Red Blend",
         "Château Grand Bourgeau"
        ],
        [
         "1472",
         "US",
         "This varietal Cabernet Sauvignon hails from the producer's organic Chiles Valley estate. It's muscular and lushly layered, with spicy leather and tobacco notes accented by a delicate touch of violet and supported by firm, grippy tannin. Drink now through 2033.",
         "Sievers Reserve",
         "83.10281544260067",
         "80.0",
         "California",
         "Napa Valley",
         "Napa",
         "Virginie Boone",
         "@vboone",
         "Volker Eisele Family Estate 2013 Sievers Reserve Cabernet Sauvignon (Napa Valley)",
         "Cabernet Sauvignon",
         "Volker Eisele Family Estate"
        ],
        [
         "54640",
         "Spain",
         "Standard berry aromas show touches of raisin and earth, but not too much of either. It feels fresh, crisp and alert, with cherry tomato, berry fruit, tobacco and vanilla flavors. This feels healthy but not real deep or complex on the finish.",
         "Single Vineyard Roble",
         "70.95738862228563",
         "13.0",
         "Northern Spain",
         "Ribera del Duero",
         null,
         "Michael Schachner",
         "@wineschach",
         "Finca El Encinal 2009 Single Vineyard Roble  (Ribera del Duero)",
         "Tempranillo",
         "Finca El Encinal"
        ],
        [
         "118066",
         "US",
         "The blend is mainly Cabernet Sauvignon, with the other four classic Bordeaux varieties added for complexity. The grapes were sourced from vineyards throughout Sonoma County, and the finished wine was aged in 75% new oak. It's very fine, with concentrated, intense blackberry, cherry and crème de cassis flavors.Minerality, in the form of granite, lends a lick of stone. It's still extremely tannic, and needs much more timebefore it begins to come around.",
         "La Joie",
         "86.92918033740801",
         "450.0",
         "California",
         "Sonoma County",
         "Sonoma",
         null,
         null,
         "Verité 2007 La Joie Red (Sonoma County)",
         "Bordeaux-style Red Blend",
         "Verité"
        ],
        [
         "123779",
         "Portugal",
         "Named after Siza Vieira, the architect of the modern Adega Mayor winery, this dense, darkly colored wine is hugely ripe, with great fruits and rich coffee and spice flavors. It's a wine that perfectly fits the adjective opulent, powered by great fruits and dense tannins, with fine aging potential. Drink from 2017.",
         "Siza",
         "84.4272559754946",
         "75.0",
         "Alentejano",
         null,
         null,
         "Roger Voss",
         "@vossroger",
         "Adega Mayor 2009 Siza Alicante Bouschet (Alentejano)",
         "Alicante Bouschet",
         "Adega Mayor"
        ],
        [
         "73985",
         "France",
         "A gorgeously perfumed wine, dominated by the ripest Cabernet Franc, combining richness and an intense structure. With its tannins, it will age well over many years. The fruit is finely textured, deliciously juicy, showing the most complex series of flavors.",
         null,
         "86.7689176940722",
         "295.0",
         "Bordeaux",
         "Saint-Émilion",
         null,
         "Roger Voss",
         "@vossroger",
         "Le Dôme 2009  Saint-Émilion",
         "Bordeaux-style Red Blend",
         "Le Dôme"
        ],
        [
         "48269",
         "US",
         "New oak dominates this wine, giving it aromas of toast and vanilla. After decanting, the air brings out interesting notes of dried herbs and blackberries. Tastes very rich and flamboyant, almost sweet, like a chocolate berry pastry, and should develop over the next few years. Mainly Cabernet Sauvignon, with Sangiovese, Cabernet Franc and Petit Verdot.",
         "Meritaggio",
         "72.04451581086515",
         "55.0",
         "California",
         "Napa Valley",
         "Napa",
         null,
         null,
         "David Arthur 2008 Meritaggio Red (Napa Valley)",
         "Red Blend",
         "David Arthur"
        ],
        [
         "88504",
         "Australia",
         "This blend of 79% Sauvignon Blanc and 21% Semillon is pungent and sweaty, with an almost Collio-like pungency. It's a bold, in-your-face passion-fruit monster that fades quickly on the finish.",
         "Miamup",
         "82.09916823556331",
         "23.0",
         "Western Australia",
         "Margaret River",
         null,
         "Joe Czerwinski",
         "@JoeCz",
         "Howard Park 2015 Miamup Sauvignon Blanc-Semillon (Margaret River)",
         "Sauvignon Blanc-Semillon",
         "Howard Park"
        ],
        [
         "102631",
         "Portugal",
         "All the warm southern heat of the Alentejo is in this wine. It is rich, generous and full of ripe, black fruits. Berries and juicy damsons are spiced with pepper, rich tannins and lifted by acidity. It is a wine for big meat dishes, for stews, a powerful, no-holds-barred style. It will be ready to drink from 2017.",
         "Azul Portugal Reserva",
         "77.78678988594548",
         "40.0",
         "Alentejano",
         null,
         null,
         "Roger Voss",
         "@vossroger",
         "Wines & Winemakers 2013 Azul Portugal Reserva Red (Alentejano)",
         "Portuguese Red",
         "Wines & Winemakers"
        ],
        [
         "64187",
         "South Africa",
         "73% Merlot, with Cabernet and Petite Verdot making up the difference, this is a finely crafted and delicious effort. Medium-bodied and creamy, the Merlot gives this wine a feminine feel, despite solid, soft tannins. Dark, extracted black fruits have some accents of forest and black olive, while leather adds to the cherry and cassis nose. Could use time to soften further, but very approachable now.",
         null,
         "82.05970324025952",
         "55.0",
         "Stellenbosch",
         null,
         null,
         null,
         null,
         "Tokara 2003 Red (Stellenbosch)",
         "Bordeaux-style Red Blend",
         "Tokara"
        ],
        [
         "124726",
         "Georgia",
         "This inky red-violet wine has a nose of blueberry pie, green pepper and violet. It is slightly tart at first sip, with tannins that hide at first and then coat the tongue and gums. A rich flavor profile of blackberry, cranberry, anise, violet and white chocolate makes way for cherry and chocolate notes in the finish.",
         "Mukuzani",
         "82.22322134204686",
         "16.0",
         "Kakheti",
         null,
         null,
         "Mike DeSimone",
         "@worldwineguys",
         "Teliani Valley 2013 Mukuzani Saperavi (Kakheti)",
         "Saperavi",
         "Teliani Valley"
        ],
        [
         "118840",
         "Italy",
         "Succulent steak or breaded veal would make good pairing partners to this elegant Brunello. The wine delivers oak spice, red fruit, black pepper and balsam notes of dried ginger and cola. The wine is lively and delicate with some astringency to the tannins that will soften in a few more years.",
         "Agricola Centolani",
         "77.36990874314212",
         null,
         "Tuscany",
         "Brunello di Montalcino",
         null,
         null,
         null,
         "Pietranera 2008 Agricola Centolani  (Brunello di Montalcino)",
         "Sangiovese Grosso",
         "Pietranera"
        ],
        [
         "121814",
         "France",
         "This wine is firm with solid tannins. It has rich fruit and concentration with layers of blackberry and dark plums. It comes from a small seven-acre property and is aged for 15 months in wood. This impressive wine needs to age, so drink from 2022.",
         "Cuvée Excellence",
         "83.98137985705465",
         "35.0",
         "Bordeaux",
         "Pomerol",
         null,
         "Roger Voss",
         "@vossroger",
         "Château Lafleur du Roy 2015 Cuvée Excellence  (Pomerol)",
         "Bordeaux-style Red Blend",
         "Château Lafleur du Roy"
        ],
        [
         "81493",
         "Italy",
         "This opens with delicate scents of field flower and white stone fruit. On the creamy off-dry palate, a soft mousse backs up sweet white peach, green apple and a candied citrus note while bright acidity lends freshness.",
         "Dry",
         "76.84352027726293",
         "22.0",
         "Veneto",
         "Valdobbiadene Prosecco Superiore",
         null,
         "Kerin O’Keefe",
         "@kerinokeefe",
         "Andreola 2016 Dry  (Valdobbiadene Prosecco Superiore)",
         "Glera",
         "Andreola"
        ],
        [
         "54403",
         "France",
         "Steely, minerally and very textured, this has concentratio and taut layer of acidity to go with the lime fruit. Powered by its structure, it will age for 3–4 years.",
         "Vau de Vey Premier Cru",
         "75.78586846198553",
         "36.0",
         "Burgundy",
         "Chablis",
         null,
         "Roger Voss",
         "@vossroger",
         "Romain Bouchard 2010 Vau de Vey Premier Cru  (Chablis)",
         "Chardonnay",
         "Romain Bouchard"
        ]
       ],
       "shape": {
        "columns": 13,
        "rows": 1000
       }
      },
      "text/html": [
       "<div>\n",
       "<style scoped>\n",
       "    .dataframe tbody tr th:only-of-type {\n",
       "        vertical-align: middle;\n",
       "    }\n",
       "\n",
       "    .dataframe tbody tr th {\n",
       "        vertical-align: top;\n",
       "    }\n",
       "\n",
       "    .dataframe thead th {\n",
       "        text-align: right;\n",
       "    }\n",
       "</style>\n",
       "<table border=\"1\" class=\"dataframe\">\n",
       "  <thead>\n",
       "    <tr style=\"text-align: right;\">\n",
       "      <th></th>\n",
       "      <th>country</th>\n",
       "      <th>description</th>\n",
       "      <th>designation</th>\n",
       "      <th>points</th>\n",
       "      <th>price</th>\n",
       "      <th>province</th>\n",
       "      <th>region_1</th>\n",
       "      <th>region_2</th>\n",
       "      <th>taster_name</th>\n",
       "      <th>taster_twitter_handle</th>\n",
       "      <th>title</th>\n",
       "      <th>variety</th>\n",
       "      <th>winery</th>\n",
       "    </tr>\n",
       "  </thead>\n",
       "  <tbody>\n",
       "    <tr>\n",
       "      <th>77718</th>\n",
       "      <td>Australia</td>\n",
       "      <td>Possibly a little sweet, this is a soft, easyg...</td>\n",
       "      <td>NaN</td>\n",
       "      <td>67.195108</td>\n",
       "      <td>5.0</td>\n",
       "      <td>Australia Other</td>\n",
       "      <td>South Eastern Australia</td>\n",
       "      <td>NaN</td>\n",
       "      <td>Joe Czerwinski</td>\n",
       "      <td>@JoeCz</td>\n",
       "      <td>Banrock Station 2006 Chardonnay (South Eastern...</td>\n",
       "      <td>Chardonnay</td>\n",
       "      <td>Banrock Station</td>\n",
       "    </tr>\n",
       "    <tr>\n",
       "      <th>67681</th>\n",
       "      <td>France</td>\n",
       "      <td>A soft, almost off dry wine that is full in th...</td>\n",
       "      <td>Réserve</td>\n",
       "      <td>74.551916</td>\n",
       "      <td>12.0</td>\n",
       "      <td>Rhône Valley</td>\n",
       "      <td>Côtes du Rhône</td>\n",
       "      <td>NaN</td>\n",
       "      <td>Roger Voss</td>\n",
       "      <td>@vossroger</td>\n",
       "      <td>Cellier des Dauphins 2015 Réserve Rosé (Côtes ...</td>\n",
       "      <td>Rosé</td>\n",
       "      <td>Cellier des Dauphins</td>\n",
       "    </tr>\n",
       "    <tr>\n",
       "      <th>69877</th>\n",
       "      <td>Spain</td>\n",
       "      <td>Generic white-fruit aromas of peach and apple ...</td>\n",
       "      <td>Estate Grown &amp; Bottled</td>\n",
       "      <td>68.897567</td>\n",
       "      <td>9.0</td>\n",
       "      <td>Northern Spain</td>\n",
       "      <td>Rueda</td>\n",
       "      <td>NaN</td>\n",
       "      <td>Michael Schachner</td>\n",
       "      <td>@wineschach</td>\n",
       "      <td>Esperanza 2013 Estate Grown &amp; Bottled Verdejo-...</td>\n",
       "      <td>Verdejo-Viura</td>\n",
       "      <td>Esperanza</td>\n",
       "    </tr>\n",
       "    <tr>\n",
       "      <th>46544</th>\n",
       "      <td>US</td>\n",
       "      <td>This is the winery's best Nebula in years. Whi...</td>\n",
       "      <td>Nebula</td>\n",
       "      <td>78.061312</td>\n",
       "      <td>29.0</td>\n",
       "      <td>California</td>\n",
       "      <td>Paso Robles</td>\n",
       "      <td>Central Coast</td>\n",
       "      <td>NaN</td>\n",
       "      <td>NaN</td>\n",
       "      <td>Midnight 2010 Nebula Cabernet Sauvignon (Paso ...</td>\n",
       "      <td>Cabernet Sauvignon</td>\n",
       "      <td>Midnight</td>\n",
       "    </tr>\n",
       "    <tr>\n",
       "      <th>186</th>\n",
       "      <td>US</td>\n",
       "      <td>This is a very rich Pinot whose primary virtue...</td>\n",
       "      <td>Wiley Vineyard</td>\n",
       "      <td>75.062099</td>\n",
       "      <td>40.0</td>\n",
       "      <td>California</td>\n",
       "      <td>Anderson Valley</td>\n",
       "      <td>NaN</td>\n",
       "      <td>NaN</td>\n",
       "      <td>NaN</td>\n",
       "      <td>Harrington 2006 Wiley Vineyard Pinot Noir (And...</td>\n",
       "      <td>Pinot Noir</td>\n",
       "      <td>Harrington</td>\n",
       "    </tr>\n",
       "    <tr>\n",
       "      <th>...</th>\n",
       "      <td>...</td>\n",
       "      <td>...</td>\n",
       "      <td>...</td>\n",
       "      <td>...</td>\n",
       "      <td>...</td>\n",
       "      <td>...</td>\n",
       "      <td>...</td>\n",
       "      <td>...</td>\n",
       "      <td>...</td>\n",
       "      <td>...</td>\n",
       "      <td>...</td>\n",
       "      <td>...</td>\n",
       "      <td>...</td>\n",
       "    </tr>\n",
       "    <tr>\n",
       "      <th>106095</th>\n",
       "      <td>US</td>\n",
       "      <td>Fruity in blackberry and cherry flavors, this ...</td>\n",
       "      <td>NaN</td>\n",
       "      <td>71.963059</td>\n",
       "      <td>9.0</td>\n",
       "      <td>California</td>\n",
       "      <td>Alexander Valley</td>\n",
       "      <td>Sonoma</td>\n",
       "      <td>NaN</td>\n",
       "      <td>NaN</td>\n",
       "      <td>Kirkland Signature 2009 Cabernet Sauvignon (Al...</td>\n",
       "      <td>Cabernet Sauvignon</td>\n",
       "      <td>Kirkland Signature</td>\n",
       "    </tr>\n",
       "    <tr>\n",
       "      <th>66315</th>\n",
       "      <td>US</td>\n",
       "      <td>Very crisp and slightly sweet, this simple, ev...</td>\n",
       "      <td>NaN</td>\n",
       "      <td>72.558277</td>\n",
       "      <td>10.0</td>\n",
       "      <td>California</td>\n",
       "      <td>Monterey County</td>\n",
       "      <td>Central Coast</td>\n",
       "      <td>NaN</td>\n",
       "      <td>NaN</td>\n",
       "      <td>Tre 2008 Chardonnay (Monterey County)</td>\n",
       "      <td>Chardonnay</td>\n",
       "      <td>Tre</td>\n",
       "    </tr>\n",
       "    <tr>\n",
       "      <th>43282</th>\n",
       "      <td>US</td>\n",
       "      <td>This is a soft vineyard-designate, approachabl...</td>\n",
       "      <td>Bacigalupi Vineyard</td>\n",
       "      <td>69.375324</td>\n",
       "      <td>44.0</td>\n",
       "      <td>California</td>\n",
       "      <td>Russian River Valley</td>\n",
       "      <td>Sonoma</td>\n",
       "      <td>Virginie Boone</td>\n",
       "      <td>@vboone</td>\n",
       "      <td>Gracianna 2014 Bacigalupi Vineyard Zinfandel (...</td>\n",
       "      <td>Zinfandel</td>\n",
       "      <td>Gracianna</td>\n",
       "    </tr>\n",
       "    <tr>\n",
       "      <th>4577</th>\n",
       "      <td>France</td>\n",
       "      <td>The Birot estate is in Cadillac, the fortress ...</td>\n",
       "      <td>NaN</td>\n",
       "      <td>71.527753</td>\n",
       "      <td>18.0</td>\n",
       "      <td>Bordeaux</td>\n",
       "      <td>Bordeaux Blanc</td>\n",
       "      <td>NaN</td>\n",
       "      <td>Roger Voss</td>\n",
       "      <td>@vossroger</td>\n",
       "      <td>Château de Birot 2015  Bordeaux Blanc</td>\n",
       "      <td>Bordeaux-style White Blend</td>\n",
       "      <td>Château de Birot</td>\n",
       "    </tr>\n",
       "    <tr>\n",
       "      <th>128329</th>\n",
       "      <td>Italy</td>\n",
       "      <td>Here's a riserva Brunello that opens with inky...</td>\n",
       "      <td>Riserva</td>\n",
       "      <td>74.057491</td>\n",
       "      <td>100.0</td>\n",
       "      <td>Tuscany</td>\n",
       "      <td>Brunello di Montalcino</td>\n",
       "      <td>NaN</td>\n",
       "      <td>NaN</td>\n",
       "      <td>NaN</td>\n",
       "      <td>Lazzeretti 2007 Riserva  (Brunello di Montalcino)</td>\n",
       "      <td>Sangiovese Grosso</td>\n",
       "      <td>Lazzeretti</td>\n",
       "    </tr>\n",
       "  </tbody>\n",
       "</table>\n",
       "<p>1000 rows × 13 columns</p>\n",
       "</div>"
      ],
      "text/plain": [
       "\n",
       "          country                                        description  \\\n",
       "\u001b[1;36m77718\u001b[0m   Australia  Possibly a little sweet, this is a soft, easyg\u001b[33m...\u001b[0m   \n",
       "\u001b[1;36m67681\u001b[0m      France  A soft, almost off dry wine that is full in th\u001b[33m...\u001b[0m   \n",
       "\u001b[1;36m69877\u001b[0m       Spain  Generic white-fruit aromas of peach and apple \u001b[33m...\u001b[0m   \n",
       "\u001b[1;36m46544\u001b[0m          US  This is the winery's best Nebula in years. Whi\u001b[33m...\u001b[0m   \n",
       "\u001b[1;36m186\u001b[0m            US  This is a very rich Pinot whose primary virtue\u001b[33m...\u001b[0m   \n",
       "\u001b[33m...\u001b[0m           \u001b[33m...\u001b[0m                                                \u001b[33m...\u001b[0m   \n",
       "\u001b[1;36m106095\u001b[0m         US  Fruity in blackberry and cherry flavors, this \u001b[33m...\u001b[0m   \n",
       "\u001b[1;36m66315\u001b[0m          US  Very crisp and slightly sweet, this simple, ev\u001b[33m...\u001b[0m   \n",
       "\u001b[1;36m43282\u001b[0m          US  This is a soft vineyard-designate, approachabl\u001b[33m...\u001b[0m   \n",
       "\u001b[1;36m4577\u001b[0m       France  The Birot estate is in Cadillac, the fortress \u001b[33m...\u001b[0m   \n",
       "\u001b[1;36m128329\u001b[0m      Italy  Here's a riserva Brunello that opens with inky\u001b[33m...\u001b[0m   \n",
       "\n",
       "                   designation     points  price         province  \\\n",
       "\u001b[1;36m77718\u001b[0m                      NaN  \u001b[1;36m67.195108\u001b[0m    \u001b[1;36m5.0\u001b[0m  Australia Other   \n",
       "\u001b[1;36m67681\u001b[0m                  Réserve  \u001b[1;36m74.551916\u001b[0m   \u001b[1;36m12.0\u001b[0m     Rhône Valley   \n",
       "\u001b[1;36m69877\u001b[0m   Estate Grown & Bottled  \u001b[1;36m68.897567\u001b[0m    \u001b[1;36m9.0\u001b[0m   Northern Spain   \n",
       "\u001b[1;36m46544\u001b[0m                   Nebula  \u001b[1;36m78.061312\u001b[0m   \u001b[1;36m29.0\u001b[0m       California   \n",
       "\u001b[1;36m186\u001b[0m             Wiley Vineyard  \u001b[1;36m75.062099\u001b[0m   \u001b[1;36m40.0\u001b[0m       California   \n",
       "\u001b[33m...\u001b[0m                        \u001b[33m...\u001b[0m        \u001b[33m...\u001b[0m    \u001b[33m...\u001b[0m              \u001b[33m...\u001b[0m   \n",
       "\u001b[1;36m106095\u001b[0m                     NaN  \u001b[1;36m71.963059\u001b[0m    \u001b[1;36m9.0\u001b[0m       California   \n",
       "\u001b[1;36m66315\u001b[0m                      NaN  \u001b[1;36m72.558277\u001b[0m   \u001b[1;36m10.0\u001b[0m       California   \n",
       "\u001b[1;36m43282\u001b[0m      Bacigalupi Vineyard  \u001b[1;36m69.375324\u001b[0m   \u001b[1;36m44.0\u001b[0m       California   \n",
       "\u001b[1;36m4577\u001b[0m                       NaN  \u001b[1;36m71.527753\u001b[0m   \u001b[1;36m18.0\u001b[0m         Bordeaux   \n",
       "\u001b[1;36m128329\u001b[0m                 Riserva  \u001b[1;36m74.057491\u001b[0m  \u001b[1;36m100.0\u001b[0m          Tuscany   \n",
       "\n",
       "                       region_1       region_2        taster_name  \\\n",
       "\u001b[1;36m77718\u001b[0m   South Eastern Australia            NaN     Joe Czerwinski   \n",
       "\u001b[1;36m67681\u001b[0m            Côtes du Rhône            NaN         Roger Voss   \n",
       "\u001b[1;36m69877\u001b[0m                     Rueda            NaN  Michael Schachner   \n",
       "\u001b[1;36m46544\u001b[0m               Paso Robles  Central Coast                NaN   \n",
       "\u001b[1;36m186\u001b[0m             Anderson Valley            NaN                NaN   \n",
       "\u001b[33m...\u001b[0m                         \u001b[33m...\u001b[0m            \u001b[33m...\u001b[0m                \u001b[33m...\u001b[0m   \n",
       "\u001b[1;36m106095\u001b[0m         Alexander Valley         Sonoma                NaN   \n",
       "\u001b[1;36m66315\u001b[0m           Monterey County  Central Coast                NaN   \n",
       "\u001b[1;36m43282\u001b[0m      Russian River Valley         Sonoma     Virginie Boone   \n",
       "\u001b[1;36m4577\u001b[0m             Bordeaux Blanc            NaN         Roger Voss   \n",
       "\u001b[1;36m128329\u001b[0m   Brunello di Montalcino            NaN                NaN   \n",
       "\n",
       "       taster_twitter_handle  \\\n",
       "\u001b[1;36m77718\u001b[0m                 @JoeCz   \n",
       "\u001b[1;36m67681\u001b[0m             @vossroger   \n",
       "\u001b[1;36m69877\u001b[0m            @wineschach   \n",
       "\u001b[1;36m46544\u001b[0m                    NaN   \n",
       "\u001b[1;36m186\u001b[0m                      NaN   \n",
       "\u001b[33m...\u001b[0m                      \u001b[33m...\u001b[0m   \n",
       "\u001b[1;36m106095\u001b[0m                   NaN   \n",
       "\u001b[1;36m66315\u001b[0m                    NaN   \n",
       "\u001b[1;36m43282\u001b[0m                @vboone   \n",
       "\u001b[1;36m4577\u001b[0m              @vossroger   \n",
       "\u001b[1;36m128329\u001b[0m                   NaN   \n",
       "\n",
       "                                                    title  \\\n",
       "\u001b[1;36m77718\u001b[0m   Banrock Station \u001b[1;36m2006\u001b[0m Chardonnay \u001b[1m(\u001b[0mSouth Eastern\u001b[33m...\u001b[0m   \n",
       "\u001b[1;36m67681\u001b[0m   Cellier des Dauphins \u001b[1;36m2015\u001b[0m Réserve Rosé \u001b[1m(\u001b[0mCôtes \u001b[33m...\u001b[0m   \n",
       "\u001b[1;36m69877\u001b[0m   Esperanza \u001b[1;36m2013\u001b[0m Estate Grown & Bottled Verdejo-\u001b[33m...\u001b[0m   \n",
       "\u001b[1;36m46544\u001b[0m   Midnight \u001b[1;36m2010\u001b[0m Nebula Cabernet Sauvignon \u001b[1m(\u001b[0mPaso \u001b[33m...\u001b[0m   \n",
       "\u001b[1;36m186\u001b[0m     Harrington \u001b[1;36m2006\u001b[0m Wiley Vineyard Pinot Noir \u001b[1m(\u001b[0mAnd\u001b[33m...\u001b[0m   \n",
       "\u001b[33m...\u001b[0m                                                   \u001b[33m...\u001b[0m   \n",
       "\u001b[1;36m106095\u001b[0m  Kirkland Signature \u001b[1;36m2009\u001b[0m Cabernet Sauvignon \u001b[1m(\u001b[0mAl\u001b[33m...\u001b[0m   \n",
       "\u001b[1;36m66315\u001b[0m               Tre \u001b[1;36m2008\u001b[0m Chardonnay \u001b[1m(\u001b[0mMonterey County\u001b[1m)\u001b[0m   \n",
       "\u001b[1;36m43282\u001b[0m   Gracianna \u001b[1;36m2014\u001b[0m Bacigalupi Vineyard Zinfandel \u001b[1m(\u001b[0m\u001b[33m...\u001b[0m   \n",
       "\u001b[1;36m4577\u001b[0m                Château de Birot \u001b[1;36m2015\u001b[0m  Bordeaux Blanc   \n",
       "\u001b[1;36m128329\u001b[0m  Lazzeretti \u001b[1;36m2007\u001b[0m Riserva  \u001b[1m(\u001b[0mBrunello di Montalcino\u001b[1m)\u001b[0m   \n",
       "\n",
       "                           variety                winery  \n",
       "\u001b[1;36m77718\u001b[0m                   Chardonnay       Banrock Station  \n",
       "\u001b[1;36m67681\u001b[0m                         Rosé  Cellier des Dauphins  \n",
       "\u001b[1;36m69877\u001b[0m                Verdejo-Viura             Esperanza  \n",
       "\u001b[1;36m46544\u001b[0m           Cabernet Sauvignon              Midnight  \n",
       "\u001b[1;36m186\u001b[0m                     Pinot Noir            Harrington  \n",
       "\u001b[33m...\u001b[0m                            \u001b[33m...\u001b[0m                   \u001b[33m...\u001b[0m  \n",
       "\u001b[1;36m106095\u001b[0m          Cabernet Sauvignon    Kirkland Signature  \n",
       "\u001b[1;36m66315\u001b[0m                   Chardonnay                   Tre  \n",
       "\u001b[1;36m43282\u001b[0m                    Zinfandel             Gracianna  \n",
       "\u001b[1;36m4577\u001b[0m    Bordeaux-style White Blend      Château de Birot  \n",
       "\u001b[1;36m128329\u001b[0m           Sangiovese Grosso            Lazzeretti  \n",
       "\n",
       "\u001b[1m[\u001b[0m\u001b[1;36m1000\u001b[0m rows x \u001b[1;36m13\u001b[0m columns\u001b[1m]\u001b[0m"
      ]
     },
     "execution_count": 42,
     "metadata": {},
     "output_type": "execute_result"
    }
   ],
   "source": [
    "wine_sample"
   ]
  },
  {
   "cell_type": "code",
   "execution_count": null,
   "id": "5b6c6498",
   "metadata": {},
   "outputs": [],
   "source": []
  },
  {
   "cell_type": "code",
   "execution_count": 43,
   "id": "f5c166bc",
   "metadata": {},
   "outputs": [],
   "source": [
    "# save this new data_sample with new distribution to winemag-data-datadrift\n",
    "wine_sample.to_csv('../data/01_raw/winemag_data_drift.csv')"
   ]
  },
  {
   "cell_type": "code",
   "execution_count": null,
   "id": "33925005",
   "metadata": {},
   "outputs": [],
   "source": []
  }
 ],
 "metadata": {
  "kernelspec": {
   "display_name": ".venv",
   "language": "python",
   "name": "python3"
  },
  "language_info": {
   "codemirror_mode": {
    "name": "ipython",
    "version": 3
   },
   "file_extension": ".py",
   "mimetype": "text/x-python",
   "name": "python",
   "nbconvert_exporter": "python",
   "pygments_lexer": "ipython3",
   "version": "3.9.23"
  }
 },
 "nbformat": 4,
 "nbformat_minor": 5
}
